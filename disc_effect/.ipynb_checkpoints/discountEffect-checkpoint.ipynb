{
 "cells": [
  {
   "cell_type": "code",
   "execution_count": 1,
   "metadata": {},
   "outputs": [],
   "source": [
    "# import libraries\n",
    "\n",
    "import pandas as pd\n",
    "import numpy as np\n",
    "import matplotlib.pyplot as plt\n",
    "#import seaborn as sns\n",
    "import json\n",
    "from pandas.io.json import json_normalize\n",
    "from datetime import datetime\n",
    "from sklearn import preprocessing"
   ]
  },
  {
   "cell_type": "code",
   "execution_count": 2,
   "metadata": {},
   "outputs": [],
   "source": [
    "df = pd.read_csv(\"PromoData2017.csv\")"
   ]
  },
  {
   "cell_type": "code",
   "execution_count": 3,
   "metadata": {},
   "outputs": [
    {
     "data": {
      "text/html": [
       "<div>\n",
       "<style scoped>\n",
       "    .dataframe tbody tr th:only-of-type {\n",
       "        vertical-align: middle;\n",
       "    }\n",
       "\n",
       "    .dataframe tbody tr th {\n",
       "        vertical-align: top;\n",
       "    }\n",
       "\n",
       "    .dataframe thead th {\n",
       "        text-align: right;\n",
       "    }\n",
       "</style>\n",
       "<table border=\"1\" class=\"dataframe\">\n",
       "  <thead>\n",
       "    <tr style=\"text-align: right;\">\n",
       "      <th></th>\n",
       "      <th>Customer ID</th>\n",
       "      <th>Gender</th>\n",
       "      <th>Age</th>\n",
       "      <th>Discount</th>\n",
       "      <th>JanuarySpend</th>\n",
       "      <th>DecSpend</th>\n",
       "    </tr>\n",
       "  </thead>\n",
       "  <tbody>\n",
       "    <tr>\n",
       "      <th>0</th>\n",
       "      <td>4</td>\n",
       "      <td>Female</td>\n",
       "      <td>50</td>\n",
       "      <td>55</td>\n",
       "      <td>890.694435</td>\n",
       "      <td>136.687048</td>\n",
       "    </tr>\n",
       "    <tr>\n",
       "      <th>1</th>\n",
       "      <td>6</td>\n",
       "      <td>Female</td>\n",
       "      <td>49</td>\n",
       "      <td>5</td>\n",
       "      <td>120.579431</td>\n",
       "      <td>762.218427</td>\n",
       "    </tr>\n",
       "    <tr>\n",
       "      <th>2</th>\n",
       "      <td>7</td>\n",
       "      <td>Female</td>\n",
       "      <td>41</td>\n",
       "      <td>0</td>\n",
       "      <td>397.038695</td>\n",
       "      <td>740.697250</td>\n",
       "    </tr>\n",
       "    <tr>\n",
       "      <th>3</th>\n",
       "      <td>9</td>\n",
       "      <td>Male</td>\n",
       "      <td>45</td>\n",
       "      <td>0</td>\n",
       "      <td>811.224296</td>\n",
       "      <td>558.345793</td>\n",
       "    </tr>\n",
       "    <tr>\n",
       "      <th>4</th>\n",
       "      <td>11</td>\n",
       "      <td>Female</td>\n",
       "      <td>28</td>\n",
       "      <td>60</td>\n",
       "      <td>-245.993557</td>\n",
       "      <td>683.435239</td>\n",
       "    </tr>\n",
       "  </tbody>\n",
       "</table>\n",
       "</div>"
      ],
      "text/plain": [
       "   Customer ID  Gender  Age  Discount  JanuarySpend    DecSpend\n",
       "0            4  Female   50        55    890.694435  136.687048\n",
       "1            6  Female   49         5    120.579431  762.218427\n",
       "2            7  Female   41         0    397.038695  740.697250\n",
       "3            9    Male   45         0    811.224296  558.345793\n",
       "4           11  Female   28        60   -245.993557  683.435239"
      ]
     },
     "execution_count": 3,
     "metadata": {},
     "output_type": "execute_result"
    }
   ],
   "source": [
    "df.head()"
   ]
  },
  {
   "cell_type": "code",
   "execution_count": 4,
   "metadata": {},
   "outputs": [
    {
     "data": {
      "text/plain": [
       "(array([  2.,   2.,   1., 558., 398., 633., 558.,  78.,  78., 101.]),\n",
       " array([-641.2334611 , -418.46263999, -195.69181888,   27.07900223,\n",
       "         249.84982334,  472.62064445,  695.39146556,  918.16228667,\n",
       "        1140.93310778, 1363.70392889, 1586.47475   ]),\n",
       " <a list of 10 Patch objects>)"
      ]
     },
     "execution_count": 4,
     "metadata": {},
     "output_type": "execute_result"
    },
    {
     "data": {
      "image/png": "[encoded data removed]",
      "text/plain": [
       "<Figure size 432x288 with 1 Axes>"
      ]
     },
     "metadata": {},
     "output_type": "display_data"
    }
   ],
   "source": [
    "plt.hist(df['DecSpend'])"
   ]
  },
  {
   "cell_type": "code",
   "execution_count": 5,
   "metadata": {
    "scrolled": true
   },
   "outputs": [
    {
     "data": {
      "text/plain": [
       "(array([  7.,  22.,  29., 444., 876., 600., 339.,  49.,  20.,  23.]),\n",
       " array([-839.1358833 , -565.26802127, -291.40015924,  -17.53229721,\n",
       "         256.33556482,  530.20342685,  804.07128888, 1077.93915091,\n",
       "        1351.80701294, 1625.67487497, 1899.542737  ]),\n",
       " <a list of 10 Patch objects>)"
      ]
     },
     "execution_count": 5,
     "metadata": {},
     "output_type": "execute_result"
    },
    {
     "data": {
      "image/png": "[encoded data removed]",
      "text/plain": [
       "<Figure size 432x288 with 1 Axes>"
      ]
     },
     "metadata": {},
     "output_type": "display_data"
    }
   ],
   "source": [
    "plt.hist(df['JanuarySpend'])"
   ]
  },
  {
   "cell_type": "code",
   "execution_count": 6,
   "metadata": {
    "scrolled": true
   },
   "outputs": [
    {
     "data": {
      "text/plain": [
       "(array([1302.,   96.,  102.,   99.,   99.,  192.,   99.,  141.,   93.,\n",
       "         186.]),\n",
       " array([ 0.,  6., 12., 18., 24., 30., 36., 42., 48., 54., 60.]),\n",
       " <a list of 10 Patch objects>)"
      ]
     },
     "execution_count": 6,
     "metadata": {},
     "output_type": "execute_result"
    },
    {
     "data": {
      "image/png": "[encoded data removed]",
      "text/plain": [
       "<Figure size 432x288 with 1 Axes>"
      ]
     },
     "metadata": {},
     "output_type": "display_data"
    }
   ],
   "source": [
    "plt.hist(df['Discount'])"
   ]
  },
  {
   "cell_type": "code",
   "execution_count": 7,
   "metadata": {},
   "outputs": [
    {
     "data": {
      "text/plain": [
       "(array([455., 462., 460., 215., 225., 266., 235.,  85.,   0.,   6.]),\n",
       " array([15. , 19.8, 24.6, 29.4, 34.2, 39. , 43.8, 48.6, 53.4, 58.2, 63. ]),\n",
       " <a list of 10 Patch objects>)"
      ]
     },
     "execution_count": 7,
     "metadata": {},
     "output_type": "execute_result"
    },
    {
     "data": {
      "image/png": "[encoded data removed]",
      "text/plain": [
       "<Figure size 432x288 with 1 Axes>"
      ]
     },
     "metadata": {},
     "output_type": "display_data"
    }
   ],
   "source": [
    "plt.hist(df['Age'])"
   ]
  },
  {
   "cell_type": "code",
   "execution_count": 8,
   "metadata": {},
   "outputs": [
    {
     "data": {
      "text/plain": [
       "<matplotlib.axes._subplots.AxesSubplot at 0x141927ed7f0>"
      ]
     },
     "execution_count": 8,
     "metadata": {},
     "output_type": "execute_result"
    },
    {
     "data": {
      "image/png": "[encoded data removed]",
      "text/plain": [
       "<Figure size 432x288 with 1 Axes>"
      ]
     },
     "metadata": {},
     "output_type": "display_data"
    }
   ],
   "source": [
    "df['Gender'].value_counts().plot(kind='bar')"
   ]
  },
  {
   "cell_type": "code",
   "execution_count": 9,
   "metadata": {},
   "outputs": [
    {
     "data": {
      "text/plain": [
       "2047    1\n",
       "1256    1\n",
       "1252    1\n",
       "1250    1\n",
       "1248    1\n",
       "1246    1\n",
       "1244    1\n",
       "1242    1\n",
       "1240    1\n",
       "1238    1\n",
       "1236    1\n",
       "1234    1\n",
       "1232    1\n",
       "1230    1\n",
       "1228    1\n",
       "1226    1\n",
       "1224    1\n",
       "1254    1\n",
       "1258    1\n",
       "1220    1\n",
       "1260    1\n",
       "1290    1\n",
       "1288    1\n",
       "1286    1\n",
       "1284    1\n",
       "1282    1\n",
       "1280    1\n",
       "1278    1\n",
       "1276    1\n",
       "1274    1\n",
       "       ..\n",
       "415     1\n",
       "413     1\n",
       "411     1\n",
       "409     1\n",
       "407     1\n",
       "405     1\n",
       "403     1\n",
       "401     1\n",
       "399     1\n",
       "397     1\n",
       "395     1\n",
       "425     1\n",
       "427     1\n",
       "429     1\n",
       "447     1\n",
       "459     1\n",
       "457     1\n",
       "455     1\n",
       "453     1\n",
       "451     1\n",
       "449     1\n",
       "445     1\n",
       "431     1\n",
       "443     1\n",
       "441     1\n",
       "439     1\n",
       "437     1\n",
       "435     1\n",
       "433     1\n",
       "2049    1\n",
       "Name: Customer ID, Length: 2409, dtype: int64"
      ]
     },
     "execution_count": 9,
     "metadata": {},
     "output_type": "execute_result"
    }
   ],
   "source": [
    "df['Customer ID'].value_counts()"
   ]
  },
  {
   "cell_type": "code",
   "execution_count": 23,
   "metadata": {},
   "outputs": [
    {
     "data": {
      "text/plain": [
       "<matplotlib.collections.PathCollection at 0x14192f07a58>"
      ]
     },
     "execution_count": 23,
     "metadata": {},
     "output_type": "execute_result"
    },
    {
     "data": {
      "image/png": "[encoded data removed]",
      "text/plain": [
       "<Figure size 432x288 with 1 Axes>"
      ]
     },
     "metadata": {},
     "output_type": "display_data"
    }
   ],
   "source": [
    "plt.scatter(df[\"Discount\"],df[\"DecSpend\"])"
   ]
  },
  {
   "cell_type": "code",
   "execution_count": 12,
   "metadata": {},
   "outputs": [
    {
     "data": {
      "text/plain": [
       "Ttest_indResult(statistic=-5.2374290740710965, pvalue=1.6976431562233368e-07)"
      ]
     },
     "execution_count": 12,
     "metadata": {},
     "output_type": "execute_result"
    }
   ],
   "source": [
    "import scipy\n",
    "\n",
    "scipy.stats.ttest_ind(df['JanuarySpend'], df['DecSpend'])\n",
    "\n",
    "#result: no significance"
   ]
  },
  {
   "cell_type": "code",
   "execution_count": 22,
   "metadata": {},
   "outputs": [
    {
     "name": "stderr",
     "output_type": "stream",
     "text": [
      "C:\\Users\\Michelle\\AppData\\Roaming\\Python\\Python36\\site-packages\\ipykernel_launcher.py:6: FutureWarning: reshape is deprecated and will raise in a subsequent release. Please use .values.reshape(...) instead\n",
      "  \n"
     ]
    },
    {
     "name": "stdout",
     "output_type": "stream",
     "text": [
      "Coefficients: \n",
      " [0.59950061]\n",
      "Mean squared error: 129121.07\n",
      "Variance score: -0.17\n"
     ]
    },
    {
     "data": {
      "image/png": "[encoded data removed]",
      "text/plain": [
       "<Figure size 432x288 with 1 Axes>"
      ]
     },
     "metadata": {},
     "output_type": "display_data"
    }
   ],
   "source": [
    "from sklearn import datasets, linear_model\n",
    "from sklearn.metrics import mean_squared_error, r2_score\n",
    "\n",
    "df.sort_values('Discount')\n",
    "\n",
    "disc_train = df[\"Discount\"].reshape(-1,1)\n",
    "\n",
    "\n",
    "# Split the data into training/testing sets\n",
    "Disc_train = disc_train[:-20]\n",
    "Disc_test = disc_train[-20:]\n",
    "\n",
    "# Split the targets into training/testing sets\n",
    "DecSpend_train = df['DecSpend'][:-20]\n",
    "DecSpend_test = df['DecSpend'][-20:]\n",
    "\n",
    "# Create linear regression object\n",
    "regr = linear_model.LinearRegression()\n",
    "\n",
    "# Train the model using the training sets\n",
    "regr.fit(Disc_train, DecSpend_train)\n",
    "\n",
    "# Make predictions using the testing set\n",
    "DecSpend_pred = regr.predict(Disc_test)\n",
    "\n",
    "# The coefficients\n",
    "print('Coefficients: \\n', regr.coef_)\n",
    "# The mean squared error\n",
    "print(\"Mean squared error: %.2f\"\n",
    "      % mean_squared_error(DecSpend_test, DecSpend_pred))\n",
    "# Explained variance score: 1 is perfect prediction\n",
    "print('Variance score: %.2f' % r2_score(DecSpend_test, DecSpend_pred))\n",
    "\n",
    "# Plot outputs\n",
    "plt.scatter(Disc_test, DecSpend_test,  color='black')\n",
    "#plt.plot(Disc_test, DecSpend_test, color='blue', linewidth=3)\n",
    "\n",
    "plt.xticks(())\n",
    "plt.yticks(())\n",
    "\n",
    "plt.show()"
   ]
  },
  {
   "cell_type": "code",
   "execution_count": null,
   "metadata": {},
   "outputs": [],
   "source": []
  }
 ],
 "metadata": {
  "kernelspec": {
   "display_name": "Python 3",
   "language": "python",
   "name": "python3"
  },
  "language_info": {
   "codemirror_mode": {
    "name": "ipython",
    "version": 3
   },
   "file_extension": ".py",
   "mimetype": "text/x-python",
   "name": "python",
   "nbconvert_exporter": "python",
   "pygments_lexer": "ipython3",
   "version": "3.6.3"
  }
 },
 "nbformat": 4,
 "nbformat_minor": 2
}
