{
 "cells": [
  {
   "cell_type": "code",
   "execution_count": 2,
   "metadata": {},
   "outputs": [
    {
     "ename": "ERROR",
     "evalue": "Error in data$X: $ operator is invalid for atomic vectors\n",
     "output_type": "error",
     "traceback": [
      "Error in data$X: $ operator is invalid for atomic vectors\nTraceback:\n",
      "1. alpha.fn(data, 1:100)"
     ]
    }
   ],
   "source": [
    "data = ('lalonde')\n",
    "alpha.fn <- function (data,index){\n",
    "  X=data$X[index]\n",
    "  Y=data$Y[index]\n",
    "  return((var(Y)-cov(X,Y))/(var(X)+var(Y)-2*cov(X,Y)))\n",
    "}\n",
    "alpha.fn(data ,1:100)\n",
    "set.seed(1)\n",
    "alpha.fn(data ,sample (100,100, replace=T))\n",
    "boot(data ,alpha.fn,R=1000)\n",
    "#estimating the accuracy of a linear regression model\n",
    "boot.fn=function (data ,index)\n",
    "  return(coef(lm(re78~treat ,data=data,subset=index)))\n",
    "boot.fn(lalonde,1:392)\n",
    "set.seed(1)\n",
    "boot.fn(lalonde ,sample (392,392, replace=T))\n",
    "boot.fn(lalonde ,sample (392,392, replace=T))\n",
    "boot(lalonde ,boot.fn,1000)\n",
    "summary(lm(re78~treat ,data=lalonde))$coef\n",
    "\n",
    "boot.fn=function (data ,index)\n",
    "  coefficients(lm(re78~treat +I(treat ^2),data=data ,\n",
    "                  subset=index))\n",
    "set.seed(1)\n",
    "boot(lalonde ,boot.fn,1000)"
   ]
  },
  {
   "cell_type": "code",
   "execution_count": 3,
   "metadata": {},
   "outputs": [],
   "source": [
    "data = ('lalonde')"
   ]
  },
  {
   "cell_type": "code",
   "execution_count": 4,
   "metadata": {},
   "outputs": [
    {
     "name": "stderr",
     "output_type": "stream",
     "text": [
      "Loading required package: MASS\n",
      "## \n",
      "##  Matching (Version 4.9-3, Build Date: 2018-05-03)\n",
      "##  See http://sekhon.berkeley.edu/matching for additional documentation.\n",
      "##  Please cite software as:\n",
      "##   Jasjeet S. Sekhon. 2011. ``Multivariate and Propensity Score Matching\n",
      "##   Software with Automated Balance Optimization: The Matching package for R.''\n",
      "##   Journal of Statistical Software, 42(7): 1-52. \n",
      "##\n",
      "\n"
     ]
    }
   ],
   "source": [
    "library('Matching')"
   ]
  },
  {
   "cell_type": "code",
   "execution_count": 12,
   "metadata": {},
   "outputs": [],
   "source": [
    "library('Matching')\n",
    "library('boot')\n",
    "data('lalonde')"
   ]
  },
  {
   "cell_type": "code",
   "execution_count": 13,
   "metadata": {
    "scrolled": true
   },
   "outputs": [],
   "source": [
    "glm.lalonde <- glm(re78 ~ treat, data = lalonde)"
   ]
  },
  {
   "cell_type": "code",
   "execution_count": 14,
   "metadata": {},
   "outputs": [],
   "source": [
    "cv.err <- cv.glm(lalonde, glm.lalonde)"
   ]
  },
  {
   "cell_type": "code",
   "execution_count": 15,
   "metadata": {
    "scrolled": true
   },
   "outputs": [
    {
     "data": {
      "text/html": [
       "43510185.9806942"
      ],
      "text/latex": [
       "43510185.9806942"
      ],
      "text/markdown": [
       "43510185.9806942"
      ],
      "text/plain": [
       "[1] 43510186"
      ]
     },
     "metadata": {},
     "output_type": "display_data"
    }
   ],
   "source": [
    "cv.err$delta[1]"
   ]
  },
  {
   "cell_type": "code",
   "execution_count": 16,
   "metadata": {},
   "outputs": [],
   "source": [
    "boot.fn <- function(data,index) return(coef(lm(re78 ~ treat, data=lalonde, subset = index)))"
   ]
  },
  {
   "cell_type": "code",
   "execution_count": 17,
   "metadata": {},
   "outputs": [
    {
     "data": {
      "text/html": [
       "<dl class=dl-horizontal>\n",
       "\t<dt>(Intercept)</dt>\n",
       "\t\t<dd>4554.80228269231</dd>\n",
       "\t<dt>treat</dt>\n",
       "\t\t<dd>1794.34308487526</dd>\n",
       "</dl>\n"
      ],
      "text/latex": [
       "\\begin{description*}\n",
       "\\item[(Intercept)] 4554.80228269231\n",
       "\\item[treat] 1794.34308487526\n",
       "\\end{description*}\n"
      ],
      "text/markdown": [
       "(Intercept)\n",
       ":   4554.80228269231treat\n",
       ":   1794.34308487526\n",
       "\n"
      ],
      "text/plain": [
       "(Intercept)       treat \n",
       "   4554.802    1794.343 "
      ]
     },
     "metadata": {},
     "output_type": "display_data"
    }
   ],
   "source": [
    "boot.fn(lalonde,1:nrow(lalonde))"
   ]
  },
  {
   "cell_type": "code",
   "execution_count": 18,
   "metadata": {},
   "outputs": [],
   "source": [
    "boot.lalonde <- boot(lalonde, boot.fn,10000)"
   ]
  },
  {
   "cell_type": "code",
   "execution_count": 1,
   "metadata": {},
   "outputs": [
    {
     "name": "stderr",
     "output_type": "stream",
     "text": [
      "Loading required package: MASS\n",
      "## \n",
      "##  Matching (Version 4.9-3, Build Date: 2018-05-03)\n",
      "##  See http://sekhon.berkeley.edu/matching for additional documentation.\n",
      "##  Please cite software as:\n",
      "##   Jasjeet S. Sekhon. 2011. ``Multivariate and Propensity Score Matching\n",
      "##   Software with Automated Balance Optimization: The Matching package for R.''\n",
      "##   Journal of Statistical Software, 42(7): 1-52. \n",
      "##\n",
      "\n"
     ]
    },
    {
     "data": {
      "text/html": [
       "<dl class=dl-horizontal>\n",
       "\t<dt>2.5%</dt>\n",
       "\t\t<dd>517.353322892412</dd>\n",
       "\t<dt>97.5%</dt>\n",
       "\t\t<dd>3145.01900366814</dd>\n",
       "</dl>\n"
      ],
      "text/latex": [
       "\\begin{description*}\n",
       "\\item[2.5\\textbackslash{}\\%] 517.353322892412\n",
       "\\item[97.5\\textbackslash{}\\%] 3145.01900366814\n",
       "\\end{description*}\n"
      ],
      "text/markdown": [
       "2.5%\n",
       ":   517.35332289241297.5%\n",
       ":   3145.01900366814\n",
       "\n"
      ],
      "text/plain": [
       "     2.5%     97.5% \n",
       " 517.3533 3145.0190 "
      ]
     },
     "metadata": {},
     "output_type": "display_data"
    },
    {
     "data": {
      "text/html": [
       "<dl class=dl-horizontal>\n",
       "\t<dt>12.5%</dt>\n",
       "\t\t<dd>1029.69675524948</dd>\n",
       "\t<dt>87.5%</dt>\n",
       "\t\t<dd>2566.94764177495</dd>\n",
       "</dl>\n"
      ],
      "text/latex": [
       "\\begin{description*}\n",
       "\\item[12.5\\textbackslash{}\\%] 1029.69675524948\n",
       "\\item[87.5\\textbackslash{}\\%] 2566.94764177495\n",
       "\\end{description*}\n"
      ],
      "text/markdown": [
       "12.5%\n",
       ":   1029.6967552494887.5%\n",
       ":   2566.94764177495\n",
       "\n"
      ],
      "text/plain": [
       "   12.5%    87.5% \n",
       "1029.697 2566.948 "
      ]
     },
     "metadata": {},
     "output_type": "display_data"
    }
   ],
   "source": [
    "library(Matching)\n",
    "data(\"lalonde\")\n",
    "\n",
    "set.seed(24)\n",
    "\n",
    "model <- lm(re78 ~ treat, data = lalonde)\n",
    "\n",
    "treatment <- which(lalonde$treat == 1)\n",
    "non_treatment <- which(lalonde$treat == 0)\n",
    "\n",
    "results <- rep(0, 1000)\n",
    "for (i in 1:1000000){\n",
    "  sample_treat <- sample(treatment, length(treatment), replace = T)\n",
    "  sample_non_treat <- sample(non_treatment, length(non_treatment), replace = T)\n",
    "  diff_in_means <- mean(lalonde$re78[sample_treat]) - mean(lalonde$re78[sample_non_treat])\n",
    "  results[i] <- diff_in_means\n",
    "}\n",
    "quantile(results, probs = c(0.025, 0.975))\n",
    "quantile(results, probs = c(0.125, 1 - 0.125))\n"
   ]
  },
  {
   "cell_type": "code",
   "execution_count": null,
   "metadata": {},
   "outputs": [],
   "source": []
  }
 ],
 "metadata": {
  "kernelspec": {
   "display_name": "R",
   "language": "R",
   "name": "ir"
  },
  "language_info": {
   "codemirror_mode": "r",
   "file_extension": ".r",
   "mimetype": "text/x-r-source",
   "name": "R",
   "pygments_lexer": "r",
   "version": "3.5.1"
  }
 },
 "nbformat": 4,
 "nbformat_minor": 2
}
