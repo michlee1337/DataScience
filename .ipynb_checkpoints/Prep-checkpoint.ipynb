{
 "cells": [
  {
   "cell_type": "code",
   "execution_count": 1,
   "metadata": {},
   "outputs": [],
   "source": [
    "hData = read.csv(\"finalhiba22.csv\")"
   ]
  },
  {
   "cell_type": "code",
   "execution_count": 2,
   "metadata": {},
   "outputs": [
    {
     "data": {
      "text/html": [
       "<table>\n",
       "<thead><tr><th scope=col>X</th><th scope=col>kindness</th><th scope=col>clean</th><th scope=col>quality</th></tr></thead>\n",
       "<tbody>\n",
       "\t<tr><td>156        </td><td>916.79155  </td><td>156        </td><td> 1336.06944</td></tr>\n",
       "\t<tr><td> 81        </td><td>497.71273  </td><td> 81        </td><td> 5306.88195</td></tr>\n",
       "\t<tr><td> 73        </td><td> 12.25943  </td><td> 73        </td><td>  -42.21329</td></tr>\n",
       "\t<tr><td>195        </td><td>927.22779  </td><td>195        </td><td>12192.35102</td></tr>\n",
       "\t<tr><td> 66        </td><td>532.29405  </td><td> 66        </td><td>14427.58861</td></tr>\n",
       "\t<tr><td>  5        </td><td>190.55159  </td><td>  5        </td><td> 6282.12550</td></tr>\n",
       "</tbody>\n",
       "</table>\n"
      ],
      "text/latex": [
       "\\begin{tabular}{r|llll}\n",
       " X & kindness & clean & quality\\\\\n",
       "\\hline\n",
       "\t 156         & 916.79155   & 156         &  1336.06944\\\\\n",
       "\t  81         & 497.71273   &  81         &  5306.88195\\\\\n",
       "\t  73         &  12.25943   &  73         &   -42.21329\\\\\n",
       "\t 195         & 927.22779   & 195         & 12192.35102\\\\\n",
       "\t  66         & 532.29405   &  66         & 14427.58861\\\\\n",
       "\t   5         & 190.55159   &   5         &  6282.12550\\\\\n",
       "\\end{tabular}\n"
      ],
      "text/markdown": [
       "\n",
       "| X | kindness | clean | quality |\n",
       "|---|---|---|---|\n",
       "| 156         | 916.79155   | 156         |  1336.06944 |\n",
       "|  81         | 497.71273   |  81         |  5306.88195 |\n",
       "|  73         |  12.25943   |  73         |   -42.21329 |\n",
       "| 195         | 927.22779   | 195         | 12192.35102 |\n",
       "|  66         | 532.29405   |  66         | 14427.58861 |\n",
       "|   5         | 190.55159   |   5         |  6282.12550 |\n",
       "\n"
      ],
      "text/plain": [
       "  X   kindness  clean quality    \n",
       "1 156 916.79155 156    1336.06944\n",
       "2  81 497.71273  81    5306.88195\n",
       "3  73  12.25943  73     -42.21329\n",
       "4 195 927.22779 195   12192.35102\n",
       "5  66 532.29405  66   14427.58861\n",
       "6   5 190.55159   5    6282.12550"
      ]
     },
     "metadata": {},
     "output_type": "display_data"
    }
   ],
   "source": [
    "head(hData)"
   ]
  },
  {
   "cell_type": "code",
   "execution_count": 3,
   "metadata": {},
   "outputs": [
    {
     "data": {
      "text/plain": [
       "\n",
       "Call:\n",
       "lm(formula = quality ~ kindness + clean, data = hData)\n",
       "\n",
       "Coefficients:\n",
       "(Intercept)     kindness        clean  \n",
       "   -164.263        9.997        9.487  \n"
      ]
     },
     "metadata": {},
     "output_type": "display_data"
    }
   ],
   "source": [
    "lm(quality ~ kindness+clean,hData)"
   ]
  },
  {
   "cell_type": "code",
   "execution_count": 15,
   "metadata": {},
   "outputs": [],
   "source": [
    "pred <- c(9.997*hData$kindness+9.487*hData$clean - 164.263)"
   ]
  },
  {
   "cell_type": "code",
   "execution_count": 24,
   "metadata": {},
   "outputs": [
    {
     "data": {
      "text/html": [
       "<span style=white-space:pre-wrap>'rmse:  5286.54433367722'</span>"
      ],
      "text/latex": [
       "'rmse:  5286.54433367722'"
      ],
      "text/markdown": [
       "<span style=white-space:pre-wrap>'rmse:  5286.54433367722'</span>"
      ],
      "text/plain": [
       "[1] \"rmse:  5286.54433367722\""
      ]
     },
     "metadata": {},
     "output_type": "display_data"
    },
    {
     "data": {
      "text/html": [
       "<span style=white-space:pre-wrap>'rsq:  0.245402108762064'</span>"
      ],
      "text/latex": [
       "'rsq:  0.245402108762064'"
      ],
      "text/markdown": [
       "<span style=white-space:pre-wrap>'rsq:  0.245402108762064'</span>"
      ],
      "text/plain": [
       "[1] \"rsq:  0.245402108762064\""
      ]
     },
     "metadata": {},
     "output_type": "display_data"
    }
   ],
   "source": [
    "rmse <- function(error)\n",
    "{\n",
    "    sqrt(mean(error^2))\n",
    "}\n",
    "\n",
    "rsq <- function (x, y) cor(x, y) ^ 2\n",
    "\n",
    "paste('rmse: ',rmse(hData$quality-pred))\n",
    "paste('rsq: ',rsq(hData$quality,pred))\n"
   ]
  },
  {
   "cell_type": "code",
   "execution_count": 18,
   "metadata": {},
   "outputs": [
    {
     "name": "stdout",
     "output_type": "stream",
     "text": [
      "numeric(0)\n"
     ]
    }
   ],
   "source": [
    "print(hData$Quality-pred)"
   ]
  },
  {
   "cell_type": "code",
   "execution_count": null,
   "metadata": {},
   "outputs": [],
   "source": []
  }
 ],
 "metadata": {
  "kernelspec": {
   "display_name": "R",
   "language": "R",
   "name": "ir"
  },
  "language_info": {
   "codemirror_mode": "r",
   "file_extension": ".r",
   "mimetype": "text/x-r-source",
   "name": "R",
   "pygments_lexer": "r",
   "version": "3.5.1"
  }
 },
 "nbformat": 4,
 "nbformat_minor": 2
}
