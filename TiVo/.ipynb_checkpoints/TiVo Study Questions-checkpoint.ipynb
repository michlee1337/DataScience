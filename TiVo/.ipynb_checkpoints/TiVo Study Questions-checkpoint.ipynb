{
 "cells": [
  {
   "cell_type": "markdown",
   "metadata": {},
   "source": [
    "# TiVo Case Study Qs"
   ]
  },
  {
   "cell_type": "code",
   "execution_count": 2,
   "metadata": {},
   "outputs": [],
   "source": [
    "# import libraries\n",
    "\n",
    "import pandas as pd\n",
    "import numpy as np\n",
    "import matplotlib.pyplot as plt\n",
    "#import seaborn as sns\n",
    "import json\n",
    "from pandas.io.json import json_normalize\n",
    "from datetime import datetime\n",
    "from sklearn import preprocessing"
   ]
  },
  {
   "cell_type": "code",
   "execution_count": 3,
   "metadata": {},
   "outputs": [],
   "source": [
    "df = pd.read_csv(\"TiVoData.csv\")"
   ]
  },
  {
   "cell_type": "markdown",
   "metadata": {},
   "source": [
    "## Q2"
   ]
  },
  {
   "cell_type": "code",
   "execution_count": 4,
   "metadata": {},
   "outputs": [
    {
     "data": {
      "text/html": [
       "<div>\n",
       "<style scoped>\n",
       "    .dataframe tbody tr th:only-of-type {\n",
       "        vertical-align: middle;\n",
       "    }\n",
       "\n",
       "    .dataframe tbody tr th {\n",
       "        vertical-align: top;\n",
       "    }\n",
       "\n",
       "    .dataframe thead th {\n",
       "        text-align: right;\n",
       "    }\n",
       "</style>\n",
       "<table border=\"1\" class=\"dataframe\">\n",
       "  <thead>\n",
       "    <tr style=\"text-align: right;\">\n",
       "      <th></th>\n",
       "      <th>ID</th>\n",
       "      <th>Gender</th>\n",
       "      <th>Marital Status</th>\n",
       "      <th>Work Status</th>\n",
       "      <th>Education</th>\n",
       "      <th>Annual Income (x1000 $)</th>\n",
       "      <th>Age</th>\n",
       "      <th>Location</th>\n",
       "      <th>Purchasing Decision-maker</th>\n",
       "      <th>Purchasing Location</th>\n",
       "      <th>Monthly Electronics Spend</th>\n",
       "      <th>Monthly Household Spend</th>\n",
       "      <th>Purchasing Frequency (every x months)</th>\n",
       "      <th>Technology Adoption</th>\n",
       "      <th>TV Viewing (hours/day)</th>\n",
       "      <th>Favorite feature</th>\n",
       "      <th>Annual Spending on Electronics</th>\n",
       "    </tr>\n",
       "  </thead>\n",
       "  <tbody>\n",
       "    <tr>\n",
       "      <th>0</th>\n",
       "      <td>1.0</td>\n",
       "      <td>male</td>\n",
       "      <td>married</td>\n",
       "      <td>professional</td>\n",
       "      <td>none</td>\n",
       "      <td>49.0</td>\n",
       "      <td>30.0</td>\n",
       "      <td>Florida</td>\n",
       "      <td>family</td>\n",
       "      <td>mass-consumer electronics</td>\n",
       "      <td>35.0</td>\n",
       "      <td>150.0</td>\n",
       "      <td>13.0</td>\n",
       "      <td>late</td>\n",
       "      <td>2.0</td>\n",
       "      <td>saving favorite shows to watch as a family</td>\n",
       "      <td>420.0</td>\n",
       "    </tr>\n",
       "    <tr>\n",
       "      <th>1</th>\n",
       "      <td>2.0</td>\n",
       "      <td>male</td>\n",
       "      <td>single</td>\n",
       "      <td>none</td>\n",
       "      <td>none</td>\n",
       "      <td>46.0</td>\n",
       "      <td>36.0</td>\n",
       "      <td>Alabama</td>\n",
       "      <td>single</td>\n",
       "      <td>mass-consumer electronics</td>\n",
       "      <td>35.0</td>\n",
       "      <td>163.0</td>\n",
       "      <td>26.0</td>\n",
       "      <td>late</td>\n",
       "      <td>10.0</td>\n",
       "      <td>saving favorite shows to watch as a family</td>\n",
       "      <td>420.0</td>\n",
       "    </tr>\n",
       "    <tr>\n",
       "      <th>2</th>\n",
       "      <td>3.0</td>\n",
       "      <td>male</td>\n",
       "      <td>married</td>\n",
       "      <td>professional</td>\n",
       "      <td>BA</td>\n",
       "      <td>58.0</td>\n",
       "      <td>66.0</td>\n",
       "      <td>Massachusetts</td>\n",
       "      <td>family</td>\n",
       "      <td>specialty stores</td>\n",
       "      <td>64.0</td>\n",
       "      <td>103.0</td>\n",
       "      <td>13.0</td>\n",
       "      <td>early</td>\n",
       "      <td>0.0</td>\n",
       "      <td>time shifting</td>\n",
       "      <td>768.0</td>\n",
       "    </tr>\n",
       "    <tr>\n",
       "      <th>3</th>\n",
       "      <td>4.0</td>\n",
       "      <td>male</td>\n",
       "      <td>married</td>\n",
       "      <td>none</td>\n",
       "      <td>PhD</td>\n",
       "      <td>51.0</td>\n",
       "      <td>78.0</td>\n",
       "      <td>New York</td>\n",
       "      <td>family</td>\n",
       "      <td>mass-consumer electronics</td>\n",
       "      <td>33.0</td>\n",
       "      <td>154.0</td>\n",
       "      <td>22.0</td>\n",
       "      <td>late</td>\n",
       "      <td>5.0</td>\n",
       "      <td>saving favorite shows to watch as a family</td>\n",
       "      <td>396.0</td>\n",
       "    </tr>\n",
       "    <tr>\n",
       "      <th>4</th>\n",
       "      <td>5.0</td>\n",
       "      <td>female</td>\n",
       "      <td>single</td>\n",
       "      <td>none</td>\n",
       "      <td>none</td>\n",
       "      <td>46.0</td>\n",
       "      <td>52.0</td>\n",
       "      <td>Montana</td>\n",
       "      <td>single</td>\n",
       "      <td>mass-consumer electronics</td>\n",
       "      <td>45.0</td>\n",
       "      <td>161.0</td>\n",
       "      <td>47.0</td>\n",
       "      <td>late</td>\n",
       "      <td>2.0</td>\n",
       "      <td>saving favorite shows to watch as a family</td>\n",
       "      <td>540.0</td>\n",
       "    </tr>\n",
       "  </tbody>\n",
       "</table>\n",
       "</div>"
      ],
      "text/plain": [
       "    ID  Gender Marital Status   Work Status Education  \\\n",
       "0  1.0    male        married  professional      none   \n",
       "1  2.0    male         single          none      none   \n",
       "2  3.0    male        married  professional        BA   \n",
       "3  4.0    male        married          none       PhD   \n",
       "4  5.0  female         single          none      none   \n",
       "\n",
       "   Annual Income (x1000 $)   Age       Location Purchasing Decision-maker  \\\n",
       "0                     49.0  30.0        Florida                    family   \n",
       "1                     46.0  36.0        Alabama                    single   \n",
       "2                     58.0  66.0  Massachusetts                    family   \n",
       "3                     51.0  78.0       New York                    family   \n",
       "4                     46.0  52.0        Montana                    single   \n",
       "\n",
       "         Purchasing Location  Monthly Electronics Spend  \\\n",
       "0  mass-consumer electronics                       35.0   \n",
       "1  mass-consumer electronics                       35.0   \n",
       "2           specialty stores                       64.0   \n",
       "3  mass-consumer electronics                       33.0   \n",
       "4  mass-consumer electronics                       45.0   \n",
       "\n",
       "   Monthly Household Spend  Purchasing Frequency (every x months)  \\\n",
       "0                    150.0                                   13.0   \n",
       "1                    163.0                                   26.0   \n",
       "2                    103.0                                   13.0   \n",
       "3                    154.0                                   22.0   \n",
       "4                    161.0                                   47.0   \n",
       "\n",
       "  Technology Adoption  TV Viewing (hours/day)  \\\n",
       "0                late                     2.0   \n",
       "1                late                    10.0   \n",
       "2               early                     0.0   \n",
       "3                late                     5.0   \n",
       "4                late                     2.0   \n",
       "\n",
       "                             Favorite feature  Annual Spending on Electronics  \n",
       "0  saving favorite shows to watch as a family                           420.0  \n",
       "1  saving favorite shows to watch as a family                           420.0  \n",
       "2                               time shifting                           768.0  \n",
       "3  saving favorite shows to watch as a family                           396.0  \n",
       "4  saving favorite shows to watch as a family                           540.0  "
      ]
     },
     "execution_count": 4,
     "metadata": {},
     "output_type": "execute_result"
    }
   ],
   "source": [
    "df['Annual Spending on Electronics'] = df['Monthly Electronics Spend'] * 12\n",
    "df.head()"
   ]
  },
  {
   "cell_type": "code",
   "execution_count": 5,
   "metadata": {
    "scrolled": true
   },
   "outputs": [
    {
     "data": {
      "text/html": [
       "<div>\n",
       "<style scoped>\n",
       "    .dataframe tbody tr th:only-of-type {\n",
       "        vertical-align: middle;\n",
       "    }\n",
       "\n",
       "    .dataframe tbody tr th {\n",
       "        vertical-align: top;\n",
       "    }\n",
       "\n",
       "    .dataframe thead th {\n",
       "        text-align: right;\n",
       "    }\n",
       "</style>\n",
       "<table border=\"1\" class=\"dataframe\">\n",
       "  <thead>\n",
       "    <tr style=\"text-align: right;\">\n",
       "      <th></th>\n",
       "      <th>ID</th>\n",
       "      <th>Gender</th>\n",
       "      <th>Marital Status</th>\n",
       "      <th>Work Status</th>\n",
       "      <th>Education</th>\n",
       "      <th>Annual Income (x1000 $)</th>\n",
       "      <th>Age</th>\n",
       "      <th>Location</th>\n",
       "      <th>Purchasing Decision-maker</th>\n",
       "      <th>Purchasing Location</th>\n",
       "      <th>Monthly Electronics Spend</th>\n",
       "      <th>Monthly Household Spend</th>\n",
       "      <th>Purchasing Frequency (every x months)</th>\n",
       "      <th>Technology Adoption</th>\n",
       "      <th>TV Viewing (hours/day)</th>\n",
       "      <th>Favorite feature</th>\n",
       "      <th>Annual Spending on Electronics</th>\n",
       "      <th>Spending as % of Income</th>\n",
       "    </tr>\n",
       "  </thead>\n",
       "  <tbody>\n",
       "    <tr>\n",
       "      <th>0</th>\n",
       "      <td>1.0</td>\n",
       "      <td>male</td>\n",
       "      <td>married</td>\n",
       "      <td>professional</td>\n",
       "      <td>none</td>\n",
       "      <td>49.0</td>\n",
       "      <td>30.0</td>\n",
       "      <td>Florida</td>\n",
       "      <td>family</td>\n",
       "      <td>mass-consumer electronics</td>\n",
       "      <td>35.0</td>\n",
       "      <td>150.0</td>\n",
       "      <td>13.0</td>\n",
       "      <td>late</td>\n",
       "      <td>2.0</td>\n",
       "      <td>saving favorite shows to watch as a family</td>\n",
       "      <td>420.0</td>\n",
       "      <td>0.0086</td>\n",
       "    </tr>\n",
       "    <tr>\n",
       "      <th>1</th>\n",
       "      <td>2.0</td>\n",
       "      <td>male</td>\n",
       "      <td>single</td>\n",
       "      <td>none</td>\n",
       "      <td>none</td>\n",
       "      <td>46.0</td>\n",
       "      <td>36.0</td>\n",
       "      <td>Alabama</td>\n",
       "      <td>single</td>\n",
       "      <td>mass-consumer electronics</td>\n",
       "      <td>35.0</td>\n",
       "      <td>163.0</td>\n",
       "      <td>26.0</td>\n",
       "      <td>late</td>\n",
       "      <td>10.0</td>\n",
       "      <td>saving favorite shows to watch as a family</td>\n",
       "      <td>420.0</td>\n",
       "      <td>0.0091</td>\n",
       "    </tr>\n",
       "    <tr>\n",
       "      <th>2</th>\n",
       "      <td>3.0</td>\n",
       "      <td>male</td>\n",
       "      <td>married</td>\n",
       "      <td>professional</td>\n",
       "      <td>BA</td>\n",
       "      <td>58.0</td>\n",
       "      <td>66.0</td>\n",
       "      <td>Massachusetts</td>\n",
       "      <td>family</td>\n",
       "      <td>specialty stores</td>\n",
       "      <td>64.0</td>\n",
       "      <td>103.0</td>\n",
       "      <td>13.0</td>\n",
       "      <td>early</td>\n",
       "      <td>0.0</td>\n",
       "      <td>time shifting</td>\n",
       "      <td>768.0</td>\n",
       "      <td>0.0132</td>\n",
       "    </tr>\n",
       "    <tr>\n",
       "      <th>3</th>\n",
       "      <td>4.0</td>\n",
       "      <td>male</td>\n",
       "      <td>married</td>\n",
       "      <td>none</td>\n",
       "      <td>PhD</td>\n",
       "      <td>51.0</td>\n",
       "      <td>78.0</td>\n",
       "      <td>New York</td>\n",
       "      <td>family</td>\n",
       "      <td>mass-consumer electronics</td>\n",
       "      <td>33.0</td>\n",
       "      <td>154.0</td>\n",
       "      <td>22.0</td>\n",
       "      <td>late</td>\n",
       "      <td>5.0</td>\n",
       "      <td>saving favorite shows to watch as a family</td>\n",
       "      <td>396.0</td>\n",
       "      <td>0.0078</td>\n",
       "    </tr>\n",
       "    <tr>\n",
       "      <th>4</th>\n",
       "      <td>5.0</td>\n",
       "      <td>female</td>\n",
       "      <td>single</td>\n",
       "      <td>none</td>\n",
       "      <td>none</td>\n",
       "      <td>46.0</td>\n",
       "      <td>52.0</td>\n",
       "      <td>Montana</td>\n",
       "      <td>single</td>\n",
       "      <td>mass-consumer electronics</td>\n",
       "      <td>45.0</td>\n",
       "      <td>161.0</td>\n",
       "      <td>47.0</td>\n",
       "      <td>late</td>\n",
       "      <td>2.0</td>\n",
       "      <td>saving favorite shows to watch as a family</td>\n",
       "      <td>540.0</td>\n",
       "      <td>0.0117</td>\n",
       "    </tr>\n",
       "  </tbody>\n",
       "</table>\n",
       "</div>"
      ],
      "text/plain": [
       "    ID  Gender Marital Status   Work Status Education  \\\n",
       "0  1.0    male        married  professional      none   \n",
       "1  2.0    male         single          none      none   \n",
       "2  3.0    male        married  professional        BA   \n",
       "3  4.0    male        married          none       PhD   \n",
       "4  5.0  female         single          none      none   \n",
       "\n",
       "   Annual Income (x1000 $)   Age       Location Purchasing Decision-maker  \\\n",
       "0                     49.0  30.0        Florida                    family   \n",
       "1                     46.0  36.0        Alabama                    single   \n",
       "2                     58.0  66.0  Massachusetts                    family   \n",
       "3                     51.0  78.0       New York                    family   \n",
       "4                     46.0  52.0        Montana                    single   \n",
       "\n",
       "         Purchasing Location  Monthly Electronics Spend  \\\n",
       "0  mass-consumer electronics                       35.0   \n",
       "1  mass-consumer electronics                       35.0   \n",
       "2           specialty stores                       64.0   \n",
       "3  mass-consumer electronics                       33.0   \n",
       "4  mass-consumer electronics                       45.0   \n",
       "\n",
       "   Monthly Household Spend  Purchasing Frequency (every x months)  \\\n",
       "0                    150.0                                   13.0   \n",
       "1                    163.0                                   26.0   \n",
       "2                    103.0                                   13.0   \n",
       "3                    154.0                                   22.0   \n",
       "4                    161.0                                   47.0   \n",
       "\n",
       "  Technology Adoption  TV Viewing (hours/day)  \\\n",
       "0                late                     2.0   \n",
       "1                late                    10.0   \n",
       "2               early                     0.0   \n",
       "3                late                     5.0   \n",
       "4                late                     2.0   \n",
       "\n",
       "                             Favorite feature  Annual Spending on Electronics  \\\n",
       "0  saving favorite shows to watch as a family                           420.0   \n",
       "1  saving favorite shows to watch as a family                           420.0   \n",
       "2                               time shifting                           768.0   \n",
       "3  saving favorite shows to watch as a family                           396.0   \n",
       "4  saving favorite shows to watch as a family                           540.0   \n",
       "\n",
       "   Spending as % of Income  \n",
       "0                   0.0086  \n",
       "1                   0.0091  \n",
       "2                   0.0132  \n",
       "3                   0.0078  \n",
       "4                   0.0117  "
      ]
     },
     "execution_count": 5,
     "metadata": {},
     "output_type": "execute_result"
    }
   ],
   "source": [
    "df['Spending as % of Income'] = round(df['Annual Spending on Electronics'] / (df['Annual Income (x1000 $)']*1000),4)\n",
    "df.head()"
   ]
  },
  {
   "cell_type": "markdown",
   "metadata": {},
   "source": [
    "## Q3"
   ]
  },
  {
   "cell_type": "code",
   "execution_count": 6,
   "metadata": {},
   "outputs": [
    {
     "name": "stdout",
     "output_type": "stream",
     "text": [
      "male      0.535\n",
      "female    0.465\n",
      "Name: Gender, dtype: float64\n"
     ]
    }
   ],
   "source": [
    "print(df['Gender'].value_counts()/df['Gender'].count())"
   ]
  },
  {
   "cell_type": "code",
   "execution_count": 7,
   "metadata": {},
   "outputs": [
    {
     "name": "stdout",
     "output_type": "stream",
     "text": [
      "married    0.72\n",
      "single     0.28\n",
      "Name: Marital Status, dtype: float64\n"
     ]
    }
   ],
   "source": [
    "print(df['Marital Status'].value_counts()/df['Marital Status'].count())"
   ]
  },
  {
   "cell_type": "code",
   "execution_count": 8,
   "metadata": {},
   "outputs": [
    {
     "name": "stdout",
     "output_type": "stream",
     "text": [
      "professional    0.65\n",
      "none            0.35\n",
      "Name: Work Status, dtype: float64\n"
     ]
    }
   ],
   "source": [
    "print(df['Work Status'].value_counts()/df['Work Status'].count())"
   ]
  },
  {
   "cell_type": "code",
   "execution_count": 9,
   "metadata": {},
   "outputs": [
    {
     "name": "stdout",
     "output_type": "stream",
     "text": [
      "none    0.506\n",
      "BA      0.260\n",
      "MA      0.124\n",
      "PhD     0.110\n",
      "Name: Education, dtype: float64\n"
     ]
    }
   ],
   "source": [
    "print(df['Education'].value_counts()/df['Education'].count())"
   ]
  },
  {
   "cell_type": "code",
   "execution_count": 10,
   "metadata": {},
   "outputs": [
    {
     "name": "stdout",
     "output_type": "stream",
     "text": [
      "Annual Income (x1000 $)\n",
      "(0, 40]      632\n",
      "(40, 60]     358\n",
      "(60, 80]       9\n",
      "(80, 800]      3\n",
      "Name: Annual Income (x1000 $), dtype: int64\n"
     ]
    }
   ],
   "source": [
    "ranges = [0,40,60,80,800]\n",
    "print(df['Annual Income (x1000 $)'].groupby(pd.cut(df['Annual Income (x1000 $)'],ranges)).count())"
   ]
  },
  {
   "cell_type": "code",
   "execution_count": 11,
   "metadata": {},
   "outputs": [
    {
     "name": "stdout",
     "output_type": "stream",
     "text": [
      "Annual Income (x1000 $)\n",
      "(0, 20]     0.000000\n",
      "(20, 40]    0.630110\n",
      "(40, 60]    0.356929\n",
      "(60, 80]    0.008973\n",
      "Name: Annual Income (x1000 $), dtype: float64\n"
     ]
    }
   ],
   "source": [
    "ranges = [0,20,40,60,80]\n",
    "print(df['Annual Income (x1000 $)'].groupby(pd.cut(df['Annual Income (x1000 $)'],ranges)).count()/len(df))"
   ]
  },
  {
   "cell_type": "code",
   "execution_count": 12,
   "metadata": {},
   "outputs": [
    {
     "name": "stdout",
     "output_type": "stream",
     "text": [
      "Pennsylvania      0.050\n",
      "Hawaii            0.045\n",
      "Delaware          0.045\n",
      "Vermont           0.043\n",
      "Idaho             0.043\n",
      "Arizona           0.043\n",
      "Washington        0.043\n",
      "California        0.041\n",
      "Maine             0.041\n",
      "New York          0.039\n",
      "Colorado          0.039\n",
      "Maryland          0.039\n",
      "Massachusetts     0.038\n",
      "Connecticut       0.037\n",
      "Nevada            0.037\n",
      "Florida           0.035\n",
      "New Hampshire     0.035\n",
      "New Jersey        0.035\n",
      "Illinois          0.034\n",
      "Tennessee         0.032\n",
      "Rhode Island      0.027\n",
      "Georgia           0.027\n",
      "Oregon            0.010\n",
      "North Dakota      0.010\n",
      "Utah              0.009\n",
      "West Virginia     0.008\n",
      "North Carolina    0.008\n",
      "Missouri          0.008\n",
      "Montana           0.007\n",
      "Texas             0.007\n",
      "Michigan          0.006\n",
      "Alabama           0.006\n",
      "Indiana           0.006\n",
      "Kansas            0.006\n",
      "South Carolina    0.006\n",
      "Kentucky          0.006\n",
      "New Mexico        0.005\n",
      "Louisiana         0.005\n",
      "Alaska            0.005\n",
      "Wisconsin         0.004\n",
      "Virginia          0.004\n",
      "Wyoming           0.004\n",
      "South Dakota      0.004\n",
      "Arkansas          0.004\n",
      "Oklahoma          0.003\n",
      "Ohio              0.003\n",
      "Iowa              0.003\n",
      "Mississippi       0.002\n",
      "Minnesota         0.002\n",
      "Nebraska          0.001\n",
      "Name: Location, dtype: float64\n"
     ]
    }
   ],
   "source": [
    "print(df['Location'].value_counts()/df['Location'].count())"
   ]
  },
  {
   "cell_type": "code",
   "execution_count": 13,
   "metadata": {},
   "outputs": [
    {
     "name": "stdout",
     "output_type": "stream",
     "text": [
      "family    0.56\n",
      "single    0.44\n",
      "Name: Purchasing Decision-maker, dtype: float64\n"
     ]
    }
   ],
   "source": [
    "print(df['Purchasing Decision-maker'].value_counts()/df['Purchasing Decision-maker'].count())"
   ]
  },
  {
   "cell_type": "code",
   "execution_count": 14,
   "metadata": {},
   "outputs": [
    {
     "name": "stdout",
     "output_type": "stream",
     "text": [
      "retail                       0.294\n",
      "discount                     0.293\n",
      "mass-consumer electronics    0.200\n",
      "specialty stores             0.170\n",
      "web (ebay)                   0.043\n",
      "Name: Purchasing Location, dtype: float64\n"
     ]
    }
   ],
   "source": [
    "print(df['Purchasing Location'].value_counts()/df['Purchasing Location'].count())"
   ]
  },
  {
   "cell_type": "code",
   "execution_count": 17,
   "metadata": {},
   "outputs": [
    {
     "name": "stdout",
     "output_type": "stream",
     "text": [
      "Monthly Electronics Spend\n",
      "(0, 40]      0.730808\n",
      "(40, 60]     0.195414\n",
      "(60, 80]     0.061815\n",
      "(80, 100]    0.008973\n",
      "Name: Monthly Electronics Spend, dtype: float64\n"
     ]
    }
   ],
   "source": [
    "ranges = [0,40,60,80,100]\n",
    "print(df['Monthly Electronics Spend'].groupby(pd.cut(df['Monthly Electronics Spend'],ranges)).count()/len(df))"
   ]
  },
  {
   "cell_type": "code",
   "execution_count": 19,
   "metadata": {},
   "outputs": [
    {
     "name": "stdout",
     "output_type": "stream",
     "text": [
      "Monthly Household Spend\n",
      "(0, 50]       0.280160\n",
      "(50, 100]     0.387836\n",
      "(100, 150]    0.155533\n",
      "(150, 200]    0.095713\n",
      "(200, 250]    0.041874\n",
      "(250, 300]    0.015952\n",
      "(300, 350]    0.010967\n",
      "(350, 400]    0.008973\n",
      "Name: Monthly Household Spend, dtype: float64\n"
     ]
    }
   ],
   "source": [
    "ranges = [0,50,100,150,200,250,300,350,400]\n",
    "print(df['Monthly Household Spend'].groupby(pd.cut(df['Monthly Household Spend'],ranges)).count()/len(df))"
   ]
  },
  {
   "cell_type": "code",
   "execution_count": 20,
   "metadata": {},
   "outputs": [
    {
     "name": "stdout",
     "output_type": "stream",
     "text": [
      "Purchasing Frequency (every x months)\n",
      "(0, 10]     0.240279\n",
      "(10, 20]    0.230309\n",
      "(20, 30]    0.186441\n",
      "(30, 40]    0.191426\n",
      "(40, 50]    0.148554\n",
      "Name: Purchasing Frequency (every x months), dtype: float64\n"
     ]
    }
   ],
   "source": [
    "ranges = [0,10,20,30,40,50]\n",
    "print(df['Purchasing Frequency (every x months)'].groupby(pd.cut(df['Purchasing Frequency (every x months)'],ranges)).count()/len(df))"
   ]
  },
  {
   "cell_type": "code",
   "execution_count": 20,
   "metadata": {},
   "outputs": [
    {
     "name": "stdout",
     "output_type": "stream",
     "text": [
      "early    0.8\n",
      "late     0.2\n",
      "Name: Technology Adoption, dtype: float64\n"
     ]
    }
   ],
   "source": [
    "print(df['Technology Adoption'].value_counts()/df['Technology Adoption'].count())"
   ]
  },
  {
   "cell_type": "code",
   "execution_count": 21,
   "metadata": {},
   "outputs": [
    {
     "name": "stdout",
     "output_type": "stream",
     "text": [
      "TV Viewing (hours/day)\n",
      "(0, 5]      0.712861\n",
      "(5, 10]     0.064806\n",
      "(10, 15]    0.044865\n",
      "Name: TV Viewing (hours/day), dtype: float64\n"
     ]
    }
   ],
   "source": [
    "ranges = [0,5,10,15]\n",
    "print(df['TV Viewing (hours/day)'].groupby(pd.cut(df['TV Viewing (hours/day)'],ranges)).count()/len(df))"
   ]
  },
  {
   "cell_type": "code",
   "execution_count": 22,
   "metadata": {},
   "outputs": [
    {
     "name": "stdout",
     "output_type": "stream",
     "text": [
      "cool gadget                                   0.228\n",
      "schedule control                              0.221\n",
      "time shifting                                 0.221\n",
      "saving favorite shows to watch as a family    0.200\n",
      "programming/interactive features              0.130\n",
      "Name: Favorite feature, dtype: float64\n"
     ]
    }
   ],
   "source": [
    "print(df['Favorite feature'].value_counts()/df['Favorite feature'].count())"
   ]
  },
  {
   "cell_type": "code",
   "execution_count": 23,
   "metadata": {
    "scrolled": true
   },
   "outputs": [
    {
     "name": "stdout",
     "output_type": "stream",
     "text": [
      "Annual Spending on Electronics\n",
      "(0, 250]       0.442672\n",
      "(250, 500]     0.299103\n",
      "(500, 1000]    0.250249\n",
      "Name: Annual Spending on Electronics, dtype: float64\n"
     ]
    }
   ],
   "source": [
    "ranges = [0,250,500,1000]\n",
    "print(df['Annual Spending on Electronics'].groupby(pd.cut(df['Annual Spending on Electronics'],ranges)).count()/len(df))"
   ]
  },
  {
   "cell_type": "code",
   "execution_count": 24,
   "metadata": {},
   "outputs": [
    {
     "name": "stdout",
     "output_type": "stream",
     "text": [
      "Spending as % of Income\n",
      "(0.0, 0.005]     0.056830\n",
      "(0.005, 0.01]    0.556331\n",
      "(0.01, 0.015]    0.316052\n",
      "(0.015, 0.02]    0.067797\n",
      "Name: Spending as % of Income, dtype: float64\n"
     ]
    }
   ],
   "source": [
    "ranges = [0,.005,.010,.015,0.02]\n",
    "print(df['Spending as % of Income'].groupby(pd.cut(df['Spending as % of Income'],ranges)).count()/len(df))"
   ]
  },
  {
   "cell_type": "markdown",
   "metadata": {},
   "source": [
    "## Q4"
   ]
  },
  {
   "cell_type": "markdown",
   "metadata": {},
   "source": [
    "a. How many married men who are early adopters can afford to purchase a TiVo for $499 and on average have enough money to purchase another electronic gadget in the next two years ?"
   ]
  },
  {
   "cell_type": "code",
   "execution_count": 25,
   "metadata": {
    "scrolled": false
   },
   "outputs": [
    {
     "data": {
      "text/plain": [
       "134"
      ]
     },
     "execution_count": 25,
     "metadata": {},
     "output_type": "execute_result"
    }
   ],
   "source": [
    "len(df.loc[(df[\"Gender\"] == \"male\") & (df[\"Marital Status\"] == \"married\") & (df[\"Technology Adoption\"] == \"early\") & (df[\"Monthly Electronics Spend\"]*24 > 500)])"
   ]
  },
  {
   "cell_type": "code",
   "execution_count": null,
   "metadata": {},
   "outputs": [],
   "source": [
    "b. How many women with education of MA or PhD are making purchasing decisions for electronics without discussing them with a spouse, either because they are single, or because they are making purchasing decisions without the involvement of their spouses?"
   ]
  },
  {
   "cell_type": "code",
   "execution_count": 27,
   "metadata": {},
   "outputs": [
    {
     "data": {
      "text/plain": [
       "56"
      ]
     },
     "execution_count": 27,
     "metadata": {},
     "output_type": "execute_result"
    }
   ],
   "source": [
    "len(df.loc[(df[\"Gender\"] == \"female\") & (df[\"Education\"].isin([\"MA\",\"PhD\"])) & ( (df[\"Marital Status\"] == \"single\") | (df[\"Purchasing Decision-maker\"] == \"single\"))])"
   ]
  },
  {
   "cell_type": "markdown",
   "metadata": {},
   "source": [
    "c.  Among early adopters, how many purchase electronics at least once every year and do so in stores that specialize in electronics?"
   ]
  },
  {
   "cell_type": "code",
   "execution_count": 28,
   "metadata": {},
   "outputs": [
    {
     "data": {
      "text/plain": [
       "132"
      ]
     },
     "execution_count": 28,
     "metadata": {},
     "output_type": "execute_result"
    }
   ],
   "source": [
    "len(df.loc[(df[\"Technology Adoption\"] == \"early\") & (df[\"Purchasing Frequency (every x months)\"] <= 12) & (df[\"Purchasing Location\"] == \"specialty stores\")])"
   ]
  },
  {
   "cell_type": "markdown",
   "metadata": {},
   "source": [
    "d. How many seniors (above the age of 65) spend more than six hours a day watching TV? What is their income range? What is their average annual income?"
   ]
  },
  {
   "cell_type": "code",
   "execution_count": 30,
   "metadata": {},
   "outputs": [],
   "source": [
    "oldButGoodies = df.loc[(df[\"Age\"] > 65) & (df[\"TV Viewing (hours/day)\"] > 6)]"
   ]
  },
  {
   "cell_type": "code",
   "execution_count": 31,
   "metadata": {
    "scrolled": true
   },
   "outputs": [
    {
     "name": "stdout",
     "output_type": "stream",
     "text": [
      "Annual Income for old people that watch a lot of TV\n",
      "number: 20\n",
      "range:  41.0  to  55.0\n",
      "Average:  48.6\n"
     ]
    }
   ],
   "source": [
    "print(\"Annual Income for old people that watch a lot of TV\")\n",
    "print(\"number:\", len(oldButGoodies))\n",
    "print(\"range: \",oldButGoodies['Annual Income (x1000 $)'].min(),\" to \",oldButGoodies['Annual Income (x1000 $)'].max())\n",
    "print(\"Average: \",oldButGoodies['Annual Income (x1000 $)'].mean())"
   ]
  },
  {
   "cell_type": "markdown",
   "metadata": {},
   "source": [
    "## Q5"
   ]
  },
  {
   "cell_type": "markdown",
   "metadata": {},
   "source": [
    "5. Correlate Annual income with Age. What is the correlation  (or r squared)? \n"
   ]
  },
  {
   "cell_type": "code",
   "execution_count": 35,
   "metadata": {},
   "outputs": [
    {
     "data": {
      "text/plain": [
       "0.019865189757789708"
      ]
     },
     "execution_count": 35,
     "metadata": {},
     "output_type": "execute_result"
    }
   ],
   "source": [
    "df[\"Annual Income (x1000 $)\"].corr(df[\"Age\"], method=\"pearson\")**2"
   ]
  },
  {
   "cell_type": "markdown",
   "metadata": {},
   "source": [
    "# Q6"
   ]
  },
  {
   "cell_type": "code",
   "execution_count": 32,
   "metadata": {},
   "outputs": [],
   "source": [
    "df = pd.read_csv(\"TiVoData.csv\")\n",
    "dfGenderCoded = df\n",
    "dfGenderCoded.head()\n",
    "dfGenderCoded[\"Gender\"] = dfGenderCoded['Gender'].map({'female': 1, 'male': 0})\n"
   ]
  },
  {
   "cell_type": "markdown",
   "metadata": {},
   "source": [
    "a. Code Gender as a number. What is the correlation between it and Annual income?"
   ]
  },
  {
   "cell_type": "code",
   "execution_count": 38,
   "metadata": {
    "scrolled": true
   },
   "outputs": [
    {
     "data": {
      "text/plain": [
       "0.004552554812884768"
      ]
     },
     "execution_count": 38,
     "metadata": {},
     "output_type": "execute_result"
    }
   ],
   "source": [
    "dfGenderCoded[\"Annual Income (x1000 $)\"].corr(dfGenderCoded[\"Gender\"])**2"
   ]
  },
  {
   "cell_type": "markdown",
   "metadata": {},
   "source": [
    "b. Explain why it makes no difference which numbers are used to code Gender or other non-numeric attributes.\t\t\t\t\t\t\t\n",
    "\n",
    "*We're looking at correlation which is a measure of variation in x explained by variation in y. Changing the number used would change the range of the factor we are looking at but it would not change the variation.*"
   ]
  },
  {
   "cell_type": "markdown",
   "metadata": {},
   "source": [
    "# Q7"
   ]
  },
  {
   "cell_type": "code",
   "execution_count": 33,
   "metadata": {},
   "outputs": [
    {
     "name": "stdout",
     "output_type": "stream",
     "text": [
      "1.6708598227799212e-06 of variation in # of months per purchase is explained by variation in age\n"
     ]
    }
   ],
   "source": [
    "print(df[\"Purchasing Frequency (every x months)\"].corr(df[\"Age\"])**2, \"of variation in # of months per purchase is explained by variation in age\")"
   ]
  },
  {
   "cell_type": "code",
   "execution_count": 34,
   "metadata": {},
   "outputs": [
    {
     "name": "stdout",
     "output_type": "stream",
     "text": [
      "0.0071124339130305 of variation in annual income is explained by variation in tv viewing\n"
     ]
    }
   ],
   "source": [
    "print(df[\"Annual Income (x1000 $)\"].corr(df[\"TV Viewing (hours/day)\"])**2, \"of variation in annual income is explained by variation in tv viewing\")"
   ]
  },
  {
   "cell_type": "code",
   "execution_count": 35,
   "metadata": {},
   "outputs": [],
   "source": [
    "df = pd.read_csv(\"TiVoData.csv\")\n",
    "dfEdCoded = df\n",
    "dfEdCoded.head()\n",
    "dfEdCoded[\"Education\"] = dfEdCoded[\"Education\"].map({'none': 0, 'BA': 1, 'MA':2,'PhD':3})\n",
    "dfEdCoded[\"Favorite feature\"] = dfEdCoded[\"Favorite feature\"].map({'cool gadget': 0, 'time shifting': 1, 'schedule control':2,'saving favorite shows to watch as a family':3, 'programming/interactive features':4})\n"
   ]
  },
  {
   "cell_type": "code",
   "execution_count": 36,
   "metadata": {},
   "outputs": [
    {
     "name": "stdout",
     "output_type": "stream",
     "text": [
      "0.13953354134201412 of variation in education is explained by variation in favorite feature\n"
     ]
    }
   ],
   "source": [
    "print(dfEdCoded[\"Education\"].corr(dfEdCoded[\"Favorite feature\"])**2, \"of variation in education is explained by variation in favorite feature\")"
   ]
  },
  {
   "cell_type": "code",
   "execution_count": 37,
   "metadata": {},
   "outputs": [
    {
     "name": "stdout",
     "output_type": "stream",
     "text": [
      "0.6461037171854618 of variation in spend  is explained by variation in house spend\n"
     ]
    }
   ],
   "source": [
    "print(dfEdCoded[\"Monthly Electronics Spend\"].corr(dfEdCoded[\"Monthly Household Spend\"])**2, \"of variation in spend  is explained by variation in house spend\")"
   ]
  },
  {
   "cell_type": "markdown",
   "metadata": {},
   "source": [
    "*Only the correlation between Monthly Electronics Spend and Monthly Household Spend is significant enough to ignore (> .45) *"
   ]
  }
 ],
 "metadata": {
  "kernelspec": {
   "display_name": "Python 3",
   "language": "python",
   "name": "python3"
  },
  "language_info": {
   "codemirror_mode": {
    "name": "ipython",
    "version": 3
   },
   "file_extension": ".py",
   "mimetype": "text/x-python",
   "name": "python",
   "nbconvert_exporter": "python",
   "pygments_lexer": "ipython3",
   "version": "3.6.3"
  }
 },
 "nbformat": 4,
 "nbformat_minor": 2
}
