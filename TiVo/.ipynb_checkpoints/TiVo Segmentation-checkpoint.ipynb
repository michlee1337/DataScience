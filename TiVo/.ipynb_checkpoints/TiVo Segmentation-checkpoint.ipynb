{
 "cells": [
  {
   "cell_type": "markdown",
   "metadata": {},
   "source": [
    "# TiVo\n",
    "\n",
    "### Focus\n",
    "TiVo value propositon and how to measure it\n",
    "\n",
    "### Qs\n",
    "- does the study evaluate consumer attitudes well?\n",
    "- what are strengths/ weaknesses of the present approach?\n",
    "- would you do anything diff in the market research project? what would you have done and what would you expect to find?\n",
    "- why segment in the first place? best way?\n",
    "- how do diff kinds of research relate?"
   ]
  },
  {
   "cell_type": "code",
   "execution_count": 18,
   "metadata": {},
   "outputs": [],
   "source": [
    "# import libraries\n",
    "\n",
    "import pandas as pd\n",
    "import numpy as np\n",
    "import matplotlib.pyplot as plt\n",
    "#import seaborn as sns\n",
    "import json\n",
    "from pandas.io.json import json_normalize\n",
    "from datetime import datetime\n",
    "from sklearn import preprocessing"
   ]
  },
  {
   "cell_type": "code",
   "execution_count": 19,
   "metadata": {},
   "outputs": [],
   "source": [
    "df = pd.read_csv(\"TiVoData.csv\")"
   ]
  },
  {
   "cell_type": "code",
   "execution_count": 20,
   "metadata": {},
   "outputs": [
    {
     "data": {
      "text/html": [
       "<div>\n",
       "<style scoped>\n",
       "    .dataframe tbody tr th:only-of-type {\n",
       "        vertical-align: middle;\n",
       "    }\n",
       "\n",
       "    .dataframe tbody tr th {\n",
       "        vertical-align: top;\n",
       "    }\n",
       "\n",
       "    .dataframe thead th {\n",
       "        text-align: right;\n",
       "    }\n",
       "</style>\n",
       "<table border=\"1\" class=\"dataframe\">\n",
       "  <thead>\n",
       "    <tr style=\"text-align: right;\">\n",
       "      <th></th>\n",
       "      <th>ID</th>\n",
       "      <th>Gender</th>\n",
       "      <th>Marital Status</th>\n",
       "      <th>Work Status</th>\n",
       "      <th>Education</th>\n",
       "      <th>Annual Income (x1000 $)</th>\n",
       "      <th>Age</th>\n",
       "      <th>Location</th>\n",
       "      <th>Purchasing Decision-maker</th>\n",
       "      <th>Purchasing Location</th>\n",
       "      <th>Monthly Electronics Spend</th>\n",
       "      <th>Monthly Household Spend</th>\n",
       "      <th>Purchasing Frequency (every x months)</th>\n",
       "      <th>Technology Adoption</th>\n",
       "      <th>TV Viewing (hours/day)</th>\n",
       "      <th>Favorite feature</th>\n",
       "    </tr>\n",
       "  </thead>\n",
       "  <tbody>\n",
       "    <tr>\n",
       "      <th>0</th>\n",
       "      <td>1.0</td>\n",
       "      <td>male</td>\n",
       "      <td>married</td>\n",
       "      <td>professional</td>\n",
       "      <td>none</td>\n",
       "      <td>49.0</td>\n",
       "      <td>30.0</td>\n",
       "      <td>Florida</td>\n",
       "      <td>family</td>\n",
       "      <td>mass-consumer electronics</td>\n",
       "      <td>35.0</td>\n",
       "      <td>150.0</td>\n",
       "      <td>13.0</td>\n",
       "      <td>late</td>\n",
       "      <td>2.0</td>\n",
       "      <td>saving favorite shows to watch as a family</td>\n",
       "    </tr>\n",
       "    <tr>\n",
       "      <th>1</th>\n",
       "      <td>2.0</td>\n",
       "      <td>male</td>\n",
       "      <td>single</td>\n",
       "      <td>none</td>\n",
       "      <td>none</td>\n",
       "      <td>46.0</td>\n",
       "      <td>36.0</td>\n",
       "      <td>Alabama</td>\n",
       "      <td>single</td>\n",
       "      <td>mass-consumer electronics</td>\n",
       "      <td>35.0</td>\n",
       "      <td>163.0</td>\n",
       "      <td>26.0</td>\n",
       "      <td>late</td>\n",
       "      <td>10.0</td>\n",
       "      <td>saving favorite shows to watch as a family</td>\n",
       "    </tr>\n",
       "    <tr>\n",
       "      <th>2</th>\n",
       "      <td>3.0</td>\n",
       "      <td>male</td>\n",
       "      <td>married</td>\n",
       "      <td>professional</td>\n",
       "      <td>BA</td>\n",
       "      <td>58.0</td>\n",
       "      <td>66.0</td>\n",
       "      <td>Massachusetts</td>\n",
       "      <td>family</td>\n",
       "      <td>specialty stores</td>\n",
       "      <td>64.0</td>\n",
       "      <td>103.0</td>\n",
       "      <td>13.0</td>\n",
       "      <td>early</td>\n",
       "      <td>0.0</td>\n",
       "      <td>time shifting</td>\n",
       "    </tr>\n",
       "    <tr>\n",
       "      <th>3</th>\n",
       "      <td>4.0</td>\n",
       "      <td>male</td>\n",
       "      <td>married</td>\n",
       "      <td>none</td>\n",
       "      <td>PhD</td>\n",
       "      <td>51.0</td>\n",
       "      <td>78.0</td>\n",
       "      <td>New York</td>\n",
       "      <td>family</td>\n",
       "      <td>mass-consumer electronics</td>\n",
       "      <td>33.0</td>\n",
       "      <td>154.0</td>\n",
       "      <td>22.0</td>\n",
       "      <td>late</td>\n",
       "      <td>5.0</td>\n",
       "      <td>saving favorite shows to watch as a family</td>\n",
       "    </tr>\n",
       "    <tr>\n",
       "      <th>4</th>\n",
       "      <td>5.0</td>\n",
       "      <td>female</td>\n",
       "      <td>single</td>\n",
       "      <td>none</td>\n",
       "      <td>none</td>\n",
       "      <td>46.0</td>\n",
       "      <td>52.0</td>\n",
       "      <td>Montana</td>\n",
       "      <td>single</td>\n",
       "      <td>mass-consumer electronics</td>\n",
       "      <td>45.0</td>\n",
       "      <td>161.0</td>\n",
       "      <td>47.0</td>\n",
       "      <td>late</td>\n",
       "      <td>2.0</td>\n",
       "      <td>saving favorite shows to watch as a family</td>\n",
       "    </tr>\n",
       "  </tbody>\n",
       "</table>\n",
       "</div>"
      ],
      "text/plain": [
       "    ID  Gender Marital Status   Work Status Education  \\\n",
       "0  1.0    male        married  professional      none   \n",
       "1  2.0    male         single          none      none   \n",
       "2  3.0    male        married  professional        BA   \n",
       "3  4.0    male        married          none       PhD   \n",
       "4  5.0  female         single          none      none   \n",
       "\n",
       "   Annual Income (x1000 $)   Age       Location Purchasing Decision-maker  \\\n",
       "0                     49.0  30.0        Florida                    family   \n",
       "1                     46.0  36.0        Alabama                    single   \n",
       "2                     58.0  66.0  Massachusetts                    family   \n",
       "3                     51.0  78.0       New York                    family   \n",
       "4                     46.0  52.0        Montana                    single   \n",
       "\n",
       "         Purchasing Location  Monthly Electronics Spend  \\\n",
       "0  mass-consumer electronics                       35.0   \n",
       "1  mass-consumer electronics                       35.0   \n",
       "2           specialty stores                       64.0   \n",
       "3  mass-consumer electronics                       33.0   \n",
       "4  mass-consumer electronics                       45.0   \n",
       "\n",
       "   Monthly Household Spend  Purchasing Frequency (every x months)  \\\n",
       "0                    150.0                                   13.0   \n",
       "1                    163.0                                   26.0   \n",
       "2                    103.0                                   13.0   \n",
       "3                    154.0                                   22.0   \n",
       "4                    161.0                                   47.0   \n",
       "\n",
       "  Technology Adoption  TV Viewing (hours/day)  \\\n",
       "0                late                     2.0   \n",
       "1                late                    10.0   \n",
       "2               early                     0.0   \n",
       "3                late                     5.0   \n",
       "4                late                     2.0   \n",
       "\n",
       "                             Favorite feature  \n",
       "0  saving favorite shows to watch as a family  \n",
       "1  saving favorite shows to watch as a family  \n",
       "2                               time shifting  \n",
       "3  saving favorite shows to watch as a family  \n",
       "4  saving favorite shows to watch as a family  "
      ]
     },
     "execution_count": 20,
     "metadata": {},
     "output_type": "execute_result"
    }
   ],
   "source": [
    "df.head()"
   ]
  },
  {
   "cell_type": "code",
   "execution_count": 21,
   "metadata": {},
   "outputs": [
    {
     "data": {
      "text/html": [
       "<div>\n",
       "<style scoped>\n",
       "    .dataframe tbody tr th:only-of-type {\n",
       "        vertical-align: middle;\n",
       "    }\n",
       "\n",
       "    .dataframe tbody tr th {\n",
       "        vertical-align: top;\n",
       "    }\n",
       "\n",
       "    .dataframe thead th {\n",
       "        text-align: right;\n",
       "    }\n",
       "</style>\n",
       "<table border=\"1\" class=\"dataframe\">\n",
       "  <thead>\n",
       "    <tr style=\"text-align: right;\">\n",
       "      <th></th>\n",
       "      <th>ID</th>\n",
       "      <th>Gender</th>\n",
       "      <th>Marital Status</th>\n",
       "      <th>Work Status</th>\n",
       "      <th>Education</th>\n",
       "      <th>Annual Income (x1000 $)</th>\n",
       "      <th>Age</th>\n",
       "      <th>Location</th>\n",
       "      <th>Purchasing Decision-maker</th>\n",
       "      <th>Purchasing Location</th>\n",
       "      <th>Monthly Electronics Spend</th>\n",
       "      <th>Monthly Household Spend</th>\n",
       "      <th>Purchasing Frequency (every x months)</th>\n",
       "      <th>Technology Adoption</th>\n",
       "      <th>TV Viewing (hours/day)</th>\n",
       "      <th>Favorite feature</th>\n",
       "      <th>Annual Spending on Electronics</th>\n",
       "    </tr>\n",
       "  </thead>\n",
       "  <tbody>\n",
       "    <tr>\n",
       "      <th>0</th>\n",
       "      <td>1.0</td>\n",
       "      <td>male</td>\n",
       "      <td>married</td>\n",
       "      <td>professional</td>\n",
       "      <td>none</td>\n",
       "      <td>49.0</td>\n",
       "      <td>30.0</td>\n",
       "      <td>Florida</td>\n",
       "      <td>family</td>\n",
       "      <td>mass-consumer electronics</td>\n",
       "      <td>35.0</td>\n",
       "      <td>150.0</td>\n",
       "      <td>13.0</td>\n",
       "      <td>late</td>\n",
       "      <td>2.0</td>\n",
       "      <td>saving favorite shows to watch as a family</td>\n",
       "      <td>420.0</td>\n",
       "    </tr>\n",
       "    <tr>\n",
       "      <th>1</th>\n",
       "      <td>2.0</td>\n",
       "      <td>male</td>\n",
       "      <td>single</td>\n",
       "      <td>none</td>\n",
       "      <td>none</td>\n",
       "      <td>46.0</td>\n",
       "      <td>36.0</td>\n",
       "      <td>Alabama</td>\n",
       "      <td>single</td>\n",
       "      <td>mass-consumer electronics</td>\n",
       "      <td>35.0</td>\n",
       "      <td>163.0</td>\n",
       "      <td>26.0</td>\n",
       "      <td>late</td>\n",
       "      <td>10.0</td>\n",
       "      <td>saving favorite shows to watch as a family</td>\n",
       "      <td>420.0</td>\n",
       "    </tr>\n",
       "    <tr>\n",
       "      <th>2</th>\n",
       "      <td>3.0</td>\n",
       "      <td>male</td>\n",
       "      <td>married</td>\n",
       "      <td>professional</td>\n",
       "      <td>BA</td>\n",
       "      <td>58.0</td>\n",
       "      <td>66.0</td>\n",
       "      <td>Massachusetts</td>\n",
       "      <td>family</td>\n",
       "      <td>specialty stores</td>\n",
       "      <td>64.0</td>\n",
       "      <td>103.0</td>\n",
       "      <td>13.0</td>\n",
       "      <td>early</td>\n",
       "      <td>0.0</td>\n",
       "      <td>time shifting</td>\n",
       "      <td>768.0</td>\n",
       "    </tr>\n",
       "    <tr>\n",
       "      <th>3</th>\n",
       "      <td>4.0</td>\n",
       "      <td>male</td>\n",
       "      <td>married</td>\n",
       "      <td>none</td>\n",
       "      <td>PhD</td>\n",
       "      <td>51.0</td>\n",
       "      <td>78.0</td>\n",
       "      <td>New York</td>\n",
       "      <td>family</td>\n",
       "      <td>mass-consumer electronics</td>\n",
       "      <td>33.0</td>\n",
       "      <td>154.0</td>\n",
       "      <td>22.0</td>\n",
       "      <td>late</td>\n",
       "      <td>5.0</td>\n",
       "      <td>saving favorite shows to watch as a family</td>\n",
       "      <td>396.0</td>\n",
       "    </tr>\n",
       "    <tr>\n",
       "      <th>4</th>\n",
       "      <td>5.0</td>\n",
       "      <td>female</td>\n",
       "      <td>single</td>\n",
       "      <td>none</td>\n",
       "      <td>none</td>\n",
       "      <td>46.0</td>\n",
       "      <td>52.0</td>\n",
       "      <td>Montana</td>\n",
       "      <td>single</td>\n",
       "      <td>mass-consumer electronics</td>\n",
       "      <td>45.0</td>\n",
       "      <td>161.0</td>\n",
       "      <td>47.0</td>\n",
       "      <td>late</td>\n",
       "      <td>2.0</td>\n",
       "      <td>saving favorite shows to watch as a family</td>\n",
       "      <td>540.0</td>\n",
       "    </tr>\n",
       "  </tbody>\n",
       "</table>\n",
       "</div>"
      ],
      "text/plain": [
       "    ID  Gender Marital Status   Work Status Education  \\\n",
       "0  1.0    male        married  professional      none   \n",
       "1  2.0    male         single          none      none   \n",
       "2  3.0    male        married  professional        BA   \n",
       "3  4.0    male        married          none       PhD   \n",
       "4  5.0  female         single          none      none   \n",
       "\n",
       "   Annual Income (x1000 $)   Age       Location Purchasing Decision-maker  \\\n",
       "0                     49.0  30.0        Florida                    family   \n",
       "1                     46.0  36.0        Alabama                    single   \n",
       "2                     58.0  66.0  Massachusetts                    family   \n",
       "3                     51.0  78.0       New York                    family   \n",
       "4                     46.0  52.0        Montana                    single   \n",
       "\n",
       "         Purchasing Location  Monthly Electronics Spend  \\\n",
       "0  mass-consumer electronics                       35.0   \n",
       "1  mass-consumer electronics                       35.0   \n",
       "2           specialty stores                       64.0   \n",
       "3  mass-consumer electronics                       33.0   \n",
       "4  mass-consumer electronics                       45.0   \n",
       "\n",
       "   Monthly Household Spend  Purchasing Frequency (every x months)  \\\n",
       "0                    150.0                                   13.0   \n",
       "1                    163.0                                   26.0   \n",
       "2                    103.0                                   13.0   \n",
       "3                    154.0                                   22.0   \n",
       "4                    161.0                                   47.0   \n",
       "\n",
       "  Technology Adoption  TV Viewing (hours/day)  \\\n",
       "0                late                     2.0   \n",
       "1                late                    10.0   \n",
       "2               early                     0.0   \n",
       "3                late                     5.0   \n",
       "4                late                     2.0   \n",
       "\n",
       "                             Favorite feature  Annual Spending on Electronics  \n",
       "0  saving favorite shows to watch as a family                           420.0  \n",
       "1  saving favorite shows to watch as a family                           420.0  \n",
       "2                               time shifting                           768.0  \n",
       "3  saving favorite shows to watch as a family                           396.0  \n",
       "4  saving favorite shows to watch as a family                           540.0  "
      ]
     },
     "execution_count": 21,
     "metadata": {},
     "output_type": "execute_result"
    }
   ],
   "source": [
    "df['Annual Spending on Electronics'] = df['Monthly Electronics Spend'] * 12\n",
    "df.head()"
   ]
  },
  {
   "cell_type": "code",
   "execution_count": 28,
   "metadata": {},
   "outputs": [
    {
     "data": {
      "text/html": [
       "<div>\n",
       "<style scoped>\n",
       "    .dataframe tbody tr th:only-of-type {\n",
       "        vertical-align: middle;\n",
       "    }\n",
       "\n",
       "    .dataframe tbody tr th {\n",
       "        vertical-align: top;\n",
       "    }\n",
       "\n",
       "    .dataframe thead th {\n",
       "        text-align: right;\n",
       "    }\n",
       "</style>\n",
       "<table border=\"1\" class=\"dataframe\">\n",
       "  <thead>\n",
       "    <tr style=\"text-align: right;\">\n",
       "      <th></th>\n",
       "      <th>ID</th>\n",
       "      <th>Gender</th>\n",
       "      <th>Marital Status</th>\n",
       "      <th>Work Status</th>\n",
       "      <th>Education</th>\n",
       "      <th>Annual Income (x1000 $)</th>\n",
       "      <th>Age</th>\n",
       "      <th>Location</th>\n",
       "      <th>Purchasing Decision-maker</th>\n",
       "      <th>Purchasing Location</th>\n",
       "      <th>Monthly Electronics Spend</th>\n",
       "      <th>Monthly Household Spend</th>\n",
       "      <th>Purchasing Frequency (every x months)</th>\n",
       "      <th>Technology Adoption</th>\n",
       "      <th>TV Viewing (hours/day)</th>\n",
       "      <th>Favorite feature</th>\n",
       "      <th>Annual Spending on Electronics</th>\n",
       "      <th>Spending as % of Income</th>\n",
       "    </tr>\n",
       "  </thead>\n",
       "  <tbody>\n",
       "    <tr>\n",
       "      <th>0</th>\n",
       "      <td>1.0</td>\n",
       "      <td>male</td>\n",
       "      <td>married</td>\n",
       "      <td>professional</td>\n",
       "      <td>none</td>\n",
       "      <td>49.0</td>\n",
       "      <td>30.0</td>\n",
       "      <td>Florida</td>\n",
       "      <td>family</td>\n",
       "      <td>mass-consumer electronics</td>\n",
       "      <td>35.0</td>\n",
       "      <td>150.0</td>\n",
       "      <td>13.0</td>\n",
       "      <td>late</td>\n",
       "      <td>2.0</td>\n",
       "      <td>saving favorite shows to watch as a family</td>\n",
       "      <td>420.0</td>\n",
       "      <td>0.0086</td>\n",
       "    </tr>\n",
       "    <tr>\n",
       "      <th>1</th>\n",
       "      <td>2.0</td>\n",
       "      <td>male</td>\n",
       "      <td>single</td>\n",
       "      <td>none</td>\n",
       "      <td>none</td>\n",
       "      <td>46.0</td>\n",
       "      <td>36.0</td>\n",
       "      <td>Alabama</td>\n",
       "      <td>single</td>\n",
       "      <td>mass-consumer electronics</td>\n",
       "      <td>35.0</td>\n",
       "      <td>163.0</td>\n",
       "      <td>26.0</td>\n",
       "      <td>late</td>\n",
       "      <td>10.0</td>\n",
       "      <td>saving favorite shows to watch as a family</td>\n",
       "      <td>420.0</td>\n",
       "      <td>0.0091</td>\n",
       "    </tr>\n",
       "    <tr>\n",
       "      <th>2</th>\n",
       "      <td>3.0</td>\n",
       "      <td>male</td>\n",
       "      <td>married</td>\n",
       "      <td>professional</td>\n",
       "      <td>BA</td>\n",
       "      <td>58.0</td>\n",
       "      <td>66.0</td>\n",
       "      <td>Massachusetts</td>\n",
       "      <td>family</td>\n",
       "      <td>specialty stores</td>\n",
       "      <td>64.0</td>\n",
       "      <td>103.0</td>\n",
       "      <td>13.0</td>\n",
       "      <td>early</td>\n",
       "      <td>0.0</td>\n",
       "      <td>time shifting</td>\n",
       "      <td>768.0</td>\n",
       "      <td>0.0132</td>\n",
       "    </tr>\n",
       "    <tr>\n",
       "      <th>3</th>\n",
       "      <td>4.0</td>\n",
       "      <td>male</td>\n",
       "      <td>married</td>\n",
       "      <td>none</td>\n",
       "      <td>PhD</td>\n",
       "      <td>51.0</td>\n",
       "      <td>78.0</td>\n",
       "      <td>New York</td>\n",
       "      <td>family</td>\n",
       "      <td>mass-consumer electronics</td>\n",
       "      <td>33.0</td>\n",
       "      <td>154.0</td>\n",
       "      <td>22.0</td>\n",
       "      <td>late</td>\n",
       "      <td>5.0</td>\n",
       "      <td>saving favorite shows to watch as a family</td>\n",
       "      <td>396.0</td>\n",
       "      <td>0.0078</td>\n",
       "    </tr>\n",
       "    <tr>\n",
       "      <th>4</th>\n",
       "      <td>5.0</td>\n",
       "      <td>female</td>\n",
       "      <td>single</td>\n",
       "      <td>none</td>\n",
       "      <td>none</td>\n",
       "      <td>46.0</td>\n",
       "      <td>52.0</td>\n",
       "      <td>Montana</td>\n",
       "      <td>single</td>\n",
       "      <td>mass-consumer electronics</td>\n",
       "      <td>45.0</td>\n",
       "      <td>161.0</td>\n",
       "      <td>47.0</td>\n",
       "      <td>late</td>\n",
       "      <td>2.0</td>\n",
       "      <td>saving favorite shows to watch as a family</td>\n",
       "      <td>540.0</td>\n",
       "      <td>0.0117</td>\n",
       "    </tr>\n",
       "  </tbody>\n",
       "</table>\n",
       "</div>"
      ],
      "text/plain": [
       "    ID  Gender Marital Status   Work Status Education  \\\n",
       "0  1.0    male        married  professional      none   \n",
       "1  2.0    male         single          none      none   \n",
       "2  3.0    male        married  professional        BA   \n",
       "3  4.0    male        married          none       PhD   \n",
       "4  5.0  female         single          none      none   \n",
       "\n",
       "   Annual Income (x1000 $)   Age       Location Purchasing Decision-maker  \\\n",
       "0                     49.0  30.0        Florida                    family   \n",
       "1                     46.0  36.0        Alabama                    single   \n",
       "2                     58.0  66.0  Massachusetts                    family   \n",
       "3                     51.0  78.0       New York                    family   \n",
       "4                     46.0  52.0        Montana                    single   \n",
       "\n",
       "         Purchasing Location  Monthly Electronics Spend  \\\n",
       "0  mass-consumer electronics                       35.0   \n",
       "1  mass-consumer electronics                       35.0   \n",
       "2           specialty stores                       64.0   \n",
       "3  mass-consumer electronics                       33.0   \n",
       "4  mass-consumer electronics                       45.0   \n",
       "\n",
       "   Monthly Household Spend  Purchasing Frequency (every x months)  \\\n",
       "0                    150.0                                   13.0   \n",
       "1                    163.0                                   26.0   \n",
       "2                    103.0                                   13.0   \n",
       "3                    154.0                                   22.0   \n",
       "4                    161.0                                   47.0   \n",
       "\n",
       "  Technology Adoption  TV Viewing (hours/day)  \\\n",
       "0                late                     2.0   \n",
       "1                late                    10.0   \n",
       "2               early                     0.0   \n",
       "3                late                     5.0   \n",
       "4                late                     2.0   \n",
       "\n",
       "                             Favorite feature  Annual Spending on Electronics  \\\n",
       "0  saving favorite shows to watch as a family                           420.0   \n",
       "1  saving favorite shows to watch as a family                           420.0   \n",
       "2                               time shifting                           768.0   \n",
       "3  saving favorite shows to watch as a family                           396.0   \n",
       "4  saving favorite shows to watch as a family                           540.0   \n",
       "\n",
       "   Spending as % of Income  \n",
       "0                   0.0086  \n",
       "1                   0.0091  \n",
       "2                   0.0132  \n",
       "3                   0.0078  \n",
       "4                   0.0117  "
      ]
     },
     "execution_count": 28,
     "metadata": {},
     "output_type": "execute_result"
    }
   ],
   "source": [
    "df['Spending as % of Income'] = round(df['Annual Spending on Electronics'] / (df['Annual Income (x1000 $)']*1000),4)\n",
    "df.head()"
   ]
  },
  {
   "cell_type": "code",
   "execution_count": 36,
   "metadata": {},
   "outputs": [
    {
     "name": "stdout",
     "output_type": "stream",
     "text": [
      "male      0.535\n",
      "female    0.465\n",
      "Name: Gender, dtype: float64\n"
     ]
    }
   ],
   "source": [
    "print(df['Gender'].value_counts()/df['Gender'].count())"
   ]
  },
  {
   "cell_type": "code",
   "execution_count": 37,
   "metadata": {},
   "outputs": [
    {
     "name": "stdout",
     "output_type": "stream",
     "text": [
      "married    0.72\n",
      "single     0.28\n",
      "Name: Marital Status, dtype: float64\n"
     ]
    }
   ],
   "source": [
    "print(df['Marital Status'].value_counts()/df['Marital Status'].count())"
   ]
  },
  {
   "cell_type": "code",
   "execution_count": 38,
   "metadata": {},
   "outputs": [
    {
     "name": "stdout",
     "output_type": "stream",
     "text": [
      "professional    0.65\n",
      "none            0.35\n",
      "Name: Work Status, dtype: float64\n"
     ]
    }
   ],
   "source": [
    "print(df['Work Status'].value_counts()/df['Work Status'].count())"
   ]
  },
  {
   "cell_type": "code",
   "execution_count": 39,
   "metadata": {},
   "outputs": [
    {
     "name": "stdout",
     "output_type": "stream",
     "text": [
      "none    0.506\n",
      "BA      0.260\n",
      "MA      0.124\n",
      "PhD     0.110\n",
      "Name: Education, dtype: float64\n"
     ]
    }
   ],
   "source": [
    "print(df['Education'].value_counts()/df['Education'].count())"
   ]
  },
  {
   "cell_type": "code",
   "execution_count": 50,
   "metadata": {},
   "outputs": [
    {
     "name": "stdout",
     "output_type": "stream",
     "text": [
      "Annual Income (x1000 $)\n",
      "(0, 40]      632\n",
      "(40, 60]     358\n",
      "(60, 80]       9\n",
      "(80, 800]      3\n",
      "Name: Annual Income (x1000 $), dtype: int64\n"
     ]
    }
   ],
   "source": [
    "ranges = [0,40,60,80,800]\n",
    "print(df['Annual Income (x1000 $)'].groupby(pd.cut(df['Annual Income (x1000 $)'],ranges)).count())"
   ]
  },
  {
   "cell_type": "code",
   "execution_count": 51,
   "metadata": {},
   "outputs": [
    {
     "name": "stdout",
     "output_type": "stream",
     "text": [
      "Annual Income (x1000 $)\n",
      "(0, 20]       0\n",
      "(20, 40]    632\n",
      "(40, 60]    358\n",
      "(60, 80]      9\n",
      "Name: Annual Income (x1000 $), dtype: int64\n"
     ]
    }
   ],
   "source": [
    "ranges = [0,20,40,60,80]\n",
    "print(df['Annual Income (x1000 $)'].groupby(pd.cut(df['Annual Income (x1000 $)'],ranges)).count())"
   ]
  },
  {
   "cell_type": "code",
   "execution_count": 52,
   "metadata": {},
   "outputs": [
    {
     "name": "stdout",
     "output_type": "stream",
     "text": [
      "Pennsylvania      0.050\n",
      "Hawaii            0.045\n",
      "Delaware          0.045\n",
      "Arizona           0.043\n",
      "Washington        0.043\n",
      "Vermont           0.043\n",
      "Idaho             0.043\n",
      "Maine             0.041\n",
      "California        0.041\n",
      "Maryland          0.039\n",
      "Colorado          0.039\n",
      "New York          0.039\n",
      "Massachusetts     0.038\n",
      "Connecticut       0.037\n",
      "Nevada            0.037\n",
      "New Jersey        0.035\n",
      "New Hampshire     0.035\n",
      "Florida           0.035\n",
      "Illinois          0.034\n",
      "Tennessee         0.032\n",
      "Rhode Island      0.027\n",
      "Georgia           0.027\n",
      "Oregon            0.010\n",
      "North Dakota      0.010\n",
      "Utah              0.009\n",
      "Missouri          0.008\n",
      "West Virginia     0.008\n",
      "North Carolina    0.008\n",
      "Texas             0.007\n",
      "Montana           0.007\n",
      "Indiana           0.006\n",
      "Alabama           0.006\n",
      "South Carolina    0.006\n",
      "Kentucky          0.006\n",
      "Michigan          0.006\n",
      "Kansas            0.006\n",
      "Alaska            0.005\n",
      "New Mexico        0.005\n",
      "Louisiana         0.005\n",
      "South Dakota      0.004\n",
      "Arkansas          0.004\n",
      "Virginia          0.004\n",
      "Wisconsin         0.004\n",
      "Wyoming           0.004\n",
      "Iowa              0.003\n",
      "Oklahoma          0.003\n",
      "Ohio              0.003\n",
      "Mississippi       0.002\n",
      "Minnesota         0.002\n",
      "Nebraska          0.001\n",
      "Name: Location, dtype: float64\n"
     ]
    }
   ],
   "source": [
    "print(df['Location'].value_counts()/df['Location'].count())"
   ]
  },
  {
   "cell_type": "code",
   "execution_count": 53,
   "metadata": {},
   "outputs": [
    {
     "name": "stdout",
     "output_type": "stream",
     "text": [
      "family    0.56\n",
      "single    0.44\n",
      "Name: Purchasing Decision-maker, dtype: float64\n"
     ]
    }
   ],
   "source": [
    "print(df['Purchasing Decision-maker'].value_counts()/df['Purchasing Decision-maker'].count())"
   ]
  },
  {
   "cell_type": "code",
   "execution_count": 54,
   "metadata": {},
   "outputs": [
    {
     "name": "stdout",
     "output_type": "stream",
     "text": [
      "retail                       0.294\n",
      "discount                     0.293\n",
      "mass-consumer electronics    0.200\n",
      "specialty stores             0.170\n",
      "web (ebay)                   0.043\n",
      "Name: Purchasing Location, dtype: float64\n"
     ]
    }
   ],
   "source": [
    "print(df['Purchasing Location'].value_counts()/df['Purchasing Location'].count())"
   ]
  },
  {
   "cell_type": "code",
   "execution_count": 55,
   "metadata": {},
   "outputs": [
    {
     "name": "stdout",
     "output_type": "stream",
     "text": [
      "Monthly Electronics Spend\n",
      "(0, 40]      733\n",
      "(40, 60]     196\n",
      "(60, 80]      62\n",
      "(80, 100]      9\n",
      "Name: Monthly Electronics Spend, dtype: int64\n"
     ]
    }
   ],
   "source": [
    "ranges = [0,40,60,80,100]\n",
    "print(df['Monthly Electronics Spend'].groupby(pd.cut(df['Monthly Electronics Spend'],ranges)).count())"
   ]
  },
  {
   "cell_type": "code",
   "execution_count": 56,
   "metadata": {},
   "outputs": [
    {
     "name": "stdout",
     "output_type": "stream",
     "text": [
      "Monthly Household Spend\n",
      "(0, 50]       281\n",
      "(50, 100]     389\n",
      "(100, 150]    156\n",
      "(150, 200]     96\n",
      "(200, 250]     42\n",
      "(250, 300]     16\n",
      "(300, 350]     11\n",
      "(350, 400]      9\n",
      "Name: Monthly Household Spend, dtype: int64\n"
     ]
    }
   ],
   "source": [
    "ranges = [0,50,100,150,200,250,300,350,400]\n",
    "print(df['Monthly Household Spend'].groupby(pd.cut(df['Monthly Household Spend'],ranges)).count())"
   ]
  },
  {
   "cell_type": "code",
   "execution_count": 59,
   "metadata": {},
   "outputs": [
    {
     "name": "stdout",
     "output_type": "stream",
     "text": [
      "Purchasing Frequency (every x months)\n",
      "(0, 10]     241\n",
      "(10, 20]    231\n",
      "(20, 30]    187\n",
      "(30, 40]    192\n",
      "(40, 50]    149\n",
      "Name: Purchasing Frequency (every x months), dtype: int64\n"
     ]
    }
   ],
   "source": [
    "ranges = [0,10,20,30,40,50]\n",
    "print(df['Purchasing Frequency (every x months)'].groupby(pd.cut(df['Purchasing Frequency (every x months)'],ranges)).count())"
   ]
  },
  {
   "cell_type": "code",
   "execution_count": 60,
   "metadata": {},
   "outputs": [
    {
     "name": "stdout",
     "output_type": "stream",
     "text": [
      "early    0.8\n",
      "late     0.2\n",
      "Name: Technology Adoption, dtype: float64\n"
     ]
    }
   ],
   "source": [
    "print(df['Technology Adoption'].value_counts()/df['Technology Adoption'].count())"
   ]
  },
  {
   "cell_type": "code",
   "execution_count": 61,
   "metadata": {},
   "outputs": [
    {
     "name": "stdout",
     "output_type": "stream",
     "text": [
      "TV Viewing (hours/day)\n",
      "(0, 5]      715\n",
      "(5, 10]      65\n",
      "(10, 15]     45\n",
      "Name: TV Viewing (hours/day), dtype: int64\n"
     ]
    }
   ],
   "source": [
    "ranges = [0,5,10,15]\n",
    "print(df['TV Viewing (hours/day)'].groupby(pd.cut(df['TV Viewing (hours/day)'],ranges)).count())"
   ]
  },
  {
   "cell_type": "code",
   "execution_count": 62,
   "metadata": {},
   "outputs": [
    {
     "name": "stdout",
     "output_type": "stream",
     "text": [
      "cool gadget                                   0.228\n",
      "time shifting                                 0.221\n",
      "schedule control                              0.221\n",
      "saving favorite shows to watch as a family    0.200\n",
      "programming/interactive features              0.130\n",
      "Name: Favorite feature, dtype: float64\n"
     ]
    }
   ],
   "source": [
    "print(df['Favorite feature'].value_counts()/df['Favorite feature'].count())"
   ]
  },
  {
   "cell_type": "code",
   "execution_count": 63,
   "metadata": {
    "scrolled": true
   },
   "outputs": [
    {
     "name": "stdout",
     "output_type": "stream",
     "text": [
      "Annual Spending on Electronics\n",
      "(0, 250]       444\n",
      "(250, 500]     300\n",
      "(500, 1000]    251\n",
      "Name: Annual Spending on Electronics, dtype: int64\n"
     ]
    }
   ],
   "source": [
    "ranges = [0,250,500,1000]\n",
    "print(df['Annual Spending on Electronics'].groupby(pd.cut(df['Annual Spending on Electronics'],ranges)).count())"
   ]
  },
  {
   "cell_type": "code",
   "execution_count": 75,
   "metadata": {},
   "outputs": [
    {
     "name": "stdout",
     "output_type": "stream",
     "text": [
      "Spending as % of Income\n",
      "(0.0, 0.005]      57\n",
      "(0.005, 0.01]    558\n",
      "(0.01, 0.015]    317\n",
      "(0.015, 0.02]     68\n",
      "Name: Spending as % of Income, dtype: int64\n"
     ]
    }
   ],
   "source": [
    "ranges = [0,.005,.010,.015,0.02]\n",
    "print(df['Spending as % of Income'].groupby(pd.cut(df['Spending as % of Income'],ranges)).count())"
   ]
  },
  {
   "cell_type": "code",
   "execution_count": null,
   "metadata": {},
   "outputs": [],
   "source": []
  }
 ],
 "metadata": {
  "kernelspec": {
   "display_name": "Python 3",
   "language": "python",
   "name": "python3"
  },
  "language_info": {
   "codemirror_mode": {
    "name": "ipython",
    "version": 3
   },
   "file_extension": ".py",
   "mimetype": "text/x-python",
   "name": "python",
   "nbconvert_exporter": "python",
   "pygments_lexer": "ipython3",
   "version": "3.6.3"
  }
 },
 "nbformat": 4,
 "nbformat_minor": 2
}
