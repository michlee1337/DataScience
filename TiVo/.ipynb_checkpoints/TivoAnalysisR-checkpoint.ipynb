{
 "cells": [
  {
   "cell_type": "code",
   "execution_count": 4,
   "metadata": {},
   "outputs": [],
   "source": [
    "data = read.table(\"codedTivo.csv\",header=TRUE,sep=\",\")\n",
    "data <- head(data,-3)"
   ]
  },
  {
   "cell_type": "code",
   "execution_count": 5,
   "metadata": {},
   "outputs": [
    {
     "data": {
      "text/html": [
       "<table>\n",
       "<thead><tr><th></th><th scope=col>X</th><th scope=col>ID</th><th scope=col>Gender</th><th scope=col>Marital.Status</th><th scope=col>Work.Status</th><th scope=col>Education</th><th scope=col>Annual.Income..x1000...</th><th scope=col>Age</th><th scope=col>Location</th><th scope=col>Purchasing.Decision.maker</th><th scope=col>Purchasing.Location</th><th scope=col>Monthly.Electronics.Spend</th><th scope=col>Monthly.Household.Spend</th><th scope=col>Purchasing.Frequency..every.x.months.</th><th scope=col>Technology.Adoption</th><th scope=col>TV.Viewing..hours.day.</th><th scope=col>Favorite.feature</th></tr></thead>\n",
       "<tbody>\n",
       "\t<tr><th scope=row>992</th><td>991</td><td>992</td><td>0  </td><td>0  </td><td>0  </td><td>0  </td><td>29 </td><td>50 </td><td>27 </td><td>0  </td><td>0  </td><td>19 </td><td> 82</td><td>20 </td><td>0  </td><td>2  </td><td>3  </td></tr>\n",
       "\t<tr><th scope=row>993</th><td>992</td><td>993</td><td>0  </td><td>1  </td><td>1  </td><td>3  </td><td>30 </td><td>20 </td><td> 8 </td><td>1  </td><td>0  </td><td>36 </td><td>151</td><td>47 </td><td>0  </td><td>2  </td><td>1  </td></tr>\n",
       "\t<tr><th scope=row>994</th><td>993</td><td>994</td><td>1  </td><td>0  </td><td>1  </td><td>3  </td><td>31 </td><td>79 </td><td>28 </td><td>1  </td><td>0  </td><td>12 </td><td> 54</td><td>38 </td><td>0  </td><td>1  </td><td>4  </td></tr>\n",
       "\t<tr><th scope=row>995</th><td>994</td><td>995</td><td>1  </td><td>0  </td><td>1  </td><td>0  </td><td>53 </td><td>38 </td><td>19 </td><td>0  </td><td>3  </td><td>40 </td><td>123</td><td>11 </td><td>0  </td><td>1  </td><td>0  </td></tr>\n",
       "\t<tr><th scope=row>996</th><td>995</td><td>996</td><td>0  </td><td>1  </td><td>1  </td><td>3  </td><td>29 </td><td>51 </td><td> 8 </td><td>0  </td><td>2  </td><td>15 </td><td> 54</td><td>21 </td><td>0  </td><td>2  </td><td>3  </td></tr>\n",
       "\t<tr><th scope=row>997</th><td>996</td><td>997</td><td>1  </td><td>0  </td><td>1  </td><td>1  </td><td>32 </td><td>73 </td><td>18 </td><td>1  </td><td>2  </td><td>15 </td><td> 73</td><td>21 </td><td>0  </td><td>0  </td><td>3  </td></tr>\n",
       "</tbody>\n",
       "</table>\n"
      ],
      "text/latex": [
       "\\begin{tabular}{r|lllllllllllllllll}\n",
       "  & X & ID & Gender & Marital.Status & Work.Status & Education & Annual.Income..x1000... & Age & Location & Purchasing.Decision.maker & Purchasing.Location & Monthly.Electronics.Spend & Monthly.Household.Spend & Purchasing.Frequency..every.x.months. & Technology.Adoption & TV.Viewing..hours.day. & Favorite.feature\\\\\n",
       "\\hline\n",
       "\t992 & 991 & 992 & 0   & 0   & 0   & 0   & 29  & 50  & 27  & 0   & 0   & 19  &  82 & 20  & 0   & 2   & 3  \\\\\n",
       "\t993 & 992 & 993 & 0   & 1   & 1   & 3   & 30  & 20  &  8  & 1   & 0   & 36  & 151 & 47  & 0   & 2   & 1  \\\\\n",
       "\t994 & 993 & 994 & 1   & 0   & 1   & 3   & 31  & 79  & 28  & 1   & 0   & 12  &  54 & 38  & 0   & 1   & 4  \\\\\n",
       "\t995 & 994 & 995 & 1   & 0   & 1   & 0   & 53  & 38  & 19  & 0   & 3   & 40  & 123 & 11  & 0   & 1   & 0  \\\\\n",
       "\t996 & 995 & 996 & 0   & 1   & 1   & 3   & 29  & 51  &  8  & 0   & 2   & 15  &  54 & 21  & 0   & 2   & 3  \\\\\n",
       "\t997 & 996 & 997 & 1   & 0   & 1   & 1   & 32  & 73  & 18  & 1   & 2   & 15  &  73 & 21  & 0   & 0   & 3  \\\\\n",
       "\\end{tabular}\n"
      ],
      "text/markdown": [
       "\n",
       "| <!--/--> | X | ID | Gender | Marital.Status | Work.Status | Education | Annual.Income..x1000... | Age | Location | Purchasing.Decision.maker | Purchasing.Location | Monthly.Electronics.Spend | Monthly.Household.Spend | Purchasing.Frequency..every.x.months. | Technology.Adoption | TV.Viewing..hours.day. | Favorite.feature | \n",
       "|---|---|---|---|---|---|\n",
       "| 992 | 991 | 992 | 0   | 0   | 0   | 0   | 29  | 50  | 27  | 0   | 0   | 19  |  82 | 20  | 0   | 2   | 3   | \n",
       "| 993 | 992 | 993 | 0   | 1   | 1   | 3   | 30  | 20  |  8  | 1   | 0   | 36  | 151 | 47  | 0   | 2   | 1   | \n",
       "| 994 | 993 | 994 | 1   | 0   | 1   | 3   | 31  | 79  | 28  | 1   | 0   | 12  |  54 | 38  | 0   | 1   | 4   | \n",
       "| 995 | 994 | 995 | 1   | 0   | 1   | 0   | 53  | 38  | 19  | 0   | 3   | 40  | 123 | 11  | 0   | 1   | 0   | \n",
       "| 996 | 995 | 996 | 0   | 1   | 1   | 3   | 29  | 51  |  8  | 0   | 2   | 15  |  54 | 21  | 0   | 2   | 3   | \n",
       "| 997 | 996 | 997 | 1   | 0   | 1   | 1   | 32  | 73  | 18  | 1   | 2   | 15  |  73 | 21  | 0   | 0   | 3   | \n",
       "\n",
       "\n"
      ],
      "text/plain": [
       "    X   ID  Gender Marital.Status Work.Status Education Annual.Income..x1000...\n",
       "992 991 992 0      0              0           0         29                     \n",
       "993 992 993 0      1              1           3         30                     \n",
       "994 993 994 1      0              1           3         31                     \n",
       "995 994 995 1      0              1           0         53                     \n",
       "996 995 996 0      1              1           3         29                     \n",
       "997 996 997 1      0              1           1         32                     \n",
       "    Age Location Purchasing.Decision.maker Purchasing.Location\n",
       "992 50  27       0                         0                  \n",
       "993 20   8       1                         0                  \n",
       "994 79  28       1                         0                  \n",
       "995 38  19       0                         3                  \n",
       "996 51   8       0                         2                  \n",
       "997 73  18       1                         2                  \n",
       "    Monthly.Electronics.Spend Monthly.Household.Spend\n",
       "992 19                         82                    \n",
       "993 36                        151                    \n",
       "994 12                         54                    \n",
       "995 40                        123                    \n",
       "996 15                         54                    \n",
       "997 15                         73                    \n",
       "    Purchasing.Frequency..every.x.months. Technology.Adoption\n",
       "992 20                                    0                  \n",
       "993 47                                    0                  \n",
       "994 38                                    0                  \n",
       "995 11                                    0                  \n",
       "996 21                                    0                  \n",
       "997 21                                    0                  \n",
       "    TV.Viewing..hours.day. Favorite.feature\n",
       "992 2                      3               \n",
       "993 2                      1               \n",
       "994 1                      4               \n",
       "995 1                      0               \n",
       "996 2                      3               \n",
       "997 0                      3               "
      ]
     },
     "metadata": {},
     "output_type": "display_data"
    }
   ],
   "source": [
    "tail(data)"
   ]
  },
  {
   "cell_type": "code",
   "execution_count": 6,
   "metadata": {
    "scrolled": false
   },
   "outputs": [
    {
     "data": {
      "text/html": [
       "<ol class=list-inline>\n",
       "\t<li>'X'</li>\n",
       "\t<li>'ID'</li>\n",
       "\t<li>'Gender'</li>\n",
       "\t<li>'Marital.Status'</li>\n",
       "\t<li>'Work.Status'</li>\n",
       "\t<li>'Education'</li>\n",
       "\t<li>'Annual.Income..x1000...'</li>\n",
       "\t<li>'Age'</li>\n",
       "\t<li>'Location'</li>\n",
       "\t<li>'Purchasing.Decision.maker'</li>\n",
       "\t<li>'Purchasing.Location'</li>\n",
       "\t<li>'Monthly.Electronics.Spend'</li>\n",
       "\t<li>'Monthly.Household.Spend'</li>\n",
       "\t<li>'Purchasing.Frequency..every.x.months.'</li>\n",
       "\t<li>'Technology.Adoption'</li>\n",
       "\t<li>'TV.Viewing..hours.day.'</li>\n",
       "\t<li>'Favorite.feature'</li>\n",
       "</ol>\n"
      ],
      "text/latex": [
       "\\begin{enumerate*}\n",
       "\\item 'X'\n",
       "\\item 'ID'\n",
       "\\item 'Gender'\n",
       "\\item 'Marital.Status'\n",
       "\\item 'Work.Status'\n",
       "\\item 'Education'\n",
       "\\item 'Annual.Income..x1000...'\n",
       "\\item 'Age'\n",
       "\\item 'Location'\n",
       "\\item 'Purchasing.Decision.maker'\n",
       "\\item 'Purchasing.Location'\n",
       "\\item 'Monthly.Electronics.Spend'\n",
       "\\item 'Monthly.Household.Spend'\n",
       "\\item 'Purchasing.Frequency..every.x.months.'\n",
       "\\item 'Technology.Adoption'\n",
       "\\item 'TV.Viewing..hours.day.'\n",
       "\\item 'Favorite.feature'\n",
       "\\end{enumerate*}\n"
      ],
      "text/markdown": [
       "1. 'X'\n",
       "2. 'ID'\n",
       "3. 'Gender'\n",
       "4. 'Marital.Status'\n",
       "5. 'Work.Status'\n",
       "6. 'Education'\n",
       "7. 'Annual.Income..x1000...'\n",
       "8. 'Age'\n",
       "9. 'Location'\n",
       "10. 'Purchasing.Decision.maker'\n",
       "11. 'Purchasing.Location'\n",
       "12. 'Monthly.Electronics.Spend'\n",
       "13. 'Monthly.Household.Spend'\n",
       "14. 'Purchasing.Frequency..every.x.months.'\n",
       "15. 'Technology.Adoption'\n",
       "16. 'TV.Viewing..hours.day.'\n",
       "17. 'Favorite.feature'\n",
       "\n",
       "\n"
      ],
      "text/plain": [
       " [1] \"X\"                                    \n",
       " [2] \"ID\"                                   \n",
       " [3] \"Gender\"                               \n",
       " [4] \"Marital.Status\"                       \n",
       " [5] \"Work.Status\"                          \n",
       " [6] \"Education\"                            \n",
       " [7] \"Annual.Income..x1000...\"              \n",
       " [8] \"Age\"                                  \n",
       " [9] \"Location\"                             \n",
       "[10] \"Purchasing.Decision.maker\"            \n",
       "[11] \"Purchasing.Location\"                  \n",
       "[12] \"Monthly.Electronics.Spend\"            \n",
       "[13] \"Monthly.Household.Spend\"              \n",
       "[14] \"Purchasing.Frequency..every.x.months.\"\n",
       "[15] \"Technology.Adoption\"                  \n",
       "[16] \"TV.Viewing..hours.day.\"               \n",
       "[17] \"Favorite.feature\"                     "
      ]
     },
     "metadata": {},
     "output_type": "display_data"
    }
   ],
   "source": [
    "names(data)"
   ]
  },
  {
   "cell_type": "code",
   "execution_count": 7,
   "metadata": {},
   "outputs": [],
   "source": [
    "data$Monthly.Household.Spend <- NULL\n",
    "data$Annual.Income..x1000... <- NULL\n",
    "data$Technology.Adoption <- NULL"
   ]
  },
  {
   "cell_type": "code",
   "execution_count": 8,
   "metadata": {},
   "outputs": [
    {
     "data": {
      "text/html": [
       "<table>\n",
       "<thead><tr><th scope=col>X</th><th scope=col>ID</th><th scope=col>Gender</th><th scope=col>Marital.Status</th><th scope=col>Work.Status</th><th scope=col>Education</th><th scope=col>Age</th><th scope=col>Location</th><th scope=col>Purchasing.Decision.maker</th><th scope=col>Purchasing.Location</th><th scope=col>Monthly.Electronics.Spend</th><th scope=col>Purchasing.Frequency..every.x.months.</th><th scope=col>TV.Viewing..hours.day.</th><th scope=col>Favorite.feature</th></tr></thead>\n",
       "<tbody>\n",
       "\t<tr><td>0 </td><td>1 </td><td>1 </td><td>0 </td><td>1 </td><td>3 </td><td>30</td><td> 8</td><td>0 </td><td>1 </td><td>35</td><td>13</td><td> 2</td><td>2 </td></tr>\n",
       "\t<tr><td>1 </td><td>2 </td><td>1 </td><td>1 </td><td>0 </td><td>3 </td><td>36</td><td> 0</td><td>1 </td><td>1 </td><td>35</td><td>26</td><td>10</td><td>2 </td></tr>\n",
       "\t<tr><td>2 </td><td>3 </td><td>1 </td><td>0 </td><td>1 </td><td>0 </td><td>66</td><td>20</td><td>0 </td><td>3 </td><td>64</td><td>13</td><td> 0</td><td>4 </td></tr>\n",
       "\t<tr><td>3 </td><td>4 </td><td>1 </td><td>0 </td><td>0 </td><td>2 </td><td>78</td><td>31</td><td>0 </td><td>1 </td><td>33</td><td>22</td><td> 5</td><td>2 </td></tr>\n",
       "\t<tr><td>4 </td><td>5 </td><td>0 </td><td>1 </td><td>0 </td><td>3 </td><td>52</td><td>25</td><td>1 </td><td>1 </td><td>45</td><td>47</td><td> 2</td><td>2 </td></tr>\n",
       "\t<tr><td>5 </td><td>6 </td><td>0 </td><td>0 </td><td>0 </td><td>0 </td><td>72</td><td>29</td><td>1 </td><td>2 </td><td>14</td><td>32</td><td> 1</td><td>4 </td></tr>\n",
       "</tbody>\n",
       "</table>\n"
      ],
      "text/latex": [
       "\\begin{tabular}{r|llllllllllllll}\n",
       " X & ID & Gender & Marital.Status & Work.Status & Education & Age & Location & Purchasing.Decision.maker & Purchasing.Location & Monthly.Electronics.Spend & Purchasing.Frequency..every.x.months. & TV.Viewing..hours.day. & Favorite.feature\\\\\n",
       "\\hline\n",
       "\t 0  & 1  & 1  & 0  & 1  & 3  & 30 &  8 & 0  & 1  & 35 & 13 &  2 & 2 \\\\\n",
       "\t 1  & 2  & 1  & 1  & 0  & 3  & 36 &  0 & 1  & 1  & 35 & 26 & 10 & 2 \\\\\n",
       "\t 2  & 3  & 1  & 0  & 1  & 0  & 66 & 20 & 0  & 3  & 64 & 13 &  0 & 4 \\\\\n",
       "\t 3  & 4  & 1  & 0  & 0  & 2  & 78 & 31 & 0  & 1  & 33 & 22 &  5 & 2 \\\\\n",
       "\t 4  & 5  & 0  & 1  & 0  & 3  & 52 & 25 & 1  & 1  & 45 & 47 &  2 & 2 \\\\\n",
       "\t 5  & 6  & 0  & 0  & 0  & 0  & 72 & 29 & 1  & 2  & 14 & 32 &  1 & 4 \\\\\n",
       "\\end{tabular}\n"
      ],
      "text/markdown": [
       "\n",
       "X | ID | Gender | Marital.Status | Work.Status | Education | Age | Location | Purchasing.Decision.maker | Purchasing.Location | Monthly.Electronics.Spend | Purchasing.Frequency..every.x.months. | TV.Viewing..hours.day. | Favorite.feature | \n",
       "|---|---|---|---|---|---|\n",
       "| 0  | 1  | 1  | 0  | 1  | 3  | 30 |  8 | 0  | 1  | 35 | 13 |  2 | 2  | \n",
       "| 1  | 2  | 1  | 1  | 0  | 3  | 36 |  0 | 1  | 1  | 35 | 26 | 10 | 2  | \n",
       "| 2  | 3  | 1  | 0  | 1  | 0  | 66 | 20 | 0  | 3  | 64 | 13 |  0 | 4  | \n",
       "| 3  | 4  | 1  | 0  | 0  | 2  | 78 | 31 | 0  | 1  | 33 | 22 |  5 | 2  | \n",
       "| 4  | 5  | 0  | 1  | 0  | 3  | 52 | 25 | 1  | 1  | 45 | 47 |  2 | 2  | \n",
       "| 5  | 6  | 0  | 0  | 0  | 0  | 72 | 29 | 1  | 2  | 14 | 32 |  1 | 4  | \n",
       "\n",
       "\n"
      ],
      "text/plain": [
       "  X ID Gender Marital.Status Work.Status Education Age Location\n",
       "1 0 1  1      0              1           3         30   8      \n",
       "2 1 2  1      1              0           3         36   0      \n",
       "3 2 3  1      0              1           0         66  20      \n",
       "4 3 4  1      0              0           2         78  31      \n",
       "5 4 5  0      1              0           3         52  25      \n",
       "6 5 6  0      0              0           0         72  29      \n",
       "  Purchasing.Decision.maker Purchasing.Location Monthly.Electronics.Spend\n",
       "1 0                         1                   35                       \n",
       "2 1                         1                   35                       \n",
       "3 0                         3                   64                       \n",
       "4 0                         1                   33                       \n",
       "5 1                         1                   45                       \n",
       "6 1                         2                   14                       \n",
       "  Purchasing.Frequency..every.x.months. TV.Viewing..hours.day. Favorite.feature\n",
       "1 13                                     2                     2               \n",
       "2 26                                    10                     2               \n",
       "3 13                                     0                     4               \n",
       "4 22                                     5                     2               \n",
       "5 47                                     2                     2               \n",
       "6 32                                     1                     4               "
      ]
     },
     "metadata": {},
     "output_type": "display_data"
    }
   ],
   "source": [
    "head(data)"
   ]
  },
  {
   "cell_type": "code",
   "execution_count": 9,
   "metadata": {
    "scrolled": true
   },
   "outputs": [
    {
     "data": {
      "text/html": [
       "<table>\n",
       "<thead><tr><th></th><th scope=col>X</th><th scope=col>Gender</th><th scope=col>Marital.Status</th><th scope=col>Work.Status</th><th scope=col>Education</th><th scope=col>Age</th><th scope=col>Location</th><th scope=col>Purchasing.Decision.maker</th><th scope=col>Purchasing.Location</th><th scope=col>Monthly.Electronics.Spend</th><th scope=col>Purchasing.Frequency..every.x.months.</th><th scope=col>TV.Viewing..hours.day.</th><th scope=col>Favorite.feature</th></tr></thead>\n",
       "<tbody>\n",
       "\t<tr><th scope=row>X</th><td>1   </td><td>0.00</td><td>0.00</td><td>0.00</td><td>0.00</td><td>0.00</td><td>0.00</td><td>0.00</td><td>0.00</td><td>0.00</td><td>0.00</td><td>0.00</td><td>0.00</td></tr>\n",
       "\t<tr><th scope=row>Gender</th><td>0   </td><td>1.00</td><td>0.00</td><td>0.00</td><td>0.00</td><td>0.01</td><td>0.00</td><td>0.00</td><td>0.01</td><td>0.01</td><td>0.01</td><td>0.00</td><td>0.00</td></tr>\n",
       "\t<tr><th scope=row>Marital.Status</th><td>0   </td><td>0.00</td><td>1.00</td><td>0.04</td><td>0.00</td><td>0.07</td><td>0.00</td><td>0.21</td><td>0.02</td><td>0.00</td><td>0.00</td><td>0.00</td><td>0.02</td></tr>\n",
       "\t<tr><th scope=row>Work.Status</th><td>0   </td><td>0.00</td><td>0.04</td><td>1.00</td><td>0.05</td><td>0.02</td><td>0.00</td><td>0.01</td><td>0.08</td><td>0.09</td><td>0.03</td><td>0.00</td><td>0.02</td></tr>\n",
       "\t<tr><th scope=row>Education</th><td>0   </td><td>0.00</td><td>0.00</td><td>0.05</td><td>1.00</td><td>0.01</td><td>0.00</td><td>0.01</td><td>0.09</td><td>0.22</td><td>0.02</td><td>0.04</td><td>0.01</td></tr>\n",
       "\t<tr><th scope=row>Age</th><td>0   </td><td>0.01</td><td>0.07</td><td>0.02</td><td>0.01</td><td>1.00</td><td>0.00</td><td>0.05</td><td>0.01</td><td>0.00</td><td>0.00</td><td>0.00</td><td>0.02</td></tr>\n",
       "\t<tr><th scope=row>Location</th><td>0   </td><td>0.00</td><td>0.00</td><td>0.00</td><td>0.00</td><td>0.00</td><td>1.00</td><td>0.01</td><td>0.00</td><td>0.00</td><td>0.00</td><td>0.00</td><td>0.00</td></tr>\n",
       "\t<tr><th scope=row>Purchasing.Decision.maker</th><td>0   </td><td>0.00</td><td>0.21</td><td>0.01</td><td>0.01</td><td>0.05</td><td>0.01</td><td>1.00</td><td>0.00</td><td>0.05</td><td>0.00</td><td>0.02</td><td>0.01</td></tr>\n",
       "\t<tr><th scope=row>Purchasing.Location</th><td>0   </td><td>0.01</td><td>0.02</td><td>0.08</td><td>0.09</td><td>0.01</td><td>0.00</td><td>0.00</td><td>1.00</td><td>0.23</td><td>0.08</td><td>0.01</td><td>0.00</td></tr>\n",
       "\t<tr><th scope=row>Monthly.Electronics.Spend</th><td>0   </td><td>0.01</td><td>0.00</td><td>0.09</td><td>0.22</td><td>0.00</td><td>0.00</td><td>0.05</td><td>0.23</td><td>1.00</td><td>0.08</td><td>0.06</td><td>0.00</td></tr>\n",
       "\t<tr><th scope=row>Purchasing.Frequency..every.x.months.</th><td>0   </td><td>0.01</td><td>0.00</td><td>0.03</td><td>0.02</td><td>0.00</td><td>0.00</td><td>0.00</td><td>0.08</td><td>0.08</td><td>1.00</td><td>0.03</td><td>0.00</td></tr>\n",
       "\t<tr><th scope=row>TV.Viewing..hours.day.</th><td>0   </td><td>0.00</td><td>0.00</td><td>0.00</td><td>0.04</td><td>0.00</td><td>0.00</td><td>0.02</td><td>0.01</td><td>0.06</td><td>0.03</td><td>1.00</td><td>0.01</td></tr>\n",
       "\t<tr><th scope=row>Favorite.feature</th><td>0   </td><td>0.00</td><td>0.02</td><td>0.02</td><td>0.01</td><td>0.02</td><td>0.00</td><td>0.01</td><td>0.00</td><td>0.00</td><td>0.00</td><td>0.01</td><td>1.00</td></tr>\n",
       "</tbody>\n",
       "</table>\n"
      ],
      "text/latex": [
       "\\begin{tabular}{r|lllllllllllll}\n",
       "  & X & Gender & Marital.Status & Work.Status & Education & Age & Location & Purchasing.Decision.maker & Purchasing.Location & Monthly.Electronics.Spend & Purchasing.Frequency..every.x.months. & TV.Viewing..hours.day. & Favorite.feature\\\\\n",
       "\\hline\n",
       "\tX & 1    & 0.00 & 0.00 & 0.00 & 0.00 & 0.00 & 0.00 & 0.00 & 0.00 & 0.00 & 0.00 & 0.00 & 0.00\\\\\n",
       "\tGender & 0    & 1.00 & 0.00 & 0.00 & 0.00 & 0.01 & 0.00 & 0.00 & 0.01 & 0.01 & 0.01 & 0.00 & 0.00\\\\\n",
       "\tMarital.Status & 0    & 0.00 & 1.00 & 0.04 & 0.00 & 0.07 & 0.00 & 0.21 & 0.02 & 0.00 & 0.00 & 0.00 & 0.02\\\\\n",
       "\tWork.Status & 0    & 0.00 & 0.04 & 1.00 & 0.05 & 0.02 & 0.00 & 0.01 & 0.08 & 0.09 & 0.03 & 0.00 & 0.02\\\\\n",
       "\tEducation & 0    & 0.00 & 0.00 & 0.05 & 1.00 & 0.01 & 0.00 & 0.01 & 0.09 & 0.22 & 0.02 & 0.04 & 0.01\\\\\n",
       "\tAge & 0    & 0.01 & 0.07 & 0.02 & 0.01 & 1.00 & 0.00 & 0.05 & 0.01 & 0.00 & 0.00 & 0.00 & 0.02\\\\\n",
       "\tLocation & 0    & 0.00 & 0.00 & 0.00 & 0.00 & 0.00 & 1.00 & 0.01 & 0.00 & 0.00 & 0.00 & 0.00 & 0.00\\\\\n",
       "\tPurchasing.Decision.maker & 0    & 0.00 & 0.21 & 0.01 & 0.01 & 0.05 & 0.01 & 1.00 & 0.00 & 0.05 & 0.00 & 0.02 & 0.01\\\\\n",
       "\tPurchasing.Location & 0    & 0.01 & 0.02 & 0.08 & 0.09 & 0.01 & 0.00 & 0.00 & 1.00 & 0.23 & 0.08 & 0.01 & 0.00\\\\\n",
       "\tMonthly.Electronics.Spend & 0    & 0.01 & 0.00 & 0.09 & 0.22 & 0.00 & 0.00 & 0.05 & 0.23 & 1.00 & 0.08 & 0.06 & 0.00\\\\\n",
       "\tPurchasing.Frequency..every.x.months. & 0    & 0.01 & 0.00 & 0.03 & 0.02 & 0.00 & 0.00 & 0.00 & 0.08 & 0.08 & 1.00 & 0.03 & 0.00\\\\\n",
       "\tTV.Viewing..hours.day. & 0    & 0.00 & 0.00 & 0.00 & 0.04 & 0.00 & 0.00 & 0.02 & 0.01 & 0.06 & 0.03 & 1.00 & 0.01\\\\\n",
       "\tFavorite.feature & 0    & 0.00 & 0.02 & 0.02 & 0.01 & 0.02 & 0.00 & 0.01 & 0.00 & 0.00 & 0.00 & 0.01 & 1.00\\\\\n",
       "\\end{tabular}\n"
      ],
      "text/markdown": [
       "\n",
       "| <!--/--> | X | Gender | Marital.Status | Work.Status | Education | Age | Location | Purchasing.Decision.maker | Purchasing.Location | Monthly.Electronics.Spend | Purchasing.Frequency..every.x.months. | TV.Viewing..hours.day. | Favorite.feature | \n",
       "|---|---|---|---|---|---|---|---|---|---|---|---|---|\n",
       "| X | 1    | 0.00 | 0.00 | 0.00 | 0.00 | 0.00 | 0.00 | 0.00 | 0.00 | 0.00 | 0.00 | 0.00 | 0.00 | \n",
       "| Gender | 0    | 1.00 | 0.00 | 0.00 | 0.00 | 0.01 | 0.00 | 0.00 | 0.01 | 0.01 | 0.01 | 0.00 | 0.00 | \n",
       "| Marital.Status | 0    | 0.00 | 1.00 | 0.04 | 0.00 | 0.07 | 0.00 | 0.21 | 0.02 | 0.00 | 0.00 | 0.00 | 0.02 | \n",
       "| Work.Status | 0    | 0.00 | 0.04 | 1.00 | 0.05 | 0.02 | 0.00 | 0.01 | 0.08 | 0.09 | 0.03 | 0.00 | 0.02 | \n",
       "| Education | 0    | 0.00 | 0.00 | 0.05 | 1.00 | 0.01 | 0.00 | 0.01 | 0.09 | 0.22 | 0.02 | 0.04 | 0.01 | \n",
       "| Age | 0    | 0.01 | 0.07 | 0.02 | 0.01 | 1.00 | 0.00 | 0.05 | 0.01 | 0.00 | 0.00 | 0.00 | 0.02 | \n",
       "| Location | 0    | 0.00 | 0.00 | 0.00 | 0.00 | 0.00 | 1.00 | 0.01 | 0.00 | 0.00 | 0.00 | 0.00 | 0.00 | \n",
       "| Purchasing.Decision.maker | 0    | 0.00 | 0.21 | 0.01 | 0.01 | 0.05 | 0.01 | 1.00 | 0.00 | 0.05 | 0.00 | 0.02 | 0.01 | \n",
       "| Purchasing.Location | 0    | 0.01 | 0.02 | 0.08 | 0.09 | 0.01 | 0.00 | 0.00 | 1.00 | 0.23 | 0.08 | 0.01 | 0.00 | \n",
       "| Monthly.Electronics.Spend | 0    | 0.01 | 0.00 | 0.09 | 0.22 | 0.00 | 0.00 | 0.05 | 0.23 | 1.00 | 0.08 | 0.06 | 0.00 | \n",
       "| Purchasing.Frequency..every.x.months. | 0    | 0.01 | 0.00 | 0.03 | 0.02 | 0.00 | 0.00 | 0.00 | 0.08 | 0.08 | 1.00 | 0.03 | 0.00 | \n",
       "| TV.Viewing..hours.day. | 0    | 0.00 | 0.00 | 0.00 | 0.04 | 0.00 | 0.00 | 0.02 | 0.01 | 0.06 | 0.03 | 1.00 | 0.01 | \n",
       "| Favorite.feature | 0    | 0.00 | 0.02 | 0.02 | 0.01 | 0.02 | 0.00 | 0.01 | 0.00 | 0.00 | 0.00 | 0.01 | 1.00 | \n",
       "\n",
       "\n"
      ],
      "text/plain": [
       "                                      X Gender Marital.Status Work.Status\n",
       "X                                     1 0.00   0.00           0.00       \n",
       "Gender                                0 1.00   0.00           0.00       \n",
       "Marital.Status                        0 0.00   1.00           0.04       \n",
       "Work.Status                           0 0.00   0.04           1.00       \n",
       "Education                             0 0.00   0.00           0.05       \n",
       "Age                                   0 0.01   0.07           0.02       \n",
       "Location                              0 0.00   0.00           0.00       \n",
       "Purchasing.Decision.maker             0 0.00   0.21           0.01       \n",
       "Purchasing.Location                   0 0.01   0.02           0.08       \n",
       "Monthly.Electronics.Spend             0 0.01   0.00           0.09       \n",
       "Purchasing.Frequency..every.x.months. 0 0.01   0.00           0.03       \n",
       "TV.Viewing..hours.day.                0 0.00   0.00           0.00       \n",
       "Favorite.feature                      0 0.00   0.02           0.02       \n",
       "                                      Education Age  Location\n",
       "X                                     0.00      0.00 0.00    \n",
       "Gender                                0.00      0.01 0.00    \n",
       "Marital.Status                        0.00      0.07 0.00    \n",
       "Work.Status                           0.05      0.02 0.00    \n",
       "Education                             1.00      0.01 0.00    \n",
       "Age                                   0.01      1.00 0.00    \n",
       "Location                              0.00      0.00 1.00    \n",
       "Purchasing.Decision.maker             0.01      0.05 0.01    \n",
       "Purchasing.Location                   0.09      0.01 0.00    \n",
       "Monthly.Electronics.Spend             0.22      0.00 0.00    \n",
       "Purchasing.Frequency..every.x.months. 0.02      0.00 0.00    \n",
       "TV.Viewing..hours.day.                0.04      0.00 0.00    \n",
       "Favorite.feature                      0.01      0.02 0.00    \n",
       "                                      Purchasing.Decision.maker\n",
       "X                                     0.00                     \n",
       "Gender                                0.00                     \n",
       "Marital.Status                        0.21                     \n",
       "Work.Status                           0.01                     \n",
       "Education                             0.01                     \n",
       "Age                                   0.05                     \n",
       "Location                              0.01                     \n",
       "Purchasing.Decision.maker             1.00                     \n",
       "Purchasing.Location                   0.00                     \n",
       "Monthly.Electronics.Spend             0.05                     \n",
       "Purchasing.Frequency..every.x.months. 0.00                     \n",
       "TV.Viewing..hours.day.                0.02                     \n",
       "Favorite.feature                      0.01                     \n",
       "                                      Purchasing.Location\n",
       "X                                     0.00               \n",
       "Gender                                0.01               \n",
       "Marital.Status                        0.02               \n",
       "Work.Status                           0.08               \n",
       "Education                             0.09               \n",
       "Age                                   0.01               \n",
       "Location                              0.00               \n",
       "Purchasing.Decision.maker             0.00               \n",
       "Purchasing.Location                   1.00               \n",
       "Monthly.Electronics.Spend             0.23               \n",
       "Purchasing.Frequency..every.x.months. 0.08               \n",
       "TV.Viewing..hours.day.                0.01               \n",
       "Favorite.feature                      0.00               \n",
       "                                      Monthly.Electronics.Spend\n",
       "X                                     0.00                     \n",
       "Gender                                0.01                     \n",
       "Marital.Status                        0.00                     \n",
       "Work.Status                           0.09                     \n",
       "Education                             0.22                     \n",
       "Age                                   0.00                     \n",
       "Location                              0.00                     \n",
       "Purchasing.Decision.maker             0.05                     \n",
       "Purchasing.Location                   0.23                     \n",
       "Monthly.Electronics.Spend             1.00                     \n",
       "Purchasing.Frequency..every.x.months. 0.08                     \n",
       "TV.Viewing..hours.day.                0.06                     \n",
       "Favorite.feature                      0.00                     \n",
       "                                      Purchasing.Frequency..every.x.months.\n",
       "X                                     0.00                                 \n",
       "Gender                                0.01                                 \n",
       "Marital.Status                        0.00                                 \n",
       "Work.Status                           0.03                                 \n",
       "Education                             0.02                                 \n",
       "Age                                   0.00                                 \n",
       "Location                              0.00                                 \n",
       "Purchasing.Decision.maker             0.00                                 \n",
       "Purchasing.Location                   0.08                                 \n",
       "Monthly.Electronics.Spend             0.08                                 \n",
       "Purchasing.Frequency..every.x.months. 1.00                                 \n",
       "TV.Viewing..hours.day.                0.03                                 \n",
       "Favorite.feature                      0.00                                 \n",
       "                                      TV.Viewing..hours.day. Favorite.feature\n",
       "X                                     0.00                   0.00            \n",
       "Gender                                0.00                   0.00            \n",
       "Marital.Status                        0.00                   0.02            \n",
       "Work.Status                           0.00                   0.02            \n",
       "Education                             0.04                   0.01            \n",
       "Age                                   0.00                   0.02            \n",
       "Location                              0.00                   0.00            \n",
       "Purchasing.Decision.maker             0.02                   0.01            \n",
       "Purchasing.Location                   0.01                   0.00            \n",
       "Monthly.Electronics.Spend             0.06                   0.00            \n",
       "Purchasing.Frequency..every.x.months. 0.03                   0.00            \n",
       "TV.Viewing..hours.day.                1.00                   0.01            \n",
       "Favorite.feature                      0.01                   1.00            "
      ]
     },
     "metadata": {},
     "output_type": "display_data"
    }
   ],
   "source": [
    "res <- cor(data[,-2], use=\"complete.obs\", method=\"pearson\")^2\n",
    "round(res, 2)"
   ]
  },
  {
   "cell_type": "markdown",
   "metadata": {},
   "source": [
    "tech adoption and tv viewing hours\n",
    "\n",
    "monthly household spend and monthly electronics spend"
   ]
  },
  {
   "cell_type": "code",
   "execution_count": 15,
   "metadata": {
    "scrolled": true
   },
   "outputs": [
    {
     "name": "stdout",
     "output_type": "stream",
     "text": [
      "\n",
      "Call:\n",
      "lm(formula = Favorite.feature ~ Gender + Marital.Status + Work.Status + \n",
      "    Education + Age + Location + Purchasing.Decision.maker + \n",
      "    Purchasing.Location + Monthly.Electronics.Spend + Purchasing.Frequency..every.x.months. + \n",
      "    TV.Viewing..hours.day., data = data)\n",
      "\n",
      "Coefficients:\n",
      "                          (Intercept)                                 Gender  \n",
      "                            2.218e+00                             -5.178e-02  \n",
      "                       Marital.Status                            Work.Status  \n",
      "                           -2.470e-01                             -3.183e-01  \n",
      "                            Education                                    Age  \n",
      "                            4.506e-02                              7.665e-03  \n",
      "                             Location              Purchasing.Decision.maker  \n",
      "                            3.248e-03                             -2.088e-01  \n",
      "                  Purchasing.Location              Monthly.Electronics.Spend  \n",
      "                            2.440e-03                              1.239e-05  \n",
      "Purchasing.Frequency..every.x.months.                 TV.Viewing..hours.day.  \n",
      "                           -7.675e-03                             -4.032e-02  \n",
      "\n"
     ]
    }
   ],
   "source": [
    "fit1<-lm(Favorite.feature ~ Gender + Marital.Status + Work.Status + Education + Age + Location + Purchasing.Decision.maker + Purchasing.Location + Monthly.Electronics.Spend + Purchasing.Frequency..every.x.months. + TV.Viewing..hours.day., data=data,)\n",
    "print(fit1)"
   ]
  },
  {
   "cell_type": "code",
   "execution_count": 14,
   "metadata": {
    "scrolled": true
   },
   "outputs": [
    {
     "data": {
      "text/plain": [
       "\n",
       "Call:\n",
       "lm(formula = Favorite.feature ~ Gender + Marital.Status + Work.Status + \n",
       "    Education + Age + Location + Purchasing.Decision.maker + \n",
       "    Purchasing.Location + Monthly.Electronics.Spend + Purchasing.Frequency..every.x.months. + \n",
       "    TV.Viewing..hours.day., data = data)\n",
       "\n",
       "Residuals:\n",
       "    Min      1Q  Median      3Q     Max \n",
       "-2.7846 -0.6468  0.1213  1.0615  2.5770 \n",
       "\n",
       "Coefficients:\n",
       "                                        Estimate Std. Error t value Pr(>|t|)\n",
       "(Intercept)                            2.218e+00  2.581e-01   8.591  < 2e-16\n",
       "Gender                                -5.178e-02  9.211e-02  -0.562  0.57413\n",
       "Marital.Status                        -2.470e-01  1.173e-01  -2.106  0.03548\n",
       "Work.Status                           -3.183e-01  1.038e-01  -3.066  0.00223\n",
       "Education                              4.506e-02  4.058e-02   1.110  0.26712\n",
       "Age                                    7.665e-03  2.692e-03   2.847  0.00450\n",
       "Location                               3.248e-03  3.166e-03   1.026  0.30528\n",
       "Purchasing.Decision.maker             -2.088e-01  1.079e-01  -1.935  0.05324\n",
       "Purchasing.Location                    2.440e-03  4.573e-02   0.053  0.95746\n",
       "Monthly.Electronics.Spend              1.239e-05  3.664e-03   0.003  0.99730\n",
       "Purchasing.Frequency..every.x.months. -7.675e-03  3.539e-03  -2.169  0.03034\n",
       "TV.Viewing..hours.day.                -4.032e-02  1.732e-02  -2.327  0.02015\n",
       "                                         \n",
       "(Intercept)                           ***\n",
       "Gender                                   \n",
       "Marital.Status                        *  \n",
       "Work.Status                           ** \n",
       "Education                                \n",
       "Age                                   ** \n",
       "Location                                 \n",
       "Purchasing.Decision.maker             .  \n",
       "Purchasing.Location                      \n",
       "Monthly.Electronics.Spend                \n",
       "Purchasing.Frequency..every.x.months. *  \n",
       "TV.Viewing..hours.day.                *  \n",
       "---\n",
       "Signif. codes:  0 '***' 0.001 '**' 0.01 '*' 0.05 '.' 0.1 ' ' 1\n",
       "\n",
       "Residual standard error: 1.426 on 985 degrees of freedom\n",
       "Multiple R-squared:  0.06214,\tAdjusted R-squared:  0.05167 \n",
       "F-statistic: 5.933 on 11 and 985 DF,  p-value: 2.081e-09\n"
      ]
     },
     "metadata": {},
     "output_type": "display_data"
    }
   ],
   "source": [
    "summary(fit1)"
   ]
  },
  {
   "cell_type": "code",
   "execution_count": 17,
   "metadata": {
    "scrolled": true
   },
   "outputs": [
    {
     "name": "stdout",
     "output_type": "stream",
     "text": [
      "\n",
      "Call:\n",
      "lm(formula = Favorite.feature ~ Marital.Status + Work.Status + \n",
      "    Purchasing.Decision.maker, data = data)\n",
      "\n",
      "Coefficients:\n",
      "              (Intercept)             Marital.Status  \n",
      "                   2.4632                    -0.3325  \n",
      "              Work.Status  Purchasing.Decision.maker  \n",
      "                  -0.3206                    -0.1893  \n",
      "\n"
     ]
    }
   ],
   "source": [
    "fit2<-lm(Favorite.feature ~ Marital.Status + Work.Status + Purchasing.Decision.maker, data=data,)\n",
    "print(fit2)"
   ]
  },
  {
   "cell_type": "code",
   "execution_count": 18,
   "metadata": {},
   "outputs": [
    {
     "data": {
      "text/plain": [
       "\n",
       "Call:\n",
       "lm(formula = Favorite.feature ~ Marital.Status + Work.Status + \n",
       "    Purchasing.Decision.maker, data = data)\n",
       "\n",
       "Residuals:\n",
       "    Min      1Q  Median      3Q     Max \n",
       "-2.4632 -0.6207 -0.1425  1.1900  2.3793 \n",
       "\n",
       "Coefficients:\n",
       "                          Estimate Std. Error t value Pr(>|t|)    \n",
       "(Intercept)                2.46319    0.08481  29.044  < 2e-16 ***\n",
       "Marital.Status            -0.33252    0.11553  -2.878  0.00409 ** \n",
       "Work.Status               -0.32065    0.09731  -3.295  0.00102 ** \n",
       "Purchasing.Decision.maker -0.18931    0.10311  -1.836  0.06666 .  \n",
       "---\n",
       "Signif. codes:  0 '***' 0.001 '**' 0.01 '*' 0.05 '.' 0.1 ' ' 1\n",
       "\n",
       "Residual standard error: 1.44 on 993 degrees of freedom\n",
       "Multiple R-squared:  0.03651,\tAdjusted R-squared:  0.0336 \n",
       "F-statistic: 12.54 on 3 and 993 DF,  p-value: 4.714e-08\n"
      ]
     },
     "metadata": {},
     "output_type": "display_data"
    }
   ],
   "source": [
    "summary(fit2)"
   ]
  },
  {
   "cell_type": "code",
   "execution_count": 20,
   "metadata": {},
   "outputs": [
    {
     "name": "stdout",
     "output_type": "stream",
     "text": [
      "\n",
      "Call:\n",
      "lm(formula = Favorite.feature ~ Monthly.Electronics.Spend + Age + \n",
      "    Purchasing.Location + Location + Purchasing.Frequency..every.x.months., \n",
      "    data = data)\n",
      "\n",
      "Coefficients:\n",
      "                          (Intercept)              Monthly.Electronics.Spend  \n",
      "                             1.798525                              -0.004248  \n",
      "                                  Age                    Purchasing.Location  \n",
      "                             0.012037                              -0.017176  \n",
      "                             Location  Purchasing.Frequency..every.x.months.  \n",
      "                             0.002277                              -0.008432  \n",
      "\n"
     ]
    },
    {
     "data": {
      "text/plain": [
       "\n",
       "Call:\n",
       "lm(formula = Favorite.feature ~ Monthly.Electronics.Spend + Age + \n",
       "    Purchasing.Location + Location + Purchasing.Frequency..every.x.months., \n",
       "    data = data)\n",
       "\n",
       "Residuals:\n",
       "    Min      1Q  Median      3Q     Max \n",
       "-2.7005 -0.8987  0.0927  1.0936  2.4357 \n",
       "\n",
       "Coefficients:\n",
       "                                       Estimate Std. Error t value Pr(>|t|)    \n",
       "(Intercept)                            1.798525   0.208017   8.646  < 2e-16 ***\n",
       "Monthly.Electronics.Spend             -0.004248   0.003107  -1.367   0.1718    \n",
       "Age                                    0.012037   0.002586   4.655 3.68e-06 ***\n",
       "Purchasing.Location                   -0.017176   0.044528  -0.386   0.6998    \n",
       "Location                               0.002277   0.003190   0.714   0.4756    \n",
       "Purchasing.Frequency..every.x.months. -0.008432   0.003497  -2.411   0.0161 *  \n",
       "---\n",
       "Signif. codes:  0 '***' 0.001 '**' 0.01 '*' 0.05 '.' 0.1 ' ' 1\n",
       "\n",
       "Residual standard error: 1.446 on 991 degrees of freedom\n",
       "Multiple R-squared:  0.02969,\tAdjusted R-squared:  0.0248 \n",
       "F-statistic: 6.065 on 5 and 991 DF,  p-value: 1.532e-05\n"
      ]
     },
     "metadata": {},
     "output_type": "display_data"
    }
   ],
   "source": [
    "fit3<-lm(Favorite.feature ~ Monthly.Electronics.Spend + Age + Purchasing.Location + Location + Purchasing.Frequency..every.x.months., data=data,)\n",
    "print(fit3)\n",
    "summary(fit3)"
   ]
  },
  {
   "cell_type": "code",
   "execution_count": 21,
   "metadata": {},
   "outputs": [
    {
     "name": "stdout",
     "output_type": "stream",
     "text": [
      "\n",
      "Call:\n",
      "lm(formula = Favorite.feature ~ Work.Status + Age, data = data)\n",
      "\n",
      "Coefficients:\n",
      "(Intercept)  Work.Status          Age  \n",
      "    1.76550     -0.33420      0.01097  \n",
      "\n"
     ]
    },
    {
     "data": {
      "text/plain": [
       "\n",
       "Call:\n",
       "lm(formula = Favorite.feature ~ Work.Status + Age, data = data)\n",
       "\n",
       "Residuals:\n",
       "     Min       1Q   Median       3Q      Max \n",
       "-2.61037 -0.72755 -0.04575  1.15176  2.32732 \n",
       "\n",
       "Coefficients:\n",
       "             Estimate Std. Error t value Pr(>|t|)    \n",
       "(Intercept)  1.765495   0.154712  11.411  < 2e-16 ***\n",
       "Work.Status -0.334205   0.096733  -3.455 0.000574 ***\n",
       "Age          0.010972   0.002583   4.248 2.36e-05 ***\n",
       "---\n",
       "Signif. codes:  0 '***' 0.001 '**' 0.01 '*' 0.05 '.' 0.1 ' ' 1\n",
       "\n",
       "Residual standard error: 1.441 on 994 degrees of freedom\n",
       "Multiple R-squared:  0.03414,\tAdjusted R-squared:  0.0322 \n",
       "F-statistic: 17.57 on 2 and 994 DF,  p-value: 3.179e-08\n"
      ]
     },
     "metadata": {},
     "output_type": "display_data"
    }
   ],
   "source": [
    "fit4<-lm(Favorite.feature ~ Work.Status + Age, data=data,)\n",
    "print(fit4)\n",
    "summary(fit4)"
   ]
  },
  {
   "cell_type": "code",
   "execution_count": 11,
   "metadata": {
    "scrolled": true
   },
   "outputs": [
    {
     "name": "stdout",
     "output_type": "stream",
     "text": [
      "\n",
      "Call:\n",
      "lm(formula = Favorite.feature ~ Purchasing.Location + Monthly.Electronics.Spend + \n",
      "    Purchasing.Location * Monthly.Electronics.Spend, data = data)\n",
      "\n",
      "Coefficients:\n",
      "                                  (Intercept)  \n",
      "                                      2.73596  \n",
      "                          Purchasing.Location  \n",
      "                                     -0.31340  \n",
      "                    Monthly.Electronics.Spend  \n",
      "                                     -0.02441  \n",
      "Purchasing.Location:Monthly.Electronics.Spend  \n",
      "                                      0.01011  \n",
      "\n"
     ]
    }
   ],
   "source": [
    "fit<-lm(Favorite.feature ~ Purchasing.Location + Monthly.Electronics.Spend + Purchasing.Location*Monthly.Electronics.Spend, data=data,)\n",
    "print(fit)"
   ]
  },
  {
   "cell_type": "code",
   "execution_count": 12,
   "metadata": {},
   "outputs": [
    {
     "data": {
      "text/plain": [
       "\n",
       "Call:\n",
       "lm(formula = Favorite.feature ~ Purchasing.Location + Monthly.Electronics.Spend + \n",
       "    Purchasing.Location * Monthly.Electronics.Spend, data = data)\n",
       "\n",
       "Residuals:\n",
       "    Min      1Q  Median      3Q     Max \n",
       "-2.5651 -1.0281  0.2208  0.9704  2.0038 \n",
       "\n",
       "Coefficients:\n",
       "                                               Estimate Std. Error t value\n",
       "(Intercept)                                    2.735964   0.172616  15.850\n",
       "Purchasing.Location                           -0.313395   0.088269  -3.550\n",
       "Monthly.Electronics.Spend                     -0.024408   0.006478  -3.768\n",
       "Purchasing.Location:Monthly.Electronics.Spend  0.010111   0.002654   3.810\n",
       "                                              Pr(>|t|)    \n",
       "(Intercept)                                    < 2e-16 ***\n",
       "Purchasing.Location                           0.000403 ***\n",
       "Monthly.Electronics.Spend                     0.000174 ***\n",
       "Purchasing.Location:Monthly.Electronics.Spend 0.000148 ***\n",
       "---\n",
       "Signif. codes:  0 '***' 0.001 '**' 0.01 '*' 0.05 '.' 0.1 ' ' 1\n",
       "\n",
       "Residual standard error: 1.455 on 993 degrees of freedom\n",
       "Multiple R-squared:  0.01619,\tAdjusted R-squared:  0.01322 \n",
       "F-statistic: 5.448 on 3 and 993 DF,  p-value: 0.001023\n"
      ]
     },
     "metadata": {},
     "output_type": "display_data"
    }
   ],
   "source": [
    "summary(fit)"
   ]
  },
  {
   "cell_type": "markdown",
   "metadata": {},
   "source": [
    "### Residuals\n",
    "fairly symetrical, looks like a good fit\n",
    "\n",
    "### Coefficients\n",
    "average buyer behavior ~2.74\n",
    "for each change in purchasing location, theres ~.31 change in fav feature\n",
    "for each change in monthly spend theres only .02 change\n",
    "\n",
    "###  variance\n",
    "r squared is low: only explains 1% of variance\n",
    "\n",
    "f statistic = pretty low statistical sign, p value super low tho."
   ]
  },
  {
   "cell_type": "code",
   "execution_count": 13,
   "metadata": {},
   "outputs": [
    {
     "data": {
      "image/png": "[encoded data removed]",
      "text/plain": [
       "plot without title"
      ]
     },
     "metadata": {},
     "output_type": "display_data"
    }
   ],
   "source": [
    "pairs(data)"
   ]
  },
  {
   "cell_type": "markdown",
   "metadata": {},
   "source": [
    "ok so we know that only location education age matters"
   ]
  },
  {
   "cell_type": "markdown",
   "metadata": {},
   "source": [
    "- similar attitudes but not enough to be useful\n",
    "\n",
    "- have to see if people who like the product could afford it and using it would satisfy them\n",
    "\n",
    "- interested but not early adopters?"
   ]
  },
  {
   "cell_type": "markdown",
   "metadata": {},
   "source": [
    "- willingness to buy\n",
    "\n",
    "- ability to pay"
   ]
  },
  {
   "cell_type": "markdown",
   "metadata": {},
   "source": [
    "What makes good segment\n",
    "Can actually do stuff with: actionable segment\n",
    "How much does this segment overlap with other segments\n",
    "More distinct (in terms of actions you’re gonna take)\n",
    "Less fluffy!\n",
    "More specific, better marketing\n",
    "We want things that scale\n",
    "If they’re not at the scale we need: not valuable\n",
    "CLV\n",
    "Not a great way of segmenting, but a good way to evaluate segments\n",
    "What makes good market research process\n",
    "Data roadmap is very useful\n",
    "Expand it out into how you design the study\n",
    "Knowing question \n",
    "What do we already know about the q and is there a model i can use? \n",
    "Anything to build of off?\n",
    "Knowing the landscape\n",
    "How does your q fit into what we know\n",
    "Narrowing: I know whats out there: heres what i need to know specifically\n",
    "Design study w analysis in mind\n",
    "You need to know what analysis you want to collect the data you neeed\n",
    "How you need to analyze changes how you collect\n",
    "Wrangling\n",
    "Thought that goes into it before you even start doing anything\n",
    "Knowing analysis before-hand\n",
    "Making sure it can answer q you care about\n"
   ]
  },
  {
   "cell_type": "markdown",
   "metadata": {},
   "source": [
    "SEGMENTATION BASED ON ATTITUDE\n",
    "\n",
    "1) Favorite feature: 4 segments\n",
    "\n",
    "np.\n",
    "Market size (% of TV-involved households)\n",
    "Average annual income\n",
    "Description of segment\n",
    "Most appealing feature/benefit \n",
    "Stores shopped for electronics\n",
    "Average electronics purchase ($)\n",
    "\n",
    "2) Tech adoption: 8 segments\n"
   ]
  },
  {
   "cell_type": "markdown",
   "metadata": {},
   "source": [
    "# segmenting based on fav feature"
   ]
  },
  {
   "cell_type": "code",
   "execution_count": null,
   "metadata": {},
   "outputs": [],
   "source": [
    "data.l"
   ]
  }
 ],
 "metadata": {
  "kernelspec": {
   "display_name": "R",
   "language": "R",
   "name": "ir"
  },
  "language_info": {
   "codemirror_mode": "r",
   "file_extension": ".r",
   "mimetype": "text/x-r-source",
   "name": "R",
   "pygments_lexer": "r",
   "version": "3.5.1"
  }
 },
 "nbformat": 4,
 "nbformat_minor": 2
}
