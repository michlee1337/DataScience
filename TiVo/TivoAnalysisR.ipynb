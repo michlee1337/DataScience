{
 "cells": [
  {
   "cell_type": "code",
   "execution_count": 2,
   "metadata": {},
   "outputs": [],
   "source": [
    "data = read.table(\"codedTivo.csv\",header=TRUE,sep=\",\")"
   ]
  },
  {
   "cell_type": "code",
   "execution_count": 3,
   "metadata": {},
   "outputs": [
    {
     "data": {
      "text/plain": [
       "       X                ID             Gender        Marital.Status   \n",
       " Min.   :   0.0   Min.   :   1.0   Min.   :-1.0000   Min.   :-1.0000  \n",
       " 1st Qu.: 250.5   1st Qu.: 250.8   1st Qu.: 0.0000   1st Qu.: 0.0000  \n",
       " Median : 501.0   Median : 500.5   Median : 1.0000   Median : 0.0000  \n",
       " Mean   : 501.0   Mean   : 500.5   Mean   : 0.5304   Mean   : 0.2762  \n",
       " 3rd Qu.: 751.5   3rd Qu.: 750.2   3rd Qu.: 1.0000   3rd Qu.: 1.0000  \n",
       " Max.   :1002.0   Max.   :1000.0   Max.   : 1.0000   Max.   : 1.0000  \n",
       "                  NA's   :3                                           \n",
       "  Work.Status        Education      Annual.Income..x1000...      Age       \n",
       " Min.   :-1.0000   Min.   :-1.000   Min.   : 21.00          Min.   :18.00  \n",
       " 1st Qu.: 0.0000   1st Qu.: 0.000   1st Qu.: 29.00          1st Qu.:32.00  \n",
       " Median : 1.0000   Median : 3.000   Median : 33.00          Median :49.00  \n",
       " Mean   : 0.6451   Mean   : 1.853   Mean   : 39.68          Mean   :48.35  \n",
       " 3rd Qu.: 1.0000   3rd Qu.: 3.000   3rd Qu.: 48.75          3rd Qu.:63.00  \n",
       " Max.   : 1.0000   Max.   : 3.000   Max.   :730.00          Max.   :80.00  \n",
       "                                    NA's   :1               NA's   :1      \n",
       "    Location     Purchasing.Decision.maker Purchasing.Location\n",
       " Min.   :-1.00   Min.   :-1.0000           Min.   :-1.000     \n",
       " 1st Qu.: 8.00   1st Qu.: 0.0000           1st Qu.: 0.000     \n",
       " Median :19.00   Median : 0.0000           Median : 2.000     \n",
       " Mean   :21.61   Mean   : 0.4357           Mean   : 1.463     \n",
       " 3rd Qu.:35.50   3rd Qu.: 1.0000           3rd Qu.: 2.000     \n",
       " Max.   :49.00   Max.   : 1.0000           Max.   : 4.000     \n",
       "                                                              \n",
       " Monthly.Electronics.Spend Monthly.Household.Spend\n",
       " Min.   : 7.00             Min.   : 10.00         \n",
       " 1st Qu.:17.00             1st Qu.: 47.00         \n",
       " Median :25.50             Median : 73.00         \n",
       " Mean   :30.96             Mean   : 94.24         \n",
       " 3rd Qu.:42.00             3rd Qu.:124.00         \n",
       " Max.   :88.00             Max.   :390.00         \n",
       " NA's   :3                 NA's   :3              \n",
       " Purchasing.Frequency..every.x.months. Technology.Adoption\n",
       " Min.   : 1.00                         Min.   :-1.0000    \n",
       " 1st Qu.:11.00                         1st Qu.: 0.0000    \n",
       " Median :22.00                         Median : 0.0000    \n",
       " Mean   :22.99                         Mean   : 0.1964    \n",
       " 3rd Qu.:35.00                         3rd Qu.: 0.0000    \n",
       " Max.   :48.00                         Max.   : 1.0000    \n",
       " NA's   :3                                                \n",
       " TV.Viewing..hours.day. Favorite.feature\n",
       " Min.   : 0.00          Min.   :-1.000  \n",
       " 1st Qu.: 1.00          1st Qu.: 1.000  \n",
       " Median : 1.00          Median : 2.000  \n",
       " Mean   : 2.37          Mean   : 2.068  \n",
       " 3rd Qu.: 2.00          3rd Qu.: 3.000  \n",
       " Max.   :14.00          Max.   : 4.000  \n",
       " NA's   :3                              "
      ]
     },
     "metadata": {},
     "output_type": "display_data"
    }
   ],
   "source": [
    "summary(data)"
   ]
  },
  {
   "cell_type": "code",
   "execution_count": 7,
   "metadata": {
    "scrolled": false
   },
   "outputs": [
    {
     "data": {
      "text/html": [
       "<table>\n",
       "<thead><tr><th></th><th scope=col>X</th><th scope=col>Gender</th><th scope=col>Marital.Status</th><th scope=col>Work.Status</th><th scope=col>Education</th><th scope=col>Annual.Income..x1000...</th><th scope=col>Age</th><th scope=col>Location</th><th scope=col>Purchasing.Decision.maker</th><th scope=col>Purchasing.Location</th><th scope=col>Monthly.Electronics.Spend</th><th scope=col>Monthly.Household.Spend</th><th scope=col>Purchasing.Frequency..every.x.months.</th><th scope=col>Technology.Adoption</th><th scope=col>TV.Viewing..hours.day.</th><th scope=col>Favorite.feature</th></tr></thead>\n",
       "<tbody>\n",
       "\t<tr><th scope=row>X</th><td> 1.00</td><td> 0.04</td><td>-0.04</td><td> 0.00</td><td>-0.03</td><td>NA   </td><td>NA   </td><td>-0.01</td><td> 0.00</td><td>-0.05</td><td>NA   </td><td>NA   </td><td>NA   </td><td>-0.02</td><td>NA   </td><td> 0.04</td></tr>\n",
       "\t<tr><th scope=row>Gender</th><td> 0.04</td><td> 1.00</td><td>-0.03</td><td> 0.07</td><td>-0.03</td><td>NA   </td><td>NA   </td><td> 0.02</td><td>-0.01</td><td> 0.09</td><td>NA   </td><td>NA   </td><td>NA   </td><td>-0.04</td><td>NA   </td><td> 0.02</td></tr>\n",
       "\t<tr><th scope=row>Marital.Status</th><td>-0.04</td><td>-0.03</td><td> 1.00</td><td> 0.21</td><td>-0.02</td><td>NA   </td><td>NA   </td><td> 0.08</td><td> 0.47</td><td> 0.14</td><td>NA   </td><td>NA   </td><td>NA   </td><td>-0.17</td><td>NA   </td><td>-0.13</td></tr>\n",
       "\t<tr><th scope=row>Work.Status</th><td> 0.00</td><td> 0.07</td><td> 0.21</td><td> 1.00</td><td>-0.18</td><td>NA   </td><td>NA   </td><td> 0.04</td><td> 0.11</td><td> 0.30</td><td>NA   </td><td>NA   </td><td>NA   </td><td>-0.12</td><td>NA   </td><td>-0.10</td></tr>\n",
       "\t<tr><th scope=row>Education</th><td>-0.03</td><td>-0.03</td><td>-0.02</td><td>-0.18</td><td> 1.00</td><td>NA   </td><td>NA   </td><td> 0.01</td><td> 0.11</td><td>-0.28</td><td>NA   </td><td>NA   </td><td>NA   </td><td>-0.12</td><td>NA   </td><td> 0.09</td></tr>\n",
       "\t<tr><th scope=row>Annual.Income..x1000...</th><td>   NA</td><td>   NA</td><td>   NA</td><td>   NA</td><td>   NA</td><td> 1   </td><td>NA   </td><td>   NA</td><td>   NA</td><td>   NA</td><td>NA   </td><td>NA   </td><td>NA   </td><td>   NA</td><td>NA   </td><td>   NA</td></tr>\n",
       "\t<tr><th scope=row>Age</th><td>   NA</td><td>   NA</td><td>   NA</td><td>   NA</td><td>   NA</td><td>NA   </td><td> 1   </td><td>   NA</td><td>   NA</td><td>   NA</td><td>NA   </td><td>NA   </td><td>NA   </td><td>   NA</td><td>NA   </td><td>   NA</td></tr>\n",
       "\t<tr><th scope=row>Location</th><td>-0.01</td><td> 0.02</td><td> 0.08</td><td> 0.04</td><td> 0.01</td><td>NA   </td><td>NA   </td><td> 1.00</td><td> 0.12</td><td> 0.05</td><td>NA   </td><td>NA   </td><td>NA   </td><td>-0.05</td><td>NA   </td><td> 0.02</td></tr>\n",
       "\t<tr><th scope=row>Purchasing.Decision.maker</th><td> 0.00</td><td>-0.01</td><td> 0.47</td><td> 0.11</td><td> 0.11</td><td>NA   </td><td>NA   </td><td> 0.12</td><td> 1.00</td><td> 0.02</td><td>NA   </td><td>NA   </td><td>NA   </td><td>-0.31</td><td>NA   </td><td>-0.10</td></tr>\n",
       "\t<tr><th scope=row>Purchasing.Location</th><td>-0.05</td><td> 0.09</td><td> 0.14</td><td> 0.30</td><td>-0.28</td><td>NA   </td><td>NA   </td><td> 0.05</td><td> 0.02</td><td> 1.00</td><td>NA   </td><td>NA   </td><td>NA   </td><td>-0.17</td><td>NA   </td><td>-0.02</td></tr>\n",
       "\t<tr><th scope=row>Monthly.Electronics.Spend</th><td>   NA</td><td>   NA</td><td>   NA</td><td>   NA</td><td>   NA</td><td>NA   </td><td>NA   </td><td>   NA</td><td>   NA</td><td>   NA</td><td> 1   </td><td>NA   </td><td>NA   </td><td>   NA</td><td>NA   </td><td>   NA</td></tr>\n",
       "\t<tr><th scope=row>Monthly.Household.Spend</th><td>   NA</td><td>   NA</td><td>   NA</td><td>   NA</td><td>   NA</td><td>NA   </td><td>NA   </td><td>   NA</td><td>   NA</td><td>   NA</td><td>NA   </td><td> 1   </td><td>NA   </td><td>   NA</td><td>NA   </td><td>   NA</td></tr>\n",
       "\t<tr><th scope=row>Purchasing.Frequency..every.x.months.</th><td>   NA</td><td>   NA</td><td>   NA</td><td>   NA</td><td>   NA</td><td>NA   </td><td>NA   </td><td>   NA</td><td>   NA</td><td>   NA</td><td>NA   </td><td>NA   </td><td> 1   </td><td>   NA</td><td>NA   </td><td>   NA</td></tr>\n",
       "\t<tr><th scope=row>Technology.Adoption</th><td>-0.02</td><td>-0.04</td><td>-0.17</td><td>-0.12</td><td>-0.12</td><td>NA   </td><td>NA   </td><td>-0.05</td><td>-0.31</td><td>-0.17</td><td>NA   </td><td>NA   </td><td>NA   </td><td> 1.00</td><td>NA   </td><td>-0.01</td></tr>\n",
       "\t<tr><th scope=row>TV.Viewing..hours.day.</th><td>   NA</td><td>   NA</td><td>   NA</td><td>   NA</td><td>   NA</td><td>NA   </td><td>NA   </td><td>   NA</td><td>   NA</td><td>   NA</td><td>NA   </td><td>NA   </td><td>NA   </td><td>   NA</td><td> 1   </td><td>   NA</td></tr>\n",
       "\t<tr><th scope=row>Favorite.feature</th><td> 0.04</td><td> 0.02</td><td>-0.13</td><td>-0.10</td><td> 0.09</td><td>NA   </td><td>NA   </td><td> 0.02</td><td>-0.10</td><td>-0.02</td><td>NA   </td><td>NA   </td><td>NA   </td><td>-0.01</td><td>NA   </td><td> 1.00</td></tr>\n",
       "</tbody>\n",
       "</table>\n"
      ],
      "text/latex": [
       "\\begin{tabular}{r|llllllllllllllll}\n",
       "  & X & Gender & Marital.Status & Work.Status & Education & Annual.Income..x1000... & Age & Location & Purchasing.Decision.maker & Purchasing.Location & Monthly.Electronics.Spend & Monthly.Household.Spend & Purchasing.Frequency..every.x.months. & Technology.Adoption & TV.Viewing..hours.day. & Favorite.feature\\\\\n",
       "\\hline\n",
       "\tX &  1.00 &  0.04 & -0.04 &  0.00 & -0.03 & NA    & NA    & -0.01 &  0.00 & -0.05 & NA    & NA    & NA    & -0.02 & NA    &  0.04\\\\\n",
       "\tGender &  0.04 &  1.00 & -0.03 &  0.07 & -0.03 & NA    & NA    &  0.02 & -0.01 &  0.09 & NA    & NA    & NA    & -0.04 & NA    &  0.02\\\\\n",
       "\tMarital.Status & -0.04 & -0.03 &  1.00 &  0.21 & -0.02 & NA    & NA    &  0.08 &  0.47 &  0.14 & NA    & NA    & NA    & -0.17 & NA    & -0.13\\\\\n",
       "\tWork.Status &  0.00 &  0.07 &  0.21 &  1.00 & -0.18 & NA    & NA    &  0.04 &  0.11 &  0.30 & NA    & NA    & NA    & -0.12 & NA    & -0.10\\\\\n",
       "\tEducation & -0.03 & -0.03 & -0.02 & -0.18 &  1.00 & NA    & NA    &  0.01 &  0.11 & -0.28 & NA    & NA    & NA    & -0.12 & NA    &  0.09\\\\\n",
       "\tAnnual.Income..x1000... &    NA &    NA &    NA &    NA &    NA &  1    & NA    &    NA &    NA &    NA & NA    & NA    & NA    &    NA & NA    &    NA\\\\\n",
       "\tAge &    NA &    NA &    NA &    NA &    NA & NA    &  1    &    NA &    NA &    NA & NA    & NA    & NA    &    NA & NA    &    NA\\\\\n",
       "\tLocation & -0.01 &  0.02 &  0.08 &  0.04 &  0.01 & NA    & NA    &  1.00 &  0.12 &  0.05 & NA    & NA    & NA    & -0.05 & NA    &  0.02\\\\\n",
       "\tPurchasing.Decision.maker &  0.00 & -0.01 &  0.47 &  0.11 &  0.11 & NA    & NA    &  0.12 &  1.00 &  0.02 & NA    & NA    & NA    & -0.31 & NA    & -0.10\\\\\n",
       "\tPurchasing.Location & -0.05 &  0.09 &  0.14 &  0.30 & -0.28 & NA    & NA    &  0.05 &  0.02 &  1.00 & NA    & NA    & NA    & -0.17 & NA    & -0.02\\\\\n",
       "\tMonthly.Electronics.Spend &    NA &    NA &    NA &    NA &    NA & NA    & NA    &    NA &    NA &    NA &  1    & NA    & NA    &    NA & NA    &    NA\\\\\n",
       "\tMonthly.Household.Spend &    NA &    NA &    NA &    NA &    NA & NA    & NA    &    NA &    NA &    NA & NA    &  1    & NA    &    NA & NA    &    NA\\\\\n",
       "\tPurchasing.Frequency..every.x.months. &    NA &    NA &    NA &    NA &    NA & NA    & NA    &    NA &    NA &    NA & NA    & NA    &  1    &    NA & NA    &    NA\\\\\n",
       "\tTechnology.Adoption & -0.02 & -0.04 & -0.17 & -0.12 & -0.12 & NA    & NA    & -0.05 & -0.31 & -0.17 & NA    & NA    & NA    &  1.00 & NA    & -0.01\\\\\n",
       "\tTV.Viewing..hours.day. &    NA &    NA &    NA &    NA &    NA & NA    & NA    &    NA &    NA &    NA & NA    & NA    & NA    &    NA &  1    &    NA\\\\\n",
       "\tFavorite.feature &  0.04 &  0.02 & -0.13 & -0.10 &  0.09 & NA    & NA    &  0.02 & -0.10 & -0.02 & NA    & NA    & NA    & -0.01 & NA    &  1.00\\\\\n",
       "\\end{tabular}\n"
      ],
      "text/markdown": [
       "\n",
       "| <!--/--> | X | Gender | Marital.Status | Work.Status | Education | Annual.Income..x1000... | Age | Location | Purchasing.Decision.maker | Purchasing.Location | Monthly.Electronics.Spend | Monthly.Household.Spend | Purchasing.Frequency..every.x.months. | Technology.Adoption | TV.Viewing..hours.day. | Favorite.feature | \n",
       "|---|---|---|---|---|---|---|---|---|---|---|---|---|---|---|---|\n",
       "| X |  1.00 |  0.04 | -0.04 |  0.00 | -0.03 | NA    | NA    | -0.01 |  0.00 | -0.05 | NA    | NA    | NA    | -0.02 | NA    |  0.04 | \n",
       "| Gender |  0.04 |  1.00 | -0.03 |  0.07 | -0.03 | NA    | NA    |  0.02 | -0.01 |  0.09 | NA    | NA    | NA    | -0.04 | NA    |  0.02 | \n",
       "| Marital.Status | -0.04 | -0.03 |  1.00 |  0.21 | -0.02 | NA    | NA    |  0.08 |  0.47 |  0.14 | NA    | NA    | NA    | -0.17 | NA    | -0.13 | \n",
       "| Work.Status |  0.00 |  0.07 |  0.21 |  1.00 | -0.18 | NA    | NA    |  0.04 |  0.11 |  0.30 | NA    | NA    | NA    | -0.12 | NA    | -0.10 | \n",
       "| Education | -0.03 | -0.03 | -0.02 | -0.18 |  1.00 | NA    | NA    |  0.01 |  0.11 | -0.28 | NA    | NA    | NA    | -0.12 | NA    |  0.09 | \n",
       "| Annual.Income..x1000... |    NA |    NA |    NA |    NA |    NA |  1    | NA    |    NA |    NA |    NA | NA    | NA    | NA    |    NA | NA    |    NA | \n",
       "| Age |    NA |    NA |    NA |    NA |    NA | NA    |  1    |    NA |    NA |    NA | NA    | NA    | NA    |    NA | NA    |    NA | \n",
       "| Location | -0.01 |  0.02 |  0.08 |  0.04 |  0.01 | NA    | NA    |  1.00 |  0.12 |  0.05 | NA    | NA    | NA    | -0.05 | NA    |  0.02 | \n",
       "| Purchasing.Decision.maker |  0.00 | -0.01 |  0.47 |  0.11 |  0.11 | NA    | NA    |  0.12 |  1.00 |  0.02 | NA    | NA    | NA    | -0.31 | NA    | -0.10 | \n",
       "| Purchasing.Location | -0.05 |  0.09 |  0.14 |  0.30 | -0.28 | NA    | NA    |  0.05 |  0.02 |  1.00 | NA    | NA    | NA    | -0.17 | NA    | -0.02 | \n",
       "| Monthly.Electronics.Spend |    NA |    NA |    NA |    NA |    NA | NA    | NA    |    NA |    NA |    NA |  1    | NA    | NA    |    NA | NA    |    NA | \n",
       "| Monthly.Household.Spend |    NA |    NA |    NA |    NA |    NA | NA    | NA    |    NA |    NA |    NA | NA    |  1    | NA    |    NA | NA    |    NA | \n",
       "| Purchasing.Frequency..every.x.months. |    NA |    NA |    NA |    NA |    NA | NA    | NA    |    NA |    NA |    NA | NA    | NA    |  1    |    NA | NA    |    NA | \n",
       "| Technology.Adoption | -0.02 | -0.04 | -0.17 | -0.12 | -0.12 | NA    | NA    | -0.05 | -0.31 | -0.17 | NA    | NA    | NA    |  1.00 | NA    | -0.01 | \n",
       "| TV.Viewing..hours.day. |    NA |    NA |    NA |    NA |    NA | NA    | NA    |    NA |    NA |    NA | NA    | NA    | NA    |    NA |  1    |    NA | \n",
       "| Favorite.feature |  0.04 |  0.02 | -0.13 | -0.10 |  0.09 | NA    | NA    |  0.02 | -0.10 | -0.02 | NA    | NA    | NA    | -0.01 | NA    |  1.00 | \n",
       "\n",
       "\n"
      ],
      "text/plain": [
       "                                      X     Gender Marital.Status Work.Status\n",
       "X                                      1.00  0.04  -0.04           0.00      \n",
       "Gender                                 0.04  1.00  -0.03           0.07      \n",
       "Marital.Status                        -0.04 -0.03   1.00           0.21      \n",
       "Work.Status                            0.00  0.07   0.21           1.00      \n",
       "Education                             -0.03 -0.03  -0.02          -0.18      \n",
       "Annual.Income..x1000...                  NA    NA     NA             NA      \n",
       "Age                                      NA    NA     NA             NA      \n",
       "Location                              -0.01  0.02   0.08           0.04      \n",
       "Purchasing.Decision.maker              0.00 -0.01   0.47           0.11      \n",
       "Purchasing.Location                   -0.05  0.09   0.14           0.30      \n",
       "Monthly.Electronics.Spend                NA    NA     NA             NA      \n",
       "Monthly.Household.Spend                  NA    NA     NA             NA      \n",
       "Purchasing.Frequency..every.x.months.    NA    NA     NA             NA      \n",
       "Technology.Adoption                   -0.02 -0.04  -0.17          -0.12      \n",
       "TV.Viewing..hours.day.                   NA    NA     NA             NA      \n",
       "Favorite.feature                       0.04  0.02  -0.13          -0.10      \n",
       "                                      Education Annual.Income..x1000... Age\n",
       "X                                     -0.03     NA                      NA \n",
       "Gender                                -0.03     NA                      NA \n",
       "Marital.Status                        -0.02     NA                      NA \n",
       "Work.Status                           -0.18     NA                      NA \n",
       "Education                              1.00     NA                      NA \n",
       "Annual.Income..x1000...                  NA      1                      NA \n",
       "Age                                      NA     NA                       1 \n",
       "Location                               0.01     NA                      NA \n",
       "Purchasing.Decision.maker              0.11     NA                      NA \n",
       "Purchasing.Location                   -0.28     NA                      NA \n",
       "Monthly.Electronics.Spend                NA     NA                      NA \n",
       "Monthly.Household.Spend                  NA     NA                      NA \n",
       "Purchasing.Frequency..every.x.months.    NA     NA                      NA \n",
       "Technology.Adoption                   -0.12     NA                      NA \n",
       "TV.Viewing..hours.day.                   NA     NA                      NA \n",
       "Favorite.feature                       0.09     NA                      NA \n",
       "                                      Location Purchasing.Decision.maker\n",
       "X                                     -0.01     0.00                    \n",
       "Gender                                 0.02    -0.01                    \n",
       "Marital.Status                         0.08     0.47                    \n",
       "Work.Status                            0.04     0.11                    \n",
       "Education                              0.01     0.11                    \n",
       "Annual.Income..x1000...                  NA       NA                    \n",
       "Age                                      NA       NA                    \n",
       "Location                               1.00     0.12                    \n",
       "Purchasing.Decision.maker              0.12     1.00                    \n",
       "Purchasing.Location                    0.05     0.02                    \n",
       "Monthly.Electronics.Spend                NA       NA                    \n",
       "Monthly.Household.Spend                  NA       NA                    \n",
       "Purchasing.Frequency..every.x.months.    NA       NA                    \n",
       "Technology.Adoption                   -0.05    -0.31                    \n",
       "TV.Viewing..hours.day.                   NA       NA                    \n",
       "Favorite.feature                       0.02    -0.10                    \n",
       "                                      Purchasing.Location\n",
       "X                                     -0.05              \n",
       "Gender                                 0.09              \n",
       "Marital.Status                         0.14              \n",
       "Work.Status                            0.30              \n",
       "Education                             -0.28              \n",
       "Annual.Income..x1000...                  NA              \n",
       "Age                                      NA              \n",
       "Location                               0.05              \n",
       "Purchasing.Decision.maker              0.02              \n",
       "Purchasing.Location                    1.00              \n",
       "Monthly.Electronics.Spend                NA              \n",
       "Monthly.Household.Spend                  NA              \n",
       "Purchasing.Frequency..every.x.months.    NA              \n",
       "Technology.Adoption                   -0.17              \n",
       "TV.Viewing..hours.day.                   NA              \n",
       "Favorite.feature                      -0.02              \n",
       "                                      Monthly.Electronics.Spend\n",
       "X                                     NA                       \n",
       "Gender                                NA                       \n",
       "Marital.Status                        NA                       \n",
       "Work.Status                           NA                       \n",
       "Education                             NA                       \n",
       "Annual.Income..x1000...               NA                       \n",
       "Age                                   NA                       \n",
       "Location                              NA                       \n",
       "Purchasing.Decision.maker             NA                       \n",
       "Purchasing.Location                   NA                       \n",
       "Monthly.Electronics.Spend              1                       \n",
       "Monthly.Household.Spend               NA                       \n",
       "Purchasing.Frequency..every.x.months. NA                       \n",
       "Technology.Adoption                   NA                       \n",
       "TV.Viewing..hours.day.                NA                       \n",
       "Favorite.feature                      NA                       \n",
       "                                      Monthly.Household.Spend\n",
       "X                                     NA                     \n",
       "Gender                                NA                     \n",
       "Marital.Status                        NA                     \n",
       "Work.Status                           NA                     \n",
       "Education                             NA                     \n",
       "Annual.Income..x1000...               NA                     \n",
       "Age                                   NA                     \n",
       "Location                              NA                     \n",
       "Purchasing.Decision.maker             NA                     \n",
       "Purchasing.Location                   NA                     \n",
       "Monthly.Electronics.Spend             NA                     \n",
       "Monthly.Household.Spend                1                     \n",
       "Purchasing.Frequency..every.x.months. NA                     \n",
       "Technology.Adoption                   NA                     \n",
       "TV.Viewing..hours.day.                NA                     \n",
       "Favorite.feature                      NA                     \n",
       "                                      Purchasing.Frequency..every.x.months.\n",
       "X                                     NA                                   \n",
       "Gender                                NA                                   \n",
       "Marital.Status                        NA                                   \n",
       "Work.Status                           NA                                   \n",
       "Education                             NA                                   \n",
       "Annual.Income..x1000...               NA                                   \n",
       "Age                                   NA                                   \n",
       "Location                              NA                                   \n",
       "Purchasing.Decision.maker             NA                                   \n",
       "Purchasing.Location                   NA                                   \n",
       "Monthly.Electronics.Spend             NA                                   \n",
       "Monthly.Household.Spend               NA                                   \n",
       "Purchasing.Frequency..every.x.months.  1                                   \n",
       "Technology.Adoption                   NA                                   \n",
       "TV.Viewing..hours.day.                NA                                   \n",
       "Favorite.feature                      NA                                   \n",
       "                                      Technology.Adoption\n",
       "X                                     -0.02              \n",
       "Gender                                -0.04              \n",
       "Marital.Status                        -0.17              \n",
       "Work.Status                           -0.12              \n",
       "Education                             -0.12              \n",
       "Annual.Income..x1000...                  NA              \n",
       "Age                                      NA              \n",
       "Location                              -0.05              \n",
       "Purchasing.Decision.maker             -0.31              \n",
       "Purchasing.Location                   -0.17              \n",
       "Monthly.Electronics.Spend                NA              \n",
       "Monthly.Household.Spend                  NA              \n",
       "Purchasing.Frequency..every.x.months.    NA              \n",
       "Technology.Adoption                    1.00              \n",
       "TV.Viewing..hours.day.                   NA              \n",
       "Favorite.feature                      -0.01              \n",
       "                                      TV.Viewing..hours.day. Favorite.feature\n",
       "X                                     NA                      0.04           \n",
       "Gender                                NA                      0.02           \n",
       "Marital.Status                        NA                     -0.13           \n",
       "Work.Status                           NA                     -0.10           \n",
       "Education                             NA                      0.09           \n",
       "Annual.Income..x1000...               NA                        NA           \n",
       "Age                                   NA                        NA           \n",
       "Location                              NA                      0.02           \n",
       "Purchasing.Decision.maker             NA                     -0.10           \n",
       "Purchasing.Location                   NA                     -0.02           \n",
       "Monthly.Electronics.Spend             NA                        NA           \n",
       "Monthly.Household.Spend               NA                        NA           \n",
       "Purchasing.Frequency..every.x.months. NA                        NA           \n",
       "Technology.Adoption                   NA                     -0.01           \n",
       "TV.Viewing..hours.day.                 1                        NA           \n",
       "Favorite.feature                      NA                      1.00           "
      ]
     },
     "metadata": {},
     "output_type": "display_data"
    }
   ],
   "source": [
    "res <- cor(data[,-2])\n",
    "round(res, 2)"
   ]
  },
  {
   "cell_type": "code",
   "execution_count": 5,
   "metadata": {},
   "outputs": [
    {
     "ename": "ERROR",
     "evalue": "Error in data$Location: object of type 'closure' is not subsettable\n",
     "output_type": "error",
     "traceback": [
      "Error in data$Location: object of type 'closure' is not subsettable\nTraceback:\n"
     ]
    }
   ],
   "source": [
    "data$Location"
   ]
  },
  {
   "cell_type": "code",
   "execution_count": 1,
   "metadata": {
    "scrolled": true
   },
   "outputs": [
    {
     "ename": "ERROR",
     "evalue": "Error in data$age: object of type 'closure' is not subsettable\n",
     "output_type": "error",
     "traceback": [
      "Error in data$age: object of type 'closure' is not subsettable\nTraceback:\n",
      "1. cor(data$gender, data$age)",
      "2. is.data.frame(y)"
     ]
    }
   ],
   "source": [
    "cor(data$gender, data$age)"
   ]
  },
  {
   "cell_type": "markdown",
   "metadata": {},
   "source": [
    "ignorable stuff\n",
    "purchasing decision maker (explained by marital status)\n"
   ]
  },
  {
   "cell_type": "code",
   "execution_count": 7,
   "metadata": {},
   "outputs": [
    {
     "data": {
      "image/png": "[encoded data removed]",
      "text/plain": [
       "plot without title"
      ]
     },
     "metadata": {},
     "output_type": "display_data"
    }
   ],
   "source": [
    "pairs(data[,-1])"
   ]
  },
  {
   "cell_type": "code",
   "execution_count": 1,
   "metadata": {},
   "outputs": [
    {
     "ename": "ERROR",
     "evalue": "Error in df.to_csv(codedTivo.csv): could not find function \"df.to_csv\"\n",
     "output_type": "error",
     "traceback": [
      "Error in df.to_csv(codedTivo.csv): could not find function \"df.to_csv\"\nTraceback:\n"
     ]
    }
   ],
   "source": [
    "\n"
   ]
  },
  {
   "cell_type": "code",
   "execution_count": null,
   "metadata": {},
   "outputs": [],
   "source": []
  }
 ],
 "metadata": {
  "kernelspec": {
   "display_name": "R",
   "language": "R",
   "name": "ir"
  },
  "language_info": {
   "codemirror_mode": "r",
   "file_extension": ".r",
   "mimetype": "text/x-r-source",
   "name": "R",
   "pygments_lexer": "r",
   "version": "3.5.1"
  }
 },
 "nbformat": 4,
 "nbformat_minor": 2
}
