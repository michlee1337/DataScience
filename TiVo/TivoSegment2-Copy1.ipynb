{
 "cells": [
  {
   "cell_type": "markdown",
   "metadata": {},
   "source": [
    "# TiVo\n",
    "\n",
    "### Focus\n",
    "TiVo value propositon and how to measure it\n",
    "\n",
    "### Qs\n",
    "- does the study evaluate consumer attitudes well?\n",
    "- what are strengths/ weaknesses of the present approach?\n",
    "- would you do anything diff in the market research project? what would you have done and what would you expect to find?\n",
    "- why segment in the first place? best way?\n",
    "- how do diff kinds of research relate?"
   ]
  },
  {
   "cell_type": "markdown",
   "metadata": {},
   "source": [
    "# Undertstanding Data"
   ]
  },
  {
   "cell_type": "code",
   "execution_count": null,
   "metadata": {},
   "outputs": [],
   "source": [
    "# import libraries\n",
    "\n",
    "import pandas as pd\n",
    "import numpy as np\n",
    "import matplotlib.pyplot as plt\n",
    "import seaborn as sns\n",
    "import json\n",
    "from pandas.io.json import json_normalize\n",
    "from datetime import datetime\n",
    "from sklearn import preprocessing"
   ]
  },
  {
   "cell_type": "code",
   "execution_count": null,
   "metadata": {},
   "outputs": [],
   "source": [
    "# import and check data\n",
    "df = pd.read_csv(\"TiVoData.csv\")\n",
    "df = df.drop(df.index[len(df)-1])\n",
    "df = df.drop(df.index[len(df)-1])\n",
    "df = df.drop(df.index[len(df)-1])\n",
    "dfE = pd.read_csv(\"TiVoData.csv\")\n",
    "dfE = dfE.drop(dfE.index[len(dfE)-1])\n",
    "dfE = dfE.drop(dfE.index[len(dfE)-1])\n",
    "dfE = dfE.drop(dfE.index[len(dfE)-1])\n",
    "df.shape"
   ]
  },
  {
   "cell_type": "code",
   "execution_count": null,
   "metadata": {},
   "outputs": [],
   "source": [
    "df.describe()"
   ]
  },
  {
   "cell_type": "code",
   "execution_count": null,
   "metadata": {
    "scrolled": true
   },
   "outputs": [],
   "source": [
    "# convert string factors to type: category\n",
    "\n",
    "dfE[\"Gender\"] = dfE[\"Gender\"].astype(\"category\")\n",
    "dfE[\"Marital Status\"] = dfE[\"Marital Status\"].astype(\"category\")\n",
    "dfE[\"Work Status\"] = dfE[\"Work Status\"].astype(\"category\")\n",
    "dfE[\"Education\"] = dfE[\"Education\"].astype(\"category\")\n",
    "dfE[\"Location\"] = dfE[\"Location\"].astype(\"category\")\n",
    "dfE[\"Purchasing Decision-maker\"] = dfE[\"Purchasing Decision-maker\"].astype(\"category\")\n",
    "dfE[\"Purchasing Location\"] = dfE[\"Purchasing Location\"].astype(\"category\")\n",
    "dfE[\"Technology Adoption\"] = dfE[\"Technology Adoption\"].astype(\"category\")\n",
    "dfE[\"Favorite feature\"] = dfE[\"Favorite feature\"].astype(\"category\")\n",
    "dfE.dtypes"
   ]
  },
  {
   "cell_type": "code",
   "execution_count": null,
   "metadata": {
    "scrolled": false
   },
   "outputs": [],
   "source": [
    "# encode qualitative factors\n",
    "\n",
    "dfE[\"Gender\"] = dfE[\"Gender\"].cat.codes\n",
    "dfE[\"Marital Status\"] = dfE[\"Marital Status\"].cat.codes\n",
    "dfE[\"Work Status\"] = dfE[\"Work Status\"].cat.codes\n",
    "dfE[\"Education\"] = dfE[\"Education\"].cat.codes\n",
    "dfE[\"Location\"] = dfE[\"Location\"].cat.codes\n",
    "dfE[\"Purchasing Decision-maker\"] = dfE[\"Purchasing Decision-maker\"].cat.codes\n",
    "dfE[\"Purchasing Location\"] = dfE[\"Purchasing Location\"].cat.codes\n",
    "dfE[\"Technology Adoption\"] = dfE[\"Technology Adoption\"].cat.codes\n",
    "dfE[\"Favorite feature\"] = dfE[\"Favorite feature\"].cat.codes\n",
    "dfE.head()"
   ]
  },
  {
   "cell_type": "code",
   "execution_count": null,
   "metadata": {
    "scrolled": false
   },
   "outputs": [],
   "source": [
    "corr = dfE.corr()**2\n",
    "corr.style.background_gradient()"
   ]
  },
  {
   "cell_type": "code",
   "execution_count": null,
   "metadata": {},
   "outputs": [],
   "source": [
    "import seaborn as sb\n",
    "\n",
    "sb.pairplot(df.loc[:, df.columns != 'ID'])"
   ]
  },
  {
   "cell_type": "markdown",
   "metadata": {},
   "source": [
    "### observations\n",
    "\n",
    "Annual income has 2 giant outliers\n",
    "\n",
    "monthly electronics spend and monthly household spend sooo correlated\n",
    "tv viewing high mode near 0 (v right skewed\n",
    "monthly electronics spend more left skewed\n",
    ")"
   ]
  },
  {
   "cell_type": "code",
   "execution_count": null,
   "metadata": {
    "scrolled": false
   },
   "outputs": [],
   "source": [
    "# remove outliers in annual income\n",
    "\n",
    "dfE[dfE[\"Annual Income (x1000 $)\"] >500]\n",
    "\n",
    "dfT = dfE.drop(dfE.index[440])\n",
    "dfT = dfT.drop(dfT.index[921])\n",
    "\n",
    "print(dfT.loc[[921]])"
   ]
  },
  {
   "cell_type": "code",
   "execution_count": null,
   "metadata": {
    "scrolled": true
   },
   "outputs": [],
   "source": [
    "dfTx = df.drop(df.index[440])\n",
    "dfTx = dfTx.drop(dfTx.index[921])"
   ]
  },
  {
   "cell_type": "code",
   "execution_count": null,
   "metadata": {},
   "outputs": [],
   "source": [
    "plt.hist(df[\"Favorite feature\"])"
   ]
  },
  {
   "cell_type": "code",
   "execution_count": null,
   "metadata": {
    "scrolled": true
   },
   "outputs": [],
   "source": [
    "sb.pairplot(dfTx.loc[:, df.columns != 'ID'],hue = \"Favorite feature\")"
   ]
  },
  {
   "cell_type": "code",
   "execution_count": null,
   "metadata": {
    "scrolled": false
   },
   "outputs": [],
   "source": [
    "sb.pairplot(dfTx.loc[:, df.columns != 'ID'],hue = \"Purchasing Decision-maker\")"
   ]
  },
  {
   "cell_type": "code",
   "execution_count": null,
   "metadata": {
    "scrolled": true
   },
   "outputs": [],
   "source": [
    "sb.pairplot(dfTx.loc[:, df.columns != 'ID'],hue = \"Purchasing Location\")"
   ]
  },
  {
   "cell_type": "markdown",
   "metadata": {},
   "source": [
    "### more obs\n",
    "- wow income gap around 40k\n",
    "\n",
    "#### + hues\n",
    "- higher income tends to like saving shows\n",
    "    - lower income tends to like programming/ interactive features\n",
    "- generally every income likes schedule control tho: steady feature\n",
    "\n",
    "- generally seems to be between the three features: saving fav shows/ schedules control/ programming featrrues\n",
    "- TV Viewing and fav feature seems to correlate\n",
    "    - high TV viewing people like saving fav shows to watch as a family\n",
    "    - low TV viewing people like schedule control\n",
    "    - mid tv viewing like schedule control\n",
    "- purchasing frequency sort of increases w tv viewing as well\n",
    "- monthly household/electronics spend only higher for low tv viewing people tho (scedule control)\n",
    "- WOW age and tv viewing is clean\n",
    "    - young and low tv ppl like programming/ interactive features\n",
    "    - older low viewing ppl like schedule control\n",
    "    - ppl above 30 all seem to like saving shows to watch as fam and have highest tv watching\n",
    "household/electronics spend: schedule control - programming/interactive features - saving fav shows\n",
    "purchasing frequency higher for saving facv shows\n",
    "only younng people like programming interactive features\n",
    "\n",
    "**tv viewing and age seems to be best segmentation**\n",
    "   \n",
    "    \n",
    "\n",
    "    \n",
    "\n"
   ]
  },
  {
   "cell_type": "code",
   "execution_count": null,
   "metadata": {
    "scrolled": true
   },
   "outputs": [],
   "source": [
    "import statistics as st\n",
    "\n",
    "st.median(df[\"Annual Income (x1000 $)\"])"
   ]
  },
  {
   "cell_type": "code",
   "execution_count": null,
   "metadata": {
    "scrolled": true
   },
   "outputs": [],
   "source": [
    "import statistics as st\n",
    "\n",
    "st.median(df[\"Monthly Electronics Spend\"])"
   ]
  },
  {
   "cell_type": "code",
   "execution_count": null,
   "metadata": {
    "scrolled": false
   },
   "outputs": [],
   "source": [
    "import seaborn as sb\n",
    "\n",
    "sb.pairplot(dfTx.loc[:, df.columns != 'ID'],hue = \"Technology Adoption\")"
   ]
  },
  {
   "cell_type": "code",
   "execution_count": null,
   "metadata": {
    "scrolled": true
   },
   "outputs": [],
   "source": [
    "dfSeg = dfTx\n",
    "\n",
    "dfSeg.groupby(['Monthly Electronics Spend']).groups.keys()"
   ]
  },
  {
   "cell_type": "code",
   "execution_count": null,
   "metadata": {},
   "outputs": [],
   "source": [
    "### dfSeg = dfTx\n",
    "dfSeg[\"Annual Income (x1000 $)\"] = dfSeg[\"Annual Income (x1000 $)\"].replace({21: \"low\", 22: \"low\", 23: \"low\", 24: \"low\", 25: \"low\", 26: \"low\", 27: \"low\", 28: \"low\", 29: \"low\", 30:\"low\",31:\"low\",32:\"low\",33:\"low\",34:\"high\",35:\"high\",36:\"high\",37:\"high\",38:\"high\",39:\"high\",40:\"high\",41:\"high\",42:\"high\",43:\"high\",44:\"high\",45:\"high\",46:\"high\",47:\"high\",48:\"high\",49:\"high\",50:\"high\",51:\"high\",52:\"high\",53:\"high\",54:\"high\",55:\"high\",56:\"high\",57:\"high\",58:\"high\",59:\"high\",60:\"high\",61:\"high\",62:\"high\",63:\"high\",64:\"high\"})\n",
    "dfSeg[\"Monthly Electronics Spend\"] = dfSeg[\"Annual Income (x1000 $)\"].replace({7: \"low\", 8: \"low\", 9: \"low\", 10: \"low\", 11: \"low\", 12: \"low\", 13: \"low\", 14: \"low\", 15: \"low\", 16:\"low\",17:\"low\",18:\"low\",19:\"low\",20:\"low\",21:\"low\", 22:\"low\", 23:\"low\", 24:\"low\",25:\"low\",26:\"high\",27:\"high\",28:\"high\",29:\"high\",30:\"high\",31:\"high\",32:\"high\",33:\"high\",34:\"high\", 35:\"high\",36:\"high\",37:\"high\",38:\"high\",39:\"high\",40:\"high\",41:\"high\",42:\"high\",43:\"high\",44:\"high\",45:\"high\",46:\"high\",47:\"high\",48:\"high\",49:\"high\",50:\"high\",51:\"high\",52:\"high\",53:\"high\",54:\"high\",55:\"high\",56:\"high\",57:\"high\",58:\"high\",59:\"high\",60:\"high\",61:\"high\",62:\"high\",63:\"high\",64:\"high\",65:\"high\",66:\"high\",67:\"high\",68:\"high\",69:\"high\",70:\"high\",71:\"high\",72:\"high\",73:\"high\",74:\"high\",75:\"high\",76:\"high\",77:\"high\",78:\"high\",79:\"high\",80:\"high\",81:\"high\",82:\"high\",83:\"high\",84:\"high\",85:\"high\",86:\"high\",87:\"high\",88:\"high\",89:\"high\"})\n",
    "dfSeg.head()"
   ]
  },
  {
   "cell_type": "code",
   "execution_count": null,
   "metadata": {
    "scrolled": false
   },
   "outputs": [],
   "source": [
    "import seaborn as sb\n",
    "\n",
    "sb.pairplot(dfSeg.loc[:, df.columns != 'ID'],hue = \"Annual Income (x1000 $)\")"
   ]
  },
  {
   "cell_type": "code",
   "execution_count": null,
   "metadata": {
    "scrolled": false
   },
   "outputs": [],
   "source": [
    "import seaborn as sb\n",
    "\n",
    "sb.pairplot(dfSeg.loc[:, df.columns != 'ID'],hue = \"Purchasing Decision-maker\")"
   ]
  },
  {
   "cell_type": "code",
   "execution_count": null,
   "metadata": {
    "scrolled": false
   },
   "outputs": [],
   "source": [
    "import seaborn as sb\n",
    "\n",
    "sb.pairplot(dfSeg.loc[:, df.columns != 'ID'],hue = \"Monthly Electronics Spend\")"
   ]
  },
  {
   "cell_type": "code",
   "execution_count": null,
   "metadata": {
    "scrolled": false
   },
   "outputs": [],
   "source": [
    "import seaborn as sb\n",
    "\n",
    "sb.pairplot(dfSeg.loc[:, df.columns != 'ID'],hue = \"Purchasing Location\")"
   ]
  },
  {
   "cell_type": "code",
   "execution_count": null,
   "metadata": {
    "scrolled": true
   },
   "outputs": [],
   "source": [
    "dfT.head()"
   ]
  },
  {
   "cell_type": "code",
   "execution_count": null,
   "metadata": {},
   "outputs": [],
   "source": [
    "import seaborn as sb\n",
    "\n",
    "sb.pairplot(dfT[[\"Gender\",\"Marital Status\",\"Work Status\",\"Education\",\"Annual Income (x1000 $)\", \"Age\", \"Monthly Electronics Spend\", \"Technology Adoption\", \"Favorite feature\"]])"
   ]
  },
  {
   "cell_type": "markdown",
   "metadata": {},
   "source": [
    "### obs obs\n",
    "- gap in monthly electronics spend matching gap in annual income\n",
    "- why did i plot categorical data against categorical data thats dumb -_____-"
   ]
  },
  {
   "cell_type": "code",
   "execution_count": null,
   "metadata": {
    "scrolled": false
   },
   "outputs": [],
   "source": [
    "dfT.head()\n"
   ]
  },
  {
   "cell_type": "code",
   "execution_count": null,
   "metadata": {},
   "outputs": [],
   "source": [
    "df.columns"
   ]
  },
  {
   "cell_type": "code",
   "execution_count": null,
   "metadata": {},
   "outputs": [],
   "source": [
    "dfTSB = dfE\n",
    "dfTSB.drop(columns = [\"Favorite feature\"])\n",
    "\n",
    "dfTSB[\"Favorite feature\"] = df[\"Favorite feature\"]\n",
    "\n",
    "# remove outliers\n",
    "dfTSB = dfTSB.drop(dfTSB.index[440])\n",
    "dfTSB = dfTSB.drop(dfTSB.index[921])"
   ]
  },
  {
   "cell_type": "code",
   "execution_count": null,
   "metadata": {},
   "outputs": [],
   "source": [
    "dfTSB.head()"
   ]
  },
  {
   "cell_type": "code",
   "execution_count": null,
   "metadata": {},
   "outputs": [],
   "source": [
    "import seaborn as sb\n",
    "sb.pairplot(dfTSB, vars=[\"Gender\",\"Marital Status\",\"Work Status\",\"Education\",\"Annual Income (x1000 $)\", \"Age\", \"Monthly Electronics Spend\", \"Technology Adoption\"], hue=\"Favorite feature\")"
   ]
  },
  {
   "cell_type": "code",
   "execution_count": null,
   "metadata": {},
   "outputs": [],
   "source": [
    "import seaborn as sb\n",
    "sb.pairplot(dfT, vars=[\"Gender\",\"Marital Status\",\"Work Status\",\"Education\",\"Annual Income (x1000 $)\", \"Age\", \"Monthly Electronics Spend\", \"Technology Adoption\"], hue=\"Favorite feature\")"
   ]
  },
  {
   "cell_type": "code",
   "execution_count": null,
   "metadata": {},
   "outputs": [],
   "source": []
  },
  {
   "cell_type": "code",
   "execution_count": null,
   "metadata": {
    "scrolled": true
   },
   "outputs": [],
   "source": [
    "df.tail()"
   ]
  },
  {
   "cell_type": "code",
   "execution_count": null,
   "metadata": {},
   "outputs": [],
   "source": [
    "dfE.tail()"
   ]
  },
  {
   "cell_type": "code",
   "execution_count": null,
   "metadata": {},
   "outputs": [],
   "source": [
    "df.head()"
   ]
  },
  {
   "cell_type": "code",
   "execution_count": null,
   "metadata": {
    "scrolled": true
   },
   "outputs": [],
   "source": [
    "df['Annual Spending on Electronics'] = df['Monthly Electronics Spend'] * 12\n",
    "df['Spending as % of Income'] = round(df['Annual Spending on Electronics'] / (df['Annual Income (x1000 $)']*1000),4)\n",
    "df.head()"
   ]
  },
  {
   "cell_type": "code",
   "execution_count": null,
   "metadata": {
    "scrolled": true
   },
   "outputs": [],
   "source": [
    "dfTx['Annual Spending on Electronics'] = dfTx['Monthly Electronics Spend'] * 12\n",
    "dfTx['Spending as % of Income'] = round(dfTx['Annual Spending on Electronics'] / (dfTx['Annual Income (x1000 $)']*1000),4)\n",
    "df.head()"
   ]
  },
  {
   "cell_type": "code",
   "execution_count": null,
   "metadata": {
    "scrolled": true
   },
   "outputs": [],
   "source": [
    "#sb.pairplot(dfTx.loc[:, df.columns != 'ID'],hue = \"Favorite feature\")\n",
    "\n",
    "sb.pairplot(dfTx.loc[:, df.columns != 'ID'])"
   ]
  },
  {
   "cell_type": "code",
   "execution_count": null,
   "metadata": {},
   "outputs": [],
   "source": [
    "sb.pairplot(df.loc[:, df.columns != 'ID'],hue = \"Annual Spending on Electronics\")"
   ]
  },
  {
   "cell_type": "code",
   "execution_count": null,
   "metadata": {},
   "outputs": [],
   "source": [
    "for column in df:\n",
    "    print(\"%s for \", column)\n",
    "    print(df[column].value_counts()/df[column].count())"
   ]
  },
  {
   "cell_type": "code",
   "execution_count": null,
   "metadata": {},
   "outputs": [],
   "source": [
    "# married men early adopters afford tivo in 2 years\n",
    "print(\"married men, early adopters, sufficient electronics spend:\")\n",
    "len(df.loc[(df[\"Gender\"] == \"male\") & (df[\"Marital Status\"] == \"married\") & (df[\"Technology Adoption\"] == \"early\") & (df[\"Monthly Electronics Spend\"]*24 > 499)])"
   ]
  },
  {
   "cell_type": "code",
   "execution_count": null,
   "metadata": {},
   "outputs": [],
   "source": [
    "print(\"educated women, independent decision makers\")\n",
    "len(df.loc[(df[\"Gender\"] == \"female\") & (df[\"Education\"].isin([\"MA\",\"PhD\"])) & ( (df[\"Marital Status\"] == \"single\") | (df[\"Purchasing Decision-maker\"] == \"single\"))])"
   ]
  },
  {
   "cell_type": "code",
   "execution_count": null,
   "metadata": {},
   "outputs": [],
   "source": [
    "print(\"early adopters, purchase once a year at specialized stores\")\n",
    "len(df.loc[(df[\"Technology Adoption\"] == \"early\") & (df[\"Purchasing Frequency (every x months)\"] <= 12) & (df[\"Purchasing Location\"] == \"specialty stores\")])"
   ]
  },
  {
   "cell_type": "code",
   "execution_count": null,
   "metadata": {},
   "outputs": [],
   "source": [
    "oldGoodies = df.loc[(df[\"Age\"] > 65) & (df[\"TV Viewing (hours/day)\"] > 6)]\n",
    "\n",
    "print(\"seniors > 65 and spend > 6 hours a day on tv\")\n",
    "print(\"count: \", len(oldGoodies['Annual Income (x1000 $)']))\n",
    "print(\"range: \", oldGoodies['Annual Income (x1000 $)'].min(), oldGoodies['Annual Income (x1000 $)'].max())\n",
    "print(\"average: \", oldGoodies['Annual Income (x1000 $)'].mean())"
   ]
  },
  {
   "cell_type": "code",
   "execution_count": null,
   "metadata": {},
   "outputs": [],
   "source": [
    "print(\"variation in annual income attributable to variation in age:\")\n",
    "df[\"Age\"].corr(df[\"Annual Income (x1000 $)\"])**2"
   ]
  },
  {
   "cell_type": "code",
   "execution_count": null,
   "metadata": {},
   "outputs": [],
   "source": [
    "print(\"variation in annual income attributable to variation in gender:\")\n",
    "dfE[\"Gender\"].corr(dfE[\"Annual Income (x1000 $)\"])**2"
   ]
  },
  {
   "cell_type": "code",
   "execution_count": null,
   "metadata": {},
   "outputs": [],
   "source": [
    "print(\"variation in purchasing frequency attributable to variation in age:\")\n",
    "dfE[\"Age\"].corr(dfE[\"Purchasing Frequency (every x months)\"])**2"
   ]
  },
  {
   "cell_type": "code",
   "execution_count": null,
   "metadata": {},
   "outputs": [],
   "source": [
    "print(\"variation in tv viewing attributable to variation in annual income:\")\n",
    "dfE[\"Annual Income (x1000 $)\"].corr(dfE[\"TV Viewing (hours/day)\"])**2"
   ]
  },
  {
   "cell_type": "code",
   "execution_count": null,
   "metadata": {},
   "outputs": [],
   "source": [
    "print(\"variation in favorite feature attributable to variation in education :\")\n",
    "dfE[\"Education\"].corr(dfE[\"Favorite feature\"])**2"
   ]
  },
  {
   "cell_type": "code",
   "execution_count": null,
   "metadata": {},
   "outputs": [],
   "source": [
    "print(\"variation in favorite feature attributable to variation in education :\")\n",
    "dfE[\"Favorite feature\"].corr(dfE[\"Education\"])**2"
   ]
  },
  {
   "cell_type": "markdown",
   "metadata": {},
   "source": [
    "Monthly Household Spend can be described by Monthly Electronics Spend. Since Monthly Electronics Spend is the more relevant of the two, Monthly Household Spend shhould be excluded"
   ]
  },
  {
   "cell_type": "code",
   "execution_count": null,
   "metadata": {},
   "outputs": [],
   "source": [
    "dfE.to_csv('codedTivo.csv')"
   ]
  },
  {
   "cell_type": "markdown",
   "metadata": {},
   "source": [
    "# segmentation by Demographic"
   ]
  },
  {
   "cell_type": "markdown",
   "metadata": {},
   "source": [
    "### education"
   ]
  },
  {
   "cell_type": "code",
   "execution_count": null,
   "metadata": {},
   "outputs": [],
   "source": [
    "# education\n",
    "e1= df.loc[(df[\"Education\"] == \"none\")]\n",
    "e2= df.loc[(df[\"Education\"] == \"BA\")]\n",
    "e3= df.loc[(df[\"Education\"] == \"MA\")]\n",
    "e4= df.loc[(df[\"Education\"] == \"PhD\")]\n",
    "\n",
    "e1"
   ]
  },
  {
   "cell_type": "code",
   "execution_count": null,
   "metadata": {},
   "outputs": [],
   "source": [
    "# e1 analysis\n",
    "print(\"E1\")\n",
    "print(\"% of market size: \", round(len(e1)/len(df),2))\n",
    "print(\"avg annual income: \", round(e1[\"Annual Income (x1000 $)\"].mean(),2))\n",
    "print(\"most appealing feature: \", e1[\"Favorite feature\"].mode()[0])\n",
    "print(\"stores shopped for electronics: \", e1[\"Purchasing Location\"].mode()[0])\n",
    "print(\"average spending on electronics/year: \", round(e1[\"Annual Spending on Electronics\"].mean(),2))\n",
    "\n",
    "print(\"____\")\n",
    "\n",
    "# e2 analysis\n",
    "print(\"E2\")\n",
    "print(\"% of market size: \", round(len(e2)/len(df),2))\n",
    "print(\"avg annual income: \", round(e2[\"Annual Income (x1000 $)\"].mean(),2))\n",
    "print(\"most appealing feature: \", e2[\"Favorite feature\"].mode()[0])\n",
    "print(\"stores shopped for electronics: \", e2[\"Purchasing Location\"].mode()[0])\n",
    "print(\"average spending on electronics/year: \", round(e2[\"Annual Spending on Electronics\"].mean(),2))\n",
    "\n",
    "print(\"____\")\n",
    "\n",
    "# e3 analysis\n",
    "print(\"E3\")\n",
    "print(\"% of market size: \", round(len(e3)/len(df),2))\n",
    "print(\"avg annual income: \", round(e3[\"Annual Income (x1000 $)\"].mean(),2))\n",
    "print(\"most appealing feature: \", e3[\"Favorite feature\"].mode()[0])\n",
    "print(\"stores shopped for electronics: \", e3[\"Purchasing Location\"].mode()[0])\n",
    "print(\"average spending on electronics/year: \", round(e3[\"Annual Spending on Electronics\"].mean(),2))\n",
    "\n",
    "print(\"____\")\n",
    "\n",
    "# e4 analysis\n",
    "print(\"E4\")\n",
    "print(\"% of market size: \", round(len(e4)/len(df),2))\n",
    "print(\"avg annual income: \", round(e4[\"Annual Income (x1000 $)\"].mean(),2))\n",
    "print(\"most appealing feature: \", e4[\"Favorite feature\"].mode()[0])\n",
    "print(\"stores shopped for electronics: \", e4[\"Purchasing Location\"].mode()[0])\n",
    "print(\"average spending on electronics/year: \", round(e4[\"Annual Spending on Electronics\"].mean(),2))"
   ]
  },
  {
   "cell_type": "markdown",
   "metadata": {},
   "source": [
    "### education and marital status"
   ]
  },
  {
   "cell_type": "code",
   "execution_count": null,
   "metadata": {},
   "outputs": [],
   "source": [
    "# education\n",
    "e1.mar = df.loc[(df[\"Education\"] == \"none\") & (df[\"Marital Status\"] == \"married\")]\n",
    "e1.sng = df.loc[(df[\"Education\"] == \"none\") & (df[\"Marital Status\"] == \"single\")]\n",
    "e2.mar = df.loc[(df[\"Education\"] == \"BA\") & (df[\"Marital Status\"] == \"married\")]\n",
    "e2.sng = df.loc[(df[\"Education\"] == \"BA\") & (df[\"Marital Status\"] == \"single\")]\n",
    "e3.mar = df.loc[(df[\"Education\"] == \"MA\") & (df[\"Marital Status\"] == \"married\")]\n",
    "e3.sng = df.loc[(df[\"Education\"] == \"MA\") & (df[\"Marital Status\"] == \"single\")]\n",
    "e4.mar = df.loc[(df[\"Education\"] == \"PhD\") & (df[\"Marital Status\"] == \"married\")]\n",
    "e4.sng = df.loc[(df[\"Education\"] == \"PhD\") & (df[\"Marital Status\"] == \"single\")]\n",
    "\n",
    "print(\"PhD married Male : \", len(e4.mar[(df[\"Gender\"] == \"male\")]))\n",
    "print(\"PhD married Female : \", len(e4.mar[(df[\"Gender\"] == \"female\")]))\n",
    "\n",
    "print(\"PhD single Male : \", len(e4.sng[(df[\"Gender\"] == \"male\")]))\n",
    "print(\"PhD single Female : \", len(e4.sng[(df[\"Gender\"] == \"female\")]))\n",
    "\n",
    "# lol this is such a random tangent: maybe will do a t test later"
   ]
  },
  {
   "cell_type": "code",
   "execution_count": null,
   "metadata": {},
   "outputs": [],
   "source": [
    "# e1.mar analysis\n",
    "print(\"E1 Married\")\n",
    "print(\"% of market size: \", round(len(e1.mar)/len(df),2))\n",
    "print(\"avg annual income: \", round(e1.mar[\"Annual Income (x1000 $)\"].mean(),2))\n",
    "print(\"most appealing feature: \", e1.mar[\"Favorite feature\"].mode()[0])\n",
    "print(\"stores shopped for electronics: \", e1.mar[\"Purchasing Location\"].mode()[0])\n",
    "print(\"average spending on electronics/year: \", round(e1.mar[\"Annual Spending on Electronics\"].mean(),2))\n",
    "\n",
    "print(\"_____\")\n",
    "\n",
    "# e1.sng analysis\n",
    "print(\"E1 Single\")\n",
    "print(\"% of market size: \", round(len(e1.sng)/len(df),2))\n",
    "print(\"avg annual income: \", round(e1.sng[\"Annual Income (x1000 $)\"].mean(),2))\n",
    "print(\"most appealing feature: \", e1.sng[\"Favorite feature\"].mode()[0])\n",
    "print(\"stores shopped for electronics: \", e1.sng[\"Purchasing Location\"].mode()[0])\n",
    "print(\"average spending on electronics/year: \", round(e1.sng[\"Annual Spending on Electronics\"].mean(),2))\n",
    "\n",
    "print(\"_____\")\n",
    "\n",
    "# e2.mar analysis\n",
    "print(\"E2 Married\")\n",
    "print(\"% of market size: \", round(len(e2.mar)/len(df),2))\n",
    "print(\"avg annual income: \", round(e2.mar[\"Annual Income (x1000 $)\"].mean(),2))\n",
    "print(\"most appealing feature: \", e2.mar[\"Favorite feature\"].mode()[0])\n",
    "print(\"stores shopped for electronics: \", e2.mar[\"Purchasing Location\"].mode()[0])\n",
    "print(\"average spending on electronics/year: \", round(e2.mar[\"Annual Spending on Electronics\"].mean(),2))\n",
    "\n",
    "print(\"_____\")\n",
    "\n",
    "# e2.sng analysis\n",
    "print(\"E2 Single\")\n",
    "print(\"% of market size: \", round(len(e2.sng)/len(df),2))\n",
    "print(\"avg annual income: \", round(e2.sng[\"Annual Income (x1000 $)\"].mean(),2))\n",
    "print(\"most appealing feature: \", e2.sng[\"Favorite feature\"].mode()[0])\n",
    "print(\"stores shopped for electronics: \", e2.sng[\"Purchasing Location\"].mode()[0])\n",
    "print(\"average spending on electronics/year: \", round(e2.sng[\"Annual Spending on Electronics\"].mean(),2))\n",
    "\n",
    "print(\"_____\")\n",
    "\n",
    "# e3.mar analysis\n",
    "print(\"E3 Married\")\n",
    "print(\"% of market size: \", round(len(e3.mar)/len(df),2))\n",
    "print(\"avg annual income: \", round(e3.mar[\"Annual Income (x1000 $)\"].mean(),2))\n",
    "print(\"most appealing feature: \", e3.mar[\"Favorite feature\"].mode()[0])\n",
    "print(\"stores shopped for electronics: \", e3.mar[\"Purchasing Location\"].mode()[0])\n",
    "print(\"average spending on electronics/year: \", round(e3.mar[\"Annual Spending on Electronics\"].mean(),2))\n",
    "\n",
    "print(\"_____\")\n",
    "\n",
    "# e3.sng analysis\n",
    "print(\"E3 Single\")\n",
    "print(\"% of market size: \", round(len(e3.sng)/len(df),2))\n",
    "print(\"avg annual income: \", round(e3.sng[\"Annual Income (x1000 $)\"].mean(),2))\n",
    "print(\"most appealing feature: \", e3.sng[\"Favorite feature\"].mode()[0])\n",
    "print(\"stores shopped for electronics: \", e3.sng[\"Purchasing Location\"].mode()[0])\n",
    "print(\"average spending on electronics/year: \", round(e3.sng[\"Annual Spending on Electronics\"].mean(),2))\n",
    "\n",
    "print(\"_____\")\n",
    "\n",
    "# e4.mar analysis\n",
    "print(\"E4 Married\")\n",
    "print(\"% of market size: \", round(len(e4.mar)/len(df),2))\n",
    "print(\"avg annual income: \", round(e4.mar[\"Annual Income (x1000 $)\"].mean(),2))\n",
    "print(\"most appealing feature: \", e4.mar[\"Favorite feature\"].mode()[0])\n",
    "print(\"stores shopped for electronics: \", e4.mar[\"Purchasing Location\"].mode()[0])\n",
    "print(\"average spending on electronics/year: \", round(e4.mar[\"Annual Spending on Electronics\"].mean(),2))\n",
    "\n",
    "print(\"_____\")\n",
    "\n",
    "# e4.sng analysis\n",
    "print(\"E4 Single\")\n",
    "print(\"% of market size: \", round(len(e4.sng)/len(df),2))\n",
    "print(\"avg annual income: \", round(e4.sng[\"Annual Income (x1000 $)\"].mean(),2))\n",
    "print(\"most appealing feature: \", e4.sng[\"Favorite feature\"].mode()[0])\n",
    "print(\"stores shopped for electronics: \", e4.sng[\"Purchasing Location\"].mode()[0])\n",
    "print(\"average spending on electronics/year: \", round(e4.sng[\"Annual Spending on Electronics\"].mean(),2))"
   ]
  },
  {
   "cell_type": "markdown",
   "metadata": {},
   "source": [
    "### education and gender"
   ]
  },
  {
   "cell_type": "markdown",
   "metadata": {},
   "source": [
    "# segmentation by VP"
   ]
  },
  {
   "cell_type": "code",
   "execution_count": null,
   "metadata": {},
   "outputs": [],
   "source": [
    "vp1 = df.loc[(df[\"Favorite feature\"] == \"saving favorite shows to watch as a family\")]\n",
    "import seaborn as sb\n",
    "vp1.head()"
   ]
  },
  {
   "cell_type": "code",
   "execution_count": null,
   "metadata": {},
   "outputs": [],
   "source": [
    "sb.pairplot(vp1.loc[:, vp1.columns != 'ID'],hue = \"Purchasing Location\")"
   ]
  },
  {
   "cell_type": "code",
   "execution_count": null,
   "metadata": {},
   "outputs": [],
   "source": [
    "vp2 = df.loc[(df[\"Favorite feature\"] == \"time shifting\")]\n",
    "import seaborn as sb\n",
    "\n",
    "sb.pairplot(vp2.loc[:, vp2.columns != 'ID'],hue = \"Purchasing Location\")"
   ]
  },
  {
   "cell_type": "code",
   "execution_count": null,
   "metadata": {},
   "outputs": [],
   "source": [
    "vp3 = df.loc[(df[\"Favorite feature\"] == \"cool gadget\")]\n",
    "import seaborn as sb\n",
    "\n",
    "sb.pairplot(vp3.loc[:, vp3.columns != 'ID'],hue = \"Purchasing Location\")"
   ]
  },
  {
   "cell_type": "code",
   "execution_count": null,
   "metadata": {},
   "outputs": [],
   "source": [
    "vp4 = df.loc[(df[\"Favorite feature\"] == \"schedule control\")]\n",
    "import seaborn as sb\n",
    "\n",
    "sb.pairplot(vp4.loc[:, vp1.columns != 'ID'],hue = \"Purchasing Location\")"
   ]
  },
  {
   "cell_type": "code",
   "execution_count": null,
   "metadata": {},
   "outputs": [],
   "source": [
    "vp5 = df.loc[(df[\"Favorite feature\"] == \"programming/interactive features\")]\n",
    "import seaborn as sb\n",
    "\n",
    "sb.pairplot(vp5.loc[:, vp5.columns != 'ID'],hue = \"Purchasing Location\")"
   ]
  },
  {
   "cell_type": "markdown",
   "metadata": {},
   "source": [
    "# segmentation by Marriage"
   ]
  },
  {
   "cell_type": "code",
   "execution_count": null,
   "metadata": {},
   "outputs": [],
   "source": [
    "m1 = df.loc[(df[\"Marital Status\"] == \"married\")]\n",
    "import seaborn as sb\n",
    "\n",
    "sb.pairplot(m1.loc[:, m1.columns != 'ID'],hue = \"Favorite feature\")\n",
    "sb.pairplot(m1.loc[:, m1.columns != 'ID'],hue = \"Purchasing Location\")"
   ]
  },
  {
   "cell_type": "code",
   "execution_count": null,
   "metadata": {},
   "outputs": [],
   "source": [
    "m2 = df.loc[(df[\"Marital Status\"] == \"single\")]\n",
    "import seaborn as sb\n",
    "\n",
    "sb.pairplot(m2.loc[:, m2.columns != 'ID'],hue = \"Favorite feature\")\n",
    "sb.pairplot(m2.loc[:, m2.columns != 'ID'],hue = \"Purchasing Location\")"
   ]
  },
  {
   "cell_type": "markdown",
   "metadata": {},
   "source": [
    "# + Work Status"
   ]
  },
  {
   "cell_type": "code",
   "execution_count": null,
   "metadata": {},
   "outputs": [],
   "source": [
    "m1_p = m1.loc[(m1[\"Work Status\"] == \"professional\")]\n",
    "import seaborn as sb\n",
    "\n",
    "sb.pairplot(m1_p.loc[:, m1_p.columns != 'ID'],hue = \"Favorite feature\")\n",
    "sb.pairplot(m1_p.loc[:, m1_p.columns != 'ID'],hue = \"Purchasing Location\")"
   ]
  },
  {
   "cell_type": "code",
   "execution_count": null,
   "metadata": {},
   "outputs": [],
   "source": [
    "m1_n = m1.loc[(m1[\"Work Status\"] == \"none\")]\n",
    "import seaborn as sb\n",
    "\n",
    "sb.pairplot(m1_n.loc[:, m1_n.columns != 'ID'],hue = \"Favorite feature\")\n",
    "sb.pairplot(m1_n.loc[:, m1_n.columns != 'ID'],hue = \"Purchasing Location\")"
   ]
  },
  {
   "cell_type": "code",
   "execution_count": null,
   "metadata": {},
   "outputs": [],
   "source": [
    "m2_p = m2.loc[(m2[\"Work Status\"] == \"professional\")]\n",
    "import seaborn as sb\n",
    "\n",
    "sb.pairplot(m2_p.loc[:, m2_p.columns != 'ID'],hue = \"Favorite feature\")\n",
    "sb.pairplot(m2_p.loc[:, m2_p.columns != 'ID'],hue = \"Purchasing Location\")"
   ]
  },
  {
   "cell_type": "code",
   "execution_count": null,
   "metadata": {},
   "outputs": [],
   "source": [
    "m2_n = m2.loc[(m2[\"Work Status\"] == \"professional\")]\n",
    "import seaborn as sb\n",
    "\n",
    "sb.pairplot(m2_n.loc[:, m2_n.columns != 'ID'],hue = \"Favorite feature\")\n",
    "sb.pairplot(m2_n.loc[:, m2_n.columns != 'ID'],hue = \"Purchasing Location\")"
   ]
  },
  {
   "cell_type": "markdown",
   "metadata": {},
   "source": [
    "# segmentation by Purchasing Location"
   ]
  },
  {
   "cell_type": "code",
   "execution_count": null,
   "metadata": {},
   "outputs": [],
   "source": [
    "p1[\"Favorite feature\"].value_counts()"
   ]
  },
  {
   "cell_type": "code",
   "execution_count": null,
   "metadata": {},
   "outputs": [],
   "source": [
    "p1 = df.loc[(df[\"Purchasing Location\"] == \"mass-consumer electronics\")]\n",
    "import seaborn as sb\n",
    "\n",
    "sb.pairplot(p1.loc[:, p1.columns != 'ID'],hue = \"Favorite feature\")\n",
    "sb.pairplot(p1.loc[:, p1.columns != 'ID'],hue = \"Technology Adoption\")"
   ]
  },
  {
   "cell_type": "code",
   "execution_count": null,
   "metadata": {
    "scrolled": true
   },
   "outputs": [],
   "source": [
    "plt.hist(p1[\"Monthly Electronics Spend\"])\n",
    "plt.title(\"Distribution of Monthly Electronics Spend of customers at Mass Consumer Electronics\")\n",
    "plt.xlabel(\"Monthly Electronics Spend\")\n",
    "\n",
    "plt.axvline(p1[\"Monthly Electronics Spend\"].mean(), color='k', linestyle='dashed', linewidth=1)"
   ]
  },
  {
   "cell_type": "code",
   "execution_count": null,
   "metadata": {
    "scrolled": true
   },
   "outputs": [],
   "source": [
    "p2 = df.loc[(df[\"Purchasing Location\"] == \"discount\")]\n",
    "import seaborn as sb\n",
    "\n",
    "sb.pairplot(p2.loc[:, p2.columns != 'ID'],hue = \"Favorite feature\")"
   ]
  },
  {
   "cell_type": "code",
   "execution_count": null,
   "metadata": {
    "scrolled": false
   },
   "outputs": [],
   "source": [
    "p2[\"Favorite feature\"].value_counts()/len(p2)"
   ]
  },
  {
   "cell_type": "code",
   "execution_count": null,
   "metadata": {
    "scrolled": true
   },
   "outputs": [],
   "source": [
    "plt.scatter(p2[\"Favorite feature\"],p2[\"Monthly Electronics Spend\"])\n",
    "\n",
    "plt.xlabel(\"Favorite feature\")\n",
    "plt.ylabel(\"Monthly Electronics Spend\")\n",
    "plt.title(\"Monthly Electronics Spend Vs Favorite feature\")"
   ]
  },
  {
   "cell_type": "code",
   "execution_count": null,
   "metadata": {
    "scrolled": false
   },
   "outputs": [],
   "source": [
    "p3 = df.loc[(df[\"Purchasing Location\"] == \"retail\")]\n",
    "import seaborn as sb\n",
    "\n",
    "sb.pairplot(p3.loc[:, p3.columns != 'ID'],hue = \"Favorite feature\")"
   ]
  },
  {
   "cell_type": "code",
   "execution_count": null,
   "metadata": {},
   "outputs": [],
   "source": [
    "p3[\"Favorite feature\"].value_counts()/len(p3)"
   ]
  },
  {
   "cell_type": "code",
   "execution_count": null,
   "metadata": {},
   "outputs": [],
   "source": [
    "p4 = df.loc[(df[\"Purchasing Location\"] == \"specialty stores\")]\n",
    "import seaborn as sb\n",
    "\n",
    "sb.pairplot(p4.loc[:, p4.columns != 'ID'],hue = \"Favorite feature\")"
   ]
  },
  {
   "cell_type": "code",
   "execution_count": null,
   "metadata": {
    "scrolled": true
   },
   "outputs": [],
   "source": [
    "p5 = df.loc[(df[\"Purchasing Location\"] == \"web (ebay)\")]\n",
    "import seaborn as sb\n",
    "\n",
    "sb.pairplot(p5.loc[:, p5.columns != 'ID'],hue = \"Favorite feature\")"
   ]
  },
  {
   "cell_type": "markdown",
   "metadata": {},
   "source": [
    "# age and tv viewing"
   ]
  },
  {
   "cell_type": "code",
   "execution_count": null,
   "metadata": {
    "scrolled": true
   },
   "outputs": [],
   "source": [
    "yl.head()"
   ]
  },
  {
   "cell_type": "code",
   "execution_count": null,
   "metadata": {
    "scrolled": false
   },
   "outputs": [],
   "source": [
    "yl[\"Favorite feature\"].value_counts()"
   ]
  },
  {
   "cell_type": "code",
   "execution_count": null,
   "metadata": {},
   "outputs": [],
   "source": [
    "yl[yl[\"Favorite feature\"] == \"saving favorite shows to watch as a family\"]"
   ]
  },
  {
   "cell_type": "code",
   "execution_count": null,
   "metadata": {},
   "outputs": [],
   "source": [
    "sb.pairplot(data = yl[1:], vars = [\"Annual Income (x1000 $)\",\"Age\",\"Monthly Electronics Spend\",\"TV Viewing (hours/day)\"], hue=\"Favorite feature\")"
   ]
  },
  {
   "cell_type": "code",
   "execution_count": null,
   "metadata": {},
   "outputs": [],
   "source": [
    "sb.pairplot(data = yl[1:], vars = [\"Annual Income (x1000 $)\",\"Age\",\"Monthly Electronics Spend\",\"TV Viewing (hours/day)\"], hue=\"Purchasing Location\")"
   ]
  },
  {
   "cell_type": "code",
   "execution_count": null,
   "metadata": {},
   "outputs": [],
   "source": [
    "sb.pairplot(data = yh, vars = [\"Annual Income (x1000 $)\",\"Age\",\"Monthly Electronics Spend\",\"TV Viewing (hours/day)\"], hue=\"Favorite feature\")"
   ]
  },
  {
   "cell_type": "code",
   "execution_count": null,
   "metadata": {},
   "outputs": [],
   "source": [
    "sb.pairplot(data = yh, vars = [\"Annual Income (x1000 $)\",\"Age\",\"Monthly Electronics Spend\",\"TV Viewing (hours/day)\"], hue=\"Purchasing Location\")sb.pairplot(data = yh, vars = [\"Annual Income (x1000 $)\",\"Age\",\"Monthly Electronics Spend\",\"TV Viewing (hours/day)\"], hue=\"Purchasing Location\")"
   ]
  },
  {
   "cell_type": "code",
   "execution_count": null,
   "metadata": {},
   "outputs": [],
   "source": [
    "sb.pairplot(data = ol, vars = [\"Annual Income (x1000 $)\",\"Age\",\"Monthly Electronics Spend\",\"TV Viewing (hours/day)\"], hue=\"Favorite feature\")"
   ]
  },
  {
   "cell_type": "code",
   "execution_count": null,
   "metadata": {},
   "outputs": [],
   "source": [
    "sb.pairplot(data = ol, vars = [\"Annual Income (x1000 $)\",\"Age\",\"Monthly Electronics Spend\",\"TV Viewing (hours/day)\"], hue=\"Purchasing Location\")"
   ]
  },
  {
   "cell_type": "code",
   "execution_count": null,
   "metadata": {
    "scrolled": true
   },
   "outputs": [],
   "source": [
    "sb.pairplot(data = oh, vars = [\"Annual Income (x1000 $)\",\"Age\",\"Monthly Electronics Spend\",\"TV Viewing (hours/day)\"], hue=\"Favorite feature\")"
   ]
  },
  {
   "cell_type": "code",
   "execution_count": null,
   "metadata": {
    "scrolled": true
   },
   "outputs": [],
   "source": [
    "sb.pairplot(data = yh, vars = [\"Annual Income (x1000 $)\",\"Age\",\"Monthly Electronics Spend\",\"TV Viewing (hours/day)\"], hue=\"Purchasing Location\")"
   ]
  },
  {
   "cell_type": "markdown",
   "metadata": {},
   "source": [
    "# segmentation by early vs late"
   ]
  },
  {
   "cell_type": "code",
   "execution_count": null,
   "metadata": {
    "scrolled": false
   },
   "outputs": [],
   "source": [
    "early = df.loc[(df[\"Technology Adoption\"] == \"early\")]\n",
    "sb.pairplot(data = early, vars = [\"Annual Income (x1000 $)\",\"Age\",\"Monthly Electronics Spend\",\"TV Viewing (hours/day)\"], hue=\"Favorite feature\")\n",
    "sb.pairplot(data = early, vars = [\"Annual Income (x1000 $)\",\"Age\",\"Monthly Electronics Spend\",\"TV Viewing (hours/day)\"], hue=\"Purchasing Location\")"
   ]
  },
  {
   "cell_type": "code",
   "execution_count": null,
   "metadata": {},
   "outputs": [],
   "source": [
    "late = df.loc[(df[\"Technology Adoption\"] == \"late\")]\n",
    "sb.pairplot(data = late, vars = [\"Annual Income (x1000 $)\",\"Age\",\"Monthly Electronics Spend\",\"TV Viewing (hours/day)\"], hue=\"Favorite feature\")\n",
    "sb.pairplot(data = late, vars = [\"Annual Income (x1000 $)\",\"Age\",\"Monthly Electronics Spend\",\"TV Viewing (hours/day)\"], hue=\"Purchasing Location\")"
   ]
  },
  {
   "cell_type": "code",
   "execution_count": null,
   "metadata": {},
   "outputs": [],
   "source": [
    "#work status and age\n",
    "\n",
    "yp= df.loc[(df[\"Age\"] <= 30) & (df[\"Work Status\"] == \"professional\")]\n",
    "op= df.loc[(df[\"Age\"] > 30) & (df[\"Work Status\"] == \"professional\")]\n",
    "yn= df.loc[(df[\"Age\"] <= 30) & (df[\"Work Status\"] == \"none\")]\n",
    "on= df.loc[(df[\"Age\"] > 30) & (df[\"Work Status\"] == \"none\")]\n"
   ]
  },
  {
   "cell_type": "code",
   "execution_count": null,
   "metadata": {},
   "outputs": [],
   "source": [
    "sb.pairplot(yp.loc[:, yp.columns != 'ID'],hue = \"Favorite feature\")\n",
    "sb.pairplot(yp.loc[:, yp.columns != 'ID'],hue = \"Purchasing Location\")"
   ]
  },
  {
   "cell_type": "code",
   "execution_count": null,
   "metadata": {
    "scrolled": true
   },
   "outputs": [],
   "source": [
    "sb.pairplot(op.loc[:, op.columns != 'ID'],hue = \"Favorite feature\")\n",
    "sb.pairplot(op.loc[:, op.columns != 'ID'],hue = \"Purchasing Location\")"
   ]
  },
  {
   "cell_type": "code",
   "execution_count": null,
   "metadata": {
    "scrolled": true
   },
   "outputs": [],
   "source": [
    "yn[\"Favorite feature\"].value_counts()\n",
    "\n",
    "yn[yn[\"Favorite feature\"]==\"saving favorite shows to watch as a family\"]\n",
    "yn = yn[yn[\"ID\"] != 240 ]"
   ]
  },
  {
   "cell_type": "code",
   "execution_count": null,
   "metadata": {},
   "outputs": [],
   "source": [
    "yn[\"Purchasing Location\"].value_counts()\n",
    "yn[yn[\"Purchasing Location\"]==\"mass-consumer electronics\"]\n"
   ]
  },
  {
   "cell_type": "code",
   "execution_count": null,
   "metadata": {},
   "outputs": [],
   "source": [
    "sb.pairplot(yn.loc[:, yn.columns != 'ID'],hue = \"Favorite feature\")\n",
    "sb.pairplot(yn.loc[:, yn.columns != 'ID'],hue = \"Purchasing Location\")"
   ]
  },
  {
   "cell_type": "code",
   "execution_count": null,
   "metadata": {},
   "outputs": [],
   "source": [
    "sb.pairplot(on.loc[:, on.columns != 'ID'],hue = \"Favorite feature\")\n",
    "sb.pairplot(on.loc[:, on.columns != 'ID'],hue = \"Purchasing Location\")"
   ]
  },
  {
   "cell_type": "code",
   "execution_count": null,
   "metadata": {},
   "outputs": [],
   "source": []
  },
  {
   "cell_type": "code",
   "execution_count": null,
   "metadata": {},
   "outputs": [],
   "source": []
  },
  {
   "cell_type": "code",
   "execution_count": null,
   "metadata": {},
   "outputs": [],
   "source": []
  },
  {
   "cell_type": "code",
   "execution_count": null,
   "metadata": {},
   "outputs": [],
   "source": []
  }
 ],
 "metadata": {
  "kernelspec": {
   "display_name": "Python 3",
   "language": "python",
   "name": "python3"
  },
  "language_info": {
   "codemirror_mode": {
    "name": "ipython",
    "version": 3
   },
   "file_extension": ".py",
   "mimetype": "text/x-python",
   "name": "python",
   "nbconvert_exporter": "python",
   "pygments_lexer": "ipython3",
   "version": "3.6.3"
  }
 },
 "nbformat": 4,
 "nbformat_minor": 2
}
