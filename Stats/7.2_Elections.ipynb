{
 "cells": [
  {
   "cell_type": "code",
   "execution_count": null,
   "metadata": {},
   "outputs": [],
   "source": [
    "election_data = {\n",
    "    'alpha': 0.001,  # fixed prior hyperparameters for the\n",
    "    'beta': 0.001,   # gamma distribution\n",
    "    'count': len(hour_13),  # count of datapoints\n",
    "    'calls': hour_13\n",
    "}"
   ]
  },
  {
   "cell_type": "code",
   "execution_count": null,
   "metadata": {},
   "outputs": [],
   "source": [
    "election_stan = \"\"\"\n",
    "data {\n",
    "    real<lower=0> alpha;  // fixed prior hyperparameter\n",
    "    real<lower=0> beta;   // fixed prior hyperparameter\n",
    "    int<lower=0> count;   // number of datapoints\n",
    "    real<lower=0> calls[count];  // datapoints   \n",
    "}\n",
    "\n",
    "parameters {\n",
    "    real<lower=0> lambda;  // rate for exponential distribution\n",
    "}\n",
    "\n",
    "model {\n",
    "    lambda ~ gamma(alpha, beta);    // prior over lambda\n",
    "    for(i in 1:count) {\n",
    "        calls[i] ~ exponential(lambda);  // likelihood function\n",
    "    }\n",
    "    \n",
    "}\n",
    "\n",
    "\"\"\""
   ]
  },
  {
   "cell_type": "code",
   "execution_count": null,
   "metadata": {},
   "outputs": [],
   "source": [
    "election_model = pystan.StanModel(model_code=exp_gamma_stan)"
   ]
  },
  {
   "cell_type": "code",
   "execution_count": null,
   "metadata": {},
   "outputs": [],
   "source": [
    "election_results = exp_gamma_model.sampling(data=exp_gamma_data)\n",
    "election_samples = exp_gamma_results.extract()\n"
   ]
  }
 ],
 "metadata": {
  "kernelspec": {
   "display_name": "Python 3",
   "language": "python",
   "name": "python3"
  },
  "language_info": {
   "codemirror_mode": {
    "name": "ipython",
    "version": 3
   },
   "file_extension": ".py",
   "mimetype": "text/x-python",
   "name": "python",
   "nbconvert_exporter": "python",
   "pygments_lexer": "ipython3",
   "version": "3.7.4"
  }
 },
 "nbformat": 4,
 "nbformat_minor": 2
}
