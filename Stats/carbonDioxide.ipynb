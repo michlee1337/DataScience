{
 "cells": [
  {
   "cell_type": "code",
   "execution_count": 3,
   "metadata": {},
   "outputs": [],
   "source": [
    "import pystan\n",
    "import numpy as np\n",
    "from scipy import stats\n",
    "import matplotlib.pyplot as plt\n",
    "import pandas as pd\n",
    "import seaborn\n",
    "\n",
    "%matplotlib inline"
   ]
  },
  {
   "cell_type": "code",
   "execution_count": 4,
   "metadata": {},
   "outputs": [],
   "source": [
    "### Import get columns and rows\n",
    "data = pd.read_csv(\"co2.csv\",sep=',', comment='\"',header=None)\n"
   ]
  },
  {
   "cell_type": "code",
   "execution_count": 5,
   "metadata": {},
   "outputs": [
    {
     "ename": "NameError",
     "evalue": "name 'curly' is not defined",
     "output_type": "error",
     "traceback": [
      "\u001b[0;31m---------------------------------------------------------------------------\u001b[0m",
      "\u001b[0;31mNameError\u001b[0m                                 Traceback (most recent call last)",
      "\u001b[0;32m<ipython-input-5-5ca0084ddff3>\u001b[0m in \u001b[0;36m<module>\u001b[0;34m\u001b[0m\n\u001b[1;32m     34\u001b[0m \u001b[0mplot_x\u001b[0m \u001b[0;34m=\u001b[0m \u001b[0mnp\u001b[0m\u001b[0;34m.\u001b[0m\u001b[0mlinspace\u001b[0m\u001b[0;34m(\u001b[0m\u001b[0;36m0\u001b[0m\u001b[0;34m,\u001b[0m \u001b[0;36m5\u001b[0m\u001b[0;34m,\u001b[0m \u001b[0;36m501\u001b[0m\u001b[0;34m)\u001b[0m\u001b[0;34m\u001b[0m\u001b[0;34m\u001b[0m\u001b[0m\n\u001b[1;32m     35\u001b[0m \u001b[0mplt\u001b[0m\u001b[0;34m.\u001b[0m\u001b[0mfigure\u001b[0m\u001b[0;34m(\u001b[0m\u001b[0mfigsize\u001b[0m\u001b[0;34m=\u001b[0m\u001b[0;34m(\u001b[0m\u001b[0;36m12\u001b[0m\u001b[0;34m,\u001b[0m \u001b[0;36m6\u001b[0m\u001b[0;34m)\u001b[0m\u001b[0;34m)\u001b[0m\u001b[0;34m\u001b[0m\u001b[0;34m\u001b[0m\u001b[0m\n\u001b[0;32m---> 36\u001b[0;31m \u001b[0mplt\u001b[0m\u001b[0;34m.\u001b[0m\u001b[0mplot\u001b[0m\u001b[0;34m(\u001b[0m\u001b[0mplot_x\u001b[0m\u001b[0;34m,\u001b[0m \u001b[0mcurly\u001b[0m\u001b[0;34m(\u001b[0m\u001b[0mplot_x\u001b[0m\u001b[0;34m)\u001b[0m\u001b[0;34m)\u001b[0m\u001b[0;34m\u001b[0m\u001b[0;34m\u001b[0m\u001b[0m\n\u001b[0m\u001b[1;32m     37\u001b[0m \u001b[0mplt\u001b[0m\u001b[0;34m.\u001b[0m\u001b[0mtitle\u001b[0m\u001b[0;34m(\u001b[0m\u001b[0;34m'The standard form of the periodic function'\u001b[0m\u001b[0;34m)\u001b[0m\u001b[0;34m\u001b[0m\u001b[0;34m\u001b[0m\u001b[0m\n\u001b[1;32m     38\u001b[0m \u001b[0mplt\u001b[0m\u001b[0;34m.\u001b[0m\u001b[0mshow\u001b[0m\u001b[0;34m(\u001b[0m\u001b[0;34m)\u001b[0m\u001b[0;34m\u001b[0m\u001b[0;34m\u001b[0m\u001b[0m\n",
      "\u001b[0;31mNameError\u001b[0m: name 'curly' is not defined"
     ]
    },
    {
     "data": {
      "text/plain": [
       "<Figure size 864x432 with 0 Axes>"
      ]
     },
     "metadata": {},
     "output_type": "display_data"
    }
   ],
   "source": [
    "def periodic(x, A=1, lambd=1, phi=0, sigma=0):\n",
    "    '''\n",
    "    A periodic triangle function with specified amplitude, frequency, phase,\n",
    "    and optional noise added to the function value.\n",
    "\n",
    "    Inputs:\n",
    "\n",
    "        x (float or array): The input value(s) at which to evaluate the\n",
    "          function.\n",
    "\n",
    "        A (float): The amplitude of the function. The non-noisy function\n",
    "          value will vary from -A to A. Default: 1.\n",
    "\n",
    "        lambda (float): The frequency of the function. There will will be\n",
    "          lambda waves per unit of `x`. Default: 1.\n",
    "\n",
    "        phi (float): The phase offset of the function. The graph of the\n",
    "          function moves to the left by this many waves. Note that `phi`\n",
    "          is periodic in the range [0, 1], so setting `phi = 1.2` will\n",
    "          have the same effect as setting `phi = 0.2` or `phi = `2.2`.\n",
    "          Default: 0.\n",
    "\n",
    "        sigma (float): The amount of noise to add to the function value,\n",
    "          interpreted as the standard deviation of zero-mean Gaussian\n",
    "          noise. Default: 0.\n",
    "\n",
    "    Returns: (float or array) matching the dimensions of `x` with the\n",
    "      periodic function values.\n",
    "    '''\n",
    "    return (\n",
    "        A * (4 * abs((lambd * x + phi) % 1 - 0.5) - 1) +\n",
    "        stats.norm.rvs(0, sigma, size=np.shape(x)))\n",
    "\n",
    "plot_x = np.linspace(0, 5, 501)\n",
    "plt.figure(figsize=(12, 6))\n",
    "plt.plot(plot_x, periodic(plot_x))\n",
    "plt.title('The standard form of the periodic function')\n",
    "plt.show()"
   ]
  },
  {
   "cell_type": "code",
   "execution_count": null,
   "metadata": {
    "scrolled": true
   },
   "outputs": [],
   "source": [
    "1/46"
   ]
  },
  {
   "cell_type": "code",
   "execution_count": null,
   "metadata": {
    "scrolled": true
   },
   "outputs": [],
   "source": [
    "import math\n",
    "\n",
    "def guess(xlist):\n",
    "    ret = []\n",
    "    for x in xlist:\n",
    "        # A * (4 * fabs(fmod(lambda * t + phi, 1) - 0.5) - 1)\n",
    "        poly = 316 + 0.015*x +0.000005*x**2\n",
    "        curly = periodic(x, A=3, lambd=1/46, phi=0.9, sigma=0.2)\n",
    "        ret.append(poly+curly)\n",
    "    return(ret)"
   ]
  },
  {
   "cell_type": "code",
   "execution_count": null,
   "metadata": {},
   "outputs": [],
   "source": [
    "xshort = [x for x in range(400)]\n",
    "\n",
    "plt.plot(xshort,data.loc[:399][1]);\n",
    "plt.plot(xshort,guess(xshort));\n",
    "\n",
    "plt.show();"
   ]
  },
  {
   "cell_type": "code",
   "execution_count": null,
   "metadata": {},
   "outputs": [],
   "source": [
    "tx = [x for x in range(3139)]\n",
    "plt.plot(tx,data.loc[:][1]);\n",
    "plt.plot(tx,guess(tx),alpha=0.5);\n",
    "plt.show();"
   ]
  },
  {
   "cell_type": "code",
   "execution_count": 130,
   "metadata": {},
   "outputs": [
    {
     "data": {
      "image/png": "[encoded data removed]",
      "text/plain": [
       "<Figure size 432x288 with 1 Axes>"
      ]
     },
     "metadata": {
      "needs_background": "light"
     },
     "output_type": "display_data"
    }
   ],
   "source": [
    "\n",
    "\n",
    "plt.plot([x for x in range(10)],[stats.gamma.pdf(x,0.1,0.1) for x in range(10)]);\n",
    "plt.show();"
   ]
  },
  {
   "cell_type": "code",
   "execution_count": 15,
   "metadata": {},
   "outputs": [],
   "source": [
    "# setup model data\n",
    "\n",
    "n = 1500\n",
    "n_future = 3139 - n\n"
   ]
  },
  {
   "cell_type": "code",
   "execution_count": 16,
   "metadata": {},
   "outputs": [],
   "source": [
    "stan_data = {\n",
    "    'n': n,\n",
    "    'n_future': n_future,\n",
    "    'x': data.loc[:n-1][1]}  # Stan gets to see the first n data values only\n"
   ]
  },
  {
   "cell_type": "markdown",
   "metadata": {},
   "source": [
    "Note on the model\n",
    "\n",
    "It should be roughly linear, with sinusoidal noise.\n",
    "\n",
    "        poly = 316 + 0.015*x +0.000005*x**2\n",
    "        curly = periodic(x, A=3, lambd=1/46, phi=0.9, sigma=0.2)\n"
   ]
  },
  {
   "cell_type": "code",
   "execution_count": 166,
   "metadata": {},
   "outputs": [
    {
     "ename": "ValueError",
     "evalue": "Failed to parse Stan model 'anon_model_79b10b4ae7c0d97b4e04c9a401755892'. Error message:\nSYNTAX ERROR, MESSAGE(S) FROM PARSER:\nIllegal statement beginning with non-void expression parsed as\n  sigma\nNot a legal assignment, sampling, or function statement.  Note that\n  * Assignment statements only allow variables (with optional indexes) on the left;\n  * Sampling statements allow arbitrary value-denoting expressions on the left.\n  * Functions used as statements must be declared to have void returns\n\n error in 'unknown file name' at line 58, column 12\n  -------------------------------------------------\n    56:             C1 + C2*t + C2*t^2,sigma);\n    57:             // + A * (4 * fabs(fmod(lambda * (t + n) + phi, 1) - 0.5) - 1),\n    58:             sigma\n                   ^\n    59:     }\n  -------------------------------------------------\n\nPARSER EXPECTED: \"}\"\n",
     "output_type": "error",
     "traceback": [
      "\u001b[0;31m---------------------------------------------------------------------------\u001b[0m",
      "\u001b[0;31mValueError\u001b[0m                                Traceback (most recent call last)",
      "\u001b[0;32m<ipython-input-166-e625ea6a05e6>\u001b[0m in \u001b[0;36m<module>\u001b[0;34m\u001b[0m\n\u001b[1;32m     64\u001b[0m \"\"\"\n\u001b[1;32m     65\u001b[0m \u001b[0;34m\u001b[0m\u001b[0m\n\u001b[0;32m---> 66\u001b[0;31m \u001b[0mstan_model\u001b[0m \u001b[0;34m=\u001b[0m \u001b[0mpystan\u001b[0m\u001b[0;34m.\u001b[0m\u001b[0mStanModel\u001b[0m\u001b[0;34m(\u001b[0m\u001b[0mmodel_code\u001b[0m\u001b[0;34m=\u001b[0m\u001b[0mstan_code\u001b[0m\u001b[0;34m)\u001b[0m\u001b[0;34m\u001b[0m\u001b[0;34m\u001b[0m\u001b[0m\n\u001b[0m",
      "\u001b[0;32m/usr/local/lib/python3.7/site-packages/pystan/model.py\u001b[0m in \u001b[0;36m__init__\u001b[0;34m(self, file, charset, model_name, model_code, stanc_ret, include_paths, boost_lib, eigen_lib, verbose, obfuscate_model_name, extra_compile_args)\u001b[0m\n\u001b[1;32m    221\u001b[0m                                          \u001b[0mverbose\u001b[0m\u001b[0;34m=\u001b[0m\u001b[0mverbose\u001b[0m\u001b[0;34m,\u001b[0m\u001b[0;34m\u001b[0m\u001b[0;34m\u001b[0m\u001b[0m\n\u001b[1;32m    222\u001b[0m                                          \u001b[0minclude_paths\u001b[0m\u001b[0;34m=\u001b[0m\u001b[0minclude_paths\u001b[0m\u001b[0;34m,\u001b[0m\u001b[0;34m\u001b[0m\u001b[0;34m\u001b[0m\u001b[0m\n\u001b[0;32m--> 223\u001b[0;31m                                          obfuscate_model_name=obfuscate_model_name)\n\u001b[0m\u001b[1;32m    224\u001b[0m \u001b[0;34m\u001b[0m\u001b[0m\n\u001b[1;32m    225\u001b[0m         \u001b[0;32mif\u001b[0m \u001b[0;32mnot\u001b[0m \u001b[0misinstance\u001b[0m\u001b[0;34m(\u001b[0m\u001b[0mstanc_ret\u001b[0m\u001b[0;34m,\u001b[0m \u001b[0mdict\u001b[0m\u001b[0;34m)\u001b[0m\u001b[0;34m:\u001b[0m\u001b[0;34m\u001b[0m\u001b[0;34m\u001b[0m\u001b[0m\n",
      "\u001b[0;32m/usr/local/lib/python3.7/site-packages/pystan/api.py\u001b[0m in \u001b[0;36mstanc\u001b[0;34m(file, charset, model_code, model_name, include_paths, verbose, obfuscate_model_name)\u001b[0m\n\u001b[1;32m    165\u001b[0m             \u001b[0mmsg\u001b[0m \u001b[0;34m=\u001b[0m \u001b[0mmsg\u001b[0m\u001b[0;34m.\u001b[0m\u001b[0mencode\u001b[0m\u001b[0;34m(\u001b[0m\u001b[0;34m'ascii'\u001b[0m\u001b[0;34m,\u001b[0m \u001b[0;34m'replace'\u001b[0m\u001b[0;34m)\u001b[0m\u001b[0;34m\u001b[0m\u001b[0;34m\u001b[0m\u001b[0m\n\u001b[1;32m    166\u001b[0m         \u001b[0merror_msg\u001b[0m \u001b[0;34m=\u001b[0m \u001b[0;34m\"Failed to parse Stan model '{}'. Error message:\\n{}\"\u001b[0m\u001b[0;34m.\u001b[0m\u001b[0mformat\u001b[0m\u001b[0;34m(\u001b[0m\u001b[0mmodel_name\u001b[0m\u001b[0;34m,\u001b[0m \u001b[0mmsg\u001b[0m\u001b[0;34m)\u001b[0m\u001b[0;34m\u001b[0m\u001b[0;34m\u001b[0m\u001b[0m\n\u001b[0;32m--> 167\u001b[0;31m         \u001b[0;32mraise\u001b[0m \u001b[0mValueError\u001b[0m\u001b[0;34m(\u001b[0m\u001b[0merror_msg\u001b[0m\u001b[0;34m)\u001b[0m\u001b[0;34m\u001b[0m\u001b[0;34m\u001b[0m\u001b[0m\n\u001b[0m\u001b[1;32m    168\u001b[0m     \u001b[0;32melif\u001b[0m \u001b[0mresult\u001b[0m\u001b[0;34m[\u001b[0m\u001b[0;34m'status'\u001b[0m\u001b[0;34m]\u001b[0m \u001b[0;34m==\u001b[0m \u001b[0;36m0\u001b[0m\u001b[0;34m:\u001b[0m  \u001b[0;31m# SUCCESS_RC is 0\u001b[0m\u001b[0;34m\u001b[0m\u001b[0;34m\u001b[0m\u001b[0m\n\u001b[1;32m    169\u001b[0m         \u001b[0mlogger\u001b[0m\u001b[0;34m.\u001b[0m\u001b[0mdebug\u001b[0m\u001b[0;34m(\u001b[0m\u001b[0;34m\"Successfully parsed Stan model '{}'.\"\u001b[0m\u001b[0;34m.\u001b[0m\u001b[0mformat\u001b[0m\u001b[0;34m(\u001b[0m\u001b[0mmodel_name\u001b[0m\u001b[0;34m)\u001b[0m\u001b[0;34m)\u001b[0m\u001b[0;34m\u001b[0m\u001b[0;34m\u001b[0m\u001b[0m\n",
      "\u001b[0;31mValueError\u001b[0m: Failed to parse Stan model 'anon_model_79b10b4ae7c0d97b4e04c9a401755892'. Error message:\nSYNTAX ERROR, MESSAGE(S) FROM PARSER:\nIllegal statement beginning with non-void expression parsed as\n  sigma\nNot a legal assignment, sampling, or function statement.  Note that\n  * Assignment statements only allow variables (with optional indexes) on the left;\n  * Sampling statements allow arbitrary value-denoting expressions on the left.\n  * Functions used as statements must be declared to have void returns\n\n error in 'unknown file name' at line 58, column 12\n  -------------------------------------------------\n    56:             C1 + C2*t + C2*t^2,sigma);\n    57:             // + A * (4 * fabs(fmod(lambda * (t + n) + phi, 1) - 0.5) - 1),\n    58:             sigma\n                   ^\n    59:     }\n  -------------------------------------------------\n\nPARSER EXPECTED: \"}\"\n"
     ]
    }
   ],
   "source": [
    "# The Stan model. Running this cell compiles the Stan model, which takes\n",
    "# some time.\n",
    "\n",
    "stan_code = \"\"\"\n",
    "data {\n",
    "    int<lower=0> n;        // The number of data\n",
    "    real x[n];             // The data\n",
    "    int<lower=0> n_future; // The number of future values to predict\n",
    "}\n",
    "\n",
    "parameters {\n",
    "    // ___ FOR POLY ___\n",
    "    real C1;                // constant\n",
    "    real C2;                // x multiplier\n",
    "    real C3;                // x^2 multiplier\n",
    "    \n",
    "    // ___ FOR PERIODIC ___\n",
    "    real<lower=0> A;        // amplitude\n",
    "    real<lower=0> lambda;   // frequency\n",
    "\n",
    "    // We need a periodic phi\n",
    "    real phi_x;             // x offset\n",
    "    real phi_y;             // y offset\n",
    "    \n",
    "    // ___ MORE NOISE ___\n",
    "    real<lower=0,upper=1> sigma;    // deviation\n",
    "\n",
    "}\n",
    "\n",
    "transformed parameters {\n",
    "    real<lower=0,upper=1> phi;\n",
    "\n",
    "    // The atan2 function returns a value in the range [-pi, pi], which we\n",
    "    // then transform linearly into the range [0, 1].\n",
    "    phi = (atan2(phi_x, phi_y) / (2 * pi()) + 0.5);\n",
    "}\n",
    "\n",
    "model {\n",
    "    A ~ normal(3, 1);\n",
    "    phi_x ~ normal(0, 1);\n",
    "    phi_y ~ normal(0, 1);\n",
    "    C1 ~ normal(310, 100);       // uncertain\n",
    "    C2 ~ normal(0,1);        // uncertain\n",
    "    C3 ~ normal(0,1);    // uncertain\n",
    "    sigma ~ gamma(1, 0.3);\n",
    "    for(t in 1:n) {\n",
    "        x[t] ~ normal(\n",
    "            C1 + C2*t + C2*t^2 + A * (4 * fabs(fmod(lambda * t + phi, 1) - 0.5) - 1),\n",
    "            sigma);\n",
    "    }\n",
    "}\n",
    "\n",
    "// Generate the predicted function values for the next n_future steps.\n",
    "generated quantities {\n",
    "    real x_future[n_future];\n",
    "    for(t in 1:n_future) {\n",
    "        x_future[t] = normal_rng(\n",
    "            C1 + C2*t + C2*t^2+ A * (4 * fabs(fmod(lambda * t + phi, 1) - 0.5) - 1),\n",
    "            sigma);\n",
    "    }\n",
    "}\n",
    "\"\"\"\n",
    "\n",
    "stan_model = pystan.StanModel(model_code=stan_code)"
   ]
  },
  {
   "cell_type": "code",
   "execution_count": null,
   "metadata": {},
   "outputs": [],
   "source": [
    "# Run Hamiltonian Monte Carlo using Stan with 4 Markov chains, a 1000 step\n",
    "# warm-up phase and 1000 step sampling phase for each chain. The warm-up samples\n",
    "# are discarded, so we are left with 4 x 1000 = 4000 samples.\n",
    "\n",
    "# This cell will take a minute or two to run.\n",
    "\n",
    "parameters = ['C1','C2','C3','A', 'lambda', 'phi', 'sigma'] #,'A', 'lambda', 'phi', 'sigma'\n",
    "\n",
    "results = stan_model.sampling(data=stan_data)\n",
    "print(results.stansummary(pars=parameters))\n",
    "samples = results.extract()"
   ]
  },
  {
   "cell_type": "code",
   "execution_count": 2,
   "metadata": {},
   "outputs": [
    {
     "ename": "NameError",
     "evalue": "name 'parameters' is not defined",
     "output_type": "error",
     "traceback": [
      "\u001b[0;31m---------------------------------------------------------------------------\u001b[0m",
      "\u001b[0;31mNameError\u001b[0m                                 Traceback (most recent call last)",
      "\u001b[0;32m<ipython-input-2-dd6433d0d9e3>\u001b[0m in \u001b[0;36m<module>\u001b[0;34m\u001b[0m\n\u001b[1;32m     12\u001b[0m \u001b[0;34m\u001b[0m\u001b[0m\n\u001b[1;32m     13\u001b[0m \u001b[0;34m\u001b[0m\u001b[0m\n\u001b[0;32m---> 14\u001b[0;31m \u001b[0;32mfor\u001b[0m \u001b[0mparam\u001b[0m \u001b[0;32min\u001b[0m \u001b[0mparameters\u001b[0m\u001b[0;34m:\u001b[0m\u001b[0;34m\u001b[0m\u001b[0;34m\u001b[0m\u001b[0m\n\u001b[0m\u001b[1;32m     15\u001b[0m     \u001b[0mplt\u001b[0m\u001b[0;34m.\u001b[0m\u001b[0mfigure\u001b[0m\u001b[0;34m(\u001b[0m\u001b[0mfigsize\u001b[0m\u001b[0;34m=\u001b[0m\u001b[0;34m(\u001b[0m\u001b[0;36m12\u001b[0m\u001b[0;34m,\u001b[0m \u001b[0;36m4\u001b[0m\u001b[0;34m)\u001b[0m\u001b[0;34m)\u001b[0m\u001b[0;34m\u001b[0m\u001b[0;34m\u001b[0m\u001b[0m\n\u001b[1;32m     16\u001b[0m     \u001b[0mplot_acf\u001b[0m\u001b[0;34m(\u001b[0m\u001b[0msamples\u001b[0m\u001b[0;34m[\u001b[0m\u001b[0mparam\u001b[0m\u001b[0;34m]\u001b[0m\u001b[0;34m)\u001b[0m\u001b[0;34m\u001b[0m\u001b[0;34m\u001b[0m\u001b[0m\n",
      "\u001b[0;31mNameError\u001b[0m: name 'parameters' is not defined"
     ]
    }
   ],
   "source": [
    "# Plot sample autocorrelation for each parameter.\n",
    "\n",
    "def plot_acf(x):\n",
    "    '''\n",
    "    Plot the autocorrelation function for a series x. This corresponds to the\n",
    "    acf() function in R. The series x is detrended by subtracting the mean of\n",
    "    the series before computing the autocorrelation.\n",
    "    '''\n",
    "    from scipy import signal\n",
    "    plt.acorr(\n",
    "        x, maxlags=20, detrend=lambda x: signal.detrend(x, type='constant'))\n",
    "\n",
    "\n",
    "for param in parameters:\n",
    "    plt.figure(figsize=(12, 4))\n",
    "    plot_acf(samples[param])\n",
    "    plt.title(f'Autocorrelation of {param} samples')\n",
    "\n",
    "plt.show()"
   ]
  },
  {
   "cell_type": "code",
   "execution_count": 168,
   "metadata": {
    "scrolled": false
   },
   "outputs": [
    {
     "data": {
      "image/png": "[encoded data removed]",
      "text/plain": [
       "<Figure size 540x540 with 12 Axes>"
      ]
     },
     "metadata": {
      "needs_background": "light"
     },
     "output_type": "display_data"
    }
   ],
   "source": [
    "# Make pair plot of the posteriors over all parameters of the model.\n",
    "df = pd.DataFrame(\n",
    "    data=np.transpose([samples[param] for param in parameters]),\n",
    "    columns=parameters)\n",
    "seaborn.pairplot(df, size=2.5, plot_kws={'marker': '.', 'alpha': 0.25})\n",
    "plt.show()"
   ]
  },
  {
   "cell_type": "code",
   "execution_count": 169,
   "metadata": {
    "scrolled": true
   },
   "outputs": [
    {
     "data": {
      "text/plain": [
       "[<matplotlib.lines.Line2D at 0x121c6fd10>]"
      ]
     },
     "execution_count": 169,
     "metadata": {},
     "output_type": "execute_result"
    },
    {
     "data": {
      "image/png": "[encoded data removed]",
      "text/plain": [
       "<Figure size 432x288 with 1 Axes>"
      ]
     },
     "metadata": {
      "needs_background": "light"
     },
     "output_type": "display_data"
    }
   ],
   "source": [
    "#'C1','C2','C3','A', 'lambda', 'phi', 'sigma'\n",
    "pi_c1 = np.percentile(samples[\"C1\"], axis=0, q=[2.5, 97.5])\n",
    "pi_c2 = np.percentile(samples[\"C2\"], axis=0, q=[2.5, 97.5])\n",
    "pi_c3 = np.percentile(samples[\"C3\"], axis=0, q=[2.5, 97.5])\n",
    "pi_A = np.percentile(samples[\"A\"], axis=0, q=[2.5, 97.5])\n",
    "pi_L = np.percentile(samples[\"lambda\"], axis=0, q=[2.5, 97.5])\n",
    "pi_P = np.percentile(samples[\"phi\"], axis=0, q=[2.5, 97.5])\n",
    "pi_S = np.percentile(samples[\"sigma\"], axis=0, q=[2.5, 97.5])\n",
    "\n",
    "import math\n",
    "'''\n",
    "\n",
    "import math\n",
    "\n",
    "def guess(xlist):\n",
    "    ret = []\n",
    "    for x in xlist:\n",
    "        # A * (4 * fabs(fmod(lambda * t + phi, 1) - 0.5) - 1)\n",
    "        poly = 316 + 0.015*x +0.000005*x**2\n",
    "        curly = periodic(x, A=3, lambd=1/46, phi=0.9, sigma=0.2)\n",
    "        ret.append(poly+curly)\n",
    "    return(ret)\n",
    "    \n",
    "    '''\n",
    "pL = []\n",
    "pU = []\n",
    "# A * (4 * fabs(fmod(lambda * t + phi, 1) - 0.5) - 1)\n",
    "for t in range(N):\n",
    "    #A * (4 * abs((lambd * x + phi) % 1 - 0.5) - 1)\n",
    "    pL.append(stats.norm.rvs(pi_c1[0] + pi_c2[0]*t + pi_c3[0]*t**2 + pi_A[0]*math.cos((2*math.pi*t)/362.5 + pi_c3[0]), pi_c4[0]))\n",
    "    pU.append(stats.norm.rvs(pi_c1[1] + pi_c2[1]*t + pi_c3[1]*t**2 + pi_A[1]*math.cos((2*math.pi*t)/362.5 + pi_c3[1]), pi_c4[1]))\n",
    "\n",
    "    "
   ]
  },
  {
   "cell_type": "code",
   "execution_count": 170,
   "metadata": {},
   "outputs": [
    {
     "data": {
      "text/plain": [
       "array([[-1.77313077e+00, -1.22099938e+00, -5.26402771e-01, ...,\n",
       "         6.73822403e+02,  6.73873858e+02,  6.76538028e+02],\n",
       "       [-1.74201798e+00, -3.29680801e-01, -1.44342863e+00, ...,\n",
       "         6.74127789e+02,  6.76858468e+02,  6.76528789e+02],\n",
       "       [-1.64550621e+00, -2.04892113e+00, -2.00416782e+00, ...,\n",
       "         6.75121428e+02,  6.75566213e+02,  6.75868972e+02],\n",
       "       ...,\n",
       "       [-1.88374996e+00, -3.02849833e+00, -2.82452115e+00, ...,\n",
       "         6.75107457e+02,  6.75942681e+02,  6.76409610e+02],\n",
       "       [-8.43892674e-01, -9.74166690e-01, -2.70264577e+00, ...,\n",
       "         6.76125390e+02,  6.76398126e+02,  6.76171584e+02],\n",
       "       [-3.14866158e+00, -2.22246310e+00, -1.31182408e+00, ...,\n",
       "         6.75027836e+02,  6.73851764e+02,  6.76241691e+02]])"
      ]
     },
     "execution_count": 170,
     "metadata": {},
     "output_type": "execute_result"
    }
   ],
   "source": [
    "samples['x_future']"
   ]
  },
  {
   "cell_type": "code",
   "execution_count": 171,
   "metadata": {},
   "outputs": [
    {
     "data": {
      "image/png": "[encoded data removed]",
      "text/plain": [
       "<Figure size 864x432 with 1 Axes>"
      ]
     },
     "metadata": {
      "needs_background": "light"
     },
     "output_type": "display_data"
    }
   ],
   "source": [
    "prediction = samples['x_future']\n",
    "\n",
    "# Compute 95% interval of the predicted values\n",
    "prediction_interval = np.percentile(prediction, axis=0, q=[2.5, 97.5])\n",
    "\n",
    "# Plot mean and 95% interval of predictions\n",
    "plt.figure(figsize=(12, 6))\n",
    "plt.plot(range(1, n + 1), data[:n][1], 'k-', label='observed')\n",
    "plt.plot(range(n, n + n_future + 1), data[n-1:][1], 'k--', label='unobserved')\n",
    "plt.xlim(0, n + n_future + 1)\n",
    "plt.ylim(\n",
    "    min(min(prediction[0,:]), min(data)),\n",
    "    max(max(prediction[1,:]), max(data)))\n",
    "plt.plot(\n",
    "    range(n, n + n_future + 1),\n",
    "    np.concatenate((data[-1:][1], prediction_interval[0,:])),\n",
    "    'b-', label='prediction 95% interval')\n",
    "plt.plot(\n",
    "    range(n, n + n_future + 1),\n",
    "    np.concatenate((data[-1:][1], prediction_interval[1,:])),\n",
    "    'b-')\n",
    "plt.axvline(n - 1, color='red')\n",
    "plt.xlabel('x')\n",
    "plt.ylabel('f(x)')\n",
    "plt.legend()\n",
    "plt.title('Observed data, unobserved future data, and predicted 95% interval')\n",
    "plt.show()"
   ]
  },
  {
   "cell_type": "code",
   "execution_count": null,
   "metadata": {},
   "outputs": [],
   "source": []
  },
  {
   "cell_type": "code",
   "execution_count": null,
   "metadata": {},
   "outputs": [],
   "source": []
  },
  {
   "cell_type": "code",
   "execution_count": null,
   "metadata": {},
   "outputs": [],
   "source": []
  }
 ],
 "metadata": {
  "kernelspec": {
   "display_name": "Python 3",
   "language": "python",
   "name": "python3"
  },
  "language_info": {
   "codemirror_mode": {
    "name": "ipython",
    "version": 3
   },
   "file_extension": ".py",
   "mimetype": "text/x-python",
   "name": "python",
   "nbconvert_exporter": "python",
   "pygments_lexer": "ipython3",
   "version": "3.7.4"
  }
 },
 "nbformat": 4,
 "nbformat_minor": 2
}
