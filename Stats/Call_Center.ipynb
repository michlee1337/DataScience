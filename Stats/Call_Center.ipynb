{
 "cells": [
  {
   "cell_type": "markdown",
   "metadata": {},
   "source": [
    "# Call Center Data Modelling"
   ]
  },
  {
   "cell_type": "markdown",
   "metadata": {},
   "source": [
    "## Posterior Confidence Intervals"
   ]
  },
  {
   "cell_type": "markdown",
   "metadata": {},
   "source": [
    "### Preprocessing"
   ]
  },
  {
   "cell_type": "code",
   "execution_count": 1,
   "metadata": {},
   "outputs": [],
   "source": [
    "import numpy as np\n",
    "import scipy as sp\n",
    "import scipy.stats as sts\n",
    "import matplotlib.pyplot as plt\n",
    "\n",
    "%matplotlib inline"
   ]
  },
  {
   "cell_type": "code",
   "execution_count": 2,
   "metadata": {},
   "outputs": [
    {
     "name": "stdout",
     "output_type": "stream",
     "text": [
      "Size of data set: 5856\n",
      "First 3 values in data set: [30.   3.4  3.2]\n",
      "Sum of data set: 1441.6838153800093\n"
     ]
    }
   ],
   "source": [
    "# Load the data set containing durations between calls arriving at the call\n",
    "# center during 1 day. All values are in minutes.\n",
    "waiting_times_day = np.loadtxt('call_center.csv')\n",
    "\n",
    "# Display some basic information about the data set.\n",
    "print('Size of data set:', len(waiting_times_day))\n",
    "print('First 3 values in data set:', waiting_times_day[:3])\n",
    "print('Sum of data set:', sum(waiting_times_day))"
   ]
  },
  {
   "cell_type": "code",
   "execution_count": 3,
   "metadata": {},
   "outputs": [],
   "source": [
    "# Make 24 empty lists, one per hour.\n",
    "waiting_times_per_hour = [[] for _ in range(24)]\n",
    "\n",
    "# Split the data into 24 separate series, one for each hour of the day.\n",
    "current_time = 0\n",
    "for t in waiting_times_day:\n",
    "    current_hour = int(current_time // 60)\n",
    "    current_time += t\n",
    "    waiting_times_per_hour[current_hour].append(t)\n"
   ]
  },
  {
   "cell_type": "markdown",
   "metadata": {},
   "source": [
    "### Model"
   ]
  },
  {
   "cell_type": "markdown",
   "metadata": {},
   "source": [
    "Likelihood: Exponential Distribution as it is the simplest Model that fits the shape of the data\n",
    "\n",
    "Prior: Gamma distribution as it is the conjugate prior and is very customizable.\n",
    "\n",
    "Prior parameters: Since I have very low confidence in my prior estimations, I will set alpha = 0.001, beta = 0.001. This is so that any new data that is evaluated will be much larger relative to these values and hence will quickly/ easily override any effect that the prior parameters might have on the posterior."
   ]
  },
  {
   "cell_type": "markdown",
   "metadata": {},
   "source": [
    "### Calculating Posteriors"
   ]
  },
  {
   "cell_type": "code",
   "execution_count": 4,
   "metadata": {},
   "outputs": [],
   "source": [
    "# for each hour\n",
    "postparams_by_hour = [None for _ in range(24)]\n",
    "for i,times in enumerate(waiting_times_per_hour):\n",
    "    # update posterior \n",
    "    ## Posterior = gamma(alpha+n, beta+sum(x))\n",
    "    alpha = 0.001 + len(times)\n",
    "    beta = 0.001 + sum(times)\n",
    "    postparams_by_hour[i] = (alpha,beta)"
   ]
  },
  {
   "cell_type": "code",
   "execution_count": 5,
   "metadata": {},
   "outputs": [],
   "source": [
    "meanLambda_by_hour = [None for _ in range(24)]\n",
    "test = [None for _ in range(24)]\n",
    "\n",
    "CI_by_hour = [None for _ in range(24)]\n",
    "for i,postparams in enumerate(postparams_by_hour):\n",
    "    meanLambda_by_hour[i] = sts.gamma.mean(postparams[0],scale=1/postparams[1])\n",
    "    CI_by_hour[i] = sts.gamma.interval(0.98,postparams[0],scale=1/postparams[1])"
   ]
  },
  {
   "cell_type": "code",
   "execution_count": 9,
   "metadata": {},
   "outputs": [
    {
     "name": "stdout",
     "output_type": "stream",
     "text": [
      "+---------------------+---------------------------------------------+\n",
      "|         Mean        |           98% Confidence Interval           |\n",
      "+---------------------+---------------------------------------------+\n",
      "| 0.08211687821218043 |  (0.021010976501357217, 0.1905741173766468) |\n",
      "| 0.05989431295938684 | (0.012330265998853741, 0.15039762172137183) |\n",
      "|  0.0783410138248848 | (0.023313163061751994, 0.17114613158238112) |\n",
      "| 0.21717651529545884 |  (0.07889839164578151, 0.4343361636035827)  |\n",
      "|  0.4277113388495008 |   (0.2570052810111013, 0.6466270752684866)  |\n",
      "|  0.8903092506425226 |   (0.6307090239981112, 1.1992303299694524)  |\n",
      "|  1.5809405488769377 |    (1.224724863267216, 1.987105586670805)   |\n",
      "|  2.8763245772201405 |    (2.3921604780349064, 3.40936419319257)   |\n",
      "|  4.257946738995599  |    (3.6611754146965585, 4.90400602944679)   |\n",
      "|  5.735802392371304  |    (5.041950133042432, 6.478541448276308)   |\n",
      "|  8.297251791809659  |   (7.4552276367636425, 9.188469120468492)   |\n",
      "|   15.3897440125383  |    (14.23649658678494, 16.59197490149489)   |\n",
      "|  14.293158361432559 |   (13.182547882215983, 15.452761116026544)  |\n",
      "|  6.359111750941879  |    (5.626773835151244, 7.140400598881653)   |\n",
      "|  3.090235559866644  |   (2.5863724765171474, 3.6432046541860212)  |\n",
      "|  3.449882696221966  |   (2.9166815039065934, 4.032081183391074)   |\n",
      "|  4.381057246707557  |   (3.7771954736577253, 5.0338972437855585)  |\n",
      "|  6.984538535640818  |    (6.215342689560669, 7.802752985135049)   |\n",
      "|   8.81700118530327  |    (7.95137125847753, 9.731460806802628)    |\n",
      "|  6.658450159710849  |   (5.908517434237448, 7.4573321087582976)   |\n",
      "|  2.277963375937035  |   (1.8497935116311295, 2.7550056801108136)  |\n",
      "|  0.817874210205587  |   (0.5752191877669777, 1.1076108701155347)  |\n",
      "|  0.3260093560007171 |  (0.18064693931681702, 0.5190890258828414)  |\n",
      "| 0.27823954928010014 |  (0.14227267236370433, 0.46505143544502114) |\n",
      "+---------------------+---------------------------------------------+\n"
     ]
    }
   ],
   "source": [
    "from prettytable import PrettyTable\n",
    "\n",
    "#print(tabulate([[meanLambda_by_hour[i],CI_by_hour[i]] for i in range(24)], headers=['Mean', '98% Confidence Interval'],tablefmt='orgtbl'))\n",
    "t = PrettyTable([\"Mean\",\"98% Confidence Interval\"])\n",
    "for i in range(24):\n",
    "    t.add_row([meanLambda_by_hour[i],CI_by_hour[i]])\n",
    "print(t)"
   ]
  },
  {
   "cell_type": "markdown",
   "metadata": {},
   "source": [
    "## Plotting Posterior Confidence Intervals"
   ]
  },
  {
   "cell_type": "code",
   "execution_count": 12,
   "metadata": {},
   "outputs": [],
   "source": [
    "CI_by_hour\n",
    "error_bars = [[None for _ in range(24)],[None for _ in range(24)]]\n",
    "for i, ci in enumerate(CI_by_hour):\n",
    "    error_bars[0][i],error_bars[1][i] = (meanLambda_by_hour[i]-ci[0],ci[1]-meanLambda_by_hour[i])\n"
   ]
  },
  {
   "cell_type": "code",
   "execution_count": 13,
   "metadata": {
    "scrolled": false
   },
   "outputs": [
    {
     "data": {
      "image/png": "[encoded data removed]",
      "text/plain": [
       "<Figure size 432x288 with 1 Axes>"
      ]
     },
     "metadata": {
      "needs_background": "light"
     },
     "output_type": "display_data"
    }
   ],
   "source": [
    "fig, ax = plt.subplots()\n",
    "x = np.arange(0,24)\n",
    "ax.errorbar(x, meanLambda_by_hour, yerr=error_bars,fmt='o')\n",
    "plt.xlabel(\"Hour of the day\");\n",
    "plt.ylabel(\"Call rate (calls per minute)\");\n",
    "plt.title(\"Mean and 98% confidence interval over call rate\");"
   ]
  },
  {
   "cell_type": "markdown",
   "metadata": {},
   "source": [
    "## Presenting Findings"
   ]
  },
  {
   "cell_type": "markdown",
   "metadata": {},
   "source": [
    "This plot describes the estimated number of calls we expect per minute (y-axis) differentiated by hour of the day (x-axis). Hour 0 represents midnight, and hour 23 represemts 11pm. The minimum call rate is approximately 0, and the maximum 16. \n",
    "\n",
    "Focusing on the dots in the plot, we can see that almost all of the calls will occur during waking hours (5am to 9pm) with the call rate being almost 0 during the late night (9pm to 5am). The call rate peaks in the early afternooon (12pm) and early evening (5pm), with the afternoon peak being significantly larger. There is a dip in the call rate after lunch time (3pm).\n",
    "\n",
    "The uncertainty of our estimates can be evaluated through the lines visible above and below each dot in the plot. There is a 98% chance that the line contains the true average call rate. However, this is only based on the data that we have. Thus, there is always a danger that we are missing crucial information or that the information we used is wrong. That said, assuming that the data we have is representative of the actual call rates, we can be very certain that these estimates are accurate. "
   ]
  },
  {
   "cell_type": "markdown",
   "metadata": {},
   "source": [
    "_________"
   ]
  },
  {
   "cell_type": "markdown",
   "metadata": {},
   "source": [
    "# Compute Posterior"
   ]
  },
  {
   "cell_type": "markdown",
   "metadata": {},
   "source": [
    "1) Normally you would multiple the prior and likelihood values. In the function, we instead add the logarithms of the prior and likelihood values. This is equivalent because of the log product rule which states that: $$log(ab) = log(a) + log(b)$$\n",
    "\n",
    "2) The sum of the logs in the likelihood calculation is essentially multiplying the likelihood from each datum that we have. It is the same as taking the product of the likelihoods that result from each datum. This is how we incorporate each likelihood resulting from each datapoint into our final posterior.\n",
    "\n",
    "3) It removes the theta that has the largest probability density.\n",
    "\n",
    "4) Because we need to ensure that the final posterior is a valid probablity density function, which means that it needs to integrate to 1. \n",
    "\n",
    "5) An example with very small values would cause a problem if we don't take logs. This is because of rounding errors in multiplication."
   ]
  },
  {
   "cell_type": "code",
   "execution_count": 14,
   "metadata": {},
   "outputs": [],
   "source": [
    "def prior(lambda_):\n",
    "    return sts.gamma(1, scale=1/0.25).pdf(lambda_)\n",
    "\n",
    "\n",
    "def likelihood(lambda_, datum):\n",
    "    return sts.expon(scale=1/lambda_).pdf(datum)\n",
    "\n",
    "def compute_posterior(parameter_values, prior, likelihood, data):\n",
    "    log_prior = np.log(prior(parameter_values))\n",
    "    log_likelihood = np.array([\n",
    "        np.sum(np.log(likelihood(param, data)))\n",
    "        for param in parameter_values])\n",
    "    unnormalized_log_posterior = log_prior + log_likelihood\n",
    "    unnormalized_log_posterior -= max(unnormalized_log_posterior)\n",
    "    unnormalized_posterior = np.exp(unnormalized_log_posterior)\n",
    "    area = sp.integrate.trapz(unnormalized_posterior, parameter_values)\n",
    "    posterior = unnormalized_posterior / area\n",
    "    return posterior"
   ]
  },
  {
   "cell_type": "markdown",
   "metadata": {},
   "source": [
    "**Using Logs, we can still safely compute with small numbers**"
   ]
  },
  {
   "cell_type": "code",
   "execution_count": 15,
   "metadata": {
    "scrolled": true
   },
   "outputs": [
    {
     "data": {
      "text/plain": [
       "[<matplotlib.lines.Line2D at 0x125ea5ad0>]"
      ]
     },
     "execution_count": 15,
     "metadata": {},
     "output_type": "execute_result"
    },
    {
     "data": {
      "image/png": "[encoded data removed]",
      "text/plain": [
       "<Figure size 432x288 with 1 Axes>"
      ]
     },
     "metadata": {
      "needs_background": "light"
     },
     "output_type": "display_data"
    }
   ],
   "source": [
    "x_xs = np.linspace(1,100,100)\n",
    "d_xs = np.linspace(1,0.0001,100)\n",
    "plt.plot(x_xs, compute_posterior(x_xs, prior, likelihood, d_xs))"
   ]
  },
  {
   "cell_type": "markdown",
   "metadata": {},
   "source": [
    "**Using Multiplication, rounding errors make small numbers round to 0 which can not only cause large errors, but can also make us unable to complete calculations due to 0 being an invalid value in many equations (division, logs, etc.)**"
   ]
  },
  {
   "cell_type": "code",
   "execution_count": 16,
   "metadata": {},
   "outputs": [
    {
     "name": "stderr",
     "output_type": "stream",
     "text": [
      "/usr/local/lib/python3.7/site-packages/ipykernel_launcher.py:6: RuntimeWarning: overflow encountered in multiply\n",
      "  \n"
     ]
    },
    {
     "data": {
      "image/png": "[encoded data removed]",
      "text/plain": [
       "<Figure size 432x288 with 1 Axes>"
      ]
     },
     "metadata": {
      "needs_background": "light"
     },
     "output_type": "display_data"
    }
   ],
   "source": [
    "#prior(d_xs)\n",
    "\n",
    "likelihood_xs = 1\n",
    "for x in x_xs:\n",
    "    for d in d_xs:\n",
    "        likelihood_xs = likelihood_xs * likelihood(x_xs,d_xs)\n",
    "\n",
    "    plt.plot(x_xs, likelihood_xs)"
   ]
  }
 ],
 "metadata": {
  "kernelspec": {
   "display_name": "Python 3",
   "language": "python",
   "name": "python3"
  },
  "language_info": {
   "codemirror_mode": {
    "name": "ipython",
    "version": 3
   },
   "file_extension": ".py",
   "mimetype": "text/x-python",
   "name": "python",
   "nbconvert_exporter": "python",
   "pygments_lexer": "ipython3",
   "version": "3.7.4"
  }
 },
 "nbformat": 4,
 "nbformat_minor": 2
}
