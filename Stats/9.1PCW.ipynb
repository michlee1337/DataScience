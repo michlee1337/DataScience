{
 "cells": [
  {
   "cell_type": "code",
   "execution_count": 2,
   "metadata": {},
   "outputs": [],
   "source": [
    "import numpy as np\n",
    "import matplotlib.pyplot as plt\n",
    "from scipy import stats"
   ]
  },
  {
   "cell_type": "code",
   "execution_count": 16,
   "metadata": {},
   "outputs": [],
   "source": [
    "# prior\n",
    "# 3 different players and 4 games per player\n",
    "\n",
    "def player_prior(num):\n",
    "    player_p = [None] * num\n",
    "\n",
    "    a = 1\n",
    "    b = 1\n",
    "\n",
    "    for ind in range(num):\n",
    "        player_p[ind] = [stats.beta.rvs(a,b) for _ in range(100)]\n",
    "    return(player_p)"
   ]
  },
  {
   "cell_type": "code",
   "execution_count": null,
   "metadata": {},
   "outputs": [],
   "source": [
    "# likelihood\n",
    "def get_likelihood(game_res, player_p):\n",
    "    return([stats.binomial.rvs(game_res, p) for p in player_p])\n",
    "    \n"
   ]
  }
 ],
 "metadata": {
  "kernelspec": {
   "display_name": "Python 3",
   "language": "python",
   "name": "python3"
  },
  "language_info": {
   "codemirror_mode": {
    "name": "ipython",
    "version": 3
   },
   "file_extension": ".py",
   "mimetype": "text/x-python",
   "name": "python",
   "nbconvert_exporter": "python",
   "pygments_lexer": "ipython3",
   "version": "3.7.4"
  }
 },
 "nbformat": 4,
 "nbformat_minor": 2
}
