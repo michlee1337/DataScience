{
 "cells": [
  {
   "cell_type": "markdown",
   "metadata": {},
   "source": [
    "# Parsing Data"
   ]
  },
  {
   "cell_type": "markdown",
   "metadata": {},
   "source": [
    "### Import"
   ]
  },
  {
   "cell_type": "code",
   "execution_count": 1,
   "metadata": {},
   "outputs": [],
   "source": [
    "import pandas as pd\n",
    "import scipy.stats as sts\n",
    "import numpy as np\n",
    "import matplotlib.pyplot as plt"
   ]
  },
  {
   "cell_type": "code",
   "execution_count": 2,
   "metadata": {},
   "outputs": [],
   "source": [
    "### Import# get columns and rows\n",
    "data = pd.read_csv(\"LBA.csv\", header=1)\n",
    "data = data.drop(0)"
   ]
  },
  {
   "cell_type": "markdown",
   "metadata": {},
   "source": [
    "### Standardize Store"
   ]
  },
  {
   "cell_type": "code",
   "execution_count": 3,
   "metadata": {},
   "outputs": [],
   "source": [
    "### Standardize Storedef firstUpper(s):\n",
    "def firstUpper(s):\n",
    "    # edge case: deal w tesco exp cause its diff\n",
    "    if s.lower() == \"tesco express\":\n",
    "        return(\"TESCOEXP\")\n",
    "    if s.lower() == \"sainsbury's\" or s.lower() ==\"SAINSBURY’S\".lower():\n",
    "        return(\"SAINSBURY\")\n",
    "    return(s.split(\" \")[0].upper())\n",
    "data[\"Grocery store\"] = data[\"Grocery store\"].apply(firstUpper)"
   ]
  },
  {
   "cell_type": "code",
   "execution_count": 4,
   "metadata": {},
   "outputs": [
    {
     "data": {
      "text/html": [
       "<div>\n",
       "<style scoped>\n",
       "    .dataframe tbody tr th:only-of-type {\n",
       "        vertical-align: middle;\n",
       "    }\n",
       "\n",
       "    .dataframe tbody tr th {\n",
       "        vertical-align: top;\n",
       "    }\n",
       "\n",
       "    .dataframe thead th {\n",
       "        text-align: right;\n",
       "    }\n",
       "</style>\n",
       "<table border=\"1\" class=\"dataframe\">\n",
       "  <thead>\n",
       "    <tr style=\"text-align: right;\">\n",
       "      <th></th>\n",
       "      <th>Timestamp</th>\n",
       "      <th>Email Address</th>\n",
       "      <th>Your name</th>\n",
       "      <th>Grocery store</th>\n",
       "      <th>Grocery store street address</th>\n",
       "      <th>Product 1 quantity (kg)</th>\n",
       "      <th>Product 1 price (€)</th>\n",
       "      <th>Product 2 quantity (kg)</th>\n",
       "      <th>Product 2 price (€)</th>\n",
       "      <th>Product 3 quantity (kg)</th>\n",
       "      <th>...</th>\n",
       "      <th>Product 2 quantity (count)</th>\n",
       "      <th>Product 2 price (€).8</th>\n",
       "      <th>Product 3 quantity (count)</th>\n",
       "      <th>Product 3 price (€).8</th>\n",
       "      <th>Product 1 quantity (kg).7</th>\n",
       "      <th>Product 1 price (€).9</th>\n",
       "      <th>Product 2 quantity (kg).7</th>\n",
       "      <th>Product 2 price (€).9</th>\n",
       "      <th>Product 3 quantity (kg).7</th>\n",
       "      <th>Product 3 price (€).9</th>\n",
       "    </tr>\n",
       "  </thead>\n",
       "  <tbody>\n",
       "    <tr>\n",
       "      <th>1</th>\n",
       "      <td>10/28/2019 13:14:59</td>\n",
       "      <td>brian.swanberg@minerva.kgi.edu</td>\n",
       "      <td>Brian Swanberg</td>\n",
       "      <td>ALDI</td>\n",
       "      <td>Rummelsburger Str. 98</td>\n",
       "      <td>0.88</td>\n",
       "      <td>2.20</td>\n",
       "      <td>1.00</td>\n",
       "      <td>1.88</td>\n",
       "      <td>0.6</td>\n",
       "      <td>...</td>\n",
       "      <td>6.0</td>\n",
       "      <td>1.59</td>\n",
       "      <td>10.0</td>\n",
       "      <td>1.59</td>\n",
       "      <td>0.60</td>\n",
       "      <td>3.99</td>\n",
       "      <td>1.000</td>\n",
       "      <td>5.99</td>\n",
       "      <td>NaN</td>\n",
       "      <td>NaN</td>\n",
       "    </tr>\n",
       "    <tr>\n",
       "      <th>2</th>\n",
       "      <td>10/29/2019 14:19:19</td>\n",
       "      <td>emma.stiefel@minerva.kgi.edu</td>\n",
       "      <td>Emma Stiefel</td>\n",
       "      <td>REWE</td>\n",
       "      <td>Karl-Marx-Straße 92-98</td>\n",
       "      <td>1.00</td>\n",
       "      <td>2.49</td>\n",
       "      <td>1.00</td>\n",
       "      <td>1.49</td>\n",
       "      <td>1.0</td>\n",
       "      <td>...</td>\n",
       "      <td>1.0</td>\n",
       "      <td>0.25</td>\n",
       "      <td>6.0</td>\n",
       "      <td>1.59</td>\n",
       "      <td>1.00</td>\n",
       "      <td>13.90</td>\n",
       "      <td>1.000</td>\n",
       "      <td>9.99</td>\n",
       "      <td>1.000</td>\n",
       "      <td>9.98</td>\n",
       "    </tr>\n",
       "    <tr>\n",
       "      <th>3</th>\n",
       "      <td>10/29/2019 21:22:30</td>\n",
       "      <td>taha@minerva.kgi.edu</td>\n",
       "      <td>Taha</td>\n",
       "      <td>ALDI</td>\n",
       "      <td>Hermannstraße 72, 12049 Berlin, Germany</td>\n",
       "      <td>1.00</td>\n",
       "      <td>2.99</td>\n",
       "      <td>1.00</td>\n",
       "      <td>1.79</td>\n",
       "      <td>0.8</td>\n",
       "      <td>...</td>\n",
       "      <td>10.0</td>\n",
       "      <td>1.19</td>\n",
       "      <td>6.0</td>\n",
       "      <td>1.59</td>\n",
       "      <td>0.60</td>\n",
       "      <td>3.99</td>\n",
       "      <td>1.000</td>\n",
       "      <td>5.99</td>\n",
       "      <td>0.350</td>\n",
       "      <td>3.99</td>\n",
       "    </tr>\n",
       "    <tr>\n",
       "      <th>4</th>\n",
       "      <td>10/30/2019 16:20:11</td>\n",
       "      <td>michaelchen@minerva.kgi.edu</td>\n",
       "      <td>Michael Hao Chen</td>\n",
       "      <td>LIDL</td>\n",
       "      <td>Lidl, Leipziger Str. 42</td>\n",
       "      <td>1.00</td>\n",
       "      <td>1.79</td>\n",
       "      <td>0.75</td>\n",
       "      <td>1.99</td>\n",
       "      <td>0.8</td>\n",
       "      <td>...</td>\n",
       "      <td>10.0</td>\n",
       "      <td>1.69</td>\n",
       "      <td>10.0</td>\n",
       "      <td>2.65</td>\n",
       "      <td>0.60</td>\n",
       "      <td>3.99</td>\n",
       "      <td>0.400</td>\n",
       "      <td>2.79</td>\n",
       "      <td>NaN</td>\n",
       "      <td>NaN</td>\n",
       "    </tr>\n",
       "    <tr>\n",
       "      <th>5</th>\n",
       "      <td>10/30/2019 16:24:57</td>\n",
       "      <td>michaelchen@minerva.kgi.edu</td>\n",
       "      <td>Michael Hao Chen</td>\n",
       "      <td>REWE</td>\n",
       "      <td>REWE, Landsberger Allee 68D</td>\n",
       "      <td>0.65</td>\n",
       "      <td>2.49</td>\n",
       "      <td>1.00</td>\n",
       "      <td>2.19</td>\n",
       "      <td>1.0</td>\n",
       "      <td>...</td>\n",
       "      <td>6.0</td>\n",
       "      <td>2.29</td>\n",
       "      <td>12.0</td>\n",
       "      <td>1.99</td>\n",
       "      <td>0.41</td>\n",
       "      <td>5.34</td>\n",
       "      <td>0.249</td>\n",
       "      <td>2.49</td>\n",
       "      <td>0.285</td>\n",
       "      <td>8.52</td>\n",
       "    </tr>\n",
       "  </tbody>\n",
       "</table>\n",
       "<p>5 rows × 65 columns</p>\n",
       "</div>"
      ],
      "text/plain": [
       "             Timestamp                   Email Address         Your name  \\\n",
       "1  10/28/2019 13:14:59  brian.swanberg@minerva.kgi.edu    Brian Swanberg   \n",
       "2  10/29/2019 14:19:19    emma.stiefel@minerva.kgi.edu      Emma Stiefel   \n",
       "3  10/29/2019 21:22:30            taha@minerva.kgi.edu              Taha   \n",
       "4  10/30/2019 16:20:11     michaelchen@minerva.kgi.edu  Michael Hao Chen   \n",
       "5  10/30/2019 16:24:57     michaelchen@minerva.kgi.edu  Michael Hao Chen   \n",
       "\n",
       "  Grocery store             Grocery store street address  \\\n",
       "1          ALDI                    Rummelsburger Str. 98   \n",
       "2          REWE                   Karl-Marx-Straße 92-98   \n",
       "3          ALDI  Hermannstraße 72, 12049 Berlin, Germany   \n",
       "4          LIDL                  Lidl, Leipziger Str. 42   \n",
       "5          REWE              REWE, Landsberger Allee 68D   \n",
       "\n",
       "   Product 1 quantity (kg)  Product 1 price (€)  Product 2 quantity (kg)  \\\n",
       "1                     0.88                 2.20                     1.00   \n",
       "2                     1.00                 2.49                     1.00   \n",
       "3                     1.00                 2.99                     1.00   \n",
       "4                     1.00                 1.79                     0.75   \n",
       "5                     0.65                 2.49                     1.00   \n",
       "\n",
       "   Product 2 price (€)  Product 3 quantity (kg)  ...  \\\n",
       "1                 1.88                      0.6  ...   \n",
       "2                 1.49                      1.0  ...   \n",
       "3                 1.79                      0.8  ...   \n",
       "4                 1.99                      0.8  ...   \n",
       "5                 2.19                      1.0  ...   \n",
       "\n",
       "   Product 2 quantity (count)  Product 2 price (€).8  \\\n",
       "1                         6.0                   1.59   \n",
       "2                         1.0                   0.25   \n",
       "3                        10.0                   1.19   \n",
       "4                        10.0                   1.69   \n",
       "5                         6.0                   2.29   \n",
       "\n",
       "   Product 3 quantity (count)  Product 3 price (€).8  \\\n",
       "1                        10.0                   1.59   \n",
       "2                         6.0                   1.59   \n",
       "3                         6.0                   1.59   \n",
       "4                        10.0                   2.65   \n",
       "5                        12.0                   1.99   \n",
       "\n",
       "   Product 1 quantity (kg).7  Product 1 price (€).9  \\\n",
       "1                       0.60                   3.99   \n",
       "2                       1.00                  13.90   \n",
       "3                       0.60                   3.99   \n",
       "4                       0.60                   3.99   \n",
       "5                       0.41                   5.34   \n",
       "\n",
       "   Product 2 quantity (kg).7  Product 2 price (€).9  \\\n",
       "1                      1.000                   5.99   \n",
       "2                      1.000                   9.99   \n",
       "3                      1.000                   5.99   \n",
       "4                      0.400                   2.79   \n",
       "5                      0.249                   2.49   \n",
       "\n",
       "   Product 3 quantity (kg).7  Product 3 price (€).9  \n",
       "1                        NaN                    NaN  \n",
       "2                      1.000                   9.98  \n",
       "3                      0.350                   3.99  \n",
       "4                        NaN                    NaN  \n",
       "5                      0.285                   8.52  \n",
       "\n",
       "[5 rows x 65 columns]"
      ]
     },
     "execution_count": 4,
     "metadata": {},
     "output_type": "execute_result"
    }
   ],
   "source": [
    "data.head()"
   ]
  },
  {
   "cell_type": "markdown",
   "metadata": {},
   "source": [
    "### Get Location"
   ]
  },
  {
   "cell_type": "code",
   "execution_count": 10,
   "metadata": {},
   "outputs": [
    {
     "name": "stderr",
     "output_type": "stream",
     "text": [
      "/usr/local/lib/python3.7/site-packages/pandas/core/frame.py:7116: FutureWarning: Sorting because non-concatenation axis is not aligned. A future version\n",
      "of pandas will change to not sort by default.\n",
      "\n",
      "To accept the future behavior, pass 'sort=False'.\n",
      "\n",
      "To retain the current behavior and silence the warning, pass 'sort=True'.\n",
      "\n",
      "  sort=sort,\n"
     ]
    }
   ],
   "source": [
    "neighbourhoods = pd.read_csv(\"Neighbourhoods.csv\", header=3)\n",
    "neighbourhoods_l = pd.read_csv(\"Neighbourhoods_london.csv\", header=3)\n",
    "neighbourhoods.append(neighbourhoods_l)\n",
    "neighbourhoods = neighbourhoods.drop([57]) # repeated store???\n",
    "\n",
    "def lookup_nh(address):\n",
    "    index_l = [s.find(address) != -1 for s in neighbourhoods['Supermarket']]\n",
    "    res = neighbourhoods.loc[index_l,\"Neighborhood\"]\n",
    "    if len(res) == 1:\n",
    "        return(res.item())\n",
    "    else:\n",
    "        # try removing the postcode\n",
    "        \n",
    "        if len(res) == 1:\n",
    "            return(res.item()) \n",
    "        else:\n",
    "            return(None)"
   ]
  },
  {
   "cell_type": "code",
   "execution_count": 11,
   "metadata": {},
   "outputs": [
    {
     "name": "stderr",
     "output_type": "stream",
     "text": [
      "/usr/local/lib/python3.7/site-packages/ipykernel_launcher.py:10: FutureWarning: `item` has been deprecated and will be removed in a future version\n",
      "  # Remove the CWD from sys.path while we load stuff.\n"
     ]
    }
   ],
   "source": [
    "neighborhood_col = []\n",
    "nb_byhand = []\n",
    "for i in range(len(data)):\n",
    "    address = data.iloc[i][\"Grocery store street address\"]\n",
    "    # shortcut london \n",
    "    not_found = True\n",
    "    for lb in [\"tesco express\",\"london\"]:\n",
    "        if not_found and address.lower().find(lb) != -1:\n",
    "            neighborhood_col.append(\"London\")\n",
    "            not_found = False\n",
    "    if not_found:\n",
    "        # cleanup address\n",
    "        address = address.strip() # remove whitespaces\n",
    "        if address.find(\"Berlin, Germany\") != -1:\n",
    "            address = \" \".join(address.split(\" \")[:-3])\n",
    "        elif address.find(\"Berlin\") != -1:\n",
    "            address = \" \".join(address.split(\" \")[:-2])\n",
    "        for brand in [\"lidl\",\"rewe\",\"edeka\",\"aldi\",\"sainsbury's\"]:\n",
    "            if address.lower().find(brand) != -1:\n",
    "                address = \" \".join(address.split(\" \")[1:])\n",
    "        address = address.replace(\",\",\"\")\n",
    "        # find neighbourhood\n",
    "\n",
    "        nb = lookup_nh(address)\n",
    "        if nb == None:\n",
    "            nb_byhand.append((i,address))\n",
    "        neighborhood_col.append(nb)\n",
    "\n",
    "data[\"neighbourhood\"] = neighborhood_col"
   ]
  },
  {
   "cell_type": "code",
   "execution_count": 12,
   "metadata": {},
   "outputs": [
    {
     "name": "stdout",
     "output_type": "stream",
     "text": [
      "5 43-45 Farringdon Rd\n",
      "11 168-176 Edgware Rd\n",
      "13 2020 Market St.\n",
      "16 645 San Antonio Rd Mountain View CA 94040\n",
      "17 2811 Middlefield Rd Palo Alto CA 94306\n",
      "18 2300 16th St Unit 203\n",
      "21 Berlin kreuzberg\n",
      "22 Eisenbahnstrasse 42\n",
      "24 Friedenstraße 94A\n",
      "27 Lotte Mart Seoul Station\n",
      "29 Thaut Jessnerstraße 47-55\n",
      "38 100 East Rd.\n",
      "40 Fiebig Kottbusser Damm 80\n",
      "41 The Brunswick Centre 23-39 Handel Str.\n",
      "47 City Friedrichstraße 60\n",
      "52 Siebert Hasenheide 57\n",
      "54 Frankfurter Allee 144\n",
      "85 Frankfurter Allee 144\n"
     ]
    }
   ],
   "source": [
    "for x in nb_byhand:\n",
    "    print( x[0], x[1])\n"
   ]
  },
  {
   "cell_type": "code",
   "execution_count": 13,
   "metadata": {},
   "outputs": [],
   "source": [
    "data.iloc[5,65] = \"London\"\n",
    "data.iloc[11,65] = \"London\"\n",
    "data.iloc[13,65] = \"California\"\n",
    "data.iloc[16,65] = \"California\"\n",
    "data.iloc[17,65] = \"California\"\n",
    "data.iloc[18,65] = \"California\"\n",
    "data.iloc[21,65] = \"Schöneberg\"\n",
    "data.iloc[22,65] = \"Kreuzberg\"\n",
    "data.iloc[24,65] = \"Friedrichshain\"\n",
    "data.iloc[27,65] = \"Seoul\"\n",
    "data.iloc[29,65] = \"Friedrichshain\"\n",
    "data.iloc[38,65] = \"London\"\n",
    "data.iloc[40,65] = \"Kreuzberg\"\n",
    "data.iloc[41,65] = \"London\"\n",
    "data.iloc[47,65] = \"Mitte\"\n",
    "data.iloc[52,65] = \"Kreuzberg\"\n",
    "data.iloc[54,65] = \"Lichtenberg\"\n",
    "data.iloc[85,65] = \"Lichtenberg\""
   ]
  },
  {
   "cell_type": "code",
   "execution_count": 14,
   "metadata": {},
   "outputs": [
    {
     "data": {
      "text/html": [
       "<div>\n",
       "<style scoped>\n",
       "    .dataframe tbody tr th:only-of-type {\n",
       "        vertical-align: middle;\n",
       "    }\n",
       "\n",
       "    .dataframe tbody tr th {\n",
       "        vertical-align: top;\n",
       "    }\n",
       "\n",
       "    .dataframe thead th {\n",
       "        text-align: right;\n",
       "    }\n",
       "</style>\n",
       "<table border=\"1\" class=\"dataframe\">\n",
       "  <thead>\n",
       "    <tr style=\"text-align: right;\">\n",
       "      <th></th>\n",
       "      <th>Timestamp</th>\n",
       "      <th>Email Address</th>\n",
       "      <th>Your name</th>\n",
       "      <th>Grocery store</th>\n",
       "      <th>Grocery store street address</th>\n",
       "      <th>Product 1 quantity (kg)</th>\n",
       "      <th>Product 1 price (€)</th>\n",
       "      <th>Product 2 quantity (kg)</th>\n",
       "      <th>Product 2 price (€)</th>\n",
       "      <th>Product 3 quantity (kg)</th>\n",
       "      <th>...</th>\n",
       "      <th>Product 2 price (€).8</th>\n",
       "      <th>Product 3 quantity (count)</th>\n",
       "      <th>Product 3 price (€).8</th>\n",
       "      <th>Product 1 quantity (kg).7</th>\n",
       "      <th>Product 1 price (€).9</th>\n",
       "      <th>Product 2 quantity (kg).7</th>\n",
       "      <th>Product 2 price (€).9</th>\n",
       "      <th>Product 3 quantity (kg).7</th>\n",
       "      <th>Product 3 price (€).9</th>\n",
       "      <th>neighbourhood</th>\n",
       "    </tr>\n",
       "  </thead>\n",
       "  <tbody>\n",
       "  </tbody>\n",
       "</table>\n",
       "<p>0 rows × 66 columns</p>\n",
       "</div>"
      ],
      "text/plain": [
       "Empty DataFrame\n",
       "Columns: [Timestamp, Email Address, Your name, Grocery store, Grocery store street address, Product 1 quantity (kg), Product 1 price (€), Product 2 quantity (kg), Product 2 price (€), Product 3 quantity (kg), Product 3 price (€), Product 1 quantity (kg).1, Product 1 price (€).1, Product 2 quantity (kg).1, Product 2 price (€).1, Product 3 quantity (kg).1, Product 3 price (€).1, Product 1 quantity (kg).2, Product 1 price (€).2, Product 2 quantity (kg).2, Product 2 price (€).2, Product 3 quantity (kg).2, Product 3 price (€).2, Product 1 quantity (kg).3, Product 1 price (€).3, Product 2 quantity (kg).3, Product 2 price (€).3, Product 3 quantity (kg).3, Product 3 price (€).3, Product 1 quantity (kg).4, Product 1 price (€).4, Product 2 quantity (kg).4, Product 2 price (€).4, Product 3 quantity (kg).4, Product 3 price (€).4, Product 1 quantity (kg).5, Product 1 price (€).5, Product 2 quantity (kg).5, Product 2 price (€).5, Product 3 quantity (kg).5, Product 3 price (€).5, Product 1 quantity (liters), Product 1 price (€).6, Product 2 quantity (liters), Product 2 price (€).6, Product 3 quantity (liters), Product 3 price (€).6, Product 1 quantity (kg).6, Product 1 price (€).7, Product 2 quantity (kg).6, Product 2 price (€).7, Product 3 quantity (kg).6, Product 3 price (€).7, Product 1 quantity (count), Product 1 price (€).8, Product 2 quantity (count), Product 2 price (€).8, Product 3 quantity (count), Product 3 price (€).8, Product 1 quantity (kg).7, Product 1 price (€).9, Product 2 quantity (kg).7, Product 2 price (€).9, Product 3 quantity (kg).7, Product 3 price (€).9, neighbourhood]\n",
       "Index: []\n",
       "\n",
       "[0 rows x 66 columns]"
      ]
     },
     "execution_count": 14,
     "metadata": {},
     "output_type": "execute_result"
    }
   ],
   "source": [
    "# verify that all is fixed\n",
    "data[data[\"neighbourhood\"] == None]"
   ]
  },
  {
   "cell_type": "markdown",
   "metadata": {},
   "source": [
    "### Clean up Store Brand"
   ]
  },
  {
   "cell_type": "markdown",
   "metadata": {},
   "source": [
    "### Break up by product"
   ]
  },
  {
   "cell_type": "code",
   "execution_count": 15,
   "metadata": {},
   "outputs": [],
   "source": [
    "import copy\n",
    "\n",
    "rows_list = []\n",
    "for i in range(len(data)):\n",
    "        dict_inf = {}\n",
    "        # get input row in dictionary format\n",
    "        # key = col_name\n",
    "        dict_inf[\"timestamp\"] = data.iloc[i,0]\n",
    "        dict_inf[\"email\"] = data.iloc[i,1]\n",
    "        dict_inf[\"name\"] = data.iloc[i,2]\n",
    "        dict_inf[\"store\"] = data.iloc[i,3]\n",
    "        dict_inf[\"address\"] = data.iloc[i,4]\n",
    "        dict_inf[\"neighbourhood\"] = data.iloc[i,65]\n",
    "        \n",
    "        # cycle through each product\n",
    "        for ind,name in [(5,\"apple\"),(11,\"banana\"),(17,\"tomato\"),(23, \"potato\"),(29,\"flour\"),(35,\"rice\"),(41,\"milk\"),(47,\"butter\"),(53,\"egg\"),(59,\"chicken\")]:\n",
    "            for j in [0,2,4]:\n",
    "                dict_temp = copy.deepcopy(dict_inf)\n",
    "                dict_temp[\"product\"] = name\n",
    "                dict_temp[\"quantity\"] = data.iloc[i,ind+j]\n",
    "                dict_temp[\"price\"] = data.iloc[i,ind+j+1]\n",
    "                rows_list.append(dict_temp)\n",
    "\n",
    "new_df = pd.DataFrame(rows_list)      \n"
   ]
  },
  {
   "cell_type": "code",
   "execution_count": 16,
   "metadata": {
    "scrolled": true
   },
   "outputs": [
    {
     "data": {
      "text/html": [
       "<div>\n",
       "<style scoped>\n",
       "    .dataframe tbody tr th:only-of-type {\n",
       "        vertical-align: middle;\n",
       "    }\n",
       "\n",
       "    .dataframe tbody tr th {\n",
       "        vertical-align: top;\n",
       "    }\n",
       "\n",
       "    .dataframe thead th {\n",
       "        text-align: right;\n",
       "    }\n",
       "</style>\n",
       "<table border=\"1\" class=\"dataframe\">\n",
       "  <thead>\n",
       "    <tr style=\"text-align: right;\">\n",
       "      <th></th>\n",
       "      <th>timestamp</th>\n",
       "      <th>email</th>\n",
       "      <th>name</th>\n",
       "      <th>store</th>\n",
       "      <th>address</th>\n",
       "      <th>neighbourhood</th>\n",
       "      <th>product</th>\n",
       "      <th>quantity</th>\n",
       "      <th>price</th>\n",
       "    </tr>\n",
       "  </thead>\n",
       "  <tbody>\n",
       "    <tr>\n",
       "      <th>0</th>\n",
       "      <td>10/28/2019 13:14:59</td>\n",
       "      <td>brian.swanberg@minerva.kgi.edu</td>\n",
       "      <td>Brian Swanberg</td>\n",
       "      <td>ALDI</td>\n",
       "      <td>Rummelsburger Str. 98</td>\n",
       "      <td>Lichtenberg</td>\n",
       "      <td>apple</td>\n",
       "      <td>0.88</td>\n",
       "      <td>2.20</td>\n",
       "    </tr>\n",
       "    <tr>\n",
       "      <th>1</th>\n",
       "      <td>10/28/2019 13:14:59</td>\n",
       "      <td>brian.swanberg@minerva.kgi.edu</td>\n",
       "      <td>Brian Swanberg</td>\n",
       "      <td>ALDI</td>\n",
       "      <td>Rummelsburger Str. 98</td>\n",
       "      <td>Lichtenberg</td>\n",
       "      <td>apple</td>\n",
       "      <td>1.00</td>\n",
       "      <td>1.88</td>\n",
       "    </tr>\n",
       "    <tr>\n",
       "      <th>2</th>\n",
       "      <td>10/28/2019 13:14:59</td>\n",
       "      <td>brian.swanberg@minerva.kgi.edu</td>\n",
       "      <td>Brian Swanberg</td>\n",
       "      <td>ALDI</td>\n",
       "      <td>Rummelsburger Str. 98</td>\n",
       "      <td>Lichtenberg</td>\n",
       "      <td>apple</td>\n",
       "      <td>0.60</td>\n",
       "      <td>1.89</td>\n",
       "    </tr>\n",
       "    <tr>\n",
       "      <th>3</th>\n",
       "      <td>10/28/2019 13:14:59</td>\n",
       "      <td>brian.swanberg@minerva.kgi.edu</td>\n",
       "      <td>Brian Swanberg</td>\n",
       "      <td>ALDI</td>\n",
       "      <td>Rummelsburger Str. 98</td>\n",
       "      <td>Lichtenberg</td>\n",
       "      <td>banana</td>\n",
       "      <td>1.00</td>\n",
       "      <td>1.69</td>\n",
       "    </tr>\n",
       "    <tr>\n",
       "      <th>4</th>\n",
       "      <td>10/28/2019 13:14:59</td>\n",
       "      <td>brian.swanberg@minerva.kgi.edu</td>\n",
       "      <td>Brian Swanberg</td>\n",
       "      <td>ALDI</td>\n",
       "      <td>Rummelsburger Str. 98</td>\n",
       "      <td>Lichtenberg</td>\n",
       "      <td>banana</td>\n",
       "      <td>1.00</td>\n",
       "      <td>0.99</td>\n",
       "    </tr>\n",
       "  </tbody>\n",
       "</table>\n",
       "</div>"
      ],
      "text/plain": [
       "             timestamp                           email            name store  \\\n",
       "0  10/28/2019 13:14:59  brian.swanberg@minerva.kgi.edu  Brian Swanberg  ALDI   \n",
       "1  10/28/2019 13:14:59  brian.swanberg@minerva.kgi.edu  Brian Swanberg  ALDI   \n",
       "2  10/28/2019 13:14:59  brian.swanberg@minerva.kgi.edu  Brian Swanberg  ALDI   \n",
       "3  10/28/2019 13:14:59  brian.swanberg@minerva.kgi.edu  Brian Swanberg  ALDI   \n",
       "4  10/28/2019 13:14:59  brian.swanberg@minerva.kgi.edu  Brian Swanberg  ALDI   \n",
       "\n",
       "                 address neighbourhood product  quantity  price  \n",
       "0  Rummelsburger Str. 98   Lichtenberg   apple      0.88   2.20  \n",
       "1  Rummelsburger Str. 98   Lichtenberg   apple      1.00   1.88  \n",
       "2  Rummelsburger Str. 98   Lichtenberg   apple      0.60   1.89  \n",
       "3  Rummelsburger Str. 98   Lichtenberg  banana      1.00   1.69  \n",
       "4  Rummelsburger Str. 98   Lichtenberg  banana      1.00   0.99  "
      ]
     },
     "execution_count": 16,
     "metadata": {},
     "output_type": "execute_result"
    }
   ],
   "source": [
    "new_df.head()"
   ]
  },
  {
   "cell_type": "markdown",
   "metadata": {},
   "source": [
    "# Creating Models"
   ]
  },
  {
   "cell_type": "markdown",
   "metadata": {},
   "source": [
    "### Setting up Models and Priors\n",
    "\n",
    "The models will all be exponential likelihoods (with Gamma Priors to take advantage of conjugate prior calculations).      \n",
    "The reasons for this choice:      \n",
    "- The exponential likelihood has support over positive real numbers, much like prices\n",
    "- It has a long right tail which fits the histograms plotted for the prices (which makes sense because they are all cheap basic products generally with a long right tail for more \"luxurious\" price points).\n",
    "- It is the simplest model setup that fits the histogram well, with only one hyperparameter.\n"
   ]
  },
  {
   "cell_type": "code",
   "execution_count": 17,
   "metadata": {},
   "outputs": [],
   "source": [
    "# hyperparameters for the gamma prior\n",
    "# very very small to be very very weak\n",
    "# once data comes in, these hyperparameters should be very quickly overriden.\n",
    "alpha_0 = 0.001\n",
    "beta_0 = 0.001"
   ]
  },
  {
   "cell_type": "markdown",
   "metadata": {},
   "source": [
    "### Calculating Posteriors over Product"
   ]
  },
  {
   "cell_type": "code",
   "execution_count": 21,
   "metadata": {},
   "outputs": [
    {
     "data": {
      "text/html": [
       "<div>\n",
       "<style scoped>\n",
       "    .dataframe tbody tr th:only-of-type {\n",
       "        vertical-align: middle;\n",
       "    }\n",
       "\n",
       "    .dataframe tbody tr th {\n",
       "        vertical-align: top;\n",
       "    }\n",
       "\n",
       "    .dataframe thead th {\n",
       "        text-align: right;\n",
       "    }\n",
       "</style>\n",
       "<table border=\"1\" class=\"dataframe\">\n",
       "  <thead>\n",
       "    <tr style=\"text-align: right;\">\n",
       "      <th></th>\n",
       "      <th>timestamp</th>\n",
       "      <th>email</th>\n",
       "      <th>name</th>\n",
       "      <th>store</th>\n",
       "      <th>address</th>\n",
       "      <th>neighbourhood</th>\n",
       "      <th>quantity</th>\n",
       "      <th>price</th>\n",
       "    </tr>\n",
       "    <tr>\n",
       "      <th>product</th>\n",
       "      <th></th>\n",
       "      <th></th>\n",
       "      <th></th>\n",
       "      <th></th>\n",
       "      <th></th>\n",
       "      <th></th>\n",
       "      <th></th>\n",
       "      <th></th>\n",
       "    </tr>\n",
       "  </thead>\n",
       "  <tbody>\n",
       "    <tr>\n",
       "      <th>apple</th>\n",
       "      <td>279</td>\n",
       "      <td>279</td>\n",
       "      <td>279</td>\n",
       "      <td>279</td>\n",
       "      <td>279</td>\n",
       "      <td>276</td>\n",
       "      <td>268</td>\n",
       "      <td>268</td>\n",
       "    </tr>\n",
       "    <tr>\n",
       "      <th>banana</th>\n",
       "      <td>279</td>\n",
       "      <td>279</td>\n",
       "      <td>279</td>\n",
       "      <td>279</td>\n",
       "      <td>279</td>\n",
       "      <td>276</td>\n",
       "      <td>233</td>\n",
       "      <td>233</td>\n",
       "    </tr>\n",
       "    <tr>\n",
       "      <th>butter</th>\n",
       "      <td>279</td>\n",
       "      <td>279</td>\n",
       "      <td>279</td>\n",
       "      <td>279</td>\n",
       "      <td>279</td>\n",
       "      <td>276</td>\n",
       "      <td>266</td>\n",
       "      <td>266</td>\n",
       "    </tr>\n",
       "    <tr>\n",
       "      <th>chicken</th>\n",
       "      <td>279</td>\n",
       "      <td>279</td>\n",
       "      <td>279</td>\n",
       "      <td>279</td>\n",
       "      <td>279</td>\n",
       "      <td>276</td>\n",
       "      <td>240</td>\n",
       "      <td>240</td>\n",
       "    </tr>\n",
       "    <tr>\n",
       "      <th>egg</th>\n",
       "      <td>279</td>\n",
       "      <td>279</td>\n",
       "      <td>279</td>\n",
       "      <td>279</td>\n",
       "      <td>279</td>\n",
       "      <td>276</td>\n",
       "      <td>265</td>\n",
       "      <td>265</td>\n",
       "    </tr>\n",
       "    <tr>\n",
       "      <th>flour</th>\n",
       "      <td>279</td>\n",
       "      <td>279</td>\n",
       "      <td>279</td>\n",
       "      <td>279</td>\n",
       "      <td>279</td>\n",
       "      <td>276</td>\n",
       "      <td>221</td>\n",
       "      <td>221</td>\n",
       "    </tr>\n",
       "    <tr>\n",
       "      <th>milk</th>\n",
       "      <td>279</td>\n",
       "      <td>279</td>\n",
       "      <td>279</td>\n",
       "      <td>279</td>\n",
       "      <td>279</td>\n",
       "      <td>276</td>\n",
       "      <td>264</td>\n",
       "      <td>264</td>\n",
       "    </tr>\n",
       "    <tr>\n",
       "      <th>potato</th>\n",
       "      <td>279</td>\n",
       "      <td>279</td>\n",
       "      <td>279</td>\n",
       "      <td>279</td>\n",
       "      <td>279</td>\n",
       "      <td>276</td>\n",
       "      <td>255</td>\n",
       "      <td>255</td>\n",
       "    </tr>\n",
       "    <tr>\n",
       "      <th>rice</th>\n",
       "      <td>279</td>\n",
       "      <td>279</td>\n",
       "      <td>279</td>\n",
       "      <td>279</td>\n",
       "      <td>279</td>\n",
       "      <td>276</td>\n",
       "      <td>223</td>\n",
       "      <td>224</td>\n",
       "    </tr>\n",
       "    <tr>\n",
       "      <th>tomato</th>\n",
       "      <td>279</td>\n",
       "      <td>279</td>\n",
       "      <td>279</td>\n",
       "      <td>279</td>\n",
       "      <td>279</td>\n",
       "      <td>276</td>\n",
       "      <td>264</td>\n",
       "      <td>264</td>\n",
       "    </tr>\n",
       "  </tbody>\n",
       "</table>\n",
       "</div>"
      ],
      "text/plain": [
       "         timestamp  email  name  store  address  neighbourhood  quantity  \\\n",
       "product                                                                    \n",
       "apple          279    279   279    279      279            276       268   \n",
       "banana         279    279   279    279      279            276       233   \n",
       "butter         279    279   279    279      279            276       266   \n",
       "chicken        279    279   279    279      279            276       240   \n",
       "egg            279    279   279    279      279            276       265   \n",
       "flour          279    279   279    279      279            276       221   \n",
       "milk           279    279   279    279      279            276       264   \n",
       "potato         279    279   279    279      279            276       255   \n",
       "rice           279    279   279    279      279            276       223   \n",
       "tomato         279    279   279    279      279            276       264   \n",
       "\n",
       "         price  \n",
       "product         \n",
       "apple      268  \n",
       "banana     233  \n",
       "butter     266  \n",
       "chicken    240  \n",
       "egg        265  \n",
       "flour      221  \n",
       "milk       264  \n",
       "potato     255  \n",
       "rice       224  \n",
       "tomato     264  "
      ]
     },
     "execution_count": 21,
     "metadata": {},
     "output_type": "execute_result"
    }
   ],
   "source": [
    "new_df.groupby(\"product\").count()"
   ]
  },
  {
   "cell_type": "code",
   "execution_count": 25,
   "metadata": {},
   "outputs": [
    {
     "data": {
      "image/png": "[encoded data removed]",
      "text/plain": [
       "<Figure size 432x288 with 1 Axes>"
      ]
     },
     "metadata": {
      "needs_background": "light"
     },
     "output_type": "display_data"
    },
    {
     "data": {
      "image/png": "[encoded data removed]",
      "text/plain": [
       "<Figure size 432x288 with 1 Axes>"
      ]
     },
     "metadata": {
      "needs_background": "light"
     },
     "output_type": "display_data"
    },
    {
     "data": {
      "image/png": "[encoded data removed]",
      "text/plain": [
       "<Figure size 432x288 with 1 Axes>"
      ]
     },
     "metadata": {
      "needs_background": "light"
     },
     "output_type": "display_data"
    },
    {
     "data": {
      "image/png": "[encoded data removed]",
      "text/plain": [
       "<Figure size 432x288 with 1 Axes>"
      ]
     },
     "metadata": {
      "needs_background": "light"
     },
     "output_type": "display_data"
    },
    {
     "data": {
      "image/png": "[encoded data removed]",
      "text/plain": [
       "<Figure size 432x288 with 1 Axes>"
      ]
     },
     "metadata": {
      "needs_background": "light"
     },
     "output_type": "display_data"
    },
    {
     "data": {
      "image/png": "[encoded data removed]",
      "text/plain": [
       "<Figure size 432x288 with 1 Axes>"
      ]
     },
     "metadata": {
      "needs_background": "light"
     },
     "output_type": "display_data"
    },
    {
     "data": {
      "image/png": "[encoded data removed]",
      "text/plain": [
       "<Figure size 432x288 with 1 Axes>"
      ]
     },
     "metadata": {
      "needs_background": "light"
     },
     "output_type": "display_data"
    },
    {
     "data": {
      "image/png": "[encoded data removed]",
      "text/plain": [
       "<Figure size 432x288 with 1 Axes>"
      ]
     },
     "metadata": {
      "needs_background": "light"
     },
     "output_type": "display_data"
    },
    {
     "data": {
      "image/png": "[encoded data removed]",
      "text/plain": [
       "<Figure size 432x288 with 1 Axes>"
      ]
     },
     "metadata": {
      "needs_background": "light"
     },
     "output_type": "display_data"
    },
    {
     "data": {
      "image/png": "[encoded data removed]",
      "text/plain": [
       "<Figure size 432x288 with 1 Axes>"
      ]
     },
     "metadata": {
      "needs_background": "light"
     },
     "output_type": "display_data"
    }
   ],
   "source": [
    "# calculate posteriors over each \n",
    "product_post = {}\n",
    "\n",
    "for product in [\"apple\",\"banana\",\"butter\",\"chicken\",\"egg\",\"flour\",\"milk\",\"potato\",\"rice\",\"tomato\"]:\n",
    "    data = new_df[new_df[\"product\"] == product][\"price\"].tolist()\n",
    "    data = [d for d in data if str(d) != 'nan'] # clear nans\n",
    "    plt.hist(data)\n",
    "    plt.title(product)\n",
    "    plt.show()\n",
    "    ## Posterior = gamma(alpha+n, beta+sum(x))\n",
    "    alpha_post = alpha_0 + len(data)\n",
    "    beta_post = beta_0 + sum(data)\n",
    "    product_post[product] = (alpha_post,beta_post)"
   ]
  },
  {
   "cell_type": "code",
   "execution_count": 26,
   "metadata": {},
   "outputs": [
    {
     "data": {
      "text/plain": [
       "{'apple': (268.001, 633.479000000001),\n",
       " 'banana': (233.001, 402.43700000000007),\n",
       " 'butter': (266.001, 899.3969999999999),\n",
       " 'chicken': (240.001, 1602.6194000000003),\n",
       " 'egg': (265.001, 457.4789999999997),\n",
       " 'flour': (221.001, 303.2329999999996),\n",
       " 'milk': (264.001, 330.85699999999997),\n",
       " 'potato': (255.001, 485.10700000000065),\n",
       " 'rice': (224.001, 864.2030000000007),\n",
       " 'tomato': (264.001, 812.1762000000009)}"
      ]
     },
     "execution_count": 26,
     "metadata": {},
     "output_type": "execute_result"
    }
   ],
   "source": [
    "product_post"
   ]
  },
  {
   "cell_type": "markdown",
   "metadata": {},
   "source": [
    "### Calculating Posteriors over Store brand"
   ]
  },
  {
   "cell_type": "code",
   "execution_count": 18,
   "metadata": {},
   "outputs": [
    {
     "data": {
      "text/html": [
       "<div>\n",
       "<style scoped>\n",
       "    .dataframe tbody tr th:only-of-type {\n",
       "        vertical-align: middle;\n",
       "    }\n",
       "\n",
       "    .dataframe tbody tr th {\n",
       "        vertical-align: top;\n",
       "    }\n",
       "\n",
       "    .dataframe thead th {\n",
       "        text-align: right;\n",
       "    }\n",
       "</style>\n",
       "<table border=\"1\" class=\"dataframe\">\n",
       "  <thead>\n",
       "    <tr style=\"text-align: right;\">\n",
       "      <th></th>\n",
       "      <th>timestamp</th>\n",
       "      <th>email</th>\n",
       "      <th>name</th>\n",
       "      <th>address</th>\n",
       "      <th>neighbourhood</th>\n",
       "      <th>product</th>\n",
       "      <th>quantity</th>\n",
       "      <th>price</th>\n",
       "    </tr>\n",
       "    <tr>\n",
       "      <th>store</th>\n",
       "      <th></th>\n",
       "      <th></th>\n",
       "      <th></th>\n",
       "      <th></th>\n",
       "      <th></th>\n",
       "      <th></th>\n",
       "      <th></th>\n",
       "      <th></th>\n",
       "    </tr>\n",
       "  </thead>\n",
       "  <tbody>\n",
       "    <tr>\n",
       "      <th>ALDI</th>\n",
       "      <td>510</td>\n",
       "      <td>510</td>\n",
       "      <td>510</td>\n",
       "      <td>510</td>\n",
       "      <td>480</td>\n",
       "      <td>510</td>\n",
       "      <td>428</td>\n",
       "      <td>428</td>\n",
       "    </tr>\n",
       "    <tr>\n",
       "      <th>EDEKA</th>\n",
       "      <td>630</td>\n",
       "      <td>630</td>\n",
       "      <td>630</td>\n",
       "      <td>630</td>\n",
       "      <td>630</td>\n",
       "      <td>630</td>\n",
       "      <td>590</td>\n",
       "      <td>590</td>\n",
       "    </tr>\n",
       "    <tr>\n",
       "      <th>LIDL</th>\n",
       "      <td>480</td>\n",
       "      <td>480</td>\n",
       "      <td>480</td>\n",
       "      <td>480</td>\n",
       "      <td>480</td>\n",
       "      <td>480</td>\n",
       "      <td>400</td>\n",
       "      <td>400</td>\n",
       "    </tr>\n",
       "    <tr>\n",
       "      <th>LOTTE</th>\n",
       "      <td>30</td>\n",
       "      <td>30</td>\n",
       "      <td>30</td>\n",
       "      <td>30</td>\n",
       "      <td>30</td>\n",
       "      <td>30</td>\n",
       "      <td>28</td>\n",
       "      <td>28</td>\n",
       "    </tr>\n",
       "    <tr>\n",
       "      <th>REWE</th>\n",
       "      <td>420</td>\n",
       "      <td>420</td>\n",
       "      <td>420</td>\n",
       "      <td>420</td>\n",
       "      <td>420</td>\n",
       "      <td>420</td>\n",
       "      <td>400</td>\n",
       "      <td>401</td>\n",
       "    </tr>\n",
       "    <tr>\n",
       "      <th>SAFEWAY</th>\n",
       "      <td>120</td>\n",
       "      <td>120</td>\n",
       "      <td>120</td>\n",
       "      <td>120</td>\n",
       "      <td>120</td>\n",
       "      <td>120</td>\n",
       "      <td>117</td>\n",
       "      <td>117</td>\n",
       "    </tr>\n",
       "    <tr>\n",
       "      <th>SAINSBURY</th>\n",
       "      <td>90</td>\n",
       "      <td>90</td>\n",
       "      <td>90</td>\n",
       "      <td>90</td>\n",
       "      <td>90</td>\n",
       "      <td>90</td>\n",
       "      <td>90</td>\n",
       "      <td>90</td>\n",
       "    </tr>\n",
       "    <tr>\n",
       "      <th>SAINSBURY'S</th>\n",
       "      <td>30</td>\n",
       "      <td>30</td>\n",
       "      <td>30</td>\n",
       "      <td>30</td>\n",
       "      <td>30</td>\n",
       "      <td>30</td>\n",
       "      <td>13</td>\n",
       "      <td>13</td>\n",
       "    </tr>\n",
       "    <tr>\n",
       "      <th>SAINSBURY’S</th>\n",
       "      <td>30</td>\n",
       "      <td>30</td>\n",
       "      <td>30</td>\n",
       "      <td>30</td>\n",
       "      <td>30</td>\n",
       "      <td>30</td>\n",
       "      <td>30</td>\n",
       "      <td>30</td>\n",
       "    </tr>\n",
       "    <tr>\n",
       "      <th>TESCO</th>\n",
       "      <td>90</td>\n",
       "      <td>90</td>\n",
       "      <td>90</td>\n",
       "      <td>90</td>\n",
       "      <td>90</td>\n",
       "      <td>90</td>\n",
       "      <td>79</td>\n",
       "      <td>79</td>\n",
       "    </tr>\n",
       "    <tr>\n",
       "      <th>TESCOEXP</th>\n",
       "      <td>210</td>\n",
       "      <td>210</td>\n",
       "      <td>210</td>\n",
       "      <td>210</td>\n",
       "      <td>210</td>\n",
       "      <td>210</td>\n",
       "      <td>174</td>\n",
       "      <td>174</td>\n",
       "    </tr>\n",
       "    <tr>\n",
       "      <th>WAITROSE</th>\n",
       "      <td>150</td>\n",
       "      <td>150</td>\n",
       "      <td>150</td>\n",
       "      <td>150</td>\n",
       "      <td>150</td>\n",
       "      <td>150</td>\n",
       "      <td>150</td>\n",
       "      <td>150</td>\n",
       "    </tr>\n",
       "  </tbody>\n",
       "</table>\n",
       "</div>"
      ],
      "text/plain": [
       "             timestamp  email  name  address  neighbourhood  product  \\\n",
       "store                                                                  \n",
       "ALDI               510    510   510      510            480      510   \n",
       "EDEKA              630    630   630      630            630      630   \n",
       "LIDL               480    480   480      480            480      480   \n",
       "LOTTE               30     30    30       30             30       30   \n",
       "REWE               420    420   420      420            420      420   \n",
       "SAFEWAY            120    120   120      120            120      120   \n",
       "SAINSBURY           90     90    90       90             90       90   \n",
       "SAINSBURY'S         30     30    30       30             30       30   \n",
       "SAINSBURY’S         30     30    30       30             30       30   \n",
       "TESCO               90     90    90       90             90       90   \n",
       "TESCOEXP           210    210   210      210            210      210   \n",
       "WAITROSE           150    150   150      150            150      150   \n",
       "\n",
       "             quantity  price  \n",
       "store                         \n",
       "ALDI              428    428  \n",
       "EDEKA             590    590  \n",
       "LIDL              400    400  \n",
       "LOTTE              28     28  \n",
       "REWE              400    401  \n",
       "SAFEWAY           117    117  \n",
       "SAINSBURY          90     90  \n",
       "SAINSBURY'S        13     13  \n",
       "SAINSBURY’S        30     30  \n",
       "TESCO              79     79  \n",
       "TESCOEXP          174    174  \n",
       "WAITROSE          150    150  "
      ]
     },
     "execution_count": 18,
     "metadata": {},
     "output_type": "execute_result"
    }
   ],
   "source": [
    "new_df.groupby(\"store\").count()"
   ]
  },
  {
   "cell_type": "code",
   "execution_count": 19,
   "metadata": {},
   "outputs": [
    {
     "data": {
      "image/png": "[encoded data removed]",
      "text/plain": [
       "<Figure size 432x288 with 1 Axes>"
      ]
     },
     "metadata": {
      "needs_background": "light"
     },
     "output_type": "display_data"
    },
    {
     "data": {
      "image/png": "[encoded data removed]",
      "text/plain": [
       "<Figure size 432x288 with 1 Axes>"
      ]
     },
     "metadata": {
      "needs_background": "light"
     },
     "output_type": "display_data"
    },
    {
     "data": {
      "image/png": "[encoded data removed]",
      "text/plain": [
       "<Figure size 432x288 with 1 Axes>"
      ]
     },
     "metadata": {
      "needs_background": "light"
     },
     "output_type": "display_data"
    },
    {
     "data": {
      "image/png": "[encoded data removed]",
      "text/plain": [
       "<Figure size 432x288 with 1 Axes>"
      ]
     },
     "metadata": {
      "needs_background": "light"
     },
     "output_type": "display_data"
    },
    {
     "data": {
      "image/png": "[encoded data removed]",
      "text/plain": [
       "<Figure size 432x288 with 1 Axes>"
      ]
     },
     "metadata": {
      "needs_background": "light"
     },
     "output_type": "display_data"
    },
    {
     "data": {
      "image/png": "[encoded data removed]",
      "text/plain": [
       "<Figure size 432x288 with 1 Axes>"
      ]
     },
     "metadata": {
      "needs_background": "light"
     },
     "output_type": "display_data"
    },
    {
     "data": {
      "image/png": "[encoded data removed]",
      "text/plain": [
       "<Figure size 432x288 with 1 Axes>"
      ]
     },
     "metadata": {
      "needs_background": "light"
     },
     "output_type": "display_data"
    },
    {
     "data": {
      "image/png": "[encoded data removed]",
      "text/plain": [
       "<Figure size 432x288 with 1 Axes>"
      ]
     },
     "metadata": {
      "needs_background": "light"
     },
     "output_type": "display_data"
    },
    {
     "data": {
      "image/png": "[encoded data removed]",
      "text/plain": [
       "<Figure size 432x288 with 1 Axes>"
      ]
     },
     "metadata": {
      "needs_background": "light"
     },
     "output_type": "display_data"
    },
    {
     "data": {
      "image/png": "[encoded data removed]",
      "text/plain": [
       "<Figure size 432x288 with 1 Axes>"
      ]
     },
     "metadata": {
      "needs_background": "light"
     },
     "output_type": "display_data"
    }
   ],
   "source": [
    "# calculate posteriors over each \n",
    "store_post = {}\n",
    "\n",
    "for store in [\"ALDI\",\"EDEKA\",\"LIDL\",\"LOTTE\",\"REWE\",\"SAFEWAY\",\"SAINSBURY\",\"TESCO\",\"TESCOEXP\",\"WAITROSE\"]:\n",
    "    data = new_df[new_df[\"store\"] == store][\"price\"].tolist()\n",
    "    data = [d for d in data if str(d) != 'nan'] # clear nans\n",
    "    plt.hist(data)\n",
    "    plt.title(store)\n",
    "    plt.show()\n",
    "    ## Posterior = gamma(alpha+n, beta+sum(x))\n",
    "    alpha_post = alpha_0 + len(data)\n",
    "    beta_post = beta_0 + sum(data)\n",
    "    store_post[store] = (alpha_post,beta_post)"
   ]
  },
  {
   "cell_type": "code",
   "execution_count": 20,
   "metadata": {
    "scrolled": false
   },
   "outputs": [
    {
     "data": {
      "text/plain": [
       "{'ALDI': (428.001, 872.3410000000008),\n",
       " 'EDEKA': (590.001, 1638.351000000005),\n",
       " 'LIDL': (400.001, 821.4430000000012),\n",
       " 'LOTTE': (28.001, 186.901),\n",
       " 'REWE': (401.001, 913.2510000000017),\n",
       " 'SAFEWAY': (117.001, 575.8010000000004),\n",
       " 'SAINSBURY': (90.001, 292.7165999999999),\n",
       " 'TESCO': (79.001, 250.8210000000001),\n",
       " 'TESCOEXP': (174.001, 545.2510000000001),\n",
       " 'WAITROSE': (150.001, 510.7309999999998)}"
      ]
     },
     "execution_count": 20,
     "metadata": {},
     "output_type": "execute_result"
    }
   ],
   "source": [
    "store_post"
   ]
  },
  {
   "cell_type": "markdown",
   "metadata": {},
   "source": [
    "### Calculating Posteriors over Neighborhood"
   ]
  },
  {
   "cell_type": "code",
   "execution_count": 27,
   "metadata": {},
   "outputs": [
    {
     "data": {
      "text/html": [
       "<div>\n",
       "<style scoped>\n",
       "    .dataframe tbody tr th:only-of-type {\n",
       "        vertical-align: middle;\n",
       "    }\n",
       "\n",
       "    .dataframe tbody tr th {\n",
       "        vertical-align: top;\n",
       "    }\n",
       "\n",
       "    .dataframe thead th {\n",
       "        text-align: right;\n",
       "    }\n",
       "</style>\n",
       "<table border=\"1\" class=\"dataframe\">\n",
       "  <thead>\n",
       "    <tr style=\"text-align: right;\">\n",
       "      <th></th>\n",
       "      <th>timestamp</th>\n",
       "      <th>email</th>\n",
       "      <th>name</th>\n",
       "      <th>store</th>\n",
       "      <th>address</th>\n",
       "      <th>product</th>\n",
       "      <th>quantity</th>\n",
       "      <th>price</th>\n",
       "    </tr>\n",
       "    <tr>\n",
       "      <th>neighbourhood</th>\n",
       "      <th></th>\n",
       "      <th></th>\n",
       "      <th></th>\n",
       "      <th></th>\n",
       "      <th></th>\n",
       "      <th></th>\n",
       "      <th></th>\n",
       "      <th></th>\n",
       "    </tr>\n",
       "  </thead>\n",
       "  <tbody>\n",
       "    <tr>\n",
       "      <th>Alt-Treptow</th>\n",
       "      <td>120</td>\n",
       "      <td>120</td>\n",
       "      <td>120</td>\n",
       "      <td>120</td>\n",
       "      <td>120</td>\n",
       "      <td>120</td>\n",
       "      <td>109</td>\n",
       "      <td>109</td>\n",
       "    </tr>\n",
       "    <tr>\n",
       "      <th>California</th>\n",
       "      <td>120</td>\n",
       "      <td>120</td>\n",
       "      <td>120</td>\n",
       "      <td>120</td>\n",
       "      <td>120</td>\n",
       "      <td>120</td>\n",
       "      <td>117</td>\n",
       "      <td>117</td>\n",
       "    </tr>\n",
       "    <tr>\n",
       "      <th>Friedrichshain</th>\n",
       "      <td>300</td>\n",
       "      <td>300</td>\n",
       "      <td>300</td>\n",
       "      <td>300</td>\n",
       "      <td>300</td>\n",
       "      <td>300</td>\n",
       "      <td>275</td>\n",
       "      <td>275</td>\n",
       "    </tr>\n",
       "    <tr>\n",
       "      <th>Kreuzberg</th>\n",
       "      <td>300</td>\n",
       "      <td>300</td>\n",
       "      <td>300</td>\n",
       "      <td>300</td>\n",
       "      <td>300</td>\n",
       "      <td>300</td>\n",
       "      <td>262</td>\n",
       "      <td>263</td>\n",
       "    </tr>\n",
       "    <tr>\n",
       "      <th>Lichtenberg</th>\n",
       "      <td>180</td>\n",
       "      <td>180</td>\n",
       "      <td>180</td>\n",
       "      <td>180</td>\n",
       "      <td>180</td>\n",
       "      <td>180</td>\n",
       "      <td>162</td>\n",
       "      <td>162</td>\n",
       "    </tr>\n",
       "    <tr>\n",
       "      <th>London</th>\n",
       "      <td>600</td>\n",
       "      <td>600</td>\n",
       "      <td>600</td>\n",
       "      <td>600</td>\n",
       "      <td>600</td>\n",
       "      <td>600</td>\n",
       "      <td>536</td>\n",
       "      <td>536</td>\n",
       "    </tr>\n",
       "    <tr>\n",
       "      <th>Mitte</th>\n",
       "      <td>480</td>\n",
       "      <td>480</td>\n",
       "      <td>480</td>\n",
       "      <td>480</td>\n",
       "      <td>480</td>\n",
       "      <td>480</td>\n",
       "      <td>433</td>\n",
       "      <td>433</td>\n",
       "    </tr>\n",
       "    <tr>\n",
       "      <th>Neukölln</th>\n",
       "      <td>300</td>\n",
       "      <td>300</td>\n",
       "      <td>300</td>\n",
       "      <td>300</td>\n",
       "      <td>300</td>\n",
       "      <td>300</td>\n",
       "      <td>262</td>\n",
       "      <td>262</td>\n",
       "    </tr>\n",
       "    <tr>\n",
       "      <th>Prenzlauer Berg</th>\n",
       "      <td>120</td>\n",
       "      <td>120</td>\n",
       "      <td>120</td>\n",
       "      <td>120</td>\n",
       "      <td>120</td>\n",
       "      <td>120</td>\n",
       "      <td>109</td>\n",
       "      <td>109</td>\n",
       "    </tr>\n",
       "    <tr>\n",
       "      <th>Schöneberg</th>\n",
       "      <td>180</td>\n",
       "      <td>180</td>\n",
       "      <td>180</td>\n",
       "      <td>180</td>\n",
       "      <td>180</td>\n",
       "      <td>180</td>\n",
       "      <td>156</td>\n",
       "      <td>156</td>\n",
       "    </tr>\n",
       "    <tr>\n",
       "      <th>Seoul</th>\n",
       "      <td>30</td>\n",
       "      <td>30</td>\n",
       "      <td>30</td>\n",
       "      <td>30</td>\n",
       "      <td>30</td>\n",
       "      <td>30</td>\n",
       "      <td>28</td>\n",
       "      <td>28</td>\n",
       "    </tr>\n",
       "    <tr>\n",
       "      <th>Tempelhof</th>\n",
       "      <td>30</td>\n",
       "      <td>30</td>\n",
       "      <td>30</td>\n",
       "      <td>30</td>\n",
       "      <td>30</td>\n",
       "      <td>30</td>\n",
       "      <td>24</td>\n",
       "      <td>24</td>\n",
       "    </tr>\n",
       "  </tbody>\n",
       "</table>\n",
       "</div>"
      ],
      "text/plain": [
       "                 timestamp  email  name  store  address  product  quantity  \\\n",
       "neighbourhood                                                                \n",
       "Alt-Treptow            120    120   120    120      120      120       109   \n",
       "California             120    120   120    120      120      120       117   \n",
       "Friedrichshain         300    300   300    300      300      300       275   \n",
       "Kreuzberg              300    300   300    300      300      300       262   \n",
       "Lichtenberg            180    180   180    180      180      180       162   \n",
       "London                 600    600   600    600      600      600       536   \n",
       "Mitte                  480    480   480    480      480      480       433   \n",
       "Neukölln               300    300   300    300      300      300       262   \n",
       "Prenzlauer Berg        120    120   120    120      120      120       109   \n",
       "Schöneberg             180    180   180    180      180      180       156   \n",
       "Seoul                   30     30    30     30       30       30        28   \n",
       "Tempelhof               30     30    30     30       30       30        24   \n",
       "\n",
       "                 price  \n",
       "neighbourhood           \n",
       "Alt-Treptow        109  \n",
       "California         117  \n",
       "Friedrichshain     275  \n",
       "Kreuzberg          263  \n",
       "Lichtenberg        162  \n",
       "London             536  \n",
       "Mitte              433  \n",
       "Neukölln           262  \n",
       "Prenzlauer Berg    109  \n",
       "Schöneberg         156  \n",
       "Seoul               28  \n",
       "Tempelhof           24  "
      ]
     },
     "execution_count": 27,
     "metadata": {},
     "output_type": "execute_result"
    }
   ],
   "source": [
    "new_df.groupby(\"neighbourhood\").count()"
   ]
  },
  {
   "cell_type": "code",
   "execution_count": 28,
   "metadata": {},
   "outputs": [
    {
     "data": {
      "image/png": "[encoded data removed]",
      "text/plain": [
       "<Figure size 432x288 with 1 Axes>"
      ]
     },
     "metadata": {
      "needs_background": "light"
     },
     "output_type": "display_data"
    },
    {
     "data": {
      "image/png": "[encoded data removed]",
      "text/plain": [
       "<Figure size 432x288 with 1 Axes>"
      ]
     },
     "metadata": {
      "needs_background": "light"
     },
     "output_type": "display_data"
    },
    {
     "data": {
      "image/png": "[encoded data removed]",
      "text/plain": [
       "<Figure size 432x288 with 1 Axes>"
      ]
     },
     "metadata": {
      "needs_background": "light"
     },
     "output_type": "display_data"
    },
    {
     "data": {
      "image/png": "[encoded data removed]",
      "text/plain": [
       "<Figure size 432x288 with 1 Axes>"
      ]
     },
     "metadata": {
      "needs_background": "light"
     },
     "output_type": "display_data"
    },
    {
     "data": {
      "image/png": "[encoded data removed]",
      "text/plain": [
       "<Figure size 432x288 with 1 Axes>"
      ]
     },
     "metadata": {
      "needs_background": "light"
     },
     "output_type": "display_data"
    },
    {
     "data": {
      "image/png": "[encoded data removed]",
      "text/plain": [
       "<Figure size 432x288 with 1 Axes>"
      ]
     },
     "metadata": {
      "needs_background": "light"
     },
     "output_type": "display_data"
    },
    {
     "data": {
      "image/png": "[encoded data removed]",
      "text/plain": [
       "<Figure size 432x288 with 1 Axes>"
      ]
     },
     "metadata": {
      "needs_background": "light"
     },
     "output_type": "display_data"
    },
    {
     "data": {
      "image/png": "[encoded data removed]",
      "text/plain": [
       "<Figure size 432x288 with 1 Axes>"
      ]
     },
     "metadata": {
      "needs_background": "light"
     },
     "output_type": "display_data"
    },
    {
     "data": {
      "image/png": "[encoded data removed]",
      "text/plain": [
       "<Figure size 432x288 with 1 Axes>"
      ]
     },
     "metadata": {
      "needs_background": "light"
     },
     "output_type": "display_data"
    },
    {
     "data": {
      "image/png": "[encoded data removed]",
      "text/plain": [
       "<Figure size 432x288 with 1 Axes>"
      ]
     },
     "metadata": {
      "needs_background": "light"
     },
     "output_type": "display_data"
    },
    {
     "data": {
      "image/png": "[encoded data removed]",
      "text/plain": [
       "<Figure size 432x288 with 1 Axes>"
      ]
     },
     "metadata": {
      "needs_background": "light"
     },
     "output_type": "display_data"
    },
    {
     "data": {
      "image/png": "[encoded data removed]",
      "text/plain": [
       "<Figure size 432x288 with 1 Axes>"
      ]
     },
     "metadata": {
      "needs_background": "light"
     },
     "output_type": "display_data"
    }
   ],
   "source": [
    "# calculate posteriors over each \n",
    "nb_post = {}\n",
    "\n",
    "for nb in [\"Alt-Treptow\",\"California\",\"Friedrichshain\",\"Kreuzberg\",\"Lichtenberg\",\"London\",\"Mitte\",\"Neukölln\",\"Prenzlauer Berg\",\"Schöneberg\",\"Seoul\",\"Tempelhof\"]:\n",
    "    data = new_df[new_df[\"neighbourhood\"] == nb][\"price\"].tolist()\n",
    "    data = [d for d in data if str(d) != 'nan'] # clear nans\n",
    "    plt.hist(data)\n",
    "    plt.title(nb)\n",
    "    plt.show()\n",
    "    ## Posterior = gamma(alpha+n, beta+sum(x))\n",
    "    alpha_post = alpha_0 + len(data)\n",
    "    beta_post = beta_0 + sum(data)\n",
    "    nb_post[nb] = (alpha_post,beta_post)"
   ]
  },
  {
   "cell_type": "code",
   "execution_count": 29,
   "metadata": {
    "scrolled": true
   },
   "outputs": [
    {
     "data": {
      "text/plain": [
       "{'Alt-Treptow': (109.001, 271.18100000000015),\n",
       " 'California': (117.001, 575.8010000000004),\n",
       " 'Friedrichshain': (275.001, 650.1010000000006),\n",
       " 'Kreuzberg': (263.001, 603.8310000000002),\n",
       " 'Lichtenberg': (162.001, 358.9510000000002),\n",
       " 'London': (536.001, 1782.8966000000003),\n",
       " 'Mitte': (433.001, 1021.4030000000017),\n",
       " 'Neukölln': (262.001, 542.8910000000001),\n",
       " 'Prenzlauer Berg': (109.001, 276.53100000000006),\n",
       " 'Schöneberg': (156.001, 429.3410000000001),\n",
       " 'Seoul': (28.001, 186.901),\n",
       " 'Tempelhof': (24.001, 42.480999999999995)}"
      ]
     },
     "execution_count": 29,
     "metadata": {},
     "output_type": "execute_result"
    }
   ],
   "source": [
    "nb_post"
   ]
  },
  {
   "cell_type": "markdown",
   "metadata": {},
   "source": [
    "### Calculating Differences from actual price"
   ]
  },
  {
   "cell_type": "code",
   "execution_count": null,
   "metadata": {},
   "outputs": [],
   "source": []
  },
  {
   "cell_type": "code",
   "execution_count": null,
   "metadata": {},
   "outputs": [],
   "source": [
    "### Calculating Posteriors over Neighborhood"
   ]
  }
 ],
 "metadata": {
  "kernelspec": {
   "display_name": "Python 3",
   "language": "python",
   "name": "python3"
  },
  "language_info": {
   "codemirror_mode": {
    "name": "ipython",
    "version": 3
   },
   "file_extension": ".py",
   "mimetype": "text/x-python",
   "name": "python",
   "nbconvert_exporter": "python",
   "pygments_lexer": "ipython3",
   "version": "3.7.4"
  }
 },
 "nbformat": 4,
 "nbformat_minor": 2
}
