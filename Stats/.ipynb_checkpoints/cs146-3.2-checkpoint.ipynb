{
 "cells": [
  {
   "cell_type": "markdown",
   "metadata": {},
   "source": [
    "# Making predictions and decisions with medical trial data\n",
    "\n",
    "We have data for 6 studies that have been done on the effect of *specific allergen immunotherapy* (SIT) on eczema and the following success rates have been observed. In each of the trials, the investigator rated whether each patient's condition improved or not.\n",
    "\n",
    "This data set is from the [Cochrane Database of Systematic Reviews](http://www.cochranelibrary.com/) article cited below, available for free [here](http://onlinelibrary.wiley.com/doi/10.1002/14651858.CD008774.pub2/full). The Cochrane Database is a great resource for high quality data on all sorts of medical trials.\n",
    "\n",
    "> Tam H., Calderon M.A., Manikam L., Nankervis H., García Núñez I., Williams H.C., Durham S., Boyle R.J. (2016). Specific allergen immunotherapy for the treatment of atopic eczema. *Cochrane Database of Systematic Reviews, Issue 2*. Art. No.: CD008774. DOI: 10.1002/14651858.CD008774.pub2.\n",
    "\n",
    "| Study          | Improved | Not improved |\n",
    "|:-------------- | --------:| ------------:|\n",
    "| Di Rienzo 2014 | 20       | 3            |\n",
    "| Galli 1994     | 10       | 6            |\n",
    "| Kaufman 1974   | 13       | 3            |\n",
    "| Qin 2014       | 35       | 10           |\n",
    "| Sanchez 2012   | 22       | 9            |\n",
    "| Silny 2006     | 7        | 3            |\n",
    "| **Totals**     | **107**  | **34**       |\n",
    "\n",
    "## Task 1: Modeling\n",
    "**Build a statistical model for this data set.** As your data, use the total number of patients improved (107) and not improved (34).\n",
    "\n",
    "**Steps in the modeling process:**\n",
    "1. Choose and motivate for an appropriate likelihood function for this type of data.\n",
    "    1. Make sure the support of your likelihood function matches the type of data we are working with.\n",
    "    2. Describe the unobserved parameter(s) of your model, and describe how it/they can be interpreted.\n",
    "2. Use a conjugate prior distribution for your likelihood function.\n",
    "    1. Select appropriate values for the prior hyperparameters and motivate your choice.\n",
    "    2. Visualize your prior distribution.\n",
    "3. Compute and visualize the posterior distribution over the unobserved parameter(s) of your model. Also describe what the posterior tells you about the parameter(s).\n",
    "\n",
    "Feel free to discuss this task with other students in the course, or attempt it on your own if you prefer. Discussing your modeling ideas with other students is a useful way to get feedback on your assumptions."
   ]
  },
  {
   "cell_type": "markdown",
   "metadata": {},
   "source": [
    "Appropriate likelihood is binomial since its a matter of number of binary events occuring given each instance is independent"
   ]
  },
  {
   "cell_type": "markdown",
   "metadata": {},
   "source": [
    "## Likelihood"
   ]
  },
  {
   "cell_type": "code",
   "execution_count": 2,
   "metadata": {},
   "outputs": [],
   "source": [
    "import numpy as np\n",
    "import matplotlib.pyplot as plt\n",
    "from scipy import stats"
   ]
  },
  {
   "cell_type": "code",
   "execution_count": 11,
   "metadata": {},
   "outputs": [
    {
     "data": {
      "text/plain": [
       "[<matplotlib.lines.Line2D at 0x11eb54150>]"
      ]
     },
     "execution_count": 11,
     "metadata": {},
     "output_type": "execute_result"
    },
    {
     "data": {
      "image/png": "[encoded data removed]",
      "text/plain": [
       "<Figure size 432x288 with 1 Axes>"
      ]
     },
     "metadata": {
      "needs_background": "light"
     },
     "output_type": "display_data"
    }
   ],
   "source": [
    "theta = np.arange(0,141)\n",
    "N1 = 141\n",
    "X = 107\n",
    "likelihood = stats.binom.pmf(theta,141,107/141)\n",
    "plt.plot(theta,likelihood)"
   ]
  },
  {
   "cell_type": "markdown",
   "metadata": {},
   "source": [
    "Parameters:\n",
    "n = the number of patients monitored\n",
    "x = the probability of condition improving"
   ]
  },
  {
   "cell_type": "markdown",
   "metadata": {},
   "source": [
    "## Prior"
   ]
  },
  {
   "cell_type": "code",
   "execution_count": 12,
   "metadata": {
    "scrolled": true
   },
   "outputs": [
    {
     "data": {
      "text/plain": [
       "[<matplotlib.lines.Line2D at 0x11ebc4390>]"
      ]
     },
     "execution_count": 12,
     "metadata": {},
     "output_type": "execute_result"
    },
    {
     "data": {
      "image/png": "[encoded data removed]",
      "text/plain": [
       "<Figure size 432x288 with 1 Axes>"
      ]
     },
     "metadata": {
      "needs_background": "light"
     },
     "output_type": "display_data"
    }
   ],
   "source": [
    "# conjugate is beta\n",
    "# assuming no knowledge, flat prior\n",
    "a = 1\n",
    "b = 1\n",
    "xb = np.linspace(0,1,141)\n",
    "prior = stats.beta.pdf(xb,a,b)\n",
    "plt.plot(xb,prior)"
   ]
  },
  {
   "cell_type": "markdown",
   "metadata": {},
   "source": [
    "# Posterior\n"
   ]
  },
  {
   "cell_type": "code",
   "execution_count": 13,
   "metadata": {},
   "outputs": [],
   "source": [
    "import scipy"
   ]
  },
  {
   "cell_type": "code",
   "execution_count": 32,
   "metadata": {},
   "outputs": [
    {
     "data": {
      "text/plain": [
       "[<matplotlib.lines.Line2D at 0x11f2a5810>]"
      ]
     },
     "execution_count": 32,
     "metadata": {},
     "output_type": "execute_result"
    },
    {
     "data": {
      "image/png": "[encoded data removed]",
      "text/plain": [
       "<Figure size 432x288 with 1 Axes>"
      ]
     },
     "metadata": {
      "needs_background": "light"
     },
     "output_type": "display_data"
    }
   ],
   "source": [
    "posterior = stats.beta.pdf(xb,a+X,b+N1-X)\n",
    "plt.plot(xb,posterior)"
   ]
  },
  {
   "cell_type": "markdown",
   "metadata": {},
   "source": [
    "Because my prior is flat, the posterior takes on the shape of the likelihood (equal weighting)\n",
    "\n",
    "\n",
    "The posterior describes that the probability of successful treatment has a 95% confidence interval of approximately 0.65 to 0.8 and is fairly symmetrically distributed"
   ]
  },
  {
   "cell_type": "markdown",
   "metadata": {},
   "source": [
    "## Task 2: Questions, predictions, and decisions\n",
    "1. Posterior predictive distribution: Use your model to predict how many patients would improve if we treated 100 new eczema patients using SIT. Express your answer as a probability distribution over the number of patients improved.\n",
    "2. Use your posterior to answer these questions:\n",
    "    1. What is the probability that at least two thirds of eczema patients get better with SIT?\n",
    "    2. What is the probability that at least 75% of eczema patients get better with SIT?\n",
    "3. Use your model to decide whether the treatment works or not. Motivate your answer."
   ]
  },
  {
   "cell_type": "code",
   "execution_count": 8,
   "metadata": {},
   "outputs": [],
   "source": [
    "x = scipy.integrate.trapz(likelihood*posterior,x)"
   ]
  },
  {
   "cell_type": "code",
   "execution_count": 91,
   "metadata": {},
   "outputs": [],
   "source": [
    "from scipy.special import comb\n",
    "\n",
    "def betabinom(N2,X,a,b):\n",
    "    #f(k|n,a,b) = comb(n,k) * B(k+a, n-k+b) / B(a,b)\n",
    "    return(comb(N2,X) * stats.beta.pdf(X/N2, X+a,N2-X+b)/stats.beta.pdf(X/N2, a,b))\n",
    "\n",
    "\n",
    "\n"
   ]
  },
  {
   "cell_type": "code",
   "execution_count": 92,
   "metadata": {},
   "outputs": [
    {
     "data": {
      "text/plain": [
       "136693.28508930875"
      ]
     },
     "execution_count": 92,
     "metadata": {},
     "output_type": "execute_result"
    }
   ],
   "source": [
    "betabinom(100,2,1,1)"
   ]
  },
  {
   "cell_type": "code",
   "execution_count": 93,
   "metadata": {},
   "outputs": [],
   "source": [
    "N2 = 100\n",
    "a = 1\n",
    "b = 1\n",
    "post_pred = []\n",
    "for i in range(1,N2+1):\n",
    "    post_pred.append(betabinom(N2,i,a,b))"
   ]
  },
  {
   "cell_type": "code",
   "execution_count": 96,
   "metadata": {},
   "outputs": [
    {
     "data": {
      "text/plain": [
       "[<matplotlib.lines.Line2D at 0x11f4784d0>]"
      ]
     },
     "execution_count": 96,
     "metadata": {},
     "output_type": "execute_result"
    },
    {
     "data": {
      "image/png": "[encoded data removed]",
      "text/plain": [
       "<Figure size 432x288 with 1 Axes>"
      ]
     },
     "metadata": {
      "needs_background": "light"
     },
     "output_type": "display_data"
    }
   ],
   "source": [
    "plt.plot(np.arange(1,N2+1),post_pred)"
   ]
  },
  {
   "cell_type": "code",
   "execution_count": 1,
   "metadata": {},
   "outputs": [],
   "source": [
    "## it dOESN'T LOOK RIGHT but nevermind"
   ]
  },
  {
   "cell_type": "markdown",
   "metadata": {},
   "source": [
    "The 95% confidence interval is approximately 40 to 60 patients\n",
    "\n",
    "2/3rds get better: looks like around 5%\n",
    "75%: looks like around 0.01% \n",
    "\n",
    "Looks like it doesn't work\n",
    "\n",
    "but my posterior predictive is definitely wrong"
   ]
  }
 ],
 "metadata": {
  "kernelspec": {
   "display_name": "Python 3",
   "language": "python",
   "name": "python3"
  },
  "language_info": {
   "codemirror_mode": {
    "name": "ipython",
    "version": 3
   },
   "file_extension": ".py",
   "mimetype": "text/x-python",
   "name": "python",
   "nbconvert_exporter": "python",
   "pygments_lexer": "ipython3",
   "version": "3.7.4"
  }
 },
 "nbformat": 4,
 "nbformat_minor": 2
}
