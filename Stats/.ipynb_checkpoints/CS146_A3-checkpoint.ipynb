{
 "cells": [
  {
   "cell_type": "markdown",
   "metadata": {},
   "source": [
    "# Setup"
   ]
  },
  {
   "cell_type": "code",
   "execution_count": 3,
   "metadata": {},
   "outputs": [],
   "source": [
    "import numpy as np\n",
    "import scipy as sp\n",
    "import scipy.stats as sts\n",
    "import matplotlib.pyplot as plt\n",
    "\n",
    "%matplotlib inline\n",
    "waiting_times_day = np.loadtxt('call_center.csv')\n"
   ]
  },
  {
   "cell_type": "code",
   "execution_count": 8,
   "metadata": {},
   "outputs": [],
   "source": [
    "# Make 24 empty lists, one per hour.\n",
    "waiting_times_per_hour = [[] for _ in range(24)]\n",
    "\n",
    "# Split the data into 24 separate series, one for each hour of the day.\n",
    "current_time = 0\n",
    "for t in waiting_times_day:\n",
    "    current_hour = int(current_time // 60)\n",
    "    current_time += t\n",
    "    waiting_times_per_hour[current_hour].append(t)\n"
   ]
  },
  {
   "cell_type": "code",
   "execution_count": 9,
   "metadata": {},
   "outputs": [],
   "source": [
    "hour_13 = waiting_times_per_hour[13]"
   ]
  },
  {
   "cell_type": "markdown",
   "metadata": {},
   "source": [
    "# Q1: Hour 13 Posterior"
   ]
  },
  {
   "cell_type": "code",
   "execution_count": 54,
   "metadata": {},
   "outputs": [],
   "source": [
    "import pystan\n",
    "\n",
    "import numpy as np\n",
    "import matplotlib.pyplot as plt\n",
    "from scipy import stats"
   ]
  },
  {
   "cell_type": "markdown",
   "metadata": {},
   "source": [
    "I'm assuming hyperparamaters for the prior Gamma to be (0.001,0.001). This is so that it will have very little effect on the posterior relative to the data entries. This is done to reflect my uncertainties regarding the prior."
   ]
  },
  {
   "cell_type": "markdown",
   "metadata": {},
   "source": [
    "## Exponential Gamma"
   ]
  },
  {
   "cell_type": "code",
   "execution_count": 26,
   "metadata": {},
   "outputs": [],
   "source": [
    "exp_gamma_data = {\n",
    "    'alpha': 0.001,  # fixed prior hyperparameters for the\n",
    "    'beta': 0.001,   # gamma distribution\n",
    "    'count': len(hour_13),  # count of datapoints\n",
    "    'calls': hour_13\n",
    "}"
   ]
  },
  {
   "cell_type": "code",
   "execution_count": 40,
   "metadata": {},
   "outputs": [],
   "source": [
    "exp_gamma_stan = \"\"\"\n",
    "data {\n",
    "    real<lower=0> alpha;  // fixed prior hyperparameter\n",
    "    real<lower=0> beta;   // fixed prior hyperparameter\n",
    "    int<lower=0> count;   // number of datapoints\n",
    "    real<lower=0> calls[count];  // datapoints   \n",
    "}\n",
    "\n",
    "parameters {\n",
    "    real<lower=0> lambda;  // rate for exponential distribution\n",
    "}\n",
    "\n",
    "model {\n",
    "    lambda ~ gamma(alpha, beta);    // prior over lambda\n",
    "    for(i in 1:count) {\n",
    "        calls[i] ~ exponential(lambda);  // likelihood function\n",
    "    }\n",
    "    \n",
    "}\n",
    "\n",
    "\"\"\""
   ]
  },
  {
   "cell_type": "code",
   "execution_count": 43,
   "metadata": {},
   "outputs": [
    {
     "name": "stderr",
     "output_type": "stream",
     "text": [
      "INFO:pystan:COMPILING THE C++ CODE FOR MODEL anon_model_f49224f7e528bff1191ad6e396ca4376 NOW.\n"
     ]
    }
   ],
   "source": [
    "exp_gamma_model = pystan.StanModel(model_code=exp_gamma_stan)"
   ]
  },
  {
   "cell_type": "code",
   "execution_count": 44,
   "metadata": {
    "scrolled": true
   },
   "outputs": [],
   "source": [
    "exp_gamma_results = exp_gamma_model.sampling(data=exp_gamma_data)\n",
    "exp_gamma_samples = exp_gamma_results.extract()\n"
   ]
  },
  {
   "cell_type": "code",
   "execution_count": 82,
   "metadata": {},
   "outputs": [
    {
     "name": "stdout",
     "output_type": "stream",
     "text": [
      "Posterior 98% confidence interval over λ: [5.32996526 5.65833467]\n"
     ]
    }
   ],
   "source": [
    "exp_gamma_98 = np.percentile(exp_gamma_samples['lambda'], [0.01, 0.99])\n",
    "print(\"Posterior 98% confidence interval over λ: {}\".format(exp_gamma_98))"
   ]
  },
  {
   "cell_type": "code",
   "execution_count": 56,
   "metadata": {},
   "outputs": [
    {
     "name": "stdout",
     "output_type": "stream",
     "text": [
      "Posterior 98% confidence interval for p: [5.44701828 7.38272012]\n"
     ]
    },
    {
     "data": {
      "image/png": "[encoded data removed]",
      "text/plain": [
       "<Figure size 432x288 with 1 Axes>"
      ]
     },
     "metadata": {
      "needs_background": "light"
     },
     "output_type": "display_data"
    }
   ],
   "source": [
    "plt.hist(exp_gamma_samples['lambda'], bins=50, density=True)\n",
    "plt.title('Sampled posterior probability density for lambda')\n",
    "print(\n",
    "    \"Posterior 98% confidence interval for p:\",\n",
    "    np.percentile(exp_gamma_samples['lambda'], [0.1, 99.9]))\n",
    "plt.show()"
   ]
  },
  {
   "cell_type": "markdown",
   "metadata": {},
   "source": [
    "## Normal Norm-inv-Gamma"
   ]
  },
  {
   "cell_type": "code",
   "execution_count": 74,
   "metadata": {},
   "outputs": [],
   "source": [
    "norm_norminvgamma_data = {\n",
    "    'alpha': 0.001,  # fixed prior hyperparameters for the\n",
    "    'beta': 0.001,   # gamma distribution\n",
    "    'mu_0': 2.3, # \"\"\n",
    "    'nu_0': 0.1, # \"\"\n",
    "    'count': len(hour_13),  # count of datapoints\n",
    "    'calls': hour_13\n",
    "}"
   ]
  },
  {
   "cell_type": "code",
   "execution_count": 88,
   "metadata": {},
   "outputs": [],
   "source": [
    "norm_norminvgamma_stan = \"\"\"\n",
    "data {\n",
    "    real<lower=0> alpha;  // fixed prior hyperparameter\n",
    "    real<lower=0> beta;   // fixed prior hyperparameter\n",
    "    real<lower=0> mu_0;   // fixed prior hyperparameter\n",
    "    real<lower=0> nu_0;   // fixed prior hyperparameter\n",
    "    int<lower=0> count;   // number of datapoints\n",
    "    real<lower=0> calls[count];  // datapoints   \n",
    "}\n",
    "\n",
    "parameters {\n",
    "    real mu;  // mean for normal distribution\n",
    "    real<lower=0> sigma_sq;  // variation for normal distribution\n",
    "}\n",
    "\n",
    "model {\n",
    "    sigma_sq ~ inv_gamma(alpha,beta); // prior over sigma squared\n",
    "    mu ~ normal(mu_0,sigma_sq/nu_0); // prior over mean\n",
    "    for(i in 1:count) {\n",
    "        calls[i] ~ normal(mu,sigma_sq);  // likelihood function\n",
    "    }\n",
    "    \n",
    "}\n",
    "\n",
    "\"\"\""
   ]
  },
  {
   "cell_type": "code",
   "execution_count": 89,
   "metadata": {
    "scrolled": true
   },
   "outputs": [
    {
     "name": "stderr",
     "output_type": "stream",
     "text": [
      "INFO:pystan:COMPILING THE C++ CODE FOR MODEL anon_model_86b1da2362e259484abc1c1ba4c4adf0 NOW.\n"
     ]
    }
   ],
   "source": [
    "norm_norminvgamma_model = pystan.StanModel(model_code=norm_norminvgamma_stan)"
   ]
  },
  {
   "cell_type": "code",
   "execution_count": 84,
   "metadata": {},
   "outputs": [],
   "source": [
    "norm_norminvgamma_results = norm_norminvgamma_model.sampling(data=norm_norminvgamma_data)\n",
    "norm_norminvgamma_samples = norm_norminvgamma_results.extract()\n"
   ]
  },
  {
   "cell_type": "code",
   "execution_count": 103,
   "metadata": {},
   "outputs": [
    {
     "name": "stdout",
     "output_type": "stream",
     "text": [
      "Posterior 95% confidence interval over mu: [0.13231194 0.1373077 ]\n",
      "Posterior 95% confidence interval over sigma squared: [0.14494249 0.15050662]\n"
     ]
    }
   ],
   "source": [
    "norm_norminvgamma_mu_95 = np.percentile(norm_norminvgamma_samples['mu'], [0.025, 0.975])\n",
    "norm_norminvgamma_ssq_95 = np.percentile(norm_norminvgamma_samples['sigma_sq'], [0.025, 0.975])\n",
    "\n",
    "print(\"Posterior 95% confidence interval over mu: {}\".format(norm_norminvgamma_mu_95))\n",
    "print(\"Posterior 95% confidence interval over sigma squared: {}\".format(norm_norminvgamma_ssq_95))\n",
    "\n"
   ]
  },
  {
   "cell_type": "code",
   "execution_count": 96,
   "metadata": {},
   "outputs": [
    {
     "data": {
      "image/png": "[encoded data removed]",
      "text/plain": [
       "<Figure size 864x432 with 1 Axes>"
      ]
     },
     "metadata": {
      "needs_background": "light"
     },
     "output_type": "display_data"
    }
   ],
   "source": [
    "plt.figure(figsize=(12, 6))\n",
    "plot_x = np.linspace(-15, 15, 500)\n",
    "for i in range(10):\n",
    "    plot_y = stats.norm.pdf(plot_x, loc=norm_norminvgamma_samples[\"mu\"][i], scale=np.sqrt(norm_norminvgamma_samples[\"sigma_sq\"][i]))\n",
    "    plt.plot(plot_x, plot_y)\n",
    "plt.title('10 samples from a normal-inverse-gamma posterior distribution')\n",
    "plt.show()\n"
   ]
  },
  {
   "cell_type": "markdown",
   "metadata": {},
   "source": [
    "## Log Normal"
   ]
  },
  {
   "cell_type": "code",
   "execution_count": 99,
   "metadata": {},
   "outputs": [],
   "source": [
    "hrtem_data = np.loadtxt('hrtem.csv')\n",
    "log_data = np.log(hrtem_data)"
   ]
  },
  {
   "cell_type": "code",
   "execution_count": 106,
   "metadata": {},
   "outputs": [],
   "source": [
    "lognorm_norminvgamma_data = {\n",
    "    'alpha': 0.001,  # fixed prior hyperparameters for the\n",
    "    'beta': 0.001,   # gamma distribution\n",
    "    'mu_0': 3, # \"\"\n",
    "    'nu_0': 0.3, # \"\"\n",
    "    'count': len(log_data),  # count of datapoints\n",
    "    'calls': log_data\n",
    "}"
   ]
  },
  {
   "cell_type": "code",
   "execution_count": 101,
   "metadata": {},
   "outputs": [],
   "source": [
    "lognorm_norminvgamma_stan = \"\"\"\n",
    "data {\n",
    "    real<lower=0> alpha;  // fixed prior hyperparameter\n",
    "    real<lower=0> beta;   // fixed prior hyperparameter\n",
    "    real<lower=0> mu_0;   // fixed prior hyperparameter\n",
    "    real<lower=0> nu_0;   // fixed prior hyperparameter\n",
    "    int<lower=0> count;   // number of datapoints\n",
    "    real<lower=0> calls[count];  // datapoints   \n",
    "}\n",
    "\n",
    "parameters {\n",
    "    real mu;  // mean for normal distribution\n",
    "    real<lower=0> sigma_sq;  // variation for normal distribution\n",
    "}\n",
    "\n",
    "model {\n",
    "    sigma_sq ~ inv_gamma(alpha,beta); // prior over sigma squared\n",
    "    mu ~ normal(mu_0,sigma_sq/nu_0); // prior over mean\n",
    "    for(i in 1:count) {\n",
    "        calls[i] ~ lognormal(mu,sigma_sq);  // likelihood function\n",
    "    }\n",
    "    \n",
    "}\n",
    "\n",
    "\"\"\""
   ]
  },
  {
   "cell_type": "code",
   "execution_count": 107,
   "metadata": {},
   "outputs": [
    {
     "name": "stderr",
     "output_type": "stream",
     "text": [
      "INFO:pystan:COMPILING THE C++ CODE FOR MODEL anon_model_86b1da2362e259484abc1c1ba4c4adf0 NOW.\n"
     ]
    }
   ],
   "source": [
    "lognorm_norminvgamma_model = pystan.StanModel(model_code=norm_norminvgamma_stan)"
   ]
  },
  {
   "cell_type": "code",
   "execution_count": 108,
   "metadata": {},
   "outputs": [],
   "source": [
    "lognorm_norminvgamma_results = lognorm_norminvgamma_model.sampling(data=lognorm_norminvgamma_data)\n",
    "lognorm_norminvgamma_samples = lognorm_norminvgamma_results.extract()\n"
   ]
  },
  {
   "cell_type": "code",
   "execution_count": 109,
   "metadata": {},
   "outputs": [
    {
     "name": "stdout",
     "output_type": "stream",
     "text": [
      "Posterior 95% confidence interval over mu: [1.80481706 1.82236714]\n",
      "Posterior 95% confidence interval over sigma squared: [0.62610618 0.6434922 ]\n"
     ]
    }
   ],
   "source": [
    "lognorm_norminvgamma_mu_95 = np.percentile(lognorm_norminvgamma_samples['mu'], [0.025, 0.975])\n",
    "lognorm_norminvgamma_ssq_95 = np.percentile(lognorm_norminvgamma_samples['sigma_sq'], [0.025, 0.975])\n",
    "\n",
    "print(\"Posterior 95% confidence interval over mu: {}\".format(lognorm_norminvgamma_mu_95))\n",
    "print(\"Posterior 95% confidence interval over sigma squared: {}\".format(lognorm_norminvgamma_ssq_95))\n",
    "\n"
   ]
  },
  {
   "cell_type": "code",
   "execution_count": 118,
   "metadata": {},
   "outputs": [
    {
     "data": {
      "image/png": "[encoded data removed]",
      "text/plain": [
       "<Figure size 864x432 with 1 Axes>"
      ]
     },
     "metadata": {
      "needs_background": "light"
     },
     "output_type": "display_data"
    }
   ],
   "source": [
    "plt.figure(figsize=(12, 6))\n",
    "plot_x = np.linspace(0, 30, 500)\n",
    "for i in range(10):\n",
    "    plot_y = stats.lognorm.pdf(plot_x, np.sqrt(lognorm_norminvgamma_samples[\"sigma_sq\"][i]),scale=np.exp(lognorm_norminvgamma_samples[\"mu\"][i]))\n",
    "    plt.plot(plot_x, plot_y)\n",
    "plt.title('10 samples from a normal-inverse-gamma posterior distribution')\n",
    "plt.show()\n"
   ]
  }
 ],
 "metadata": {
  "kernelspec": {
   "display_name": "Python 3",
   "language": "python",
   "name": "python3"
  },
  "language_info": {
   "codemirror_mode": {
    "name": "ipython",
    "version": 3
   },
   "file_extension": ".py",
   "mimetype": "text/x-python",
   "name": "python",
   "nbconvert_exporter": "python",
   "pygments_lexer": "ipython3",
   "version": "3.7.4"
  }
 },
 "nbformat": 4,
 "nbformat_minor": 2
}
