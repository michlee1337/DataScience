{
 "cells": [
  {
   "cell_type": "code",
   "execution_count": 2,
   "metadata": {},
   "outputs": [],
   "source": [
    "import numpy as np\n",
    "import matplotlib.pyplot as plt\n",
    "import scipy.stats as sts"
   ]
  },
  {
   "cell_type": "markdown",
   "metadata": {},
   "source": [
    "# Calculating Posterior"
   ]
  },
  {
   "cell_type": "code",
   "execution_count": 10,
   "metadata": {},
   "outputs": [
    {
     "data": {
      "text/plain": [
       "[<matplotlib.lines.Line2D at 0x123c96e50>]"
      ]
     },
     "execution_count": 10,
     "metadata": {},
     "output_type": "execute_result"
    },
    {
     "data": {
      "image/png": "[encoded data removed]",
      "text/plain": [
       "<Figure size 432x288 with 1 Axes>"
      ]
     },
     "metadata": {
      "needs_background": "light"
     },
     "output_type": "display_data"
    }
   ],
   "source": [
    "# set up the context\n",
    "theta = np.linspace(0,1,100)\n",
    "N = 1000\n",
    "p = 0.1\n",
    "\n",
    "# prior hyperparameters\n",
    "a0 = 0.001\n",
    "b0 = 0.001\n",
    "\n",
    "# posterior\n",
    "an = a0 + N*p\n",
    "bn = b0 + N - N*p\n",
    "\n",
    "# normal approximation\n",
    "mu = an/(an+bn)\n",
    "sd_2 = np.sqrt((an*bn)/((an+bn)**2*(an+bn+1)))\n",
    "\n",
    "norm_apx = sts.norm.pdf(theta,mu,sd_2)\n",
    "plt.plot(theta,norm_apx)"
   ]
  },
  {
   "cell_type": "code",
   "execution_count": 11,
   "metadata": {},
   "outputs": [
    {
     "data": {
      "text/plain": [
       "array([ 0.        , 13.69499545])"
      ]
     },
     "execution_count": 11,
     "metadata": {},
     "output_type": "execute_result"
    }
   ],
   "source": [
    "np.percentile(norm_apx,[25,97.5])"
   ]
  },
  {
   "cell_type": "markdown",
   "metadata": {},
   "source": [
    "# Construct Table"
   ]
  },
  {
   "cell_type": "code",
   "execution_count": 46,
   "metadata": {},
   "outputs": [
    {
     "name": "stdout",
     "output_type": "stream",
     "text": [
      "p/N [1000, 750, 500, 250, 100]\n",
      "__________________________________________________\n",
      "0.1 | [2.0, 2.0, 3.0, 4.0, 6.0]\n",
      "0.2 | [2.0, 3.0, 4.0, 5.0, 8.0]\n",
      "0.3 | [3.0, 3.0, 4.0, 6.0, 9.0]\n",
      "0.4 | [3.0, 4.0, 4.0, 6.0, 10.0]\n",
      "0.5 | [3.0, 4.0, 4.0, 6.0, 10.0]\n",
      "0.6 | [3.0, 4.0, 4.0, 6.0, 10.0]\n",
      "0.7 | [3.0, 3.0, 4.0, 6.0, 9.0]\n",
      "0.8 | [2.0, 3.0, 4.0, 5.0, 8.0]\n",
      "0.9 | [2.0, 2.0, 3.0, 4.0, 6.0]\n"
     ]
    }
   ],
   "source": [
    "n =1000\n",
    "p =0.1\n",
    "\n",
    "mu = n*p\n",
    "sigma = np.sqrt(mu*(1-p))\n",
    "\n",
    "# get samples\n",
    "x = np.random.normal(mu, sigma, 100000)\n",
    "\n",
    "def perc_err(val,mu,n):\n",
    "    return((val-mu)/n*100)\n",
    "\n",
    "def marg_err(n,p):\n",
    "    mu = n*p\n",
    "    sigma = np.sqrt(mu*(1-p))\n",
    "    x = np.random.normal(mu,sigma,100000)\n",
    "    upper = perc_err(np.percentile(x,97.5),mu,n) \n",
    "    lower = perc_err(np.percentile(x,2.5),mu,n)\n",
    "    return np.round((upper-lower)/2)\n",
    "\n",
    "N = [1000,750,500,250,100]\n",
    "p = [0.1, 0.2, 0.3, 0.4, 0.5, 0.6, 0.7, 0.8, 0.9]\n",
    "\n",
    "print(\"p/N {}\".format(N))\n",
    "print(\"__________________________________________________\")\n",
    "for b in p:\n",
    "    row = []\n",
    "    for a in N:\n",
    "        row.append(marg_err(a,b))\n",
    "    print(\"{} | {}\".format(b,row))"
   ]
  },
  {
   "cell_type": "markdown",
   "metadata": {},
   "source": [
    "Errors may come from rounding errors or numerical methods"
   ]
  }
 ],
 "metadata": {
  "kernelspec": {
   "display_name": "Python 3",
   "language": "python",
   "name": "python3"
  },
  "language_info": {
   "codemirror_mode": {
    "name": "ipython",
    "version": 3
   },
   "file_extension": ".py",
   "mimetype": "text/x-python",
   "name": "python",
   "nbconvert_exporter": "python",
   "pygments_lexer": "ipython3",
   "version": "3.7.4"
  }
 },
 "nbformat": 4,
 "nbformat_minor": 2
}
