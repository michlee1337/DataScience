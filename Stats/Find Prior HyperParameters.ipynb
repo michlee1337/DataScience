{
 "cells": [
  {
   "cell_type": "code",
   "execution_count": 4,
   "metadata": {},
   "outputs": [],
   "source": [
    "import numpy as np\n",
    "import matplotlib.pyplot as plt\n",
    "from scipy import stats\n",
    "from scipy.optimize import minimize"
   ]
  },
  {
   "cell_type": "code",
   "execution_count": 48,
   "metadata": {},
   "outputs": [],
   "source": [
    "def hyperParamErr(params):\n",
    "    mu = params[0]\n",
    "    nu = params[1]\n",
    "    alpha = params[2]\n",
    "    beta = params[3]\n",
    "    mu_exp = mu\n",
    "    mu_std = np.sqrt(beta/(nu*(alpha-1)))\n",
    "    sigma2_exp = beta/(alpha-1)\n",
    "    sigma2_std = beta/((alpha-1)*np.sqrt(alpha-2))\n",
    "    return((mu_exp-2.3)**2+(mu_std-0.5)**2+(sigma2_exp-2.75)**2+(sigma2_std-1)**2)\n",
    "\n"
   ]
  },
  {
   "cell_type": "code",
   "execution_count": 49,
   "metadata": {},
   "outputs": [
    {
     "data": {
      "text/plain": [
       "array([ 2.30000004, 11.00037449,  9.56254392, 23.54699067])"
      ]
     },
     "execution_count": 49,
     "metadata": {},
     "output_type": "execute_result"
    }
   ],
   "source": [
    "x_initial = [2.3, 0.5, 3, 3]\n",
    "\n",
    "result = minimize(hyperParamErr, x_initial)\n",
    "x_final = result.x\n",
    "x_final"
   ]
  },
  {
   "cell_type": "code",
   "execution_count": 50,
   "metadata": {},
   "outputs": [
    {
     "name": "stdout",
     "output_type": "stream",
     "text": [
      ":)\n"
     ]
    }
   ],
   "source": [
    "if hyperParamErr(x_final) < 0.00001:\n",
    "    print(\":)\")"
   ]
  },
  {
   "cell_type": "code",
   "execution_count": null,
   "metadata": {},
   "outputs": [],
   "source": []
  }
 ],
 "metadata": {
  "kernelspec": {
   "display_name": "Python 3",
   "language": "python",
   "name": "python3"
  },
  "language_info": {
   "codemirror_mode": {
    "name": "ipython",
    "version": 3
   },
   "file_extension": ".py",
   "mimetype": "text/x-python",
   "name": "python",
   "nbconvert_exporter": "python",
   "pygments_lexer": "ipython3",
   "version": "3.7.4"
  }
 },
 "nbformat": 4,
 "nbformat_minor": 2
}
