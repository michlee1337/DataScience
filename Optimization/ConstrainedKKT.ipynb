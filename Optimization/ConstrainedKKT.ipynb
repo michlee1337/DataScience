{
 "cells": [
  {
   "cell_type": "markdown",
   "metadata": {},
   "source": [
    "# Q1: Linear Programs"
   ]
  },
  {
   "cell_type": "markdown",
   "metadata": {},
   "source": [
    "## KKTConditions"
   ]
  },
  {
   "cell_type": "markdown",
   "metadata": {},
   "source": [
    "**Stationarity**       \n",
    "$$\\Delta c^Tx + \\mu^T\\Delta(Ax-b) = 0$$\n",
    "this simplifies to\n",
    "$$c^T+\\mu^TA = 0$$\n",
    "$$c+A^T\\mu = 0$$\n",
    "\n",
    "**Complementary Slackness**       \n",
    "$$\\mu^T(Ax-b) = 0$$\n",
    "\n",
    "**Primal Feasibility**     \n",
    "$$Ax-b \\leq \\vec{0}$$\n",
    "\n",
    "**Dual Feasibility**       \n",
    "$$\\mu \\geq \\vec{0}$$\n"
   ]
  },
  {
   "cell_type": "markdown",
   "metadata": {},
   "source": [
    "## Optimal on boundary"
   ]
  },
  {
   "cell_type": "markdown",
   "metadata": {},
   "source": [
    "**Geometric Intuition**      \n",
    "\n",
    "This is because the optimization function ($c^Tx$) is linear, and thus is a monotonous function. Thus, the unbounded minimum of the unconstrained problem will be found at either $-\\inf$ or $\\inf$. \n",
    "\n",
    "Thus, the optimal value of the constrained optimization problem of a linear must be found at one or more of the boundary functions."
   ]
  },
  {
   "cell_type": "markdown",
   "metadata": {},
   "source": [
    "**Algebraic Proof**      \n",
    "\n",
    "If the optimal point is in the interior of the feasible region, then there are no active constraints.\n",
    "\n",
    "If there are no active constraints, that means that $$Ax-b \\neq 0$$\n",
    "\n",
    "Based on complementary slackness, for a point to be optimal the following must be true:\n",
    "$$\\mu^T(Ax-b) = 0$$\n",
    "\n",
    "Thus, $$\\mu = \\vec{0}$$\n",
    "\n",
    "However, if $\\mu = \\vec{0}$, then the stationary condition simplifies to\n",
    "$$c = \\vec{0}$$\n",
    "\n",
    "If $c = \\vec{0}$, that is the trivial problem where we are optimizing a function that is always $0$. Otherwise, this would be a contradiction to the problem we are solving.\n",
    "\n",
    "\n",
    "Stated a different way:\n",
    "\n",
    "If $c \\neq 0$, then that means that $\\mu \\neq \\vec{0}$, which means that there exists an active constraint. \n",
    "\n",
    "Thus, the solution to a linear problem (where the function is not just zero) must lie on the boundaries of that problem.\n"
   ]
  },
  {
   "cell_type": "markdown",
   "metadata": {},
   "source": [
    "# Q2: Norms in LP"
   ]
  },
  {
   "cell_type": "markdown",
   "metadata": {},
   "source": [
    "We are minimizing $y-x\\theta$, or the distance between the true values and the estimated values. However, we can define the \"distance\" using different norms.\n",
    "\n",
    "**Rewriting $l_1$ Regression**     \n",
    "\n",
    "$$\\min_\\theta \\left\\Vert{y-x\\theta}\\right\\Vert_1$$\n",
    "\n",
    "The $l_1$ norm is the sum of the absolute values of the coordinates.\n",
    "\n",
    "So we are equivalently trying to minimize elementwise\n",
    "$$\\sum_{i=0}^n |y_i-x_i \\theta_i|$$\n",
    "\n",
    "To deal with the absolute values, we can upper bound the absolute value of each coordinate  using a corresponding slack variable:\n",
    "$$-s_i \\leq y_i - x_i\\theta_i \\leq s_i \\forall i$$\n",
    "\n",
    "Expressing all these slack variables as a vector, $s$ our objective function is then to minimize:\n",
    "$$\\min_{s,\\theta} 1^Ts$$\n",
    "\n",
    "Subject to the constraint of our definition of the slack variables:\n",
    "$$y - x\\theta \\leq s$$\n",
    "$$y - x\\theta \\geq -s$$\n",
    "\n",
    "Rewritten, this is:\n",
    "$$-x\\theta-s \\leq -y$$\n",
    "$$x\\theta-s \\leq y$$\n",
    "\n",
    "**Rewriting $l_\\infty$**     \n",
    "$$\\min_\\theta \\left\\Vert y-x\\theta\\right\\Vert_\\infty$$\n",
    "\n",
    "The infinity norm takes the largest absolute value of the coordinates.\n",
    "\n",
    "Since the infinity norm only considers one coordinate (the largest absolute value), we only need a scalar slack variable rather than a vector of slack variables.\n",
    "\n",
    "Thus, to upper bound the entire $x$ vector with its largest absolute value:\n",
    "$$-s\\vec{1} \\leq y - x\\theta \\leq s\\vec{1}$$\n",
    "\n",
    "Thus, our objective function is simply to minimize:\n",
    "$$\\min_{s,\\theta} s$$\n",
    "\n",
    "Subject to the constraint of our definition of the slack variable:\n",
    "$$y - x\\theta \\leq s\\vec{1}$$\n",
    "$$y - x\\theta \\geq -s\\vec{1}$$\n",
    "\n",
    "Rewritten, this is:\n",
    "$$-x\\theta-s\\vec{1} \\leq -y$$\n",
    "$$x\\theta-s\\vec{1} \\leq y$$"
   ]
  },
  {
   "cell_type": "markdown",
   "metadata": {},
   "source": [
    "# Q3: Optimizing w Norms"
   ]
  },
  {
   "cell_type": "code",
   "execution_count": 8,
   "metadata": {},
   "outputs": [
    {
     "data": {
      "image/png": "[encoded data removed]",
      "text/plain": [
       "<Figure size 432x288 with 1 Axes>"
      ]
     },
     "metadata": {
      "needs_background": "light"
     },
     "output_type": "display_data"
    }
   ],
   "source": [
    "# l_1 and l_infinity regression using cvxpy\n",
    "import numpy as np\n",
    "import cvxpy as cvx\n",
    "import matplotlib.pyplot as plt\n",
    "\n",
    "# generate a synthetic dataset\n",
    "\n",
    "# actual parameter values\n",
    "theta1_act = 2\n",
    "theta2_act = 5\n",
    "\n",
    "# Number of points in dataset\n",
    "N = 200\n",
    "\n",
    "# Noise magnitude\n",
    "mag = 30\n",
    "\n",
    "# datapoints\n",
    "x = np.arange(0,N)\n",
    "y = theta1_act * x + theta2_act *np.ones([1,N]) + np.random.normal(0,mag,N)\n",
    "\n",
    "plt.figure()\n",
    "# Scatter plot of data\n",
    "plt.scatter(x,y)\n",
    "plt.show()\n"
   ]
  },
  {
   "cell_type": "code",
   "execution_count": 3,
   "metadata": {},
   "outputs": [],
   "source": [
    "import cvxpy as cp\n",
    "import numpy as np\n",
    "\n",
    "# length of theta\n",
    "tlen = 2\n",
    "\n",
    "# declaring coefficients to optimize\n",
    "theta = cvx.Variable(tlen)\n",
    "theta_inf = cvx.Variable(tlen)\n",
    "\n",
    "# declaring args as vectors\n",
    "xvec = [x,[1 for _ in x]]\n",
    "yvec = y[0]"
   ]
  },
  {
   "cell_type": "code",
   "execution_count": 4,
   "metadata": {
    "scrolled": true
   },
   "outputs": [
    {
     "name": "stdout",
     "output_type": "stream",
     "text": [
      "s: 4750.1898721998095\n",
      "theta: [2.06568591 3.49466839]\n"
     ]
    }
   ],
   "source": [
    "# l1 norm\n",
    "\n",
    "s = cp.Variable(N)\n",
    "f = np.ones(N)*s\n",
    "g = [np.negative(xvec*theta)-s<=np.negative(yvec),xvec*theta-s<=yvec]\n",
    "sol = cp.Problem(cp.Minimize(f), g)\n",
    "print(\"s:\", sol.solve(solver=cp.ECOS))\n",
    "print(\"theta:\", theta.value)\n"
   ]
  },
  {
   "cell_type": "code",
   "execution_count": 5,
   "metadata": {},
   "outputs": [
    {
     "name": "stdout",
     "output_type": "stream",
     "text": [
      "s: 83.33979032202626\n",
      "theta: [2.0467451  4.00104254]\n"
     ]
    }
   ],
   "source": [
    "# linf norm\n",
    "\n",
    "s_inf = cp.Variable()\n",
    "f_inf = s_inf\n",
    "s1 = s_inf*np.ones(N)\n",
    "g_inf = [np.negative(xvec*theta_inf)-s1<=np.negative(yvec),xvec*theta_inf-s1<=yvec]\n",
    "sol_inf = cp.Problem(cp.Minimize(f_inf), g_inf)\n",
    "print(\"s:\", sol_inf.solve(solver=cp.ECOS))\n",
    "print(\"theta:\", theta_inf.value)\n"
   ]
  },
  {
   "cell_type": "code",
   "execution_count": 7,
   "metadata": {},
   "outputs": [
    {
     "data": {
      "image/png": "[encoded data removed]",
      "text/plain": [
       "<Figure size 432x288 with 1 Axes>"
      ]
     },
     "metadata": {
      "needs_background": "light"
     },
     "output_type": "display_data"
    }
   ],
   "source": [
    "plt.plot(x, [theta.value[0]*xi + theta.value[1] for xi in x],c=\"r\", label=\"$l_1$ norm\");\n",
    "plt.plot(x, [theta_inf.value[0]*xi + theta_inf.value[1] for xi in x],c=\"b\", label=\"$l_\\infty$ norm\");\n",
    "plt.scatter(x, y, c=\"gray\", alpha=0.5);\n",
    "plt.title(\"Regression with $l_1$ and $l_\\infty$ norm\");\n",
    "plt.legend();\n",
    "plt.xlabel(\"x\");\n",
    "plt.ylabel(\"y\");\n",
    "plt.show();"
   ]
  }
 ],
 "metadata": {
  "kernelspec": {
   "display_name": "Python 3",
   "language": "python",
   "name": "python3"
  },
  "language_info": {
   "codemirror_mode": {
    "name": "ipython",
    "version": 3
   },
   "file_extension": ".py",
   "mimetype": "text/x-python",
   "name": "python",
   "nbconvert_exporter": "python",
   "pygments_lexer": "ipython3",
   "version": "3.7.4"
  }
 },
 "nbformat": 4,
 "nbformat_minor": 2
}
