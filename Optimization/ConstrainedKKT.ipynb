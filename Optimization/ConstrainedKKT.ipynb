{
 "cells": [
  {
   "cell_type": "markdown",
   "metadata": {},
   "source": [
    "# Q1: Linear Programs"
   ]
  },
  {
   "cell_type": "markdown",
   "metadata": {},
   "source": [
    "## KKTConditions"
   ]
  },
  {
   "cell_type": "markdown",
   "metadata": {},
   "source": [
    "**Stationarity**       \n",
    "$$\\Delta c^Tx + \\mu^T\\Delta(Ax-b) = 0$$\n",
    "this simplifies to\n",
    "$$c^T+\\mu^TA = 0$$\n",
    "$$c+A^T\\mu = 0$$\n",
    "\n",
    "**Complementary Slackness**       \n",
    "$$\\mu^T(Ax-b) = 0$$\n",
    "\n",
    "**Primal Feasibility**     \n",
    "$$Ax-b \\leq \\vec{0}$$\n",
    "\n",
    "**Dual Feasibility**       \n",
    "$$\\mu \\geq \\vec{0}$$\n"
   ]
  },
  {
   "cell_type": "markdown",
   "metadata": {},
   "source": [
    "## Optimal on boundary"
   ]
  },
  {
   "cell_type": "markdown",
   "metadata": {},
   "source": [
    "**Geometric Intuition**      \n",
    "\n",
    "This is because the optimization function ($c^Tx$) is linear, and thus is a monotonous function. Thus, the unbounded minimum of the unconstrained problem will be found at either $-\\inf$ or $\\inf$. \n",
    "\n",
    "Thus, the optimal value of the constrained optimization problem of a linear must be found at one or more of the boundary functions."
   ]
  },
  {
   "cell_type": "markdown",
   "metadata": {},
   "source": [
    "**Algebraic Proof**      \n",
    "\n",
    "If the optimal point is in the interior of the feasible region, then there are no active constraints.\n",
    "\n",
    "If there are no active constraints, that means that $$Ax-b \\neq 0$$\n",
    "\n",
    "Based on complementary slackness, for a point to be optimal the following must be true:\n",
    "$$\\mu^T(Ax-b) = 0$$\n",
    "\n",
    "Thus, $$\\mu = \\vec{0}$$\n",
    "\n",
    "However, if $\\mu = \\vec{0}$, then the stationary condition simplifies to\n",
    "$$c = \\vec{0}$$\n",
    "\n",
    "If $c = \\vec{0}$, that is the trivial problem where we are optimizing a function that is always $0$. Otherwise, this would be a contradiction to the problem we are solving.\n",
    "____\n",
    "Stated a different way:\n",
    "\n",
    "If $c \\neq 0$, then that means that $\\mu \\neq \\vec{0}$, which means that there exists an active constraint. \n",
    "\n",
    "Thus, the solution to a linear problem (where the function is not just zero) must lie on the boundaries of that problem.\n"
   ]
  },
  {
   "cell_type": "markdown",
   "metadata": {},
   "source": [
    "# Q2: Norms in LP"
   ]
  },
  {
   "cell_type": "markdown",
   "metadata": {},
   "source": [
    "Let $x$ be the optimization function within the norm.\n",
    "\n",
    "**Rewriting $l_1$**     \n",
    "The $l_1$ norm is the sum of the absolute values of the coordinates.\n",
    "\n",
    "To deal with the absolute value, we can upper bound each coordinate value of $x$ using a corresponding slack variable:\n",
    "$$-s \\leq x \\leq s$$\n",
    "where $s$ is a vector of slack variables.\n",
    "\n",
    "Now, to get the sum of coordinates in $s$, we just have to take the dot product with a vector of ones. Thus our objective function is to minimize:\n",
    "$$1^Ts$$\n",
    "\n",
    "Now we have the set of equations:\n",
    "$$Ax < b$$\n",
    "$$x \\leq s$$\n",
    "$$x \\geq -s$$\n",
    "\n",
    "Rewritten, this is:\n",
    "$$Ax < b$$\n",
    "$$x - s \\leq 0$$\n",
    "$$-x-s \\leq 0$$\n",
    "\n",
    "To express this in a single linear equation:\n",
    "$$\\left[\\begin{array}{cc} \n",
    "A & 0\\\\\n",
    "I & -I\\\\\n",
    "-I & -I\n",
    "\\end{array}\\right]\\left[\\begin{array}{cc} \n",
    "x\\\\\n",
    "s\n",
    "\\end{array}\\right]\\leq\\left[\\begin{array}{cc} \n",
    "b\\\\\n",
    "0\\\\\n",
    "0\n",
    "\\end{array}\\right]$$\n",
    "\n",
    "\n",
    "**Rewriting $l_\\infty$**     \n",
    "The infinity norm takes the largest absolute value of the coordinates.\n",
    "\n",
    "Since the infinity norm only considers one coordinate (The largest), we only need a scalar slack variable rather than a vector of slack variables.\n",
    "\n",
    "Thus, to upper bound the entire $x$ vector:\n",
    "$$-s\\vec{1} \\leq x \\leq s\\vec{1}$$\n",
    "\n",
    "Now we have the set of equations:\n",
    "$$Ax < b$$\n",
    "$$x \\leq s\\vec{1}$$\n",
    "$$x \\geq -s\\vec{1}$$\n",
    "\n",
    "Rewritten, this is:\n",
    "$$Ax < b$$\n",
    "$$x-s\\vec{1} \\leq 0$$\n",
    "$$-x-s\\vec{1} \\leq 0$$\n",
    "\n",
    "To express this in a single linear equation:\n",
    "$$\\left[\\begin{array}{cc} \n",
    "A & 0\\\\\n",
    "I & -I\\\\\n",
    "-I & -I\n",
    "\\end{array}\\right]\\left[\\begin{array}{cc} \n",
    "x\\\\\n",
    "s\\vec{1}\n",
    "\\end{array}\\right]\\leq\\left[\\begin{array}{cc} \n",
    "b\\\\\n",
    "0\\\\\n",
    "0\n",
    "\\end{array}\\right]$$"
   ]
  },
  {
   "cell_type": "markdown",
   "metadata": {},
   "source": [
    "# Q3: Optimizing w Norms"
   ]
  },
  {
   "cell_type": "code",
   "execution_count": 2,
   "metadata": {},
   "outputs": [
    {
     "data": {
      "image/png": "[encoded data removed]",
      "text/plain": [
       "<Figure size 432x288 with 1 Axes>"
      ]
     },
     "metadata": {
      "needs_background": "light"
     },
     "output_type": "display_data"
    }
   ],
   "source": [
    "# l_1 and l_infinity regression using cvxpy\n",
    "import numpy as np\n",
    "import cvxpy as cvx\n",
    "import matplotlib.pyplot as plt\n",
    "\n",
    "# generate a synthetic dataset\n",
    "\n",
    "# actual parameter values\n",
    "theta1_act = 2\n",
    "theta2_act = 5\n",
    "\n",
    "# Number of points in dataset\n",
    "N = 200\n",
    "\n",
    "# Noise magnitude\n",
    "mag = 30\n",
    "\n",
    "# datapoints\n",
    "x = np.arange(0,N)\n",
    "y = theta1_act * x + theta2_act *np.ones([1,N]) + np.random.normal(0,mag,N)\n",
    "\n",
    "plt.figure()\n",
    "# Scatter plot of data\n",
    "plt.scatter(x,y)\n",
    "plt.show()\n"
   ]
  },
  {
   "cell_type": "code",
   "execution_count": null,
   "metadata": {},
   "outputs": [],
   "source": [
    "theta = cvx.Variable(2)\n"
   ]
  }
 ],
 "metadata": {
  "kernelspec": {
   "display_name": "Python 3",
   "language": "python",
   "name": "python3"
  },
  "language_info": {
   "codemirror_mode": {
    "name": "ipython",
    "version": 3
   },
   "file_extension": ".py",
   "mimetype": "text/x-python",
   "name": "python",
   "nbconvert_exporter": "python",
   "pygments_lexer": "ipython3",
   "version": "3.7.4"
  }
 },
 "nbformat": 4,
 "nbformat_minor": 2
}
