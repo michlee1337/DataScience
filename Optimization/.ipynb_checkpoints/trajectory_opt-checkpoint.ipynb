{
 "cells": [
  {
   "cell_type": "code",
   "execution_count": null,
   "metadata": {
    "scrolled": true
   },
   "outputs": [],
   "source": [
    "import cvxpy as cvx\n",
    "import numpy as np\n",
    "\n",
    "# Input constraints\n",
    "max_inp = 0.2\n",
    "\n",
    "N = 100 # Steps\n",
    "\n",
    "# Define the target state and obstacles in half-space form\n",
    "targetLHS = np.array([[-1, 0],[0, -1],[1, 0],[0, 1]])\n",
    "targetRHS = np.array([-9.5,-9.5,10.5,10.5]).T\n",
    "\n",
    "# Matrix to extract the two position states\n",
    "posMatrix = np.matrix('1,0,0,0;0,1,0,0')\n",
    "\n",
    "# Define the obstacle\n",
    "obsLHS = targetLHS\n",
    "obsRHS = np.array([-3.5,-3.5,6.5,6.5])\n",
    "\n",
    "# Vertices of the obstacle\n",
    "obsVerts = np.asarray([[3.5,3.5,6.5,6.5,3.5],[3.5,6.5,6.5,3.5,3.5]])\n",
    "\n",
    "# Define the system matrices\n",
    "A = np.matrix('1,0,1,0;0,1,0,1;0,0,1,0;,0,0,0,1')\n",
    "B = np.matrix('0.5,0;0,0.5;1,0;0,1')\n",
    "\n",
    "# Define the decision variables\n",
    "X = cvx.Variable((4,N+1))\n",
    "U = cvx.Variable((2,N))\n",
    "b = cvx.Variable((4,N), boolean=True)\n",
    "\n",
    "#### Define the Big-M constraint here ####\n",
    "M = 100\n",
    "\n",
    "#### Define dynamic constraints here ####\n",
    "\n",
    "## Initial condition\n",
    "con = [X[:,0] == np.array([0,0,0,0])]\n",
    "## Dynamics\n",
    "con.extend([X[:,i+1] == A*X[:,i] + B*U[:,i] for i in range(0,N)]) \n",
    "## Input constraints\n",
    "con.extend([cvx.norm(U[:,i],np.inf) <= max_inp for i in range(0,N)])\n",
    "## obstacle avoidance\n",
    "con.extend([obsLHS * posMatrix*X[:,i] >= obsRHS -M*b[:,i] for i in range(0,N)] )\n",
    "con.extend([sum(b[:,i]) <= 3 for i in range(0,N)])\n",
    "## Terminal constraint \n",
    "con.extend([targetLHS * posMatrix * X[:,N] <= targetRHS])\n",
    "\n",
    "#### Define the objective (minimize 1-norm of input) ####\n",
    "obj = cvx.Minimize(sum([cvx.norm(U[:,i],1) for i in range(0,N)]))\n",
    "\n",
    "# Solve the optimization problem\n",
    "prob = cvx.Problem(obj, con)\n",
    "prob.solve()"
   ]
  },
  {
   "cell_type": "code",
   "execution_count": null,
   "metadata": {},
   "outputs": [],
   "source": [
    "#### Plotting code ####\n",
    "## Your plots should look like the ones below if your code is correct.\n",
    "\n",
    "import matplotlib.pyplot as plt\n",
    "x_vals = X.value.T\n",
    "u_vals = U.value.T\n",
    "plt.figure()\n",
    "plt.plot(x_vals[:,0],x_vals[:,1],'*-')\n",
    "plt.fill(obsVerts[0,:],obsVerts[1,:],'r')\n",
    "plt.xlabel('$x$')\n",
    "plt.ylabel('$y$')\n",
    "plt.axis('scaled')\n",
    "plt.show()\n",
    "\n",
    "plt.figure()\n",
    "plt.plot(np.arange(0,N+1).T,x_vals[:,2],'-',label='$x$')\n",
    "plt.plot(np.arange(0,N+1).T,x_vals[:,3],'-',label='$y$')\n",
    "plt.xlabel('$k$'); plt.ylabel('velocities')\n",
    "plt.legend()\n",
    "plt.show()\n",
    "\n",
    "plt.figure()\n",
    "plt.plot(np.arange(0,N).T,u_vals[:,0],'-',label='$x$')\n",
    "plt.plot(np.arange(0,N).T,u_vals[:,1],'-',label='$y$')\n",
    "plt.xlabel('$k$'); plt.ylabel('inputs')\n",
    "plt.legend()\n",
    "plt.show()"
   ]
  },
  {
   "cell_type": "code",
   "execution_count": null,
   "metadata": {
    "collapsed": true
   },
   "outputs": [],
   "source": []
  },
  {
   "cell_type": "code",
   "execution_count": null,
   "metadata": {
    "collapsed": true
   },
   "outputs": [],
   "source": []
  }
 ],
 "metadata": {
  "kernelspec": {
   "display_name": "Python 3",
   "language": "python",
   "name": "python3"
  },
  "language_info": {
   "codemirror_mode": {
    "name": "ipython",
    "version": 3
   },
   "file_extension": ".py",
   "mimetype": "text/x-python",
   "name": "python",
   "nbconvert_exporter": "python",
   "pygments_lexer": "ipython3",
   "version": "3.7.4"
  }
 },
 "nbformat": 4,
 "nbformat_minor": 2
}
