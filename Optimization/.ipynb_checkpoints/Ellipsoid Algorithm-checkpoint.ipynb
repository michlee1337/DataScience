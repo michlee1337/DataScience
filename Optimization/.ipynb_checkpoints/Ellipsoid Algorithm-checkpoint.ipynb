{
 "cells": [
  {
   "cell_type": "code",
   "execution_count": 1,
   "metadata": {},
   "outputs": [],
   "source": [
    "import math\n",
    "\n",
    "def ellipsoid(x0,A,f,h,df,dh):\n",
    "    k = 0\n",
    "    x = x0\n",
    "    if h(x) <= 0:\n",
    "        g = df(x)\n",
    "    else:\n",
    "        g = dh(x)\n",
    "    m = math.sqrt(g*A*g)\n",
    "    if m <= e-9:\n",
    "        return(x)\n",
    "    elif h(x) - m > 0:\n",
    "        return(None)\n",
    "    else:\n",
    "        xn = x-1/(n+1)*A*g/(math.sqrt(g*A*g))\n",
    "        An = A-n^2/(n^2-1)*A*g*g*A/(g*A*g)\n",
    "        return(ellipsoid(xn,An,f,h,df,dh))"
   ]
  },
  {
   "cell_type": "code",
   "execution_count": null,
   "metadata": {},
   "outputs": [],
   "source": []
  }
 ],
 "metadata": {
  "kernelspec": {
   "display_name": "Python 3",
   "language": "python",
   "name": "python3"
  },
  "language_info": {
   "codemirror_mode": {
    "name": "ipython",
    "version": 3
   },
   "file_extension": ".py",
   "mimetype": "text/x-python",
   "name": "python",
   "nbconvert_exporter": "python",
   "pygments_lexer": "ipython3",
   "version": "3.7.4"
  }
 },
 "nbformat": 4,
 "nbformat_minor": 2
}
