{
 "cells": [
  {
   "cell_type": "code",
   "execution_count": 1,
   "metadata": {},
   "outputs": [],
   "source": [
    "#_____PACKAGE DEPENDENCIES_____\n",
    "import cvxpy as cp\n",
    "import numpy as np"
   ]
  },
  {
   "cell_type": "code",
   "execution_count": null,
   "metadata": {},
   "outputs": [],
   "source": [
    "'''\n",
    "# distance matrix between semesters\n",
    "## since winter breaks are smaller, 1-2,3-4,506\n",
    "## are shorter that 2-3,4-5,6-7\n",
    "\n",
    "dist = np.array([[0,1,4,9,16,25,36,49,64],\n",
    "                 [100,0,1,4,9,16,25,36,49],\n",
    "                 [100,100,0,2,9,16,25,36,49],\n",
    "                 [100,100,100,0,1,4,9,16,25],\n",
    "                 [100,100,100,100,0,2,9,16,25],\n",
    "                 [100,100,100,100,100,0,1,4,9],\n",
    "                 [100,100,100,100,100,100,0,2,9],\n",
    "                 [100,100,100,100,100,100,100,0,1],\n",
    "                 [100,100,100,100,100,100,100,100,0]\n",
    "                ])\n",
    "\n",
    "'''"
   ]
  },
  {
   "cell_type": "code",
   "execution_count": 62,
   "metadata": {},
   "outputs": [],
   "source": [
    "def dist(schedule,prereq,N):\n",
    "    dist = 0\n",
    "    for i in range(N):\n",
    "        for j in range(N):\n",
    "            if prereq[i][j] > 0.99:\n",
    "                dist += schedule[j].index(1) - schedule[i].index(1)\n",
    "    return(dist)\n",
    "\n",
    "def deviation(schedule, loads, S, N):\n",
    "    ideal = sum(loads)/S\n",
    "    diff = 0\n",
    "    for s in range(S):\n",
    "        load = sum([schedule[c][s]*loads[c] for c in range(N)])\n",
    "        diff += abs(load-ideal)\n",
    "    return(diff)"
   ]
  },
  {
   "cell_type": "code",
   "execution_count": 118,
   "metadata": {},
   "outputs": [
    {
     "name": "stdout",
     "output_type": "stream",
     "text": [
      "Solution: 38.99999999952201\n",
      "dist:  2.9999999999522458\n",
      "dev:  36.00000000000023\n",
      "schedule: [[ 2.25440526e-11  1.00000000e+00]\n",
      " [ 1.00000000e+00 -1.25766032e-11]\n",
      " [ 3.91385466e-11  1.00000000e+00]\n",
      " [ 1.00000000e+00 -1.18350096e-11]]\n"
     ]
    }
   ],
   "source": [
    "#_____INPUTS_____\n",
    "\n",
    "#course loads/ time availabilities for independent learners\n",
    "A = np.array([2,4,2,4]) # availability by mont\n",
    "\n",
    "N = 4 # num courses\n",
    "S = 2 # num semesters\n",
    "L = np.array([2,4,2,4]) # load by course\n",
    "# P[i][j] = 1 iff i is a prereq of j\n",
    "P = np.array([[0, 0, 0, 0], \n",
    "          [1, 0, 0, 0],\n",
    "          [0, 0, 0, 0],\n",
    "          [1, 0, 1, 0]]) \n",
    "\n",
    "\n",
    "#_____DECISION VARIABLES_____\n",
    "\n",
    "#x[i][j] is boolean if course i assigned in semester j\n",
    "x = cp.Variable((N,S),boolean=True)\n",
    "\n",
    "#_____OPTIMIZATION FUNCTION_____\n",
    "# distance between course and prereq\n",
    "dist = cp.sum([(x[j]*np.matrix([s for s in range(S)]).T)[0] - (x[i]*np.matrix([s for s in range(S)]).T)[0] for i in range(N) for j in range(N) if P[i][j] > 0.99])\n",
    "# deviation from ideal course load\n",
    "dev = sum(sum(cp.abs((x[c][s]*L[c]) - (sum(L)/S)) for c in range(N)) for s in range(S))\n",
    "\n",
    "f = dist + dev\n",
    "\n",
    "#_____CONSTRAINTS_____\n",
    "g = []\n",
    "\n",
    "# all courses must be allocated to exactly 1 period\n",
    "g.extend([cp.sum(x,axis=1) == np.ones(N)])\n",
    "# all prereqs must come first\n",
    "for i in range(N):\n",
    "    for j in range(N):\n",
    "        if P[i][j] > 0.99:\n",
    "            g.extend([(x[j]*np.matrix([s for s in range(S)]).T)[0] >= (x[i]*np.matrix([s for s in range(S)]).T)[0] + 1])\n",
    "\n",
    "#l = sum(sum(cp.multiply(L,x)))\n",
    "\n",
    "\n",
    "sol = cp.Problem(cp.Minimize(f), g)\n",
    "print(\"Solution:\", sol.solve())\n",
    "print(\"dist: \", dist.value)\n",
    "print(\"dev: \", dev.value)\n",
    "print(\"schedule:\", x.value)"
   ]
  },
  {
   "cell_type": "code",
   "execution_count": 117,
   "metadata": {},
   "outputs": [
    {
     "data": {
      "text/plain": [
       "[[False, True], [True, False], [False, True], [True, False]]"
      ]
     },
     "execution_count": 117,
     "metadata": {},
     "output_type": "execute_result"
    }
   ],
   "source": [
    "# ____ CONVERT TO TRUE FALSE _____\n",
    "X = [[v > 0.99 for v in row] for row in x.value]\n",
    "X"
   ]
  }
 ],
 "metadata": {
  "kernelspec": {
   "display_name": "Python 3",
   "language": "python",
   "name": "python3"
  },
  "language_info": {
   "codemirror_mode": {
    "name": "ipython",
    "version": 3
   },
   "file_extension": ".py",
   "mimetype": "text/x-python",
   "name": "python",
   "nbconvert_exporter": "python",
   "pygments_lexer": "ipython3",
   "version": "3.7.4"
  }
 },
 "nbformat": 4,
 "nbformat_minor": 2
}
