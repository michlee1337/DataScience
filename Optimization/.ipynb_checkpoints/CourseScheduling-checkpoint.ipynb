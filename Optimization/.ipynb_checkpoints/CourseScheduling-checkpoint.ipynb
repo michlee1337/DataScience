{
 "cells": [
  {
   "cell_type": "markdown",
   "metadata": {},
   "source": [
    "# Setup"
   ]
  },
  {
   "cell_type": "code",
   "execution_count": 1,
   "metadata": {},
   "outputs": [],
   "source": [
    "#_____PACKAGE DEPENDENCIES_____\n",
    "import cvxpy as cp\n",
    "import numpy as np"
   ]
  },
  {
   "cell_type": "code",
   "execution_count": 31,
   "metadata": {},
   "outputs": [],
   "source": [
    "'''\n",
    "# the functions for calculating the terms in the optimization function\n",
    "# written in python to be more readable (no list comprehension)\n",
    "\n",
    "def dist(schedule,prereq,N):\n",
    "    dist = 0\n",
    "    for i in range(N):\n",
    "        for j in range(N):\n",
    "            if prereq[i][j] > 0.99:\n",
    "                dist += schedule[j].index(1) - schedule[i].index(1)\n",
    "    return(dist)\n",
    "\n",
    "def deviation(schedule, loads, S, N):\n",
    "    ideal = sum(loads)/S\n",
    "    diff = 0\n",
    "    for s in range(S):\n",
    "        load = sum([schedule[c][s]*loads[c] for c in range(N)])\n",
    "        diff += abs(load-ideal)\n",
    "    return(diff)\n",
    "''';"
   ]
  },
  {
   "cell_type": "markdown",
   "metadata": {},
   "source": [
    "# Optization Problem and Solution"
   ]
  },
  {
   "cell_type": "code",
   "execution_count": 44,
   "metadata": {},
   "outputs": [],
   "source": [
    "#_____PRINTS SCHEDULE BASED ON DECISION VAIRABLE RESULTS_____\n",
    "\n",
    "def recoverSchedule(matrix):\n",
    "    if len(matrix) == 0:\n",
    "        print(\"No Solution\")\n",
    "    else:\n",
    "        matrix = [[v > 0.99 for v in row] for row in matrix]\n",
    "    print(\"________\")\n",
    "    c = len(matrix)\n",
    "    s = len(matrix[0])\n",
    "    print(\"Schedule:\")\n",
    "    for si in range(s):\n",
    "        courses = []\n",
    "        for ci in range(c):\n",
    "            if matrix[ci][si]:\n",
    "                courses.append(ci)\n",
    "        course_str = \",\".join([str(c) for c in courses])\n",
    "        print(\"interval {}: {}\".format(str(si+1),course_str))\n",
    "    print(\"________\")\n",
    "    return(0)"
   ]
  },
  {
   "cell_type": "code",
   "execution_count": 42,
   "metadata": {},
   "outputs": [],
   "source": [
    "#_____OPTIMIZATION FUNCTION_____\n",
    "\n",
    "def calcSchedule(N,S,phi,L,P,A):\n",
    "    #_____DECISION VARIABLES_____\n",
    "    #x[i][j] is boolean if course i assigned in semester j\n",
    "    x = cp.Variable((N,S),boolean=True)\n",
    "\n",
    "    #_____OPTIMIZATION FUNCTION_____\n",
    "    # distance between course and prereq\n",
    "    dist = cp.sum([(x[j]*np.matrix([s for s in range(S)]).T)[0] - (x[i]*np.matrix([s for s in range(S)]).T)[0] for i in range(N) for j in range(N) if P[i][j] > 0.99])\n",
    "    # deviation from ideal course load\n",
    "    '''\n",
    "    Extension:\n",
    "    Ideal course load for that month becomes avg weighted by availability that month\n",
    "    A[s]/sum(A)*sum(L)\n",
    "\n",
    "    '''\n",
    "    dev = sum(sum(cp.abs((x[c][s]*L[c]) - A[s]/sum(A)*sum(L)) for c in range(N)) for s in range(S))\n",
    "\n",
    "    f = phi*dist + (1-phi)*dev\n",
    "\n",
    "    #_____CONSTRAINTS_____\n",
    "    g = []\n",
    "\n",
    "    # all courses must be allocated to exactly 1 period\n",
    "    g.extend([cp.sum(x,axis=1) == np.ones(N)])\n",
    "    # all prereqs must come first\n",
    "    for i in range(N):\n",
    "        for j in range(N):\n",
    "            if P[i][j] > 0.99:\n",
    "                g.extend([(x[j]*np.matrix([s for s in range(S)]).T)[0] >= (x[i]*np.matrix([s for s in range(S)]).T)[0] + 1])\n",
    "    '''\n",
    "    Extension:\n",
    "    All course loads for a segment must be below max availability\n",
    "\n",
    "    sum(x[i][sem] * load[i]) <= A[sem]\n",
    "    '''\n",
    "    for t in range(S):\n",
    "        g.extend([sum(cp.multiply(x[:,t], L)) <= A[t]])\n",
    "\n",
    "\n",
    "    sol = cp.Problem(cp.Minimize(f), g)\n",
    "    print(\"Solution:\", sol.solve())\n",
    "    print(\"dist: \", dist.value)\n",
    "    print(\"dev: \", dev.value)\n",
    "    # ____ CONVERT TO TRUE FALSE _____\n",
    "    recoverSchedule(x.value)\n",
    "    return(0)"
   ]
  },
  {
   "cell_type": "code",
   "execution_count": 45,
   "metadata": {
    "scrolled": true
   },
   "outputs": [
    {
     "name": "stdout",
     "output_type": "stream",
     "text": [
      "Solution: 19.499999999453628\n",
      "dist:  2.999999999656618\n",
      "dev:  36.00000000013832\n",
      "________\n",
      "Schedule:\n",
      "interval 1: 1,3\n",
      "interval 2: 0,2\n",
      "interval 3: \n",
      "________\n"
     ]
    }
   ],
   "source": [
    "#_____TRIAL_____\n",
    "\n",
    "N = 4 # num courses\n",
    "S = 3 # num semesters\n",
    "phi = 0.5\n",
    "L = np.array([2,4,2,4]) # load by course\n",
    "# P[i][j] = 1 iff i is a prereq of j\n",
    "P = np.array([[0, 0, 0, 0], \n",
    "          [1, 0, 0, 0],\n",
    "          [0, 0, 0, 0],\n",
    "          [1, 0, 1, 0]]) \n",
    "\n",
    "#course loads/ time availabilities for independent learners\n",
    "A = np.array([8,4,0]) # availability by month\n",
    "\n",
    "calcSchedule(N,S,phi,L,P,A);"
   ]
  },
  {
   "cell_type": "markdown",
   "metadata": {},
   "source": [
    "# Model Response to Parameters"
   ]
  },
  {
   "cell_type": "code",
   "execution_count": 38,
   "metadata": {},
   "outputs": [
    {
     "name": "stdout",
     "output_type": "stream",
     "text": [
      "***********************************\n",
      "Solution: 7.500000002356517\n",
      "dist:  3.0000000003706355\n",
      "dev:  12.00000000000064\n",
      "________\n",
      "Schedule:\n",
      "interval 1: 1,3\n",
      "interval 2: 0,2\n",
      "________\n",
      "***********************************\n",
      "Solution: 61.49999999616643\n",
      "dist:  2.9999999998589066\n",
      "dev:  120.0000000000012\n",
      "________\n",
      "Schedule:\n",
      "interval 1: 1,3\n",
      "interval 2: 0,2\n",
      "________\n",
      "***********************************\n",
      "Solution: 34.49999999974183\n",
      "dist:  2.9999999999387823\n",
      "dev:  65.99999999999997\n",
      "________\n",
      "Schedule:\n",
      "interval 1: 1,3\n",
      "interval 2: 0,2\n",
      "________\n",
      "***********************************\n",
      "Solution: 34.499999999699185\n",
      "dist:  2.99999999983388\n",
      "dev:  65.99999999999989\n",
      "________\n",
      "Schedule:\n",
      "interval 1: 1,3\n",
      "interval 2: 0,2\n",
      "________\n",
      "***********************************\n",
      "Solution: None\n",
      "dist:  None\n",
      "dev:  None\n"
     ]
    },
    {
     "ename": "TypeError",
     "evalue": "'NoneType' object is not iterable",
     "output_type": "error",
     "traceback": [
      "\u001b[0;31m---------------------------------------------------------------------------\u001b[0m",
      "\u001b[0;31mTypeError\u001b[0m                                 Traceback (most recent call last)",
      "\u001b[0;32m<ipython-input-38-ed6c8525a62c>\u001b[0m in \u001b[0;36m<module>\u001b[0;34m\u001b[0m\n\u001b[1;32m     21\u001b[0m \u001b[0;32mfor\u001b[0m \u001b[0mL\u001b[0m \u001b[0;32min\u001b[0m \u001b[0mpL\u001b[0m\u001b[0;34m:\u001b[0m\u001b[0;34m\u001b[0m\u001b[0;34m\u001b[0m\u001b[0m\n\u001b[1;32m     22\u001b[0m     \u001b[0mprint\u001b[0m\u001b[0;34m(\u001b[0m\u001b[0;34m\"***********************************\"\u001b[0m\u001b[0;34m)\u001b[0m\u001b[0;34m\u001b[0m\u001b[0;34m\u001b[0m\u001b[0m\n\u001b[0;32m---> 23\u001b[0;31m     \u001b[0mcalcSchedule\u001b[0m\u001b[0;34m(\u001b[0m\u001b[0mN\u001b[0m\u001b[0;34m,\u001b[0m\u001b[0mS\u001b[0m\u001b[0;34m,\u001b[0m\u001b[0mphi\u001b[0m\u001b[0;34m,\u001b[0m\u001b[0mL\u001b[0m\u001b[0;34m,\u001b[0m\u001b[0mP\u001b[0m\u001b[0;34m,\u001b[0m\u001b[0mA\u001b[0m\u001b[0;34m)\u001b[0m\u001b[0;34m;\u001b[0m\u001b[0;34m\u001b[0m\u001b[0;34m\u001b[0m\u001b[0m\n\u001b[0m",
      "\u001b[0;32m<ipython-input-28-a69cfcb64eb8>\u001b[0m in \u001b[0;36mcalcSchedule\u001b[0;34m(N, S, phi, L, P, A)\u001b[0m\n\u001b[1;32m     43\u001b[0m     \u001b[0mprint\u001b[0m\u001b[0;34m(\u001b[0m\u001b[0;34m\"dev: \"\u001b[0m\u001b[0;34m,\u001b[0m \u001b[0mdev\u001b[0m\u001b[0;34m.\u001b[0m\u001b[0mvalue\u001b[0m\u001b[0;34m)\u001b[0m\u001b[0;34m\u001b[0m\u001b[0;34m\u001b[0m\u001b[0m\n\u001b[1;32m     44\u001b[0m     \u001b[0;31m# ____ CONVERT TO TRUE FALSE _____\u001b[0m\u001b[0;34m\u001b[0m\u001b[0;34m\u001b[0m\u001b[0;34m\u001b[0m\u001b[0m\n\u001b[0;32m---> 45\u001b[0;31m     \u001b[0mX\u001b[0m \u001b[0;34m=\u001b[0m \u001b[0;34m[\u001b[0m\u001b[0;34m[\u001b[0m\u001b[0mv\u001b[0m \u001b[0;34m>\u001b[0m \u001b[0;36m0.99\u001b[0m \u001b[0;32mfor\u001b[0m \u001b[0mv\u001b[0m \u001b[0;32min\u001b[0m \u001b[0mrow\u001b[0m\u001b[0;34m]\u001b[0m \u001b[0;32mfor\u001b[0m \u001b[0mrow\u001b[0m \u001b[0;32min\u001b[0m \u001b[0mx\u001b[0m\u001b[0;34m.\u001b[0m\u001b[0mvalue\u001b[0m\u001b[0;34m]\u001b[0m\u001b[0;34m\u001b[0m\u001b[0;34m\u001b[0m\u001b[0m\n\u001b[0m\u001b[1;32m     46\u001b[0m     \u001b[0mrecoverSchedule\u001b[0m\u001b[0;34m(\u001b[0m\u001b[0mX\u001b[0m\u001b[0;34m)\u001b[0m\u001b[0;34m\u001b[0m\u001b[0;34m\u001b[0m\u001b[0m\n\u001b[1;32m     47\u001b[0m     \u001b[0;32mreturn\u001b[0m\u001b[0;34m(\u001b[0m\u001b[0;36m0\u001b[0m\u001b[0;34m)\u001b[0m\u001b[0;34m\u001b[0m\u001b[0;34m\u001b[0m\u001b[0m\n",
      "\u001b[0;31mTypeError\u001b[0m: 'NoneType' object is not iterable"
     ]
    }
   ],
   "source": [
    "#_____Course Load_____\n",
    "\n",
    "N = 4\n",
    "S = 2\n",
    "phi = 0.5\n",
    "\n",
    "P = np.array([[0, 0, 0, 0], \n",
    "          [1, 0, 0, 0],\n",
    "          [0, 0, 0, 0],\n",
    "          [1, 0, 1, 0]]) \n",
    "\n",
    "A = np.array([50,50]) # availability by month\n",
    "\n",
    "L1 = np.array([1,1,1,1]) # small values\n",
    "L2 = np.array([10,10,10,10]) # medium values\n",
    "L3 = np.array([1,10,10,1]) # random mixture of values\n",
    "L4 = np.array([1,10,1,10]) # prereqs are a lot smaller\n",
    "L5 = np.array([100,100,100,100]) # large values\n",
    "pL = [L1,L2,L3,L4,L5]\n",
    "\n",
    "for L in pL:\n",
    "    print(\"***********************************\")\n",
    "    calcSchedule(N,S,phi,L,P,A);"
   ]
  },
  {
   "cell_type": "code",
   "execution_count": null,
   "metadata": {},
   "outputs": [],
   "source": []
  }
 ],
 "metadata": {
  "kernelspec": {
   "display_name": "Python 3",
   "language": "python",
   "name": "python3"
  },
  "language_info": {
   "codemirror_mode": {
    "name": "ipython",
    "version": 3
   },
   "file_extension": ".py",
   "mimetype": "text/x-python",
   "name": "python",
   "nbconvert_exporter": "python",
   "pygments_lexer": "ipython3",
   "version": "3.7.4"
  }
 },
 "nbformat": 4,
 "nbformat_minor": 2
}
