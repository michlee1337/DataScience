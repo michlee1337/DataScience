{
 "cells": [
  {
   "cell_type": "code",
   "execution_count": 1,
   "metadata": {},
   "outputs": [],
   "source": [
    "import cvxpy as cp\n",
    "import numpy as np"
   ]
  },
  {
   "cell_type": "code",
   "execution_count": 17,
   "metadata": {},
   "outputs": [],
   "source": [
    "# distance matrix\n",
    "\n",
    "dist = np.random.randint(1,10, size=(6,6))"
   ]
  },
  {
   "cell_type": "code",
   "execution_count": 18,
   "metadata": {},
   "outputs": [
    {
     "data": {
      "text/plain": [
       "array([[6, 7, 8, 5, 2, 7],\n",
       "       [4, 4, 1, 5, 2, 1],\n",
       "       [4, 9, 6, 8, 5, 4],\n",
       "       [2, 9, 4, 7, 2, 1],\n",
       "       [3, 6, 7, 3, 7, 5],\n",
       "       [6, 9, 4, 3, 7, 9]])"
      ]
     },
     "execution_count": 18,
     "metadata": {},
     "output_type": "execute_result"
    }
   ],
   "source": [
    "dist"
   ]
  },
  {
   "cell_type": "code",
   "execution_count": 19,
   "metadata": {},
   "outputs": [],
   "source": [
    "x = cp.Variable((6,6))"
   ]
  },
  {
   "cell_type": "code",
   "execution_count": 56,
   "metadata": {},
   "outputs": [
    {
     "data": {
      "text/plain": [
       "Expression(AFFINE, UNKNOWN, (1, 6))"
      ]
     },
     "execution_count": 56,
     "metadata": {},
     "output_type": "execute_result"
    }
   ],
   "source": [
    "cp.sum(x,axis=0, keepdims=True)"
   ]
  },
  {
   "cell_type": "code",
   "execution_count": 72,
   "metadata": {},
   "outputs": [
    {
     "data": {
      "text/plain": [
       "array([5, 5, 8, 7, 3, 3])"
      ]
     },
     "execution_count": 72,
     "metadata": {},
     "output_type": "execute_result"
    }
   ],
   "source": [
    "dist[:,3]"
   ]
  },
  {
   "cell_type": "code",
   "execution_count": 83,
   "metadata": {},
   "outputs": [
    {
     "name": "stdout",
     "output_type": "stream",
     "text": [
      "Solution: 182.00000000010306\n",
      "x: [[-3.52239723e-10 -3.52240245e-10 -8.24663860e-10  9.99999998e-01\n",
      "   6.21933428e-11  3.17198865e-09]\n",
      " [ 8.96802150e-10  8.96801569e-10  3.23441351e-09  2.77620149e-09\n",
      "   2.75790444e-09  9.99999989e-01]\n",
      " [-4.28307099e-10 -4.28307607e-10 -5.87080299e-11 -3.91359335e-11\n",
      "   9.99999998e-01  2.63170906e-09]\n",
      " [ 5.91271988e-10  5.91270876e-10  9.99999998e-01 -4.42853643e-10\n",
      "  -4.79950729e-10  1.44529310e-09]\n",
      " [ 8.47531063e-10  9.99999998e-01 -3.22996677e-10 -2.94424061e-10\n",
      "  -3.31345162e-10  1.65653277e-09]\n",
      " [ 9.99999998e-01  8.47537412e-10 -3.22992307e-10 -2.94419687e-10\n",
      "  -3.31340870e-10  1.65654394e-09]]\n"
     ]
    }
   ],
   "source": [
    "x = cp.Variable((6,6),boolean=True) # path \n",
    "f = sum(sum(dist*x)) # sum of all paths walked\n",
    "g = []\n",
    "\n",
    "# 1 in 1 out for each place\n",
    "g.extend([cp.sum(x, axis=0,keepdims=True) == np.matrix('1,1,1,1,1,1')])\n",
    "g.extend([cp.sum(x, axis=1,keepdims=True) == np.matrix('1,1,1,1,1,1').T])\n",
    "\n",
    "for i in range(6):\n",
    "    for j in range(6):\n",
    "        # 0 or 1\n",
    "        g.extend([x[i][j] >= 0])\n",
    "\n",
    "sol = cp.Problem(cp.Minimize(f), g)\n",
    "print(\"Solution:\", sol.solve())\n",
    "print(\"x:\", x.value)\n"
   ]
  },
  {
   "cell_type": "code",
   "execution_count": 84,
   "metadata": {},
   "outputs": [],
   "source": [
    "X = x.value"
   ]
  },
  {
   "cell_type": "code",
   "execution_count": 89,
   "metadata": {},
   "outputs": [
    {
     "data": {
      "text/plain": [
       "array([-3.52240245e-10,  8.96801569e-10, -4.28307607e-10,  5.91270876e-10,\n",
       "        9.99999998e-01,  8.47537412e-10])"
      ]
     },
     "execution_count": 89,
     "metadata": {},
     "output_type": "execute_result"
    }
   ],
   "source": [
    "X[:,1]"
   ]
  },
  {
   "cell_type": "code",
   "execution_count": null,
   "metadata": {},
   "outputs": [],
   "source": []
  }
 ],
 "metadata": {
  "kernelspec": {
   "display_name": "Python 3",
   "language": "python",
   "name": "python3"
  },
  "language_info": {
   "codemirror_mode": {
    "name": "ipython",
    "version": 3
   },
   "file_extension": ".py",
   "mimetype": "text/x-python",
   "name": "python",
   "nbconvert_exporter": "python",
   "pygments_lexer": "ipython3",
   "version": "3.7.4"
  }
 },
 "nbformat": 4,
 "nbformat_minor": 2
}
