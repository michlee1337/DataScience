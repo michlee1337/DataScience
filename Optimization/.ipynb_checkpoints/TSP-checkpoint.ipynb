{
 "cells": [
  {
   "cell_type": "code",
   "execution_count": 2,
   "metadata": {},
   "outputs": [],
   "source": [
    "#_____PACKAGE DEPENDENCIES_____\n",
    "import cvxpy as cp\n",
    "import numpy as np"
   ]
  },
  {
   "cell_type": "code",
   "execution_count": 3,
   "metadata": {
    "scrolled": true
   },
   "outputs": [
    {
     "data": {
      "text/plain": [
       "array([[1000,   13,    9,    5,    7,    9],\n",
       "       [  13, 1000,    7,   17,    7,   19],\n",
       "       [   9,    7, 1000,   12,    2,   12],\n",
       "       [   5,   17,   12, 1000,   11,    9],\n",
       "       [   7,    7,    2,   11, 1000,   13],\n",
       "       [   9,   19,   12,    9,   13, 1000]])"
      ]
     },
     "execution_count": 3,
     "metadata": {},
     "output_type": "execute_result"
    }
   ],
   "source": [
    "#_____DISTANCE MATRIX_____\n",
    "# dist[i][j] lists travel time from location i to location j\n",
    "\n",
    "M = 1000 # using M to substitutde for \"infinity\"\n",
    "## (to make sure we don't \"walk to\" current location)\n",
    "\n",
    "dist = np.array([[M, 13, 9, 5, 7, 9], \n",
    "          [13, M, 7, 17, 7, 19], \n",
    "          [9, 7, M, 12, 2, 12], \n",
    "          [5, 17, 12, M, 11, 9], \n",
    "          [7, 7, 2, 11, M, 13], \n",
    "          [9, 19, 12, 9, 13, M]])\n",
    "dist"
   ]
  },
  {
   "cell_type": "code",
   "execution_count": 4,
   "metadata": {},
   "outputs": [
    {
     "name": "stdout",
     "output_type": "stream",
     "text": [
      "Solution: 46.99999999982462\n",
      "order: [1.42026007 1.54755106 2.68901005 5.02167265 0.39613127 3.83650415]\n"
     ]
    }
   ],
   "source": [
    "#_____SETUP VARIABLES_____\n",
    "# path variable\n",
    "## 1 if taken, 0 if not\n",
    "x = cp.Variable((6,6),boolean=True) \n",
    "\n",
    "# objective function\n",
    "# sum of all distances of paths taken\n",
    "f = sum(sum(cp.multiply(dist,x))) \n",
    "\n",
    "# ordering variable for MTZ subtour elimination\n",
    "u = cp.Variable(6)\n",
    "\n",
    "# constraint variable\n",
    "g = []\n",
    "\n",
    "# constraint: always one edge going into a node...\n",
    "# ...and one edge going out of the node\n",
    "g.extend([cp.sum(x, axis=0,keepdims=True) == np.matrix('1,1,1,1,1,1')])\n",
    "g.extend([cp.sum(x, axis=1,keepdims=True) == np.matrix('1,1,1,1,1,1').T])\n",
    "\n",
    "# ordering must be above 0\n",
    "g.extend([u >= 0])\n",
    "\n",
    "# mtz constraint\n",
    "for i in range(1,6):\n",
    "    for j in range(1,6):\n",
    "        if i != j:\n",
    "            # if there is a path from i to j,\n",
    "            # ensure order of j is at least 1 more than i\n",
    "            # _____\n",
    "            # if x[i][j] == 1\n",
    "            ## 6 + u[i] - u[j] <= 5\n",
    "            ## u[j] >= u[i] + 1\n",
    "            \n",
    "            # else, no effect\n",
    "            # _____\n",
    "            # if x[i][j] == 0\n",
    "            ## u[i] - u[j] <= 5\n",
    "            ## because we have 6 cities, this will always be true\n",
    "            ## the largest possible difference between the cities\n",
    "            ## (6-1) is 5\n",
    "            g.extend([(u[i] - u[j] + 6 * x[i,j]) <= 5])\n",
    "\n",
    "#_____DRIVER CODE_____\n",
    "sol = cp.Problem(cp.Minimize(f), g)\n",
    "print(\"Solution:\", sol.solve())\n",
    "#print(\"x:\", x.value)\n",
    "print(\"order:\", u.value)"
   ]
  },
  {
   "cell_type": "code",
   "execution_count": 5,
   "metadata": {},
   "outputs": [
    {
     "name": "stdout",
     "output_type": "stream",
     "text": [
      "St. Michael Kirche\n",
      "Museum Island\n",
      "Brandenburg Gate\n",
      "Christmas Market\n",
      "East Side Gallery\n",
      "Markethalle Nuen\n"
     ]
    }
   ],
   "source": [
    "#_____RETRACE PATH_____\n",
    "\n",
    "# dictionary of location names by position index\n",
    "loc = {0: \"St. Michael Kirche\",\n",
    "       1: \"Brandenburg Gate\",\n",
    "       2: \"Christmas Market\",\n",
    "       3: \"Markethalle Nuen\",\n",
    "       4: \"Museum Island\",\n",
    "       5: \"East Side Gallery\"}\n",
    "\n",
    "# get ordering\n",
    "order = [0] + list(u.value[1:])\n",
    "\n",
    "# print position index in order\n",
    "for v,i in sorted([e,i] for i,e in enumerate(order)):\n",
    "    print(loc[i])\n",
    "    \n",
    "'''\n",
    "# Function to retrace path without u variable (if not using MTZ)\n",
    "## simply traces the True path in the X matrix \n",
    "\n",
    "def walk(matrix,pos,seen):\n",
    "    # if looped to start, terminate\n",
    "    if pos in seen:\n",
    "        return(True)\n",
    "    \n",
    "    else:\n",
    "        print(pos) # print place\n",
    "        seen[pos] = True # update lookup\n",
    "        walk(matrix,matrix[pos].index(True),seen) # call walk starting from next pos\n",
    "        return(True)\n",
    "\n",
    "# convert numbers into Boolean\n",
    "X = [[v > 0.99 for v in row] for row in x.value]\n",
    "\n",
    "# driver code\n",
    "walk(X,0,{})\n",
    "''';"
   ]
  },
  {
   "cell_type": "code",
   "execution_count": null,
   "metadata": {},
   "outputs": [],
   "source": []
  }
 ],
 "metadata": {
  "kernelspec": {
   "display_name": "Python 3",
   "language": "python",
   "name": "python3"
  },
  "language_info": {
   "codemirror_mode": {
    "name": "ipython",
    "version": 3
   },
   "file_extension": ".py",
   "mimetype": "text/x-python",
   "name": "python",
   "nbconvert_exporter": "python",
   "pygments_lexer": "ipython3",
   "version": "3.7.4"
  }
 },
 "nbformat": 4,
 "nbformat_minor": 2
}
