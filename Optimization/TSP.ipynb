{
 "cells": [
  {
   "cell_type": "code",
   "execution_count": 2,
   "metadata": {},
   "outputs": [],
   "source": [
    "#_____PACKAGE DEPENDENCIES_____\n",
    "import cvxpy as cp\n",
    "import numpy as np"
   ]
  },
  {
   "cell_type": "code",
   "execution_count": 21,
   "metadata": {
    "scrolled": true
   },
   "outputs": [
    {
     "data": {
      "text/plain": [
       "array([[1000,   13,    9,    5,    7,    9],\n",
       "       [  13, 1000,    7,   17,    7,   19],\n",
       "       [   9,    7, 1000,   12,    2,   12],\n",
       "       [   5,   17,   12, 1000,   11,    9],\n",
       "       [   7,    7,    2,   11, 1000,   13],\n",
       "       [   9,   19,   12,    9,   13, 1000]])"
      ]
     },
     "execution_count": 21,
     "metadata": {},
     "output_type": "execute_result"
    }
   ],
   "source": [
    "#_____DISTANCE MATRIX_____\n",
    "# dist[i][j] lists travel time from location i to location j\n",
    "\n",
    "M = 1000 # using M to substitutde for \"infinity\"\n",
    "## (to make sure we don't \"walk to\" current location)\n",
    "\n",
    "dist = np.array([[M, 13, 9, 5, 7, 9], \n",
    "          [13, M, 7, 17, 7, 19], \n",
    "          [9, 7, M, 12, 2, 12], \n",
    "          [5, 17, 12, M, 11, 9], \n",
    "          [7, 7, 2, 11, M, 13], \n",
    "          [9, 19, 12, 9, 13, M]])\n",
    "dist"
   ]
  },
  {
   "cell_type": "code",
   "execution_count": 23,
   "metadata": {},
   "outputs": [
    {
     "name": "stdout",
     "output_type": "stream",
     "text": [
      "Solution: 46.99999999982462\n",
      "x: [[-3.87656670e-14  1.22708175e-14  7.58089481e-15  8.31644394e-15\n",
      "   1.00000000e+00  7.09745636e-15]\n",
      " [ 6.80741554e-15 -2.79732817e-14  1.00000000e+00  5.81608667e-15\n",
      "   4.46582276e-15  5.55709381e-15]\n",
      " [ 7.71231285e-15  7.35922104e-15 -3.10431506e-14  6.06769568e-15\n",
      "   5.30189035e-15  1.00000000e+00]\n",
      " [ 1.00000000e+00  7.24359281e-15  5.05023356e-15 -2.60642525e-14\n",
      "   6.96504291e-15  4.48761961e-15]\n",
      " [ 1.10294288e-14  1.00000000e+00  6.83717439e-15  6.73998209e-15\n",
      "  -2.50896759e-14  6.63709114e-15]\n",
      " [ 9.29943473e-15  7.70428026e-15  6.43412786e-15  1.00000000e+00\n",
      "   6.45923703e-15 -2.84230952e-14]]\n"
     ]
    }
   ],
   "source": [
    "#_____SETUP VARIABLES_____\n",
    "# path variable\n",
    "## 1 if taken, 0 if not\n",
    "x = cp.Variable((6,6),boolean=True) \n",
    "\n",
    "# objective function\n",
    "# sum of all distances of paths taken\n",
    "f = sum(sum(cp.multiply(dist,x))) \n",
    "\n",
    "# for MTZ subtour elimination\n",
    "u = cp.Variable(6)\n",
    "\n",
    "# constraint variable\n",
    "g = []\n",
    "\n",
    "# constraint: one 1 in each row and column\n",
    "g.extend([cp.sum(x, axis=0,keepdims=True) == np.matrix('1,1,1,1,1,1')])\n",
    "g.extend([cp.sum(x, axis=1,keepdims=True) == np.matrix('1,1,1,1,1,1').T])\n",
    "\n",
    "# mtz variable must be 0 or 1\n",
    "g.extend([u >= 0])\n",
    "\n",
    "# mtz constraint: ensure every node is in the same loop\n",
    "for i in range(1,6):\n",
    "    for j in range(1,6):\n",
    "        if i != j:\n",
    "            g.extend([(u[i] - u[j] + 6 * x[i,j]) <= 5])\n",
    "\n",
    "#_____DRIVER CODE_____\n",
    "sol = cp.Problem(cp.Minimize(f), g)\n",
    "print(\"Solution:\", sol.solve())\n",
    "print(\"x:\", x.value)"
   ]
  },
  {
   "cell_type": "code",
   "execution_count": 24,
   "metadata": {},
   "outputs": [
    {
     "name": "stdout",
     "output_type": "stream",
     "text": [
      "0\n",
      "4\n",
      "1\n",
      "2\n",
      "5\n",
      "3\n"
     ]
    },
    {
     "data": {
      "text/plain": [
       "True"
      ]
     },
     "execution_count": 24,
     "metadata": {},
     "output_type": "execute_result"
    }
   ],
   "source": [
    "#_____RETRACE PATH_____\n",
    "\n",
    "# Simple function to print location in walk order\n",
    "def walk(matrix,pos,seen):\n",
    "    # if looped to start, terminate\n",
    "    if pos in seen:\n",
    "        return(True)\n",
    "    \n",
    "    else:\n",
    "        print(pos) # print place\n",
    "        seen[pos] = True # update lookup\n",
    "        walk(matrix,matrix[pos].index(True),seen) # call walk starting from next pos\n",
    "        return(True)\n",
    "\n",
    "# convert numbers into Boolean\n",
    "X = [[v > 0.99 for v in row] for row in x.value]\n",
    "\n",
    "# driver code\n",
    "walk(X,0,{})"
   ]
  }
 ],
 "metadata": {
  "kernelspec": {
   "display_name": "Python 3",
   "language": "python",
   "name": "python3"
  },
  "language_info": {
   "codemirror_mode": {
    "name": "ipython",
    "version": 3
   },
   "file_extension": ".py",
   "mimetype": "text/x-python",
   "name": "python",
   "nbconvert_exporter": "python",
   "pygments_lexer": "ipython3",
   "version": "3.7.4"
  }
 },
 "nbformat": 4,
 "nbformat_minor": 2
}
