{
 "cells": [
  {
   "cell_type": "code",
   "execution_count": 41,
   "metadata": {},
   "outputs": [],
   "source": [
    "import cvxpy as cp\n",
    "import numpy as np"
   ]
  },
  {
   "cell_type": "code",
   "execution_count": 44,
   "metadata": {},
   "outputs": [],
   "source": [
    "# distance matrix\n",
    "\n",
    "dist = np.random.randint(1,10, size=(6,6))"
   ]
  },
  {
   "cell_type": "code",
   "execution_count": 45,
   "metadata": {},
   "outputs": [
    {
     "data": {
      "text/plain": [
       "array([[1, 6, 7, 7, 7, 1],\n",
       "       [7, 6, 3, 1, 4, 4],\n",
       "       [4, 5, 4, 8, 3, 7],\n",
       "       [7, 4, 9, 5, 5, 8],\n",
       "       [6, 7, 5, 7, 9, 1],\n",
       "       [1, 1, 7, 7, 1, 4]])"
      ]
     },
     "execution_count": 45,
     "metadata": {},
     "output_type": "execute_result"
    }
   ],
   "source": [
    "dist"
   ]
  },
  {
   "cell_type": "code",
   "execution_count": 46,
   "metadata": {},
   "outputs": [],
   "source": [
    "x = cp.Variable((6,6))"
   ]
  },
  {
   "cell_type": "code",
   "execution_count": 47,
   "metadata": {},
   "outputs": [
    {
     "data": {
      "text/plain": [
       "Expression(AFFINE, UNKNOWN, (1, 6))"
      ]
     },
     "execution_count": 47,
     "metadata": {},
     "output_type": "execute_result"
    }
   ],
   "source": [
    "cp.sum(x,axis=0, keepdims=True)"
   ]
  },
  {
   "cell_type": "code",
   "execution_count": 48,
   "metadata": {},
   "outputs": [
    {
     "data": {
      "text/plain": [
       "Expression(AFFINE, UNKNOWN, ())"
      ]
     },
     "execution_count": 48,
     "metadata": {},
     "output_type": "execute_result"
    }
   ],
   "source": [
    "x[i,j]"
   ]
  },
  {
   "cell_type": "code",
   "execution_count": 67,
   "metadata": {},
   "outputs": [
    {
     "name": "stdout",
     "output_type": "stream",
     "text": [
      "Solution: 16.999999999842455\n",
      "x: [[ 4.23434728e-11 -2.21136230e-12 -9.63738270e-12 -8.51867064e-12\n",
      "  -5.74847054e-12  1.00000000e+00]\n",
      " [-4.17038889e-12 -8.24661122e-12  8.59830294e-12  1.00000000e+00\n",
      "   6.35782792e-12  2.35104530e-13]\n",
      " [ 1.00000000e+00  5.83116685e-12  2.19580211e-11  1.36450319e-12\n",
      "   1.37912189e-12  1.36437954e-11]\n",
      " [-3.43624199e-12  2.90821671e-12 -1.44279087e-12  1.20035106e-12\n",
      "   1.00000000e+00  4.15720329e-14]\n",
      " [ 5.03029306e-12  1.67972431e-12  1.00000000e+00  1.01852443e-11\n",
      "  -2.04011278e-12  2.36638375e-12]\n",
      " [ 4.36435694e-12  1.00000000e+00 -2.20468120e-12 -1.40951251e-12\n",
      "  -7.13663152e-13 -8.89804171e-14]]\n"
     ]
    }
   ],
   "source": [
    "x = cp.Variable((6,6),boolean=True) # path \n",
    "f = sum(sum(cp.multiply(dist,x))) # sum of all paths walked\n",
    "u = cp.Variable(6) # for MTZ\n",
    "g = []\n",
    "\n",
    "# 1 in 1 out for each place\n",
    "g.extend([cp.sum(x, axis=0,keepdims=True) == np.matrix('1,1,1,1,1,1')])\n",
    "g.extend([cp.sum(x, axis=1,keepdims=True) == np.matrix('1,1,1,1,1,1').T])\n",
    "g.extend([u >= 0])\n",
    "for i in range(1,6):\n",
    "    for j in range(1,6):\n",
    "        if i != j:\n",
    "            # mtz\n",
    "            g.extend([(u[i] - u[j] + 6 * x[i,j]) <= 5])\n",
    "\n",
    "sol = cp.Problem(cp.Minimize(f), g)\n",
    "print(\"Solution:\", sol.solve())\n",
    "print(\"x:\", x.value)\n"
   ]
  },
  {
   "cell_type": "code",
   "execution_count": 68,
   "metadata": {},
   "outputs": [
    {
     "data": {
      "text/plain": [
       "[[False, False, False, False, False, True],\n",
       " [False, False, False, True, False, False],\n",
       " [True, False, False, False, False, False],\n",
       " [False, False, False, False, True, False],\n",
       " [False, False, True, False, False, False],\n",
       " [False, True, False, False, False, False]]"
      ]
     },
     "execution_count": 68,
     "metadata": {},
     "output_type": "execute_result"
    }
   ],
   "source": [
    "X = [[v > 0.99 for v in row] for row in x.value]\n",
    "X"
   ]
  },
  {
   "cell_type": "code",
   "execution_count": 69,
   "metadata": {},
   "outputs": [],
   "source": [
    "def walk(matrix,pos,seen):\n",
    "    if pos in seen:\n",
    "        return(True)\n",
    "    print(pos)\n",
    "    seen[pos] = True\n",
    "    walk(matrix,matrix[pos].index(True),seen)\n",
    "    return(True)"
   ]
  },
  {
   "cell_type": "code",
   "execution_count": 70,
   "metadata": {},
   "outputs": [
    {
     "name": "stdout",
     "output_type": "stream",
     "text": [
      "0\n",
      "5\n",
      "1\n",
      "3\n",
      "4\n",
      "2\n"
     ]
    },
    {
     "data": {
      "text/plain": [
       "True"
      ]
     },
     "execution_count": 70,
     "metadata": {},
     "output_type": "execute_result"
    }
   ],
   "source": [
    "walk(X,0,{})"
   ]
  },
  {
   "cell_type": "code",
   "execution_count": null,
   "metadata": {},
   "outputs": [],
   "source": []
  }
 ],
 "metadata": {
  "kernelspec": {
   "display_name": "Python 3",
   "language": "python",
   "name": "python3"
  },
  "language_info": {
   "codemirror_mode": {
    "name": "ipython",
    "version": 3
   },
   "file_extension": ".py",
   "mimetype": "text/x-python",
   "name": "python",
   "nbconvert_exporter": "python",
   "pygments_lexer": "ipython3",
   "version": "3.7.4"
  }
 },
 "nbformat": 4,
 "nbformat_minor": 2
}
