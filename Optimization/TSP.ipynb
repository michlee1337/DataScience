{
 "cells": [
  {
   "cell_type": "code",
   "execution_count": 1,
   "metadata": {},
   "outputs": [],
   "source": [
    "import cvxpy as cp\n",
    "import numpy as np"
   ]
  },
  {
   "cell_type": "code",
   "execution_count": 17,
   "metadata": {},
   "outputs": [],
   "source": [
    "# distance matrix\n",
    "\n",
    "dist = np.random.randint(1,10, size=(6,6))"
   ]
  },
  {
   "cell_type": "code",
   "execution_count": 18,
   "metadata": {},
   "outputs": [
    {
     "data": {
      "text/plain": [
       "array([[6, 7, 8, 5, 2, 7],\n",
       "       [4, 4, 1, 5, 2, 1],\n",
       "       [4, 9, 6, 8, 5, 4],\n",
       "       [2, 9, 4, 7, 2, 1],\n",
       "       [3, 6, 7, 3, 7, 5],\n",
       "       [6, 9, 4, 3, 7, 9]])"
      ]
     },
     "execution_count": 18,
     "metadata": {},
     "output_type": "execute_result"
    }
   ],
   "source": [
    "dist"
   ]
  },
  {
   "cell_type": "code",
   "execution_count": 19,
   "metadata": {},
   "outputs": [],
   "source": [
    "x = cp.Variable((6,6))"
   ]
  },
  {
   "cell_type": "code",
   "execution_count": 56,
   "metadata": {},
   "outputs": [
    {
     "data": {
      "text/plain": [
       "Expression(AFFINE, UNKNOWN, (1, 6))"
      ]
     },
     "execution_count": 56,
     "metadata": {},
     "output_type": "execute_result"
    }
   ],
   "source": [
    "cp.sum(x,axis=0, keepdims=True)"
   ]
  },
  {
   "cell_type": "code",
   "execution_count": 104,
   "metadata": {},
   "outputs": [
    {
     "data": {
      "text/plain": [
       "Expression(AFFINE, NONNEGATIVE, (6, 6))"
      ]
     },
     "execution_count": 104,
     "metadata": {},
     "output_type": "execute_result"
    }
   ],
   "source": [
    "cp.multiply(dist,x)"
   ]
  },
  {
   "cell_type": "code",
   "execution_count": 105,
   "metadata": {},
   "outputs": [
    {
     "name": "stdout",
     "output_type": "stream",
     "text": [
      "Solution: 17.000000003564654\n",
      "x: [[3.08093925e-11 1.20818099e-10 2.09333798e-11 3.81068088e-11\n",
      "  1.00000000e+00 2.14170975e-11]\n",
      " [2.52198603e-11 1.00382900e-09 9.99999999e-01 1.86331017e-11\n",
      "  3.80252038e-11 2.99473936e-11]\n",
      " [9.99999999e-01 4.59123115e-11 5.39251464e-11 2.14021832e-11\n",
      "  5.05859798e-11 4.68296864e-10]\n",
      " [3.76935538e-10 2.03903192e-11 4.53217393e-11 1.32968238e-11\n",
      "  1.06606017e-10 9.99999999e-01]\n",
      " [1.78062573e-10 9.99999999e-01 2.37607257e-11 9.69959791e-10\n",
      "  1.74090851e-11 3.18286201e-11]\n",
      " [2.91972183e-11 3.01687586e-11 9.71725867e-10 9.99999999e-01\n",
      "  1.93238433e-11 1.11236791e-11]]\n"
     ]
    }
   ],
   "source": [
    "x = cp.Variable((6,6),boolean=True) # path \n",
    "f = sum(sum(cp.multiply(dist,x))) # sum of all paths walked\n",
    "#f = sum([dist[i,:]*x[:,i] for i in range(6)])\n",
    "\n",
    "g = []\n",
    "\n",
    "# 1 in 1 out for each place\n",
    "g.extend([cp.sum(x, axis=0,keepdims=True) == np.matrix('1,1,1,1,1,1')])\n",
    "g.extend([cp.sum(x, axis=1,keepdims=True) == np.matrix('1,1,1,1,1,1').T])\n",
    "\n",
    "for i in range(6):\n",
    "    for j in range(6):\n",
    "        # 0 or 1\n",
    "        g.extend([x[i][j] >= 0])\n",
    "\n",
    "sol = cp.Problem(cp.Minimize(f), g)\n",
    "print(\"Solution:\", sol.solve())\n",
    "print(\"x:\", x.value)\n"
   ]
  },
  {
   "cell_type": "code",
   "execution_count": 110,
   "metadata": {},
   "outputs": [
    {
     "data": {
      "text/plain": [
       "[[False, False, False, False, True, False],\n",
       " [False, False, True, False, False, False],\n",
       " [True, False, False, False, False, False],\n",
       " [False, False, False, False, False, True],\n",
       " [False, True, False, False, False, False],\n",
       " [False, False, False, True, False, False]]"
      ]
     },
     "execution_count": 110,
     "metadata": {},
     "output_type": "execute_result"
    }
   ],
   "source": [
    "X = [[v > 0.99 for v in row] for row in x.value]\n",
    "X"
   ]
  },
  {
   "cell_type": "code",
   "execution_count": 117,
   "metadata": {},
   "outputs": [],
   "source": [
    "def walk(matrix,pos,seen):\n",
    "    if pos in seen:\n",
    "        return(True)\n",
    "    print(pos)\n",
    "    seen[pos] = True\n",
    "    walk(matrix,matrix[pos].index(True),seen)\n",
    "    return(True)"
   ]
  },
  {
   "cell_type": "code",
   "execution_count": 118,
   "metadata": {},
   "outputs": [
    {
     "name": "stdout",
     "output_type": "stream",
     "text": [
      "0\n",
      "4\n",
      "1\n",
      "2\n"
     ]
    },
    {
     "data": {
      "text/plain": [
       "True"
      ]
     },
     "execution_count": 118,
     "metadata": {},
     "output_type": "execute_result"
    }
   ],
   "source": [
    "walk(X,0,{})"
   ]
  },
  {
   "cell_type": "code",
   "execution_count": 119,
   "metadata": {},
   "outputs": [
    {
     "name": "stdout",
     "output_type": "stream",
     "text": [
      "3\n",
      "5\n"
     ]
    },
    {
     "data": {
      "text/plain": [
       "True"
      ]
     },
     "execution_count": 119,
     "metadata": {},
     "output_type": "execute_result"
    }
   ],
   "source": [
    "walk(X,3,{})"
   ]
  },
  {
   "cell_type": "code",
   "execution_count": null,
   "metadata": {},
   "outputs": [],
   "source": []
  }
 ],
 "metadata": {
  "kernelspec": {
   "display_name": "Python 3",
   "language": "python",
   "name": "python3"
  },
  "language_info": {
   "codemirror_mode": {
    "name": "ipython",
    "version": 3
   },
   "file_extension": ".py",
   "mimetype": "text/x-python",
   "name": "python",
   "nbconvert_exporter": "python",
   "pygments_lexer": "ipython3",
   "version": "3.7.4"
  }
 },
 "nbformat": 4,
 "nbformat_minor": 2
}
