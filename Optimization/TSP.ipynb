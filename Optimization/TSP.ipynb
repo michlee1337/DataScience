{
 "cells": [
  {
   "cell_type": "code",
   "execution_count": 1,
   "metadata": {},
   "outputs": [],
   "source": [
    "import cvxpy as cp\n",
    "import numpy as np"
   ]
  },
  {
   "cell_type": "code",
   "execution_count": 2,
   "metadata": {},
   "outputs": [
    {
     "data": {
      "text/plain": [
       "array([[1, 7, 5, 5, 8, 3],\n",
       "       [7, 9, 2, 9, 7, 2],\n",
       "       [4, 4, 3, 3, 5, 1],\n",
       "       [2, 8, 9, 3, 8, 6],\n",
       "       [1, 3, 9, 5, 8, 6],\n",
       "       [6, 7, 7, 1, 5, 9]])"
      ]
     },
     "execution_count": 2,
     "metadata": {},
     "output_type": "execute_result"
    }
   ],
   "source": [
    "# distance matrix\n",
    "\n",
    "# currently just filling it up with random numbers :P \n",
    "# fill it with actual values later\n",
    "dist = np.random.randint(1,10, size=(6,6))\n",
    "dist"
   ]
  },
  {
   "cell_type": "code",
   "execution_count": 3,
   "metadata": {},
   "outputs": [
    {
     "name": "stdout",
     "output_type": "stream",
     "text": [
      "Solution: 16.999999999899043\n",
      "x: [[ 3.38572346e-11 -1.52648452e-12  5.17735842e-13 -4.47530715e-12\n",
      "   1.00000000e+00  4.57565108e-11]\n",
      " [-5.58870142e-12 -5.14045493e-12  1.00000000e+00 -2.38946736e-12\n",
      "   4.52814195e-11  1.67973199e-11]\n",
      " [-4.53948637e-12  1.37044228e-11  5.18106945e-11 -3.98486546e-13\n",
      "   7.31343198e-13  1.00000000e+00]\n",
      " [ 1.00000000e+00  5.22962616e-12  1.34902848e-13  1.01817397e-11\n",
      "   1.28321715e-12  5.24391092e-12]\n",
      " [ 4.38508570e-12  1.00000000e+00 -1.62977649e-12 -1.24876214e-12\n",
      "   1.04855172e-11 -4.82279699e-13]\n",
      " [-6.04071565e-12 -8.20961897e-13 -1.90477123e-12  1.00000000e+00\n",
      "   1.63664512e-11 -5.97213551e-12]]\n"
     ]
    }
   ],
   "source": [
    "x = cp.Variable((6,6),boolean=True) # path \n",
    "f = sum(sum(cp.multiply(dist,x))) # sum of all paths walked\n",
    "u = cp.Variable(6) # for MTZ\n",
    "g = []\n",
    "\n",
    "# 1 in 1 out for each place\n",
    "g.extend([cp.sum(x, axis=0,keepdims=True) == np.matrix('1,1,1,1,1,1')])\n",
    "g.extend([cp.sum(x, axis=1,keepdims=True) == np.matrix('1,1,1,1,1,1').T])\n",
    "g.extend([u >= 0])\n",
    "for i in range(1,6):\n",
    "    for j in range(1,6):\n",
    "        if i != j:\n",
    "            # mtz\n",
    "            g.extend([(u[i] - u[j] + 6 * x[i,j]) <= 5])\n",
    "\n",
    "sol = cp.Problem(cp.Minimize(f), g)\n",
    "print(\"Solution:\", sol.solve())\n",
    "print(\"x:\", x.value)\n"
   ]
  },
  {
   "cell_type": "code",
   "execution_count": 4,
   "metadata": {},
   "outputs": [
    {
     "data": {
      "text/plain": [
       "[[False, False, False, False, True, False],\n",
       " [False, False, True, False, False, False],\n",
       " [False, False, False, False, False, True],\n",
       " [True, False, False, False, False, False],\n",
       " [False, True, False, False, False, False],\n",
       " [False, False, False, True, False, False]]"
      ]
     },
     "execution_count": 4,
     "metadata": {},
     "output_type": "execute_result"
    }
   ],
   "source": [
    "# convert weird numbers into True/ False\n",
    "X = [[v > 0.99 for v in row] for row in x.value]\n",
    "X"
   ]
  },
  {
   "cell_type": "code",
   "execution_count": 6,
   "metadata": {},
   "outputs": [],
   "source": [
    "# retrace the path walked\n",
    "def walk(matrix,pos,seen):\n",
    "    # if looped to start, terminate\n",
    "    if pos in seen:\n",
    "        return(True)\n",
    "    \n",
    "    else:\n",
    "        print(pos) # print place\n",
    "        seen[pos] = True # update lookup\n",
    "        walk(matrix,matrix[pos].index(True),seen) # call walk starting from next pos\n",
    "        return(True)"
   ]
  },
  {
   "cell_type": "code",
   "execution_count": 7,
   "metadata": {},
   "outputs": [
    {
     "name": "stdout",
     "output_type": "stream",
     "text": [
      "0\n",
      "4\n",
      "1\n",
      "2\n",
      "5\n",
      "3\n"
     ]
    },
    {
     "data": {
      "text/plain": [
       "True"
      ]
     },
     "execution_count": 7,
     "metadata": {},
     "output_type": "execute_result"
    }
   ],
   "source": [
    "walk(X,0,{})"
   ]
  }
 ],
 "metadata": {
  "kernelspec": {
   "display_name": "Python 3",
   "language": "python",
   "name": "python3"
  },
  "language_info": {
   "codemirror_mode": {
    "name": "ipython",
    "version": 3
   },
   "file_extension": ".py",
   "mimetype": "text/x-python",
   "name": "python",
   "nbconvert_exporter": "python",
   "pygments_lexer": "ipython3",
   "version": "3.7.4"
  }
 },
 "nbformat": 4,
 "nbformat_minor": 2
}
