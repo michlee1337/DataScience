{
 "cells": [
  {
   "cell_type": "code",
   "execution_count": 1,
   "metadata": {},
   "outputs": [],
   "source": [
    "import numpy as np\n",
    "import matplotlib.pyplot as plt\n",
    "import cvxpy as cp\n",
    "\n",
    "# Note: Remember to mention convexity in the report, why the optimization function is not a convex function"
   ]
  },
  {
   "cell_type": "code",
   "execution_count": 31,
   "metadata": {},
   "outputs": [
    {
     "data": {
      "text/plain": [
       "Expression(AFFINE, UNKNOWN, (10, 4))"
      ]
     },
     "execution_count": 31,
     "metadata": {},
     "output_type": "execute_result"
    }
   ],
   "source": [
    "cp.multiply(c,x)"
   ]
  },
  {
   "cell_type": "code",
   "execution_count": 40,
   "metadata": {},
   "outputs": [
    {
     "name": "stdout",
     "output_type": "stream",
     "text": [
      "1.1653995224822358e-11\n",
      "[[ 5.36198292e-15 -8.35263250e-15 -6.64976194e-15 -5.23764003e-15]\n",
      " [-8.45774318e-16 -8.97515967e-15 -1.26346216e-15  1.16695420e-14]\n",
      " [ 1.06840444e-15  6.10731198e-14 -1.15046045e-14  1.84254609e-13]\n",
      " [-2.40790857e-15  4.97825674e-15 -1.40409834e-15  7.66630152e-14]\n",
      " [-1.61605580e-14 -9.44075339e-15 -1.03364536e-14 -7.69190580e-15]\n",
      " [ 3.34861235e-16 -6.55382902e-15 -7.62785164e-15 -1.01001852e-14]\n",
      " [-1.06088840e-14 -1.09670742e-14 -1.11791000e-14 -7.87265382e-15]\n",
      " [-5.10590350e-16 -2.15951795e-15 -8.88825241e-15 -1.02807953e-14]\n",
      " [-9.00533979e-16 -1.05235179e-14 -5.96015953e-15 -7.07732461e-15]\n",
      " [-3.83334565e-15 -4.94638174e-15 -7.16634416e-15 -4.89887298e-15]]\n",
      "[7.72509251e-12 2.27064870e-14 9.73658085e-14 3.80462565e-13]\n"
     ]
    }
   ],
   "source": [
    "m = 4   # Number of warehouse\n",
    "n = 10  # Number of demands\n",
    "\n",
    "f = np.random.randint(100,size=m)       # Fixed cost for each warehouse\n",
    "c = np.random.randint(100,size=(n,m))   # Transportation cost for each warehouse to the respective customer\n",
    "d = np.random.randint(50,size=n)       # Demands\n",
    "w = np.random.randint(100,size=m)       # Capacity of each warehouse\n",
    "\n",
    "# Strange error: I had to explicitly declare shape=(4,10). Cannot use shape=(m,n)\n",
    "x = cp.Variable(shape=(n,m))\n",
    "y = cp.Variable(m,boolean=True)\n",
    "\n",
    "fixed_cost = sum(cp.multiply(f,y))\n",
    "transport_cost = sum(sum(cp.multiply(c,x)))\n",
    "total_cost = fixed_cost + transport_cost\n",
    "obj = cp.Minimize(total_cost)\n",
    "constraints = []\n",
    "for i in range(n):\n",
    "    for j in range(m):\n",
    "        constraints.extend([x[i][j] <= d[i]*y[j]])\n",
    "        constraints.extend([x[i][j] >= 0])\n",
    "        \n",
    "# Goods can only be shipped if the warehouse is opened\n",
    "constraints.extend([cp.sum(x,axis=0) - y*cp.sum(d) <= 0])\n",
    "# Service provided by each warehouse must not exceed its capacity\n",
    "constraints.extend([sum(x[:,j]) <= w[j]*y[j] for j in range(4)])\n",
    "'''\n",
    "# Every demand must be satisfied\n",
    "constraints = [cp.sum(x,axis=1) <= d, cp.sum(x,axis=1) >= d]      # ?!?!\n",
    "# Goods can only be shipped if the warehouse is opened\n",
    "constraints.extend([cp.sum(x,axis=0) - y*cp.sum(d) <= 0])\n",
    "# Service provided by each warehouse must not exceed its capacity\n",
    "constraints.extend([sum(x[:,j]) <= w[j]*y[j] for j in range(4)])\n",
    "'''\n",
    "prob = cp.Problem(obj,constraints)\n",
    "sol = prob.solve(solver=\"ECOS_BB\")\n",
    "print(sol)\n",
    "print(x.value)\n",
    "print(y.value)"
   ]
  },
  {
   "cell_type": "code",
   "execution_count": null,
   "metadata": {},
   "outputs": [],
   "source": []
  }
 ],
 "metadata": {
  "kernelspec": {
   "display_name": "Python 3",
   "language": "python",
   "name": "python3"
  },
  "language_info": {
   "codemirror_mode": {
    "name": "ipython",
    "version": 3
   },
   "file_extension": ".py",
   "mimetype": "text/x-python",
   "name": "python",
   "nbconvert_exporter": "python",
   "pygments_lexer": "ipython3",
   "version": "3.7.4"
  }
 },
 "nbformat": 4,
 "nbformat_minor": 2
}
