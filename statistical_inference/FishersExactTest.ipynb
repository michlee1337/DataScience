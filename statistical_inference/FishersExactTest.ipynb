{
 "cells": [
  {
   "cell_type": "code",
   "execution_count": 60,
   "metadata": {},
   "outputs": [],
   "source": [
    "fisher <- function(treat,res) {\n",
    "    ate <- sum(res[treat == 1]) - sum(res[treat == 0])\n",
    "    p <- sum(res >= ate)/length(res)\n",
    "    cat('ATE: ', ate,'\\n')\n",
    "    cat('p-score: ',p)\n",
    "    return(1)\n",
    "}\n"
   ]
  },
  {
   "cell_type": "code",
   "execution_count": 61,
   "metadata": {},
   "outputs": [
    {
     "name": "stdout",
     "output_type": "stream",
     "text": [
      "ATE:  7 \n",
      "p-score:  0.875"
     ]
    },
    {
     "data": {
      "text/html": [
       "1"
      ],
      "text/latex": [
       "1"
      ],
      "text/markdown": [
       "1"
      ],
      "text/plain": [
       "[1] 1"
      ]
     },
     "metadata": {},
     "output_type": "display_data"
    },
    {
     "name": "stdout",
     "output_type": "stream",
     "text": [
      "ATE:  75 \n",
      "p-score:  0.125"
     ]
    },
    {
     "data": {
      "text/html": [
       "1"
      ],
      "text/latex": [
       "1"
      ],
      "text/markdown": [
       "1"
      ],
      "text/plain": [
       "[1] 1"
      ]
     },
     "metadata": {},
     "output_type": "display_data"
    }
   ],
   "source": [
    "treat1 <- c(1,0,1,1,0,0,0,1)\n",
    "res1 <- c(17,34,92,4,34,34,23,19)\n",
    "\n",
    "treat2 <- c(1,0,1,0,1,0,1,0)\n",
    "res2 <- c(17,34,92,4,34,34,23,19)\n",
    "\n",
    "fisher(treat1,res1)\n",
    "fisher(treat2,res2)\n"
   ]
  }
 ],
 "metadata": {
  "kernelspec": {
   "display_name": "R",
   "language": "R",
   "name": "ir"
  },
  "language_info": {
   "codemirror_mode": "r",
   "file_extension": ".r",
   "mimetype": "text/x-r-source",
   "name": "R",
   "pygments_lexer": "r",
   "version": "3.5.2"
  }
 },
 "nbformat": 4,
 "nbformat_minor": 2
}
