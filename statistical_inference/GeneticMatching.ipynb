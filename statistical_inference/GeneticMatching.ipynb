{
 "cells": [
  {
   "cell_type": "code",
   "execution_count": 7,
   "metadata": {},
   "outputs": [],
   "source": [
    "library(foreign) \n",
    "\n",
    "data = read.dta(\"dw_data.dta\")"
   ]
  },
  {
   "cell_type": "code",
   "execution_count": 11,
   "metadata": {
    "scrolled": true
   },
   "outputs": [
    {
     "name": "stderr",
     "output_type": "stream",
     "text": [
      "Loading required package: MASS\n",
      "## \n",
      "##  Matching (Version 4.9-5, Build Date: 2019-03-05)\n",
      "##  See http://sekhon.berkeley.edu/matching for additional documentation.\n",
      "##  Please cite software as:\n",
      "##   Jasjeet S. Sekhon. 2011. ``Multivariate and Propensity Score Matching\n",
      "##   Software with Automated Balance Optimization: The Matching package for R.''\n",
      "##   Journal of Statistical Software, 42(7): 1-52. \n",
      "##\n",
      "\n"
     ]
    }
   ],
   "source": [
    "library(\"Matching\")"
   ]
  },
  {
   "cell_type": "code",
   "execution_count": 21,
   "metadata": {},
   "outputs": [],
   "source": [
    "control = data[data$treat == 0,]\n",
    "treat = data[data$treat == 1,]"
   ]
  },
  {
   "cell_type": "code",
   "execution_count": 35,
   "metadata": {
    "scrolled": true
   },
   "outputs": [
    {
     "data": {
      "text/plain": [
       "                 data_id          treat              age          education    \n",
       " CPS1                :15992   Min.   :0.00000   Min.   :16.00   Min.   : 0.00  \n",
       " Dehejia-Wahba Sample:  185   1st Qu.:0.00000   1st Qu.:24.00   1st Qu.:11.00  \n",
       "                              Median :0.00000   Median :31.00   Median :12.00  \n",
       "                              Mean   :0.01144   Mean   :33.14   Mean   :12.01  \n",
       "                              3rd Qu.:0.00000   3rd Qu.:42.00   3rd Qu.:13.00  \n",
       "                              Max.   :1.00000   Max.   :55.00   Max.   :18.00  \n",
       "     black            hispanic          married          nodegree     \n",
       " Min.   :0.00000   Min.   :0.00000   Min.   :0.0000   Min.   :0.0000  \n",
       " 1st Qu.:0.00000   1st Qu.:0.00000   1st Qu.:0.0000   1st Qu.:0.0000  \n",
       " Median :0.00000   Median :0.00000   Median :1.0000   Median :0.0000  \n",
       " Mean   :0.08234   Mean   :0.07189   Mean   :0.7058   Mean   :0.3006  \n",
       " 3rd Qu.:0.00000   3rd Qu.:0.00000   3rd Qu.:1.0000   3rd Qu.:1.0000  \n",
       " Max.   :1.00000   Max.   :1.00000   Max.   :1.0000   Max.   :1.0000  \n",
       "      re74            re75            re78      \n",
       " Min.   :    0   Min.   :    0   Min.   :    0  \n",
       " 1st Qu.: 4075   1st Qu.: 4103   1st Qu.: 5493  \n",
       " Median :14892   Median :14374   Median :16240  \n",
       " Mean   :13880   Mean   :13512   Mean   :14749  \n",
       " 3rd Qu.:23492   3rd Qu.:22830   3rd Qu.:25565  \n",
       " Max.   :35040   Max.   :25244   Max.   :60308  "
      ]
     },
     "metadata": {},
     "output_type": "display_data"
    }
   ],
   "source": [
    "summary(data)"
   ]
  },
  {
   "cell_type": "code",
   "execution_count": 29,
   "metadata": {},
   "outputs": [],
   "source": [
    "Tr = data$treat\n",
    "Y = data$re78\n",
    "X = cbind(data$age,data$education)"
   ]
  },
  {
   "cell_type": "code",
   "execution_count": 31,
   "metadata": {},
   "outputs": [],
   "source": [
    "library('Matching')\n",
    "\n",
    "matched = Match(Tr=Tr, X=X, M=1)"
   ]
  },
  {
   "cell_type": "code",
   "execution_count": 36,
   "metadata": {},
   "outputs": [
    {
     "data": {
      "text/html": [
       "<ol class=list-inline>\n",
       "\t<li>3</li>\n",
       "\t<li>3</li>\n",
       "\t<li>3</li>\n",
       "\t<li>3</li>\n",
       "\t<li>3</li>\n",
       "\t<li>3</li>\n",
       "\t<li>3</li>\n",
       "\t<li>3</li>\n",
       "\t<li>3</li>\n",
       "\t<li>3</li>\n",
       "\t<li>3</li>\n",
       "</ol>\n"
      ],
      "text/latex": [
       "\\begin{enumerate*}\n",
       "\\item 3\n",
       "\\item 3\n",
       "\\item 3\n",
       "\\item 3\n",
       "\\item 3\n",
       "\\item 3\n",
       "\\item 3\n",
       "\\item 3\n",
       "\\item 3\n",
       "\\item 3\n",
       "\\item 3\n",
       "\\end{enumerate*}\n"
      ],
      "text/markdown": [
       "1. 3\n",
       "2. 3\n",
       "3. 3\n",
       "4. 3\n",
       "5. 3\n",
       "6. 3\n",
       "7. 3\n",
       "8. 3\n",
       "9. 3\n",
       "10. 3\n",
       "11. 3\n",
       "\n",
       "\n"
      ],
      "text/plain": [
       " [1] 3 3 3 3 3 3 3 3 3 3 3"
      ]
     },
     "metadata": {},
     "output_type": "display_data"
    }
   ],
   "source": [
    "matched$index.treated[90:100]"
   ]
  },
  {
   "cell_type": "code",
   "execution_count": 34,
   "metadata": {},
   "outputs": [
    {
     "data": {
      "text/html": [
       "<ol class=list-inline>\n",
       "\t<li>901</li>\n",
       "\t<li>1728</li>\n",
       "\t<li>2185</li>\n",
       "\t<li>4409</li>\n",
       "\t<li>4865</li>\n",
       "\t<li>5207</li>\n",
       "\t<li>7580</li>\n",
       "\t<li>8132</li>\n",
       "\t<li>10057</li>\n",
       "\t<li>10469</li>\n",
       "</ol>\n"
      ],
      "text/latex": [
       "\\begin{enumerate*}\n",
       "\\item 901\n",
       "\\item 1728\n",
       "\\item 2185\n",
       "\\item 4409\n",
       "\\item 4865\n",
       "\\item 5207\n",
       "\\item 7580\n",
       "\\item 8132\n",
       "\\item 10057\n",
       "\\item 10469\n",
       "\\end{enumerate*}\n"
      ],
      "text/markdown": [
       "1. 901\n",
       "2. 1728\n",
       "3. 2185\n",
       "4. 4409\n",
       "5. 4865\n",
       "6. 5207\n",
       "7. 7580\n",
       "8. 8132\n",
       "9. 10057\n",
       "10. 10469\n",
       "\n",
       "\n"
      ],
      "text/plain": [
       " [1]   901  1728  2185  4409  4865  5207  7580  8132 10057 10469"
      ]
     },
     "metadata": {},
     "output_type": "display_data"
    }
   ],
   "source": [
    "matched$index.control[1:10]"
   ]
  },
  {
   "cell_type": "code",
   "execution_count": 40,
   "metadata": {},
   "outputs": [],
   "source": [
    "fake <- read.csv(\"https://tinyurl.com/yxzo52ez\")\n",
    "Tr = fake$treat\n",
    "Y = fake$re78\n",
    "covariates <- cbind(fake$age, fake$educ, fake$black, fake$hisp, fake$married, fake$nodegr, fake$re74, fake$re75, fake$u74, fake$u75)\n",
    "library('Matching')"
   ]
  },
  {
   "cell_type": "code",
   "execution_count": 42,
   "metadata": {},
   "outputs": [
    {
     "name": "stdout",
     "output_type": "stream",
     "text": [
      "\n",
      "Estimate...  1723.8 \n",
      "AI SE......  910.16 \n",
      "T-stat.....  1.894 \n",
      "p.val......  0.058225 \n",
      "\n",
      "Original number of observations..............  16177 \n",
      "Original number of treated obs...............  185 \n",
      "Matched number of observations...............  185 \n",
      "Matched number of observations  (unweighted).  248 \n",
      "\n"
     ]
    }
   ],
   "source": [
    "match_r_out <- Match(Tr = Tr, X = covariates, M=1,Y=Y,replace=TRUE)\n",
    "summary(match_r_out)"
   ]
  },
  {
   "cell_type": "code",
   "execution_count": 43,
   "metadata": {},
   "outputs": [
    {
     "name": "stdout",
     "output_type": "stream",
     "text": [
      "\n",
      "Estimate...  1602 \n",
      "SE.........  694.16 \n",
      "T-stat.....  2.3078 \n",
      "p.val......  0.021009 \n",
      "\n",
      "Original number of observations..............  16177 \n",
      "Original number of treated obs...............  185 \n",
      "Matched number of observations...............  185 \n",
      "Matched number of observations  (unweighted).  185 \n",
      "\n"
     ]
    }
   ],
   "source": [
    "match_nr_out <- Match(Tr = Tr, X = covariates, M=1,Y=Y,replace=FALSE)\n",
    "summary(match_nr_out)"
   ]
  },
  {
   "cell_type": "code",
   "execution_count": null,
   "metadata": {},
   "outputs": [],
   "source": [
    "age*educ, age*black, married*black, & married*educ"
   ]
  }
 ],
 "metadata": {
  "kernelspec": {
   "display_name": "R",
   "language": "R",
   "name": "ir"
  },
  "language_info": {
   "codemirror_mode": "r",
   "file_extension": ".r",
   "mimetype": "text/x-r-source",
   "name": "R",
   "pygments_lexer": "r",
   "version": "3.5.2"
  }
 },
 "nbformat": 4,
 "nbformat_minor": 2
}
