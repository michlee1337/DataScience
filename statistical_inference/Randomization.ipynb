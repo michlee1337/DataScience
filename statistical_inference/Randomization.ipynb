{
 "cells": [
  {
   "cell_type": "code",
   "execution_count": 1,
   "metadata": {},
   "outputs": [],
   "source": [
    "library(foreign)"
   ]
  },
  {
   "cell_type": "code",
   "execution_count": 34,
   "metadata": {},
   "outputs": [
    {
     "data": {
      "text/html": [
       "<table>\n",
       "<thead><tr><th scope=col>treat</th><th scope=col>age</th><th scope=col>education</th><th scope=col>black</th><th scope=col>hispanic</th><th scope=col>married</th><th scope=col>nodegree</th><th scope=col>re75</th><th scope=col>re78</th></tr></thead>\n",
       "<tbody>\n",
       "\t<tr><td>1         </td><td>37        </td><td>11        </td><td>1         </td><td>0         </td><td>1         </td><td>1         </td><td>0         </td><td> 9930.0459</td></tr>\n",
       "\t<tr><td>1         </td><td>22        </td><td> 9        </td><td>0         </td><td>1         </td><td>0         </td><td>1         </td><td>0         </td><td> 3595.8940</td></tr>\n",
       "\t<tr><td>1         </td><td>30        </td><td>12        </td><td>1         </td><td>0         </td><td>0         </td><td>0         </td><td>0         </td><td>24909.4492</td></tr>\n",
       "\t<tr><td>1         </td><td>27        </td><td>11        </td><td>1         </td><td>0         </td><td>0         </td><td>1         </td><td>0         </td><td> 7506.1460</td></tr>\n",
       "\t<tr><td>1         </td><td>33        </td><td> 8        </td><td>1         </td><td>0         </td><td>0         </td><td>1         </td><td>0         </td><td>  289.7899</td></tr>\n",
       "\t<tr><td>1         </td><td>22        </td><td> 9        </td><td>1         </td><td>0         </td><td>0         </td><td>1         </td><td>0         </td><td> 4056.4939</td></tr>\n",
       "</tbody>\n",
       "</table>\n"
      ],
      "text/latex": [
       "\\begin{tabular}{r|lllllllll}\n",
       " treat & age & education & black & hispanic & married & nodegree & re75 & re78\\\\\n",
       "\\hline\n",
       "\t 1          & 37         & 11         & 1          & 0          & 1          & 1          & 0          &  9930.0459\\\\\n",
       "\t 1          & 22         &  9         & 0          & 1          & 0          & 1          & 0          &  3595.8940\\\\\n",
       "\t 1          & 30         & 12         & 1          & 0          & 0          & 0          & 0          & 24909.4492\\\\\n",
       "\t 1          & 27         & 11         & 1          & 0          & 0          & 1          & 0          &  7506.1460\\\\\n",
       "\t 1          & 33         &  8         & 1          & 0          & 0          & 1          & 0          &   289.7899\\\\\n",
       "\t 1          & 22         &  9         & 1          & 0          & 0          & 1          & 0          &  4056.4939\\\\\n",
       "\\end{tabular}\n"
      ],
      "text/markdown": [
       "\n",
       "| treat | age | education | black | hispanic | married | nodegree | re75 | re78 |\n",
       "|---|---|---|---|---|---|---|---|---|\n",
       "| 1          | 37         | 11         | 1          | 0          | 1          | 1          | 0          |  9930.0459 |\n",
       "| 1          | 22         |  9         | 0          | 1          | 0          | 1          | 0          |  3595.8940 |\n",
       "| 1          | 30         | 12         | 1          | 0          | 0          | 0          | 0          | 24909.4492 |\n",
       "| 1          | 27         | 11         | 1          | 0          | 0          | 1          | 0          |  7506.1460 |\n",
       "| 1          | 33         |  8         | 1          | 0          | 0          | 1          | 0          |   289.7899 |\n",
       "| 1          | 22         |  9         | 1          | 0          | 0          | 1          | 0          |  4056.4939 |\n",
       "\n"
      ],
      "text/plain": [
       "  treat age education black hispanic married nodegree re75 re78      \n",
       "1 1     37  11        1     0        1       1        0     9930.0459\n",
       "2 1     22   9        0     1        0       1        0     3595.8940\n",
       "3 1     30  12        1     0        0       0        0    24909.4492\n",
       "4 1     27  11        1     0        0       1        0     7506.1460\n",
       "5 1     33   8        1     0        0       1        0      289.7899\n",
       "6 1     22   9        1     0        0       1        0     4056.4939"
      ]
     },
     "metadata": {},
     "output_type": "display_data"
    }
   ],
   "source": [
    "data = read.dta('http://www.nber.org/~rdehejia/data/nsw.dta')\n",
    "data$data_id = NULL\n",
    "head(data)\n"
   ]
  },
  {
   "cell_type": "code",
   "execution_count": 45,
   "metadata": {},
   "outputs": [],
   "source": [
    "# bootstrap 95% confint\n",
    "B = 1000\n",
    "n = nrow(data)\n",
    "\n",
    "storage_vector =rep(NA, B) \n",
    "\n",
    "\n",
    "for(b in 1:B){\n",
    "    b_ind = sample(x = 1:n, size = n, replace = TRUE)\n",
    "    sample = data[b_ind,]\n",
    "    storage_vector[b] = summary(lm(re78 ~. ,data=sample))$coef[2]\n",
    "}"
   ]
  },
  {
   "cell_type": "code",
   "execution_count": 46,
   "metadata": {},
   "outputs": [
    {
     "data": {
      "text/html": [
       "<dl class=dl-horizontal>\n",
       "\t<dt>5%</dt>\n",
       "\t\t<dd>78.7933784628935</dd>\n",
       "\t<dt>95%</dt>\n",
       "\t\t<dd>1632.86143442235</dd>\n",
       "</dl>\n"
      ],
      "text/latex": [
       "\\begin{description*}\n",
       "\\item[5\\textbackslash{}\\%] 78.7933784628935\n",
       "\\item[95\\textbackslash{}\\%] 1632.86143442235\n",
       "\\end{description*}\n"
      ],
      "text/markdown": [
       "5%\n",
       ":   78.793378462893595%\n",
       ":   1632.86143442235\n",
       "\n"
      ],
      "text/plain": [
       "        5%        95% \n",
       "  78.79338 1632.86143 "
      ]
     },
     "metadata": {},
     "output_type": "display_data"
    }
   ],
   "source": [
    "b_CI = quantile(storage_vector,probs=c(0.05,0.95))\n",
    "b_CI"
   ]
  },
  {
   "cell_type": "code",
   "execution_count": 40,
   "metadata": {},
   "outputs": [
    {
     "data": {
      "text/html": [
       "<table>\n",
       "<thead><tr><th></th><th scope=col>2.5 %</th><th scope=col>97.5 %</th></tr></thead>\n",
       "<tbody>\n",
       "\t<tr><th scope=row>(Intercept)</th><td>-1.233670e+03</td><td>8992.8782962 </td></tr>\n",
       "\t<tr><th scope=row>treat</th><td>-1.120897e+02</td><td>1725.1122785 </td></tr>\n",
       "\t<tr><th scope=row>age</th><td>-5.365441e+01</td><td>  88.4394026 </td></tr>\n",
       "\t<tr><th scope=row>education</th><td>-1.772477e+02</td><td> 527.8939486 </td></tr>\n",
       "\t<tr><th scope=row>black</th><td>-3.019028e+03</td><td> 127.9458134 </td></tr>\n",
       "\t<tr><th scope=row>hispanic</th><td>-1.955396e+03</td><td>2152.2403581 </td></tr>\n",
       "\t<tr><th scope=row>married</th><td>-1.208727e+03</td><td>1352.4565484 </td></tr>\n",
       "\t<tr><th scope=row>nodegree</th><td>-1.928986e+03</td><td> 988.1919035 </td></tr>\n",
       "\t<tr><th scope=row>re75</th><td> 7.879141e-02</td><td>   0.2621504 </td></tr>\n",
       "</tbody>\n",
       "</table>\n"
      ],
      "text/latex": [
       "\\begin{tabular}{r|ll}\n",
       "  & 2.5 \\% & 97.5 \\%\\\\\n",
       "\\hline\n",
       "\t(Intercept) & -1.233670e+03 & 8992.8782962 \\\\\n",
       "\ttreat & -1.120897e+02 & 1725.1122785 \\\\\n",
       "\tage & -5.365441e+01 &   88.4394026 \\\\\n",
       "\teducation & -1.772477e+02 &  527.8939486 \\\\\n",
       "\tblack & -3.019028e+03 &  127.9458134 \\\\\n",
       "\thispanic & -1.955396e+03 & 2152.2403581 \\\\\n",
       "\tmarried & -1.208727e+03 & 1352.4565484 \\\\\n",
       "\tnodegree & -1.928986e+03 &  988.1919035 \\\\\n",
       "\tre75 &  7.879141e-02 &    0.2621504 \\\\\n",
       "\\end{tabular}\n"
      ],
      "text/markdown": [
       "\n",
       "| <!--/--> | 2.5 % | 97.5 % |\n",
       "|---|---|---|\n",
       "| (Intercept) | -1.233670e+03 | 8992.8782962  |\n",
       "| treat | -1.120897e+02 | 1725.1122785  |\n",
       "| age | -5.365441e+01 |   88.4394026  |\n",
       "| education | -1.772477e+02 |  527.8939486  |\n",
       "| black | -3.019028e+03 |  127.9458134  |\n",
       "| hispanic | -1.955396e+03 | 2152.2403581  |\n",
       "| married | -1.208727e+03 | 1352.4565484  |\n",
       "| nodegree | -1.928986e+03 |  988.1919035  |\n",
       "| re75 |  7.879141e-02 |    0.2621504  |\n",
       "\n"
      ],
      "text/plain": [
       "            2.5 %         97.5 %      \n",
       "(Intercept) -1.233670e+03 8992.8782962\n",
       "treat       -1.120897e+02 1725.1122785\n",
       "age         -5.365441e+01   88.4394026\n",
       "education   -1.772477e+02  527.8939486\n",
       "black       -3.019028e+03  127.9458134\n",
       "hispanic    -1.955396e+03 2152.2403581\n",
       "married     -1.208727e+03 1352.4565484\n",
       "nodegree    -1.928986e+03  988.1919035\n",
       "re75         7.879141e-02    0.2621504"
      ]
     },
     "metadata": {},
     "output_type": "display_data"
    }
   ],
   "source": [
    "lm1 = lm(re78 ~. ,data=data)\n",
    "\n",
    "confint(lm1)"
   ]
  },
  {
   "cell_type": "code",
   "execution_count": null,
   "metadata": {},
   "outputs": [],
   "source": [
    "statistical power, statistical significance, alpha, and bet"
   ]
  }
 ],
 "metadata": {
  "kernelspec": {
   "display_name": "R",
   "language": "R",
   "name": "ir"
  },
  "language_info": {
   "codemirror_mode": "r",
   "file_extension": ".r",
   "mimetype": "text/x-r-source",
   "name": "R",
   "pygments_lexer": "r",
   "version": "3.5.2"
  }
 },
 "nbformat": 4,
 "nbformat_minor": 2
}
