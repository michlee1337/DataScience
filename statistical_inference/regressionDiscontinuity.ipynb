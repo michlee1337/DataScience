{
 "cells": [
  {
   "cell_type": "markdown",
   "metadata": {},
   "source": [
    "Pre-class Work\n",
    "Come up with a sharp regression discontinuity design problem (estimating the impact of the treatment at the discontinuity) that could be solved by your fellow students. This will require you to generate fake data (using any software you wish) and write a few sentences to accompany the data explaining the context and the problem itself.\n",
    "\n",
    "IMPORTANT INSTRUCTIONS\n",
    "\n",
    "Your outcomes data should derive from a function (any function) that: (a) incorporates some randomness and (b) is smooth at the cutoff. You are advised to keep your function simple. Generate Y(1) and Y(0) for all values of the assignment variable on both sides of the cutoff—this enables calculating the true treatment effect at the cutoff. Covariates are optional. Make sure you save your Y(1) and Y(0) data and be sure to know what the treatment effect is at the cutoff.\n",
    "Upload your data in .csv (comma-delimited) format to the Internet (e.g., on your Google Drive) and make it shareable with anyone who has the link. NOTE: Do not provide Y(1) and Y(0) — to make it realistic, only post Y(observable)… in other words, only post the observed values of Y (i.e., Y(1) for those units on one side of the cutoff, and Y(0) for those on the other side of the cutoff).\n",
    "Put (a) the link to your data and (b) your paragraph in a shareable Google Doc.\n",
    "Create one or more simple data visualization(s) showing essential aspects of the data you created. Have the dataviz ready for class, but do not share it with other students.\n",
    "You will not work on any aspect of this pre-class work with the other person assigned to your group. However, you will be working with this person in class, and you will swap problems and data with this person after class."
   ]
  },
  {
   "cell_type": "code",
   "execution_count": null,
   "metadata": {},
   "outputs": [],
   "source": [
    "# f\n",
    "\n",
    "y1 = "
   ]
  }
 ],
 "metadata": {
  "kernelspec": {
   "display_name": "R",
   "language": "R",
   "name": "ir"
  },
  "language_info": {
   "codemirror_mode": "r",
   "file_extension": ".r",
   "mimetype": "text/x-r-source",
   "name": "R",
   "pygments_lexer": "r",
   "version": "3.5.3"
  }
 },
 "nbformat": 4,
 "nbformat_minor": 2
}
