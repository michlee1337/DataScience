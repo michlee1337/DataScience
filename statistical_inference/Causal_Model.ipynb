{
 "cells": [
  {
   "cell_type": "code",
   "execution_count": 2,
   "metadata": {},
   "outputs": [],
   "source": [
    "data = read.csv(url(\"https://docs.google.com/spreadsheets/d/e/2PACX-1vSW370vTjCpDB5kxP7z2CuUuEB9XjMVOjQu3NFmZAxdxB2wX_mS2jrzncf7FQ6LwprY5VqVJgWCQvDi/pub?gid=728694363&single=true&output=csv\"))"
   ]
  },
  {
   "cell_type": "code",
   "execution_count": 3,
   "metadata": {},
   "outputs": [
    {
     "data": {
      "text/html": [
       "<table>\n",
       "<thead><tr><th scope=col>id</th><th scope=col>wave1</th><th scope=col>wave2</th><th scope=col>wave3</th><th scope=col>treatment</th><th scope=col>not_traced_account_opening</th><th scope=col>inlogs</th><th scope=col>filled_log</th><th scope=col>bg_gender</th><th scope=col>bg_boda</th><th scope=col>⋯</th><th scope=col>tot_flow_out</th><th scope=col>tot_flow_spouse</th><th scope=col>bank_savings</th><th scope=col>rosca_contrib</th><th scope=col>animal_savings</th><th scope=col>total_hours</th><th scope=col>investment</th><th scope=col>investment_t5</th><th scope=col>revenues</th><th scope=col>revenues_t5</th></tr></thead>\n",
       "<tbody>\n",
       "\t<tr><td>362       </td><td>1         </td><td>0         </td><td>0         </td><td>0         </td><td>NA        </td><td>NA        </td><td>       NA </td><td>0         </td><td>0         </td><td>⋯         </td><td>       NA </td><td>        NA</td><td>       NA </td><td>      NA  </td><td>       NA </td><td>      NA  </td><td>       NA </td><td>      NA  </td><td>       NA </td><td>       NA </td></tr>\n",
       "\t<tr><td>364       </td><td>1         </td><td>0         </td><td>0         </td><td>0         </td><td>NA        </td><td> 1        </td><td>1.0000000 </td><td>0         </td><td>0         </td><td>⋯         </td><td>  0.00000 </td><td>-27.647058</td><td>23.529411 </td><td>32.94118  </td><td> 0.000000 </td><td>5.818627  </td><td> 398.5294 </td><td>398.5294  </td><td> 365.7222 </td><td>365.72223 </td></tr>\n",
       "\t<tr><td>365       </td><td>1         </td><td>0         </td><td>0         </td><td>1         </td><td> 1        </td><td> 0        </td><td>       NA </td><td>0         </td><td>0         </td><td>⋯         </td><td>       NA </td><td>        NA</td><td>       NA </td><td>      NA  </td><td>       NA </td><td>      NA  </td><td>       NA </td><td>      NA  </td><td>       NA </td><td>       NA </td></tr>\n",
       "\t<tr><td>366       </td><td>1         </td><td>0         </td><td>0         </td><td>0         </td><td>NA        </td><td> 1        </td><td>1.0000000 </td><td>0         </td><td>0         </td><td>⋯         </td><td>  0.00000 </td><td>        NA</td><td> 0.000000 </td><td>37.00000  </td><td> 1.166667 </td><td>2.822222  </td><td>1561.5000 </td><td>146.7347  </td><td>2625.6667 </td><td> 23.63636 </td></tr>\n",
       "\t<tr><td>367       </td><td>1         </td><td>0         </td><td>0         </td><td>0         </td><td>NA        </td><td> 1        </td><td>0.9259259 </td><td>0         </td><td>0         </td><td>⋯         </td><td>-22.40000 </td><td>-15.600000</td><td>-0.800000 </td><td>35.20000  </td><td>17.400000 </td><td>8.020833  </td><td> 156.6000 </td><td>156.6000  </td><td>  90.0000 </td><td> 90.00000 </td></tr>\n",
       "\t<tr><td>368       </td><td>1         </td><td>0         </td><td>0         </td><td>0         </td><td>NA        </td><td> 1        </td><td>0.9888889 </td><td>0         </td><td>0         </td><td>⋯         </td><td> 61.81818 </td><td> -6.818182</td><td> 2.272727 </td><td>22.95455  </td><td> 0.000000 </td><td>8.213825  </td><td> 277.8977 </td><td>235.1149  </td><td> 236.6854 </td><td>236.68539 </td></tr>\n",
       "</tbody>\n",
       "</table>\n"
      ],
      "text/latex": [
       "\\begin{tabular}{r|lllllllllllllllllllllllllllllllllllllllllllllllllllllllllllllllll}\n",
       " id & wave1 & wave2 & wave3 & treatment & not\\_traced\\_account\\_opening & inlogs & filled\\_log & bg\\_gender & bg\\_boda & ⋯ & tot\\_flow\\_out & tot\\_flow\\_spouse & bank\\_savings & rosca\\_contrib & animal\\_savings & total\\_hours & investment & investment\\_t5 & revenues & revenues\\_t5\\\\\n",
       "\\hline\n",
       "\t 362        & 1          & 0          & 0          & 0          & NA         & NA         &        NA  & 0          & 0          & ⋯          &        NA  &         NA &        NA  &       NA   &        NA  &       NA   &        NA  &       NA   &        NA  &        NA \\\\\n",
       "\t 364        & 1          & 0          & 0          & 0          & NA         &  1         & 1.0000000  & 0          & 0          & ⋯          &   0.00000  & -27.647058 & 23.529411  & 32.94118   &  0.000000  & 5.818627   &  398.5294  & 398.5294   &  365.7222  & 365.72223 \\\\\n",
       "\t 365        & 1          & 0          & 0          & 1          &  1         &  0         &        NA  & 0          & 0          & ⋯          &        NA  &         NA &        NA  &       NA   &        NA  &       NA   &        NA  &       NA   &        NA  &        NA \\\\\n",
       "\t 366        & 1          & 0          & 0          & 0          & NA         &  1         & 1.0000000  & 0          & 0          & ⋯          &   0.00000  &         NA &  0.000000  & 37.00000   &  1.166667  & 2.822222   & 1561.5000  & 146.7347   & 2625.6667  &  23.63636 \\\\\n",
       "\t 367        & 1          & 0          & 0          & 0          & NA         &  1         & 0.9259259  & 0          & 0          & ⋯          & -22.40000  & -15.600000 & -0.800000  & 35.20000   & 17.400000  & 8.020833   &  156.6000  & 156.6000   &   90.0000  &  90.00000 \\\\\n",
       "\t 368        & 1          & 0          & 0          & 0          & NA         &  1         & 0.9888889  & 0          & 0          & ⋯          &  61.81818  &  -6.818182 &  2.272727  & 22.95455   &  0.000000  & 8.213825   &  277.8977  & 235.1149   &  236.6854  & 236.68539 \\\\\n",
       "\\end{tabular}\n"
      ],
      "text/markdown": [
       "\n",
       "| id | wave1 | wave2 | wave3 | treatment | not_traced_account_opening | inlogs | filled_log | bg_gender | bg_boda | ⋯ | tot_flow_out | tot_flow_spouse | bank_savings | rosca_contrib | animal_savings | total_hours | investment | investment_t5 | revenues | revenues_t5 |\n",
       "|---|---|---|---|---|---|---|---|---|---|---|---|---|---|---|---|---|---|---|---|---|\n",
       "| 362        | 1          | 0          | 0          | 0          | NA         | NA         |        NA  | 0          | 0          | ⋯          |        NA  |         NA |        NA  |       NA   |        NA  |       NA   |        NA  |       NA   |        NA  |        NA  |\n",
       "| 364        | 1          | 0          | 0          | 0          | NA         |  1         | 1.0000000  | 0          | 0          | ⋯          |   0.00000  | -27.647058 | 23.529411  | 32.94118   |  0.000000  | 5.818627   |  398.5294  | 398.5294   |  365.7222  | 365.72223  |\n",
       "| 365        | 1          | 0          | 0          | 1          |  1         |  0         |        NA  | 0          | 0          | ⋯          |        NA  |         NA |        NA  |       NA   |        NA  |       NA   |        NA  |       NA   |        NA  |        NA  |\n",
       "| 366        | 1          | 0          | 0          | 0          | NA         |  1         | 1.0000000  | 0          | 0          | ⋯          |   0.00000  |         NA |  0.000000  | 37.00000   |  1.166667  | 2.822222   | 1561.5000  | 146.7347   | 2625.6667  |  23.63636  |\n",
       "| 367        | 1          | 0          | 0          | 0          | NA         |  1         | 0.9259259  | 0          | 0          | ⋯          | -22.40000  | -15.600000 | -0.800000  | 35.20000   | 17.400000  | 8.020833   |  156.6000  | 156.6000   |   90.0000  |  90.00000  |\n",
       "| 368        | 1          | 0          | 0          | 0          | NA         |  1         | 0.9888889  | 0          | 0          | ⋯          |  61.81818  |  -6.818182 |  2.272727  | 22.95455   |  0.000000  | 8.213825   |  277.8977  | 235.1149   |  236.6854  | 236.68539  |\n",
       "\n"
      ],
      "text/plain": [
       "  id  wave1 wave2 wave3 treatment not_traced_account_opening inlogs filled_log\n",
       "1 362 1     0     0     0         NA                         NA            NA \n",
       "2 364 1     0     0     0         NA                          1     1.0000000 \n",
       "3 365 1     0     0     1          1                          0            NA \n",
       "4 366 1     0     0     0         NA                          1     1.0000000 \n",
       "5 367 1     0     0     0         NA                          1     0.9259259 \n",
       "6 368 1     0     0     0         NA                          1     0.9888889 \n",
       "  bg_gender bg_boda ⋯ tot_flow_out tot_flow_spouse bank_savings rosca_contrib\n",
       "1 0         0       ⋯        NA            NA             NA          NA     \n",
       "2 0         0       ⋯   0.00000    -27.647058      23.529411    32.94118     \n",
       "3 0         0       ⋯        NA            NA             NA          NA     \n",
       "4 0         0       ⋯   0.00000            NA       0.000000    37.00000     \n",
       "5 0         0       ⋯ -22.40000    -15.600000      -0.800000    35.20000     \n",
       "6 0         0       ⋯  61.81818     -6.818182       2.272727    22.95455     \n",
       "  animal_savings total_hours investment investment_t5 revenues  revenues_t5\n",
       "1        NA            NA           NA        NA             NA        NA  \n",
       "2  0.000000      5.818627     398.5294  398.5294       365.7222 365.72223  \n",
       "3        NA            NA           NA        NA             NA        NA  \n",
       "4  1.166667      2.822222    1561.5000  146.7347      2625.6667  23.63636  \n",
       "5 17.400000      8.020833     156.6000  156.6000        90.0000  90.00000  \n",
       "6  0.000000      8.213825     277.8977  235.1149       236.6854 236.68539  "
      ]
     },
     "metadata": {},
     "output_type": "display_data"
    }
   ],
   "source": [
    "head(data)"
   ]
  },
  {
   "cell_type": "code",
   "execution_count": 4,
   "metadata": {},
   "outputs": [
    {
     "data": {
      "text/html": [
       "<ol class=list-inline>\n",
       "\t<li>395</li>\n",
       "\t<li>65</li>\n",
       "</ol>\n"
      ],
      "text/latex": [
       "\\begin{enumerate*}\n",
       "\\item 395\n",
       "\\item 65\n",
       "\\end{enumerate*}\n"
      ],
      "text/markdown": [
       "1. 395\n",
       "2. 65\n",
       "\n",
       "\n"
      ],
      "text/plain": [
       "[1] 395  65"
      ]
     },
     "metadata": {},
     "output_type": "display_data"
    }
   ],
   "source": [
    "dim(data)"
   ]
  },
  {
   "cell_type": "code",
   "execution_count": 5,
   "metadata": {},
   "outputs": [
    {
     "data": {
      "text/html": [
       "<ol class=list-inline>\n",
       "\t<li>'id'</li>\n",
       "\t<li>'wave1'</li>\n",
       "\t<li>'wave2'</li>\n",
       "\t<li>'wave3'</li>\n",
       "\t<li>'treatment'</li>\n",
       "\t<li>'not_traced_account_opening'</li>\n",
       "\t<li>'inlogs'</li>\n",
       "\t<li>'filled_log'</li>\n",
       "\t<li>'bg_gender'</li>\n",
       "\t<li>'bg_boda'</li>\n",
       "\t<li>'bg_malevendor'</li>\n",
       "\t<li>'bg_femalevendor'</li>\n",
       "\t<li>'bg_married'</li>\n",
       "\t<li>'bg_num_children'</li>\n",
       "\t<li>'bg_age'</li>\n",
       "\t<li>'bg_kis_read'</li>\n",
       "\t<li>'bg_kis_write'</li>\n",
       "\t<li>'bg_rosca_contrib_lyr'</li>\n",
       "\t<li>'bg_educ'</li>\n",
       "\t<li>'bg_rosca'</li>\n",
       "\t<li>'bg_animalsvalue'</li>\n",
       "\t<li>'bg_durvalue_hh'</li>\n",
       "\t<li>'bg_totalinc_lastweek'</li>\n",
       "\t<li>'bg_loan_bank'</li>\n",
       "\t<li>'bg_loan_friend'</li>\n",
       "\t<li>'bg_healthstatus'</li>\n",
       "\t<li>'per_hard_save'</li>\n",
       "\t<li>'per_invest_choice2'</li>\n",
       "\t<li>'per_somewhat_patient'</li>\n",
       "\t<li>'per_time_consistent'</li>\n",
       "\t<li>'per_hyperbolic'</li>\n",
       "\t<li>'per_pat_now_impat_later'</li>\n",
       "\t<li>'per_maximpat'</li>\n",
       "\t<li>'per_fwd_digit_score2'</li>\n",
       "\t<li>'per_ravens_matrix'</li>\n",
       "\t<li>'total_dep_savings'</li>\n",
       "\t<li>'num_trans_savings'</li>\n",
       "\t<li>'first6_num_trans_savings'</li>\n",
       "\t<li>'num_dep_savings'</li>\n",
       "\t<li>'first6_dep_savings'</li>\n",
       "\t<li>'num_wd_savings'</li>\n",
       "\t<li>'first6_wd_savings'</li>\n",
       "\t<li>'mean_dep_b'</li>\n",
       "\t<li>'median_dep_b'</li>\n",
       "\t<li>'mean_wd_b'</li>\n",
       "\t<li>'median_wd_b'</li>\n",
       "\t<li>'total_dep_shares'</li>\n",
       "\t<li>'first6_dep_shares'</li>\n",
       "\t<li>'total_dep_loan'</li>\n",
       "\t<li>'first6_dep_loan'</li>\n",
       "\t<li>'total_wd_loan'</li>\n",
       "\t<li>'first6_wd_loan'</li>\n",
       "\t<li>'exp_total'</li>\n",
       "\t<li>'exp_food'</li>\n",
       "\t<li>'exp_tot_private'</li>\n",
       "\t<li>'tot_flow_out'</li>\n",
       "\t<li>'tot_flow_spouse'</li>\n",
       "\t<li>'bank_savings'</li>\n",
       "\t<li>'rosca_contrib'</li>\n",
       "\t<li>'animal_savings'</li>\n",
       "\t<li>'total_hours'</li>\n",
       "\t<li>'investment'</li>\n",
       "\t<li>'investment_t5'</li>\n",
       "\t<li>'revenues'</li>\n",
       "\t<li>'revenues_t5'</li>\n",
       "</ol>\n"
      ],
      "text/latex": [
       "\\begin{enumerate*}\n",
       "\\item 'id'\n",
       "\\item 'wave1'\n",
       "\\item 'wave2'\n",
       "\\item 'wave3'\n",
       "\\item 'treatment'\n",
       "\\item 'not\\_traced\\_account\\_opening'\n",
       "\\item 'inlogs'\n",
       "\\item 'filled\\_log'\n",
       "\\item 'bg\\_gender'\n",
       "\\item 'bg\\_boda'\n",
       "\\item 'bg\\_malevendor'\n",
       "\\item 'bg\\_femalevendor'\n",
       "\\item 'bg\\_married'\n",
       "\\item 'bg\\_num\\_children'\n",
       "\\item 'bg\\_age'\n",
       "\\item 'bg\\_kis\\_read'\n",
       "\\item 'bg\\_kis\\_write'\n",
       "\\item 'bg\\_rosca\\_contrib\\_lyr'\n",
       "\\item 'bg\\_educ'\n",
       "\\item 'bg\\_rosca'\n",
       "\\item 'bg\\_animalsvalue'\n",
       "\\item 'bg\\_durvalue\\_hh'\n",
       "\\item 'bg\\_totalinc\\_lastweek'\n",
       "\\item 'bg\\_loan\\_bank'\n",
       "\\item 'bg\\_loan\\_friend'\n",
       "\\item 'bg\\_healthstatus'\n",
       "\\item 'per\\_hard\\_save'\n",
       "\\item 'per\\_invest\\_choice2'\n",
       "\\item 'per\\_somewhat\\_patient'\n",
       "\\item 'per\\_time\\_consistent'\n",
       "\\item 'per\\_hyperbolic'\n",
       "\\item 'per\\_pat\\_now\\_impat\\_later'\n",
       "\\item 'per\\_maximpat'\n",
       "\\item 'per\\_fwd\\_digit\\_score2'\n",
       "\\item 'per\\_ravens\\_matrix'\n",
       "\\item 'total\\_dep\\_savings'\n",
       "\\item 'num\\_trans\\_savings'\n",
       "\\item 'first6\\_num\\_trans\\_savings'\n",
       "\\item 'num\\_dep\\_savings'\n",
       "\\item 'first6\\_dep\\_savings'\n",
       "\\item 'num\\_wd\\_savings'\n",
       "\\item 'first6\\_wd\\_savings'\n",
       "\\item 'mean\\_dep\\_b'\n",
       "\\item 'median\\_dep\\_b'\n",
       "\\item 'mean\\_wd\\_b'\n",
       "\\item 'median\\_wd\\_b'\n",
       "\\item 'total\\_dep\\_shares'\n",
       "\\item 'first6\\_dep\\_shares'\n",
       "\\item 'total\\_dep\\_loan'\n",
       "\\item 'first6\\_dep\\_loan'\n",
       "\\item 'total\\_wd\\_loan'\n",
       "\\item 'first6\\_wd\\_loan'\n",
       "\\item 'exp\\_total'\n",
       "\\item 'exp\\_food'\n",
       "\\item 'exp\\_tot\\_private'\n",
       "\\item 'tot\\_flow\\_out'\n",
       "\\item 'tot\\_flow\\_spouse'\n",
       "\\item 'bank\\_savings'\n",
       "\\item 'rosca\\_contrib'\n",
       "\\item 'animal\\_savings'\n",
       "\\item 'total\\_hours'\n",
       "\\item 'investment'\n",
       "\\item 'investment\\_t5'\n",
       "\\item 'revenues'\n",
       "\\item 'revenues\\_t5'\n",
       "\\end{enumerate*}\n"
      ],
      "text/markdown": [
       "1. 'id'\n",
       "2. 'wave1'\n",
       "3. 'wave2'\n",
       "4. 'wave3'\n",
       "5. 'treatment'\n",
       "6. 'not_traced_account_opening'\n",
       "7. 'inlogs'\n",
       "8. 'filled_log'\n",
       "9. 'bg_gender'\n",
       "10. 'bg_boda'\n",
       "11. 'bg_malevendor'\n",
       "12. 'bg_femalevendor'\n",
       "13. 'bg_married'\n",
       "14. 'bg_num_children'\n",
       "15. 'bg_age'\n",
       "16. 'bg_kis_read'\n",
       "17. 'bg_kis_write'\n",
       "18. 'bg_rosca_contrib_lyr'\n",
       "19. 'bg_educ'\n",
       "20. 'bg_rosca'\n",
       "21. 'bg_animalsvalue'\n",
       "22. 'bg_durvalue_hh'\n",
       "23. 'bg_totalinc_lastweek'\n",
       "24. 'bg_loan_bank'\n",
       "25. 'bg_loan_friend'\n",
       "26. 'bg_healthstatus'\n",
       "27. 'per_hard_save'\n",
       "28. 'per_invest_choice2'\n",
       "29. 'per_somewhat_patient'\n",
       "30. 'per_time_consistent'\n",
       "31. 'per_hyperbolic'\n",
       "32. 'per_pat_now_impat_later'\n",
       "33. 'per_maximpat'\n",
       "34. 'per_fwd_digit_score2'\n",
       "35. 'per_ravens_matrix'\n",
       "36. 'total_dep_savings'\n",
       "37. 'num_trans_savings'\n",
       "38. 'first6_num_trans_savings'\n",
       "39. 'num_dep_savings'\n",
       "40. 'first6_dep_savings'\n",
       "41. 'num_wd_savings'\n",
       "42. 'first6_wd_savings'\n",
       "43. 'mean_dep_b'\n",
       "44. 'median_dep_b'\n",
       "45. 'mean_wd_b'\n",
       "46. 'median_wd_b'\n",
       "47. 'total_dep_shares'\n",
       "48. 'first6_dep_shares'\n",
       "49. 'total_dep_loan'\n",
       "50. 'first6_dep_loan'\n",
       "51. 'total_wd_loan'\n",
       "52. 'first6_wd_loan'\n",
       "53. 'exp_total'\n",
       "54. 'exp_food'\n",
       "55. 'exp_tot_private'\n",
       "56. 'tot_flow_out'\n",
       "57. 'tot_flow_spouse'\n",
       "58. 'bank_savings'\n",
       "59. 'rosca_contrib'\n",
       "60. 'animal_savings'\n",
       "61. 'total_hours'\n",
       "62. 'investment'\n",
       "63. 'investment_t5'\n",
       "64. 'revenues'\n",
       "65. 'revenues_t5'\n",
       "\n",
       "\n"
      ],
      "text/plain": [
       " [1] \"id\"                         \"wave1\"                     \n",
       " [3] \"wave2\"                      \"wave3\"                     \n",
       " [5] \"treatment\"                  \"not_traced_account_opening\"\n",
       " [7] \"inlogs\"                     \"filled_log\"                \n",
       " [9] \"bg_gender\"                  \"bg_boda\"                   \n",
       "[11] \"bg_malevendor\"              \"bg_femalevendor\"           \n",
       "[13] \"bg_married\"                 \"bg_num_children\"           \n",
       "[15] \"bg_age\"                     \"bg_kis_read\"               \n",
       "[17] \"bg_kis_write\"               \"bg_rosca_contrib_lyr\"      \n",
       "[19] \"bg_educ\"                    \"bg_rosca\"                  \n",
       "[21] \"bg_animalsvalue\"            \"bg_durvalue_hh\"            \n",
       "[23] \"bg_totalinc_lastweek\"       \"bg_loan_bank\"              \n",
       "[25] \"bg_loan_friend\"             \"bg_healthstatus\"           \n",
       "[27] \"per_hard_save\"              \"per_invest_choice2\"        \n",
       "[29] \"per_somewhat_patient\"       \"per_time_consistent\"       \n",
       "[31] \"per_hyperbolic\"             \"per_pat_now_impat_later\"   \n",
       "[33] \"per_maximpat\"               \"per_fwd_digit_score2\"      \n",
       "[35] \"per_ravens_matrix\"          \"total_dep_savings\"         \n",
       "[37] \"num_trans_savings\"          \"first6_num_trans_savings\"  \n",
       "[39] \"num_dep_savings\"            \"first6_dep_savings\"        \n",
       "[41] \"num_wd_savings\"             \"first6_wd_savings\"         \n",
       "[43] \"mean_dep_b\"                 \"median_dep_b\"              \n",
       "[45] \"mean_wd_b\"                  \"median_wd_b\"               \n",
       "[47] \"total_dep_shares\"           \"first6_dep_shares\"         \n",
       "[49] \"total_dep_loan\"             \"first6_dep_loan\"           \n",
       "[51] \"total_wd_loan\"              \"first6_wd_loan\"            \n",
       "[53] \"exp_total\"                  \"exp_food\"                  \n",
       "[55] \"exp_tot_private\"            \"tot_flow_out\"              \n",
       "[57] \"tot_flow_spouse\"            \"bank_savings\"              \n",
       "[59] \"rosca_contrib\"              \"animal_savings\"            \n",
       "[61] \"total_hours\"                \"investment\"                \n",
       "[63] \"investment_t5\"              \"revenues\"                  \n",
       "[65] \"revenues_t5\"               "
      ]
     },
     "metadata": {},
     "output_type": "display_data"
    }
   ],
   "source": [
    "names(data)"
   ]
  },
  {
   "cell_type": "code",
   "execution_count": 34,
   "metadata": {},
   "outputs": [
    {
     "data": {
      "text/html": [
       "93"
      ],
      "text/latex": [
       "93"
      ],
      "text/markdown": [
       "93"
      ],
      "text/plain": [
       "[1] 93"
      ]
     },
     "metadata": {},
     "output_type": "display_data"
    }
   ],
   "source": [
    "sum(data$bg_gender==1 & data$bg_boda==1,na.rm = TRUE)"
   ]
  },
  {
   "cell_type": "code",
   "execution_count": 35,
   "metadata": {},
   "outputs": [
    {
     "data": {
      "text/html": [
       "0"
      ],
      "text/latex": [
       "0"
      ],
      "text/markdown": [
       "0"
      ],
      "text/plain": [
       "[1] 0"
      ]
     },
     "metadata": {},
     "output_type": "display_data"
    }
   ],
   "source": [
    "sum(data$bg_gender==0 & data$bg_boda==1,na.rm = TRUE)"
   ]
  },
  {
   "cell_type": "code",
   "execution_count": 40,
   "metadata": {},
   "outputs": [
    {
     "data": {
      "text/html": [
       "0.116838487972509"
      ],
      "text/latex": [
       "0.116838487972509"
      ],
      "text/markdown": [
       "0.116838487972509"
      ],
      "text/plain": [
       "[1] 0.1168385"
      ]
     },
     "metadata": {},
     "output_type": "display_data"
    }
   ],
   "source": [
    "sum(data$bg_malevendor)/(sum(data$bg_malevendor)+sum(data$bg_femalevendor))"
   ]
  },
  {
   "cell_type": "markdown",
   "metadata": {},
   "source": [
    "Boda: 100% Male\n",
    "\n",
    "Vendor: 12% Male"
   ]
  }
 ],
 "metadata": {
  "kernelspec": {
   "display_name": "R",
   "language": "R",
   "name": "ir"
  },
  "language_info": {
   "codemirror_mode": "r",
   "file_extension": ".r",
   "mimetype": "text/x-r-source",
   "name": "R",
   "pygments_lexer": "r",
   "version": "3.5.2"
  }
 },
 "nbformat": 4,
 "nbformat_minor": 2
}
