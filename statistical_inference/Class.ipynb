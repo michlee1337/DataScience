{
 "cells": [
  {
   "cell_type": "code",
   "execution_count": 8,
   "metadata": {},
   "outputs": [],
   "source": [
    "library(haven)"
   ]
  },
  {
   "cell_type": "code",
   "execution_count": 9,
   "metadata": {},
   "outputs": [],
   "source": [
    "data = read_dta('turnout.dta')"
   ]
  },
  {
   "cell_type": "code",
   "execution_count": 10,
   "metadata": {},
   "outputs": [
    {
     "data": {
      "text/html": [
       "<table>\n",
       "<thead><tr><th scope=col>white</th><th scope=col>age</th><th scope=col>educate</th><th scope=col>income</th><th scope=col>turnout</th><th scope=col>agesqrd</th></tr></thead>\n",
       "<tbody>\n",
       "\t<tr><td>0       </td><td>38      </td><td>17      </td><td>4.375358</td><td>1       </td><td>14.44   </td></tr>\n",
       "\t<tr><td>1       </td><td>74      </td><td>12      </td><td>2.419293</td><td>1       </td><td>54.76   </td></tr>\n",
       "\t<tr><td>1       </td><td>30      </td><td>12      </td><td>1.286834</td><td>0       </td><td> 9.00   </td></tr>\n",
       "\t<tr><td>1       </td><td>21      </td><td>14      </td><td>1.904539</td><td>1       </td><td> 4.41   </td></tr>\n",
       "\t<tr><td>1       </td><td>24      </td><td>16      </td><td>6.949129</td><td>1       </td><td> 5.76   </td></tr>\n",
       "\t<tr><td>1       </td><td>42      </td><td>13      </td><td>1.492735</td><td>0       </td><td>17.64   </td></tr>\n",
       "</tbody>\n",
       "</table>\n"
      ],
      "text/latex": [
       "\\begin{tabular}{r|llllll}\n",
       " white & age & educate & income & turnout & agesqrd\\\\\n",
       "\\hline\n",
       "\t 0        & 38       & 17       & 4.375358 & 1        & 14.44   \\\\\n",
       "\t 1        & 74       & 12       & 2.419293 & 1        & 54.76   \\\\\n",
       "\t 1        & 30       & 12       & 1.286834 & 0        &  9.00   \\\\\n",
       "\t 1        & 21       & 14       & 1.904539 & 1        &  4.41   \\\\\n",
       "\t 1        & 24       & 16       & 6.949129 & 1        &  5.76   \\\\\n",
       "\t 1        & 42       & 13       & 1.492735 & 0        & 17.64   \\\\\n",
       "\\end{tabular}\n"
      ],
      "text/markdown": [
       "\n",
       "| white | age | educate | income | turnout | agesqrd |\n",
       "|---|---|---|---|---|---|\n",
       "| 0        | 38       | 17       | 4.375358 | 1        | 14.44    |\n",
       "| 1        | 74       | 12       | 2.419293 | 1        | 54.76    |\n",
       "| 1        | 30       | 12       | 1.286834 | 0        |  9.00    |\n",
       "| 1        | 21       | 14       | 1.904539 | 1        |  4.41    |\n",
       "| 1        | 24       | 16       | 6.949129 | 1        |  5.76    |\n",
       "| 1        | 42       | 13       | 1.492735 | 0        | 17.64    |\n",
       "\n"
      ],
      "text/plain": [
       "  white age educate income   turnout agesqrd\n",
       "1 0     38  17      4.375358 1       14.44  \n",
       "2 1     74  12      2.419293 1       54.76  \n",
       "3 1     30  12      1.286834 0        9.00  \n",
       "4 1     21  14      1.904539 1        4.41  \n",
       "5 1     24  16      6.949129 1        5.76  \n",
       "6 1     42  13      1.492735 0       17.64  "
      ]
     },
     "metadata": {},
     "output_type": "display_data"
    }
   ],
   "source": [
    "head(data)"
   ]
  },
  {
   "cell_type": "code",
   "execution_count": 11,
   "metadata": {},
   "outputs": [
    {
     "data": {
      "text/html": [
       "14.44"
      ],
      "text/latex": [
       "14.44"
      ],
      "text/markdown": [
       "14.44"
      ],
      "text/plain": [
       "[1] 14.44"
      ]
     },
     "metadata": {},
     "output_type": "display_data"
    }
   ],
   "source": [
    "38^2*.01"
   ]
  },
  {
   "cell_type": "code",
   "execution_count": 12,
   "metadata": {},
   "outputs": [],
   "source": [
    "lm2  = glm(turnout~1+white+age+educate+income+agesqrd, data=data, family=binomial)\n"
   ]
  },
  {
   "cell_type": "code",
   "execution_count": 13,
   "metadata": {},
   "outputs": [
    {
     "data": {
      "text/html": [
       "14.44"
      ],
      "text/latex": [
       "14.44"
      ],
      "text/markdown": [
       "14.44"
      ],
      "text/plain": [
       "[1] 14.44"
      ]
     },
     "metadata": {},
     "output_type": "display_data"
    }
   ],
   "source": [
    "38^2*.01"
   ]
  },
  {
   "cell_type": "code",
   "execution_count": 14,
   "metadata": {},
   "outputs": [
    {
     "data": {
      "text/html": [
       "<ol class=list-inline>\n",
       "\t<li>1</li>\n",
       "\t<li>0</li>\n",
       "\t<li>38</li>\n",
       "\t<li>12</li>\n",
       "\t<li>4</li>\n",
       "\t<li>14.44</li>\n",
       "</ol>\n"
      ],
      "text/latex": [
       "\\begin{enumerate*}\n",
       "\\item 1\n",
       "\\item 0\n",
       "\\item 38\n",
       "\\item 12\n",
       "\\item 4\n",
       "\\item 14.44\n",
       "\\end{enumerate*}\n"
      ],
      "text/markdown": [
       "1. 1\n",
       "2. 0\n",
       "3. 38\n",
       "4. 12\n",
       "5. 4\n",
       "6. 14.44\n",
       "\n",
       "\n"
      ],
      "text/plain": [
       "[1]  1.00  0.00 38.00 12.00  4.00 14.44"
      ]
     },
     "metadata": {},
     "output_type": "display_data"
    }
   ],
   "source": [
    "vec = c(1,0,38,12,4,14.44)\n",
    "vec"
   ]
  },
  {
   "cell_type": "code",
   "execution_count": 15,
   "metadata": {},
   "outputs": [
    {
     "data": {
      "text/html": [
       "0.742683946771749"
      ],
      "text/latex": [
       "0.742683946771749"
      ],
      "text/markdown": [
       "0.742683946771749"
      ],
      "text/plain": [
       "[1] 0.7426839"
      ]
     },
     "metadata": {},
     "output_type": "display_data"
    }
   ],
   "source": [
    "vec = c(1,0,38,12,4,14.44)\n",
    "logit = sum(coef(lm2)*vec)\n",
    "exp(logit) / (1 + exp(logit))"
   ]
  },
  {
   "cell_type": "code",
   "execution_count": 16,
   "metadata": {},
   "outputs": [
    {
     "data": {
      "text/html": [
       "0.92450957258627"
      ],
      "text/latex": [
       "0.92450957258627"
      ],
      "text/markdown": [
       "0.92450957258627"
      ],
      "text/plain": [
       "[1] 0.9245096"
      ]
     },
     "metadata": {},
     "output_type": "display_data"
    }
   ],
   "source": [
    "vec2 = c(1,0,38,20,4,14.44)\n",
    "logit2 = sum(coef(lm2)*vec2)\n",
    "exp(logit2) / (1 + exp(logit2))"
   ]
  },
  {
   "cell_type": "code",
   "execution_count": 17,
   "metadata": {},
   "outputs": [
    {
     "data": {
      "text/html": [
       "0.86765953661813"
      ],
      "text/latex": [
       "0.86765953661813"
      ],
      "text/markdown": [
       "0.86765953661813"
      ],
      "text/plain": [
       "[1] 0.8676595"
      ]
     },
     "metadata": {},
     "output_type": "display_data"
    }
   ],
   "source": [
    "vec3 = c(1,0.861,38,16,3.986,14.44)\n",
    "logit3 = sum(coef(lm2)*vec3)\n",
    "exp(logit3) / (1 + exp(logit3))"
   ]
  },
  {
   "cell_type": "code",
   "execution_count": 18,
   "metadata": {},
   "outputs": [
    {
     "data": {
      "text/html": [
       "3.98598663736608"
      ],
      "text/latex": [
       "3.98598663736608"
      ],
      "text/markdown": [
       "3.98598663736608"
      ],
      "text/plain": [
       "[1] 3.985987"
      ]
     },
     "metadata": {},
     "output_type": "display_data"
    },
    {
     "data": {
      "text/html": [
       "0.860705941781903"
      ],
      "text/latex": [
       "0.860705941781903"
      ],
      "text/markdown": [
       "0.860705941781903"
      ],
      "text/plain": [
       "[1] 0.8607059"
      ]
     },
     "metadata": {},
     "output_type": "display_data"
    }
   ],
   "source": [
    "mean(data$income)\n",
    "mean(data$white)"
   ]
  },
  {
   "cell_type": "code",
   "execution_count": 19,
   "metadata": {},
   "outputs": [],
   "source": [
    "library(arm)\n",
    "library(Matching)"
   ]
  },
  {
   "cell_type": "code",
   "execution_count": 50,
   "metadata": {},
   "outputs": [],
   "source": [
    "set.seed(42)\n",
    "sim_results <- sim(lm2, n.sims = 1000)"
   ]
  },
  {
   "cell_type": "code",
   "execution_count": null,
   "metadata": {},
   "outputs": [],
   "source": [
    "#vec3 = c(1,0.861,38,16,3.986,14.44)\n",
    "\n",
    "for(i in 1:1000){\n",
    "    storage[i] = exp(sum(sim_results@coef[i,]*vec3))/(1 + exp(sum(sim_results@coef[i,]*vec3)))\n",
    "}\n",
    "\n",
    "\n"
   ]
  },
  {
   "cell_type": "code",
   "execution_count": null,
   "metadata": {},
   "outputs": [],
   "source": [
    "quantile(storage, probs = c(0.005, 0.995))"
   ]
  },
  {
   "cell_type": "code",
   "execution_count": 61,
   "metadata": {
    "scrolled": true
   },
   "outputs": [
    {
     "data": {
      "text/html": [
       "-52374.6867730242"
      ],
      "text/latex": [
       "-52374.6867730242"
      ],
      "text/markdown": [
       "-52374.6867730242"
      ],
      "text/plain": [
       "[1] -52374.69"
      ]
     },
     "metadata": {},
     "output_type": "display_data"
    }
   ],
   "source": [
    "sum(sim_results@coef*vec3)"
   ]
  },
  {
   "cell_type": "code",
   "execution_count": 65,
   "metadata": {},
   "outputs": [
    {
     "ename": "ERROR",
     "evalue": "Error in df$age = c(storage): object of type 'closure' is not subsettable\n",
     "output_type": "error",
     "traceback": [
      "Error in df$age = c(storage): object of type 'closure' is not subsettable\nTraceback:\n"
     ]
    }
   ],
   "source": [
    "df$age = c(storage)"
   ]
  },
  {
   "cell_type": "code",
   "execution_count": null,
   "metadata": {},
   "outputs": [],
   "source": [
    "storage.matrix_undergrad <- matrix(NA, nrow = 1000, ncol = 78)\n",
    "for (age in c(18:95)) {\n",
    "  for (i in 1:1000)\n",
    "  {\n",
    "    undergrad_person <- c(mean(data$white), age, 16, mean(data$income), 0.01*age**2)\n",
    "    storage.matrix_highschool[i, age - 17] <- exp(sum(sim_results@coef[i,]*undergrad_person))/(1 + exp(sum(sim_results@coef[i,]*undergrad_person)))\n",
    "  }\n",
    "}"
   ]
  },
  {
   "cell_type": "code",
   "execution_count": 72,
   "metadata": {},
   "outputs": [
    {
     "data": {
      "text/html": [
       "<table>\n",
       "<tbody>\n",
       "\t<tr><td>NA</td><td>NA</td><td>NA</td><td>NA</td><td>NA</td><td>NA</td><td>NA</td><td>NA</td><td>NA</td><td>NA</td><td>⋯ </td><td>NA</td><td>NA</td><td>NA</td><td>NA</td><td>NA</td><td>NA</td><td>NA</td><td>NA</td><td>NA</td><td>NA</td></tr>\n",
       "\t<tr><td>NA</td><td>NA</td><td>NA</td><td>NA</td><td>NA</td><td>NA</td><td>NA</td><td>NA</td><td>NA</td><td>NA</td><td>⋯ </td><td>NA</td><td>NA</td><td>NA</td><td>NA</td><td>NA</td><td>NA</td><td>NA</td><td>NA</td><td>NA</td><td>NA</td></tr>\n",
       "\t<tr><td>NA</td><td>NA</td><td>NA</td><td>NA</td><td>NA</td><td>NA</td><td>NA</td><td>NA</td><td>NA</td><td>NA</td><td>⋯ </td><td>NA</td><td>NA</td><td>NA</td><td>NA</td><td>NA</td><td>NA</td><td>NA</td><td>NA</td><td>NA</td><td>NA</td></tr>\n",
       "\t<tr><td>NA</td><td>NA</td><td>NA</td><td>NA</td><td>NA</td><td>NA</td><td>NA</td><td>NA</td><td>NA</td><td>NA</td><td>⋯ </td><td>NA</td><td>NA</td><td>NA</td><td>NA</td><td>NA</td><td>NA</td><td>NA</td><td>NA</td><td>NA</td><td>NA</td></tr>\n",
       "\t<tr><td>NA</td><td>NA</td><td>NA</td><td>NA</td><td>NA</td><td>NA</td><td>NA</td><td>NA</td><td>NA</td><td>NA</td><td>⋯ </td><td>NA</td><td>NA</td><td>NA</td><td>NA</td><td>NA</td><td>NA</td><td>NA</td><td>NA</td><td>NA</td><td>NA</td></tr>\n",
       "\t<tr><td>NA</td><td>NA</td><td>NA</td><td>NA</td><td>NA</td><td>NA</td><td>NA</td><td>NA</td><td>NA</td><td>NA</td><td>⋯ </td><td>NA</td><td>NA</td><td>NA</td><td>NA</td><td>NA</td><td>NA</td><td>NA</td><td>NA</td><td>NA</td><td>NA</td></tr>\n",
       "</tbody>\n",
       "</table>\n"
      ],
      "text/latex": [
       "\\begin{tabular}{llllllllllllllllllllllllllllllllllllllllllllllllllllllllllllllllllllllllllllll}\n",
       "\t NA & NA & NA & NA & NA & NA & NA & NA & NA & NA & ⋯  & NA & NA & NA & NA & NA & NA & NA & NA & NA & NA\\\\\n",
       "\t NA & NA & NA & NA & NA & NA & NA & NA & NA & NA & ⋯  & NA & NA & NA & NA & NA & NA & NA & NA & NA & NA\\\\\n",
       "\t NA & NA & NA & NA & NA & NA & NA & NA & NA & NA & ⋯  & NA & NA & NA & NA & NA & NA & NA & NA & NA & NA\\\\\n",
       "\t NA & NA & NA & NA & NA & NA & NA & NA & NA & NA & ⋯  & NA & NA & NA & NA & NA & NA & NA & NA & NA & NA\\\\\n",
       "\t NA & NA & NA & NA & NA & NA & NA & NA & NA & NA & ⋯  & NA & NA & NA & NA & NA & NA & NA & NA & NA & NA\\\\\n",
       "\t NA & NA & NA & NA & NA & NA & NA & NA & NA & NA & ⋯  & NA & NA & NA & NA & NA & NA & NA & NA & NA & NA\\\\\n",
       "\\end{tabular}\n"
      ],
      "text/markdown": [
       "\n",
       "| NA | NA | NA | NA | NA | NA | NA | NA | NA | NA | ⋯  | NA | NA | NA | NA | NA | NA | NA | NA | NA | NA |\n",
       "| NA | NA | NA | NA | NA | NA | NA | NA | NA | NA | ⋯  | NA | NA | NA | NA | NA | NA | NA | NA | NA | NA |\n",
       "| NA | NA | NA | NA | NA | NA | NA | NA | NA | NA | ⋯  | NA | NA | NA | NA | NA | NA | NA | NA | NA | NA |\n",
       "| NA | NA | NA | NA | NA | NA | NA | NA | NA | NA | ⋯  | NA | NA | NA | NA | NA | NA | NA | NA | NA | NA |\n",
       "| NA | NA | NA | NA | NA | NA | NA | NA | NA | NA | ⋯  | NA | NA | NA | NA | NA | NA | NA | NA | NA | NA |\n",
       "| NA | NA | NA | NA | NA | NA | NA | NA | NA | NA | ⋯  | NA | NA | NA | NA | NA | NA | NA | NA | NA | NA |\n",
       "\n"
      ],
      "text/plain": [
       "     [,1] [,2] [,3] [,4] [,5] [,6] [,7] [,8] [,9] [,10] [,11] [,12] [,13] [,14]\n",
       "[1,] NA   NA   NA   NA   NA   NA   NA   NA   NA   NA    ⋯     NA    NA    NA   \n",
       "[2,] NA   NA   NA   NA   NA   NA   NA   NA   NA   NA    ⋯     NA    NA    NA   \n",
       "[3,] NA   NA   NA   NA   NA   NA   NA   NA   NA   NA    ⋯     NA    NA    NA   \n",
       "[4,] NA   NA   NA   NA   NA   NA   NA   NA   NA   NA    ⋯     NA    NA    NA   \n",
       "[5,] NA   NA   NA   NA   NA   NA   NA   NA   NA   NA    ⋯     NA    NA    NA   \n",
       "[6,] NA   NA   NA   NA   NA   NA   NA   NA   NA   NA    ⋯     NA    NA    NA   \n",
       "     [,15] [,16] [,17] [,18] [,19] [,20] [,21]\n",
       "[1,] NA    NA    NA    NA    NA    NA    NA   \n",
       "[2,] NA    NA    NA    NA    NA    NA    NA   \n",
       "[3,] NA    NA    NA    NA    NA    NA    NA   \n",
       "[4,] NA    NA    NA    NA    NA    NA    NA   \n",
       "[5,] NA    NA    NA    NA    NA    NA    NA   \n",
       "[6,] NA    NA    NA    NA    NA    NA    NA   "
      ]
     },
     "metadata": {},
     "output_type": "display_data"
    },
    {
     "name": "stderr",
     "output_type": "stream",
     "text": [
      "IOPub data rate exceeded.\n",
      "The notebook server will temporarily stop sending output\n",
      "to the client in order to avoid crashing it.\n",
      "To change this limit, set the config variable\n",
      "`--NotebookApp.iopub_data_rate_limit`.\n",
      "\n",
      "Current values:\n",
      "NotebookApp.iopub_data_rate_limit=1000000.0 (bytes/sec)\n",
      "NotebookApp.rate_limit_window=3.0 (secs)\n",
      "\n"
     ]
    }
   ],
   "source": [
    "storage.matrix_highschool <- matrix(NA, nrow = 1000, ncol = 78)\n",
    "for (age in c(18:95)) {\n",
    "  for (i in 1:1000)\n",
    "  {\n",
    "    highschool_person <- c(1,mean(data$white), age, 12, mean(data$income), 0.01*age**2)\n",
    "    storage.matrix_highschool[i, age - 17] <- exp(sum(sim_results@coef[i,]*highschool_person))/(1 + exp(sum(sim_results@coef[i,]*highschool_person)))\n",
    "  }\n",
    "}"
   ]
  },
  {
   "cell_type": "code",
   "execution_count": 73,
   "metadata": {},
   "outputs": [
    {
     "data": {
      "text/html": [
       "<table>\n",
       "<tbody>\n",
       "\t<tr><td>0.4712253</td><td>0.4906491</td><td>0.5097247</td><td>0.5283969</td><td>0.5466168</td><td>0.5643424</td><td>0.5815386</td><td>0.5981771</td><td>0.6142356</td><td>0.6296983</td><td>⋯        </td><td>0.8514423</td><td>0.8483059</td><td>0.8449181</td><td>0.8412678</td><td>0.8373431</td><td>0.8331313</td><td>0.8286191</td><td>0.8237921</td><td>0.8186353</td><td>0.8131332</td></tr>\n",
       "\t<tr><td>0.4601399</td><td>0.4810601</td><td>0.5016235</td><td>0.5217586</td><td>0.5414028</td><td>0.5605018</td><td>0.5790104</td><td>0.5968921</td><td>0.6141185</td><td>0.6306693</td><td>⋯        </td><td>0.8445053</td><td>0.8403628</td><td>0.8358991</td><td>0.8310979</td><td>0.8259422</td><td>0.8204135</td><td>0.8144928</td><td>0.8081600</td><td>0.8013942</td><td>0.7941736</td></tr>\n",
       "\t<tr><td>0.4681090</td><td>0.4880207</td><td>0.5075827</td><td>0.5267347</td><td>0.5454236</td><td>0.5636039</td><td>0.5812371</td><td>0.5982924</td><td>0.6147456</td><td>0.6305792</td><td>⋯        </td><td>0.8538077</td><td>0.8505705</td><td>0.8470736</td><td>0.8433050</td><td>0.8392519</td><td>0.8349006</td><td>0.8302369</td><td>0.8252452</td><td>0.8199096</td><td>0.8142131</td></tr>\n",
       "\t<tr><td>0.4651647</td><td>0.4850585</td><td>0.5046101</td><td>0.5237586</td><td>0.5424505</td><td>0.5606397</td><td>0.5782872</td><td>0.5953614</td><td>0.6118376</td><td>0.6276977</td><td>⋯        </td><td>0.8498864</td><td>0.8465070</td><td>0.8428592</td><td>0.8389306</td><td>0.8347080</td><td>0.8301773</td><td>0.8253238</td><td>0.8201316</td><td>0.8145843</td><td>0.8086647</td></tr>\n",
       "\t<tr><td>0.4871468</td><td>0.5059599</td><td>0.5243936</td><td>0.5424004</td><td>0.5599390</td><td>0.5769745</td><td>0.5934783</td><td>0.6094278</td><td>0.6248061</td><td>0.6396017</td><td>⋯        </td><td>0.8526708</td><td>0.8496855</td><td>0.8464618</td><td>0.8429895</td><td>0.8392576</td><td>0.8352543</td><td>0.8309674</td><td>0.8263836</td><td>0.8214892</td><td>0.8162696</td></tr>\n",
       "\t<tr><td>0.4660371</td><td>0.4863763</td><td>0.5063459</td><td>0.5258817</td><td>0.5449270</td><td>0.5634338</td><td>0.5813617</td><td>0.5986787</td><td>0.6153602</td><td>0.6313887</td><td>⋯        </td><td>0.8361178</td><td>0.8317865</td><td>0.8271271</td><td>0.8221238</td><td>0.8167595</td><td>0.8110163</td><td>0.8048756</td><td>0.7983180</td><td>0.7913231</td><td>0.7838702</td></tr>\n",
       "</tbody>\n",
       "</table>\n"
      ],
      "text/latex": [
       "\\begin{tabular}{llllllllllllllllllllllllllllllllllllllllllllllllllllllllllllllllllllllllllllll}\n",
       "\t 0.4712253 & 0.4906491 & 0.5097247 & 0.5283969 & 0.5466168 & 0.5643424 & 0.5815386 & 0.5981771 & 0.6142356 & 0.6296983 & ⋯         & 0.8514423 & 0.8483059 & 0.8449181 & 0.8412678 & 0.8373431 & 0.8331313 & 0.8286191 & 0.8237921 & 0.8186353 & 0.8131332\\\\\n",
       "\t 0.4601399 & 0.4810601 & 0.5016235 & 0.5217586 & 0.5414028 & 0.5605018 & 0.5790104 & 0.5968921 & 0.6141185 & 0.6306693 & ⋯         & 0.8445053 & 0.8403628 & 0.8358991 & 0.8310979 & 0.8259422 & 0.8204135 & 0.8144928 & 0.8081600 & 0.8013942 & 0.7941736\\\\\n",
       "\t 0.4681090 & 0.4880207 & 0.5075827 & 0.5267347 & 0.5454236 & 0.5636039 & 0.5812371 & 0.5982924 & 0.6147456 & 0.6305792 & ⋯         & 0.8538077 & 0.8505705 & 0.8470736 & 0.8433050 & 0.8392519 & 0.8349006 & 0.8302369 & 0.8252452 & 0.8199096 & 0.8142131\\\\\n",
       "\t 0.4651647 & 0.4850585 & 0.5046101 & 0.5237586 & 0.5424505 & 0.5606397 & 0.5782872 & 0.5953614 & 0.6118376 & 0.6276977 & ⋯         & 0.8498864 & 0.8465070 & 0.8428592 & 0.8389306 & 0.8347080 & 0.8301773 & 0.8253238 & 0.8201316 & 0.8145843 & 0.8086647\\\\\n",
       "\t 0.4871468 & 0.5059599 & 0.5243936 & 0.5424004 & 0.5599390 & 0.5769745 & 0.5934783 & 0.6094278 & 0.6248061 & 0.6396017 & ⋯         & 0.8526708 & 0.8496855 & 0.8464618 & 0.8429895 & 0.8392576 & 0.8352543 & 0.8309674 & 0.8263836 & 0.8214892 & 0.8162696\\\\\n",
       "\t 0.4660371 & 0.4863763 & 0.5063459 & 0.5258817 & 0.5449270 & 0.5634338 & 0.5813617 & 0.5986787 & 0.6153602 & 0.6313887 & ⋯         & 0.8361178 & 0.8317865 & 0.8271271 & 0.8221238 & 0.8167595 & 0.8110163 & 0.8048756 & 0.7983180 & 0.7913231 & 0.7838702\\\\\n",
       "\\end{tabular}\n"
      ],
      "text/markdown": [
       "\n",
       "| 0.4712253 | 0.4906491 | 0.5097247 | 0.5283969 | 0.5466168 | 0.5643424 | 0.5815386 | 0.5981771 | 0.6142356 | 0.6296983 | ⋯         | 0.8514423 | 0.8483059 | 0.8449181 | 0.8412678 | 0.8373431 | 0.8331313 | 0.8286191 | 0.8237921 | 0.8186353 | 0.8131332 |\n",
       "| 0.4601399 | 0.4810601 | 0.5016235 | 0.5217586 | 0.5414028 | 0.5605018 | 0.5790104 | 0.5968921 | 0.6141185 | 0.6306693 | ⋯         | 0.8445053 | 0.8403628 | 0.8358991 | 0.8310979 | 0.8259422 | 0.8204135 | 0.8144928 | 0.8081600 | 0.8013942 | 0.7941736 |\n",
       "| 0.4681090 | 0.4880207 | 0.5075827 | 0.5267347 | 0.5454236 | 0.5636039 | 0.5812371 | 0.5982924 | 0.6147456 | 0.6305792 | ⋯         | 0.8538077 | 0.8505705 | 0.8470736 | 0.8433050 | 0.8392519 | 0.8349006 | 0.8302369 | 0.8252452 | 0.8199096 | 0.8142131 |\n",
       "| 0.4651647 | 0.4850585 | 0.5046101 | 0.5237586 | 0.5424505 | 0.5606397 | 0.5782872 | 0.5953614 | 0.6118376 | 0.6276977 | ⋯         | 0.8498864 | 0.8465070 | 0.8428592 | 0.8389306 | 0.8347080 | 0.8301773 | 0.8253238 | 0.8201316 | 0.8145843 | 0.8086647 |\n",
       "| 0.4871468 | 0.5059599 | 0.5243936 | 0.5424004 | 0.5599390 | 0.5769745 | 0.5934783 | 0.6094278 | 0.6248061 | 0.6396017 | ⋯         | 0.8526708 | 0.8496855 | 0.8464618 | 0.8429895 | 0.8392576 | 0.8352543 | 0.8309674 | 0.8263836 | 0.8214892 | 0.8162696 |\n",
       "| 0.4660371 | 0.4863763 | 0.5063459 | 0.5258817 | 0.5449270 | 0.5634338 | 0.5813617 | 0.5986787 | 0.6153602 | 0.6313887 | ⋯         | 0.8361178 | 0.8317865 | 0.8271271 | 0.8221238 | 0.8167595 | 0.8110163 | 0.8048756 | 0.7983180 | 0.7913231 | 0.7838702 |\n",
       "\n"
      ],
      "text/plain": [
       "     [,1]      [,2]      [,3]      [,4]      [,5]      [,6]      [,7]     \n",
       "[1,] 0.4712253 0.4906491 0.5097247 0.5283969 0.5466168 0.5643424 0.5815386\n",
       "[2,] 0.4601399 0.4810601 0.5016235 0.5217586 0.5414028 0.5605018 0.5790104\n",
       "[3,] 0.4681090 0.4880207 0.5075827 0.5267347 0.5454236 0.5636039 0.5812371\n",
       "[4,] 0.4651647 0.4850585 0.5046101 0.5237586 0.5424505 0.5606397 0.5782872\n",
       "[5,] 0.4871468 0.5059599 0.5243936 0.5424004 0.5599390 0.5769745 0.5934783\n",
       "[6,] 0.4660371 0.4863763 0.5063459 0.5258817 0.5449270 0.5634338 0.5813617\n",
       "     [,8]      [,9]      [,10]     [,11] [,12]     [,13]     [,14]    \n",
       "[1,] 0.5981771 0.6142356 0.6296983 ⋯     0.8514423 0.8483059 0.8449181\n",
       "[2,] 0.5968921 0.6141185 0.6306693 ⋯     0.8445053 0.8403628 0.8358991\n",
       "[3,] 0.5982924 0.6147456 0.6305792 ⋯     0.8538077 0.8505705 0.8470736\n",
       "[4,] 0.5953614 0.6118376 0.6276977 ⋯     0.8498864 0.8465070 0.8428592\n",
       "[5,] 0.6094278 0.6248061 0.6396017 ⋯     0.8526708 0.8496855 0.8464618\n",
       "[6,] 0.5986787 0.6153602 0.6313887 ⋯     0.8361178 0.8317865 0.8271271\n",
       "     [,15]     [,16]     [,17]     [,18]     [,19]     [,20]     [,21]    \n",
       "[1,] 0.8412678 0.8373431 0.8331313 0.8286191 0.8237921 0.8186353 0.8131332\n",
       "[2,] 0.8310979 0.8259422 0.8204135 0.8144928 0.8081600 0.8013942 0.7941736\n",
       "[3,] 0.8433050 0.8392519 0.8349006 0.8302369 0.8252452 0.8199096 0.8142131\n",
       "[4,] 0.8389306 0.8347080 0.8301773 0.8253238 0.8201316 0.8145843 0.8086647\n",
       "[5,] 0.8429895 0.8392576 0.8352543 0.8309674 0.8263836 0.8214892 0.8162696\n",
       "[6,] 0.8221238 0.8167595 0.8110163 0.8048756 0.7983180 0.7913231 0.7838702"
      ]
     },
     "metadata": {},
     "output_type": "display_data"
    }
   ],
   "source": [
    "head(storage.matrix_highschool)"
   ]
  },
  {
   "cell_type": "code",
   "execution_count": 78,
   "metadata": {},
   "outputs": [],
   "source": [
    "conf.intervals_undergrad <- apply(storage.matrix_undergrad, 2, quantile, probs = c(0.005, 0.995))\n",
    "conf.intervals_highschool <- apply(storage.matrix_highschool, 2, quantile, probs = c(0.005, 0.995))"
   ]
  },
  {
   "cell_type": "code",
   "execution_count": 79,
   "metadata": {},
   "outputs": [
    {
     "data": {
      "image/png": "[encoded data removed]",
      "text/plain": [
       "Plot with title “Probability of voting by age”"
      ]
     },
     "metadata": {},
     "output_type": "display_data"
    }
   ],
   "source": [
    "plot(x = c(1:100), y = c(1:100), type = \"n\", xlim = c(18,95), ylim = c(0,1), \n",
    "     main = \"Probability of voting by age\", xlab = \"Age of Respondent\", \n",
    "     ylab = \"Probability of Voting\")\n",
    "\n",
    "for (age in 18:95) {\n",
    "  segments(\n",
    "    x0 = age,\n",
    "    y0 = conf.intervals_undergrad[1, age - 17],\n",
    "    x1 = age,\n",
    "    y1 = conf.intervals_undergrad[2, age - 17],\n",
    "    lwd = 2)\n",
    "}\n",
    "\n",
    "for (age in 18:95) {\n",
    "  segments(\n",
    "    x0 = age,\n",
    "    y0 = conf.intervals_highschool[1, age - 17],\n",
    "    x1 = age,\n",
    "    y1 = conf.intervals_highschool[2, age - 17],\n",
    "    lwd = 2)\n",
    "}"
   ]
  },
  {
   "cell_type": "code",
   "execution_count": null,
   "metadata": {},
   "outputs": [],
   "source": []
  }
 ],
 "metadata": {
  "kernelspec": {
   "display_name": "R",
   "language": "R",
   "name": "ir"
  },
  "language_info": {
   "codemirror_mode": "r",
   "file_extension": ".r",
   "mimetype": "text/x-r-source",
   "name": "R",
   "pygments_lexer": "r",
   "version": "3.5.1"
  }
 },
 "nbformat": 4,
 "nbformat_minor": 2
}
