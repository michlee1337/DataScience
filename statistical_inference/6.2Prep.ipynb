{
 "cells": [
  {
   "cell_type": "code",
   "execution_count": 2,
   "metadata": {},
   "outputs": [],
   "source": [
    "l_obs = read.csv(url('https://docs.google.com/spreadsheets/d/e/2PACX-1vSuB4_zbvOSCheA6Z_Ggv88SVsTS2pARulQpguBPfNrbs6M6P0boErD9dJZ8_COf0URnJvyl3FqbdnS/pub?gid=314843316&single=true&output=csv'))"
   ]
  },
  {
   "cell_type": "code",
   "execution_count": 6,
   "metadata": {},
   "outputs": [
    {
     "data": {
      "text/html": [
       "<table>\n",
       "<thead><tr><th scope=col>age</th><th scope=col>educ</th><th scope=col>black</th><th scope=col>hisp</th><th scope=col>married</th><th scope=col>nodegr</th><th scope=col>re74</th><th scope=col>re75</th><th scope=col>re78</th><th scope=col>u74</th><th scope=col>u75</th><th scope=col>treat</th></tr></thead>\n",
       "<tbody>\n",
       "\t<tr><td>37      </td><td>11      </td><td>1       </td><td>0       </td><td>1       </td><td>1       </td><td>0       </td><td>0       </td><td> 9930.05</td><td>1       </td><td>1       </td><td>1       </td></tr>\n",
       "\t<tr><td>22      </td><td> 9      </td><td>0       </td><td>1       </td><td>0       </td><td>1       </td><td>0       </td><td>0       </td><td> 3595.89</td><td>1       </td><td>1       </td><td>1       </td></tr>\n",
       "\t<tr><td>30      </td><td>12      </td><td>1       </td><td>0       </td><td>0       </td><td>0       </td><td>0       </td><td>0       </td><td>24909.50</td><td>1       </td><td>1       </td><td>1       </td></tr>\n",
       "\t<tr><td>27      </td><td>11      </td><td>1       </td><td>0       </td><td>0       </td><td>1       </td><td>0       </td><td>0       </td><td> 7506.15</td><td>1       </td><td>1       </td><td>1       </td></tr>\n",
       "\t<tr><td>33      </td><td> 8      </td><td>1       </td><td>0       </td><td>0       </td><td>1       </td><td>0       </td><td>0       </td><td>  289.79</td><td>1       </td><td>1       </td><td>1       </td></tr>\n",
       "\t<tr><td>22      </td><td> 9      </td><td>1       </td><td>0       </td><td>0       </td><td>1       </td><td>0       </td><td>0       </td><td> 4056.49</td><td>1       </td><td>1       </td><td>1       </td></tr>\n",
       "</tbody>\n",
       "</table>\n"
      ],
      "text/latex": [
       "\\begin{tabular}{r|llllllllllll}\n",
       " age & educ & black & hisp & married & nodegr & re74 & re75 & re78 & u74 & u75 & treat\\\\\n",
       "\\hline\n",
       "\t 37       & 11       & 1        & 0        & 1        & 1        & 0        & 0        &  9930.05 & 1        & 1        & 1       \\\\\n",
       "\t 22       &  9       & 0        & 1        & 0        & 1        & 0        & 0        &  3595.89 & 1        & 1        & 1       \\\\\n",
       "\t 30       & 12       & 1        & 0        & 0        & 0        & 0        & 0        & 24909.50 & 1        & 1        & 1       \\\\\n",
       "\t 27       & 11       & 1        & 0        & 0        & 1        & 0        & 0        &  7506.15 & 1        & 1        & 1       \\\\\n",
       "\t 33       &  8       & 1        & 0        & 0        & 1        & 0        & 0        &   289.79 & 1        & 1        & 1       \\\\\n",
       "\t 22       &  9       & 1        & 0        & 0        & 1        & 0        & 0        &  4056.49 & 1        & 1        & 1       \\\\\n",
       "\\end{tabular}\n"
      ],
      "text/markdown": [
       "\n",
       "| age | educ | black | hisp | married | nodegr | re74 | re75 | re78 | u74 | u75 | treat |\n",
       "|---|---|---|---|---|---|---|---|---|---|---|---|\n",
       "| 37       | 11       | 1        | 0        | 1        | 1        | 0        | 0        |  9930.05 | 1        | 1        | 1        |\n",
       "| 22       |  9       | 0        | 1        | 0        | 1        | 0        | 0        |  3595.89 | 1        | 1        | 1        |\n",
       "| 30       | 12       | 1        | 0        | 0        | 0        | 0        | 0        | 24909.50 | 1        | 1        | 1        |\n",
       "| 27       | 11       | 1        | 0        | 0        | 1        | 0        | 0        |  7506.15 | 1        | 1        | 1        |\n",
       "| 33       |  8       | 1        | 0        | 0        | 1        | 0        | 0        |   289.79 | 1        | 1        | 1        |\n",
       "| 22       |  9       | 1        | 0        | 0        | 1        | 0        | 0        |  4056.49 | 1        | 1        | 1        |\n",
       "\n"
      ],
      "text/plain": [
       "  age educ black hisp married nodegr re74 re75 re78     u74 u75 treat\n",
       "1 37  11   1     0    1       1      0    0     9930.05 1   1   1    \n",
       "2 22   9   0     1    0       1      0    0     3595.89 1   1   1    \n",
       "3 30  12   1     0    0       0      0    0    24909.50 1   1   1    \n",
       "4 27  11   1     0    0       1      0    0     7506.15 1   1   1    \n",
       "5 33   8   1     0    0       1      0    0      289.79 1   1   1    \n",
       "6 22   9   1     0    0       1      0    0     4056.49 1   1   1    "
      ]
     },
     "metadata": {},
     "output_type": "display_data"
    }
   ],
   "source": [
    "head(l_obs)"
   ]
  },
  {
   "cell_type": "code",
   "execution_count": 3,
   "metadata": {},
   "outputs": [
    {
     "data": {
      "text/plain": [
       "\n",
       "Call:\n",
       "lm(formula = re78 ~ ., data = l_obs)\n",
       "\n",
       "Residuals:\n",
       "   Min     1Q Median     3Q    Max \n",
       "-25010  -3521   1283   3772  53738 \n",
       "\n",
       "Coefficients:\n",
       "              Estimate Std. Error t value Pr(>|t|)    \n",
       "(Intercept)  5.779e+03  4.452e+02  12.979  < 2e-16 ***\n",
       "age         -9.446e+01  5.995e+00 -15.755  < 2e-16 ***\n",
       "educ         1.745e+02  2.867e+01   6.086 1.18e-09 ***\n",
       "black       -8.098e+02  2.127e+02  -3.808 0.000141 ***\n",
       "hisp        -2.303e+02  2.184e+02  -1.054 0.291672    \n",
       "married      1.534e+02  1.427e+02   1.075 0.282184    \n",
       "nodegr       3.411e+02  1.777e+02   1.919 0.054993 .  \n",
       "re74         2.913e-01  1.274e-02  22.869  < 2e-16 ***\n",
       "re75         4.414e-01  1.286e-02  34.323  < 2e-16 ***\n",
       "u74          3.515e+02  2.315e+02   1.519 0.128845    \n",
       "u75         -1.621e+03  2.396e+02  -6.766 1.37e-11 ***\n",
       "treat        1.066e+03  5.536e+02   1.926 0.054092 .  \n",
       "---\n",
       "Signif. codes:  0 ‘***’ 0.001 ‘**’ 0.01 ‘*’ 0.05 ‘.’ 0.1 ‘ ’ 1\n",
       "\n",
       "Residual standard error: 6993 on 16165 degrees of freedom\n",
       "Multiple R-squared:  0.4774,\tAdjusted R-squared:  0.4771 \n",
       "F-statistic:  1343 on 11 and 16165 DF,  p-value: < 2.2e-16\n"
      ]
     },
     "metadata": {},
     "output_type": "display_data"
    }
   ],
   "source": [
    "summary(lm(re78~.,data=l_obs))"
   ]
  },
  {
   "cell_type": "code",
   "execution_count": 9,
   "metadata": {},
   "outputs": [
    {
     "data": {
      "text/plain": [
       "\n",
       "Call:\n",
       "lm(formula = re78 ~ age + treat, data = l_obs)\n",
       "\n",
       "Coefficients:\n",
       "(Intercept)          age        treat  \n",
       "    10375.7        134.6      -7500.5  \n"
      ]
     },
     "metadata": {},
     "output_type": "display_data"
    }
   ],
   "source": [
    "lm(re78~age+treat,data=l_obs)"
   ]
  },
  {
   "cell_type": "code",
   "execution_count": 10,
   "metadata": {},
   "outputs": [
    {
     "data": {
      "text/plain": [
       "\n",
       "Call:\n",
       "lm(formula = re78 ~ age + treat + educ, data = l_obs)\n",
       "\n",
       "Coefficients:\n",
       "(Intercept)          age        treat         educ  \n",
       "     3455.9        152.1      -6484.6        526.9  \n"
      ]
     },
     "metadata": {},
     "output_type": "display_data"
    }
   ],
   "source": [
    "lm(re78~age+treat+educ,data=l_obs)"
   ]
  },
  {
   "cell_type": "code",
   "execution_count": 15,
   "metadata": {},
   "outputs": [
    {
     "data": {
      "text/plain": [
       "\n",
       "Call:\n",
       "lm(formula = re78 ~ treat + married, data = l_obs)\n",
       "\n",
       "Coefficients:\n",
       "(Intercept)        treat      married  \n",
       "      11056        -5714         5326  \n"
      ]
     },
     "metadata": {},
     "output_type": "display_data"
    }
   ],
   "source": [
    "lm(re78~treat+married,data=l_obs)"
   ]
  },
  {
   "cell_type": "code",
   "execution_count": 17,
   "metadata": {},
   "outputs": [
    {
     "data": {
      "text/plain": [
       "\n",
       "Call:\n",
       "lm(formula = re78 ~ treat + re74, data = l_obs)\n",
       "\n",
       "Coefficients:\n",
       "(Intercept)        treat         re74  \n",
       "   5834.262     -832.510        0.643  \n"
      ]
     },
     "metadata": {},
     "output_type": "display_data"
    }
   ],
   "source": [
    "lm(re78~treat+re74,data=l_obs)"
   ]
  },
  {
   "cell_type": "code",
   "execution_count": 18,
   "metadata": {},
   "outputs": [
    {
     "data": {
      "text/plain": [
       "\n",
       "Call:\n",
       "lm(formula = re78 ~ treat + u75, data = l_obs)\n",
       "\n",
       "Coefficients:\n",
       "(Intercept)        treat          u75  \n",
       "      16147        -2662       -11893  \n"
      ]
     },
     "metadata": {},
     "output_type": "display_data"
    }
   ],
   "source": [
    "lm(re78~treat+u75,data=l_obs)"
   ]
  },
  {
   "cell_type": "code",
   "execution_count": 1,
   "metadata": {},
   "outputs": [
    {
     "ename": "ERROR",
     "evalue": "Error in eval(expr, envir, enclos): object 'l_obs' not found\n",
     "output_type": "error",
     "traceback": [
      "Error in eval(expr, envir, enclos): object 'l_obs' not found\nTraceback:\n"
     ]
    }
   ],
   "source": [
    "dim(l_obs)"
   ]
  },
  {
   "cell_type": "code",
   "execution_count": null,
   "metadata": {},
   "outputs": [],
   "source": []
  }
 ],
 "metadata": {
  "kernelspec": {
   "display_name": "R",
   "language": "R",
   "name": "ir"
  },
  "language_info": {
   "codemirror_mode": "r",
   "file_extension": ".r",
   "mimetype": "text/x-r-source",
   "name": "R",
   "pygments_lexer": "r",
   "version": "3.5.2"
  }
 },
 "nbformat": 4,
 "nbformat_minor": 2
}
