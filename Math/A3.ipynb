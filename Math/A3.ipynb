{
 "cells": [
  {
   "cell_type": "markdown",
   "metadata": {},
   "source": [
    "# Q1: Mooney-Rivlin"
   ]
  },
  {
   "cell_type": "markdown",
   "metadata": {},
   "source": [
    "## a)"
   ]
  },
  {
   "cell_type": "markdown",
   "metadata": {},
   "source": [
    "**Newton's Method**     \n",
    "Find roots using iteration:\n",
    "\n",
    "$$x_{n+1} = x_n - \\frac{f(x_n)}{f'(x_n)}$$\n"
   ]
  },
  {
   "cell_type": "markdown",
   "metadata": {},
   "source": [
    "**Rearrange to get get 0**\n",
    "\n",
    "$$T = \\big( \\alpha + \\frac{\\beta}{\\lambda} \\big) \\big( \\lambda^2 - \\frac{1}{\\lambda} \\big)$$\n",
    "\n",
    "$$0 = \\big( \\alpha + \\frac{\\beta}{\\lambda} \\big) \\big( \\lambda^2 - \\frac{1}{\\lambda} \\big) - T$$"
   ]
  },
  {
   "cell_type": "markdown",
   "metadata": {},
   "source": [
    "_temp_"
   ]
  },
  {
   "cell_type": "markdown",
   "metadata": {},
   "source": [
    "\n",
    "$$\\big( \\alpha + \\frac{\\beta}{\\lambda} \\big) \n",
    "\\big(\\frac{d}{d\\lambda} \\big[ \\lambda^2 \\big] +\n",
    "\\frac{d}{d\\lambda} \\big[ -\\frac{1}{\\lambda} \\big]\\big)\n",
    "+\n",
    "\\big(\\frac{d}{d\\lambda} \\big[ \\alpha  \\big] +\n",
    "\\frac{d}{d\\lambda} \\big[ \\frac{\\beta}{\\lambda} \\big]\\big)\n",
    "\\big( \\lambda^2 - \\frac{1}{\\lambda} \\big) $$\n"
   ]
  },
  {
   "cell_type": "markdown",
   "metadata": {},
   "source": [
    "**Derive to get grad**\n",
    "\n",
    "$$\\big( \\alpha + \\frac{\\beta}{\\lambda} \\big) \n",
    "\\frac{d}{d\\lambda} \\big[ \\lambda^2 - \\frac{1}{\\lambda} \\big] \n",
    "+\n",
    "\\frac{d}{d\\lambda} \\big[ \\alpha + \\frac{\\beta}{\\lambda}\\big] \n",
    "\\big( \\lambda^2 - \\frac{1}{\\lambda} \\big) \n",
    "- \n",
    "\\frac{d}{d\\lambda} \\big[ T \\big]$$\n",
    "\n",
    "$$\\big( \\alpha + \\frac{\\beta}{\\lambda} \\big) \n",
    "\\big(\\frac{d}{d\\lambda} \\big[ \\lambda^2 \\big] +\n",
    "\\frac{d}{d\\lambda} \\big[ -\\frac{1}{\\lambda} \\big]\\big)\n",
    "+\n",
    "\\big(\\frac{d}{d\\lambda} \\big[ \\alpha  \\big] +\n",
    "\\frac{d}{d\\lambda} \\big[ \\frac{\\beta}{\\lambda} \\big]\\big)\n",
    "\\big( \\lambda^2 - \\frac{1}{\\lambda} \\big) $$\n",
    "\n",
    "$$\\big( \\alpha + \\frac{\\beta}{\\lambda} \\big) \n",
    "\\big( 2 \\lambda + \\lambda^{-2} \\big)\n",
    "+\n",
    "\\big( -\\beta \\lambda^{-2} \\big)\n",
    "\\big( \\lambda^2 - \\frac{1}{\\lambda} \\big) $$\n",
    "\n",
    "$$\\beta + 2\\alpha\\lambda + \\frac{\\alpha}{\\lambda^2} + \\frac{2\\beta}{\\lambda^3}$$"
   ]
  },
  {
   "cell_type": "markdown",
   "metadata": {},
   "source": [
    "**Newton's Method Implementation**"
   ]
  },
  {
   "cell_type": "code",
   "execution_count": 8,
   "metadata": {},
   "outputs": [],
   "source": [
    "def newtonMethod(func, grad, args, x_init):\n",
    "    x = x_init\n",
    "    max_iter = 1000\n",
    "    n_iter = 0\n",
    "    while n_iter < max_iter and abs(func(x,*args) - 0) > 1e-05: # acurate to 4 sf\n",
    "        x = x - func(x,*args)/grad(x,*args)\n",
    "        n_iter += 1\n",
    "    print(\"Terminated after {} iterations with error {}\".format(n_iter,abs(func(x,*args) - 0)))\n",
    "    return(x)\n",
    "\n",
    "def f(l,a,b,T):\n",
    "    t1 = a + b/l\n",
    "    t2 = l**2 - 1/l\n",
    "    return(t1*t2-T)\n",
    "\n",
    "def g(l,a,b,T):\n",
    "    t1 = b\n",
    "    t2 = 2*a*l\n",
    "    t3 = a/l**2\n",
    "    t4 = (2*b)/l**3\n",
    "    return(t1+t2+t3+t4)"
   ]
  },
  {
   "cell_type": "code",
   "execution_count": 9,
   "metadata": {},
   "outputs": [
    {
     "name": "stdout",
     "output_type": "stream",
     "text": [
      "Terminated after 3 iterations with error 1.240105644839673e-07\n"
     ]
    },
    {
     "data": {
      "text/plain": [
       "1.302775627485792"
      ]
     },
     "execution_count": 9,
     "metadata": {},
     "output_type": "execute_result"
    }
   ],
   "source": [
    "newtonMethod(f,g,(2,3,4),1)"
   ]
  },
  {
   "cell_type": "markdown",
   "metadata": {},
   "source": [
    "## b)"
   ]
  },
  {
   "cell_type": "markdown",
   "metadata": {},
   "source": [
    "**Fundamental Theorem of Calculus**\n",
    "$$\\int_{a}^{b} f(x) dx = f(b) - f(a)$$\n",
    "\n",
    "$$\\int_{0}^{x} u(x) dx = u(x) - u(0)$$\n",
    "\n",
    "$$\\int_{0}^{x} u(x) dx = u(x) - u(0)$$\n",
    "\n",
    "From the question:\n",
    "$$\\lambda = 1 + \\frac{du}{dx}$$\n",
    "$$\\int \\lambda - 1 dx = \\int du$$\n",
    "$$\\lambda(x) - x = u(x)$$\n",
    "\n",
    "Subbing in this definition of $u(x)$\n",
    "\n",
    "$$(\\lambda(x) - x) - (\\lambda(0) - 0) = u(x) - u(0)$$\n",
    "$$ -x + \\lambda(x) - \\lambda(0) = u(x) - u(0)$$\n",
    "\n",
    "Subbing in the Fundamental Theorem of Calculus for $\\lambda$\n",
    "\n",
    "$$ -x + \\int_{0}^{x} \\lambda(s) ds = u(x) - u(0)$$\n",
    "$$ u(x) =  u(0) - x + \\int_{0}^{x} \\lambda(s) ds$$\n"
   ]
  },
  {
   "cell_type": "markdown",
   "metadata": {},
   "source": [
    "## c)"
   ]
  },
  {
   "cell_type": "markdown",
   "metadata": {},
   "source": [
    "**Trapezoidal Rule**\n",
    "\n",
    "$$\\int_a^b f(x) dx = \\sum_{k=1}^N \\frac{f(x_{k-1}) + f(x_k)}{2}\\frac{b-a}{N}$$\n",
    "\n",
    "**Deriving $u$ from $\\lambda$**\n",
    "\n",
    "\n",
    "$$\\int_0^l u(x) dx = \\sum_{k=1}^N \\frac{u(x_{k-1}) + u(x_k)}{2}\\frac{l}{N}$$\n",
    "\n",
    "Sub in part (b):\n",
    "\n",
    "$$\\int_0^l u(x) dx = \\sum_{k=1}^N \\frac{u(0) - x_{k-1} + \\int_{0}^{x_{k-1}} \\lambda(s) ds + u(0) - x_{k} + \\int_{0}^{x_{k}} \\lambda(s) ds}{2}\\frac{l}{N}$$\n",
    "\n",
    "$$\\int_0^l u(x) dx = \\sum_{k=1}^N \\frac{2u(0) - x_{k} - x_{k-1} + \\int_{0}^{x_{k-1}} \\lambda(s) ds  + \\int_{0}^{x_{k}} \\lambda(s) ds}{2}\\frac{l}{N}$$"
   ]
  },
  {
   "cell_type": "markdown",
   "metadata": {},
   "source": [
    "## d)"
   ]
  },
  {
   "cell_type": "markdown",
   "metadata": {},
   "source": [
    "## e)"
   ]
  },
  {
   "cell_type": "markdown",
   "metadata": {},
   "source": [
    "# Q2: Comparing Methods"
   ]
  },
  {
   "cell_type": "markdown",
   "metadata": {},
   "source": [
    "## a)"
   ]
  },
  {
   "cell_type": "markdown",
   "metadata": {},
   "source": [
    "## b)"
   ]
  },
  {
   "cell_type": "markdown",
   "metadata": {},
   "source": [
    "## c)"
   ]
  },
  {
   "cell_type": "markdown",
   "metadata": {},
   "source": [
    "## d)"
   ]
  },
  {
   "cell_type": "markdown",
   "metadata": {},
   "source": [
    "# Q3: Linearizing Systems"
   ]
  },
  {
   "cell_type": "markdown",
   "metadata": {},
   "source": [
    "## a)"
   ]
  },
  {
   "cell_type": "markdown",
   "metadata": {},
   "source": [
    "## b)"
   ]
  },
  {
   "cell_type": "markdown",
   "metadata": {},
   "source": [
    "### i)"
   ]
  },
  {
   "cell_type": "markdown",
   "metadata": {},
   "source": [
    "### ii)"
   ]
  },
  {
   "cell_type": "markdown",
   "metadata": {},
   "source": [
    "## c)"
   ]
  },
  {
   "cell_type": "markdown",
   "metadata": {},
   "source": [
    "### i)"
   ]
  },
  {
   "cell_type": "markdown",
   "metadata": {},
   "source": [
    "### ii)"
   ]
  },
  {
   "cell_type": "markdown",
   "metadata": {},
   "source": [
    "### iii)"
   ]
  },
  {
   "cell_type": "code",
   "execution_count": null,
   "metadata": {},
   "outputs": [],
   "source": []
  }
 ],
 "metadata": {
  "kernelspec": {
   "display_name": "Python 3",
   "language": "python",
   "name": "python3"
  },
  "language_info": {
   "codemirror_mode": {
    "name": "ipython",
    "version": 3
   },
   "file_extension": ".py",
   "mimetype": "text/x-python",
   "name": "python",
   "nbconvert_exporter": "python",
   "pygments_lexer": "ipython3",
   "version": "3.7.4"
  }
 },
 "nbformat": 4,
 "nbformat_minor": 2
}
