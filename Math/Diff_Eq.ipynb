{
 "cells": [
  {
   "cell_type": "markdown",
   "metadata": {},
   "source": [
    "# Seasonal Population"
   ]
  },
  {
   "cell_type": "markdown",
   "metadata": {},
   "source": [
    "### Rewrite"
   ]
  },
  {
   "cell_type": "markdown",
   "metadata": {},
   "source": [
    "| Season       | Days from December  | $\\bar N$ |\n",
    "|:-------------|:-------------------:|:-----------------:|\n",
    "| Winter       | 0                   | 1/3               |\n",
    "| Spring       | 90                  | 2/3               |\n",
    "| Summer       | 180                 | 1                 |\n",
    "| Fall         | 270                 | 5/6               |\n"
   ]
  },
  {
   "cell_type": "markdown",
   "metadata": {},
   "source": [
    "### Cubic Spline"
   ]
  },
  {
   "cell_type": "markdown",
   "metadata": {},
   "source": [
    "Using Langrange for the Cubic Spline\n",
    "\n",
    "Since we have 4 points\n",
    "$$\\bar N(t) = L_0(t)N(t_0) +  L_1(t)N(t_1) +  L_2(t)N(t_2) +  L_3(t)N(t_3)$$\n",
    "\n",
    "The Lagragians are\n",
    "$$L_i = \\displaystyle\\prod_{j=0; j \\neq i}^3 \\frac{t-t_j}{t_i-t_j}$$\n",
    "\n",
    "Thus,\n",
    "$$\\bar N(t) = \\frac{t-t_1}{t_0-t_1}\\frac{t-t_2}{t_0-t_2}\\frac{t-t_3}{t_0-t_3}N(t_0) +  \\frac{t-t_0}{t_1-t_0}\\frac{t-t_2}{t_1-t_2}\\frac{t-t_3}{t_1-t_3}N(t_1) +  \\frac{t-t_0}{t_2-t_0}\\frac{t-t_1}{t_2-t_1}\\frac{t-t_3}{t_2-t_3}N(t_2) +  \\frac{t-t_0}{t_3-t_0}\\frac{t-t_1}{t_3-t_1}\\frac{t-t_2}{t_3-t_2}(t_3)$$\n"
   ]
  },
  {
   "cell_type": "markdown",
   "metadata": {},
   "source": [
    "If we are missing variables, we would have to approximate/ interpolate the remaining datapoints.\n",
    "\n",
    "To estimate each datapoint, we'd simply select the closest 4 values we have to the datapoint and interpolate its value from the cubic spline of those 4 datapoints."
   ]
  },
  {
   "cell_type": "markdown",
   "metadata": {},
   "source": [
    "### Non Dimensionalize"
   ]
  },
  {
   "cell_type": "markdown",
   "metadata": {},
   "source": [
    "Fundamental Units:\n",
    "$$p: Population$$\n",
    "$$t: Time$$\n",
    "\n",
    "\n",
    "Variables\n",
    "$$k: 1/t$$\n",
    "$$N: p$$\n",
    "$$P: p$$\n",
    "$$H: p/t$$\n",
    "\n",
    "\n",
    "Non-dimensionalized Variables:\n",
    "$$[P]: P/N = P/120[N]$$\n",
    "$$[t]: tk $$\n",
    "$$[H]: H/kP = H/k120[N][P]$$\n",
    "\n",
    "Function defined:\n",
    "$$\\frac{dP}{dt} = k \\big(1-\\frac{P}{N}\\big)P-H$$"
   ]
  },
  {
   "cell_type": "markdown",
   "metadata": {},
   "source": [
    "Rewrite function:\n",
    "$$\\frac{d120[N][P]}{d[t]/k} = k \\big(1-\\frac{120[N][P]}{120[N]}\\big)120[N][P]-120[N][P][H]k$$"
   ]
  },
  {
   "cell_type": "markdown",
   "metadata": {},
   "source": [
    "$$120[N]k\\frac{d[P]}{d[t]} = k \\big(1-\\frac{120[N][P]}{120[N]}\\big)120[N][P]-120[N][P][H]k$$"
   ]
  },
  {
   "cell_type": "markdown",
   "metadata": {},
   "source": [
    "$$\\frac{d[P]}{d[t]} = \\big(1-[P]\\big)[P]-[P][H]$$\n",
    "$$\\frac{d[P]}{d[t]} = [P]-[P]^2-[P][H]$$"
   ]
  },
  {
   "cell_type": "markdown",
   "metadata": {},
   "source": [
    "### Slope Field without Harvest"
   ]
  },
  {
   "cell_type": "code",
   "execution_count": 3,
   "metadata": {},
   "outputs": [
    {
     "data": {
      "image/png": "[encoded data removed]",
      "text/plain": [
       "<Figure size 432x288 with 1 Axes>"
      ]
     },
     "metadata": {
      "needs_background": "light"
     },
     "output_type": "display_data"
    }
   ],
   "source": [
    "import numpy as np\n",
    "import math\n",
    "from matplotlib import pyplot as plt\n",
    "\n",
    "def diff(t,P):\n",
    "    return(P-P**2)\n",
    "\n",
    "t = np.linspace(-5,5,11)\n",
    "P = np.linspace(0,3,11)\n",
    "\n",
    "for j in t:\n",
    "    for k in P:\n",
    "        slope = diff(j,k)\n",
    "        domain = np.linspace(j-0.07,j+0.07,2)\n",
    "        def fun(x1,y1):\n",
    "            z = slope*(domain-x1)+y1\n",
    "            return z\n",
    "        plt.plot(domain,fun(j,k),solid_capstyle='projecting',solid_joinstyle='bevel')\n",
    "\n",
    "plt.title(\"Slope field P'\")\n",
    "plt.grid(True)\n",
    "plt.show()"
   ]
  },
  {
   "cell_type": "markdown",
   "metadata": {},
   "source": [
    "uhhhhh what. I think i should have [N] but i don't"
   ]
  },
  {
   "cell_type": "markdown",
   "metadata": {},
   "source": [
    "# Mass on a Wire"
   ]
  },
  {
   "cell_type": "markdown",
   "metadata": {},
   "source": [
    " ### Force along wire"
   ]
  },
  {
   "cell_type": "markdown",
   "metadata": {},
   "source": [
    "Express the force along the wire in terms of $x$ and $h$:\n",
    "$$F_s = k(L_0-\\sqrt{x^2-h^2})$$\n",
    "\n",
    "\n",
    "Find component of force along the wire:\n",
    "Since $cos(\\theta) = x/s$\n",
    "$$F_w = F_s*cos(\\theta)$$\n",
    "$$F_w = k(L_0-\\sqrt{x^2-h^2})*cos(\\theta)$$\n"
   ]
  },
  {
   "cell_type": "markdown",
   "metadata": {},
   "source": [
    "### Differential Equation for x"
   ]
  },
  {
   "cell_type": "markdown",
   "metadata": {},
   "source": [
    "$$\\frac{dx}{dt} = \\frac{dx}{dF} * \\frac{dF}{dt}$$\n",
    "$$\\frac{dx}{dt} = \\frac{dx}{dF} * \\frac{dF}{dt}$$\n",
    "$$\\frac{dx}{dt} = \\frac{k(L_0-\\sqrt{x^2-h^2})*cos(\\theta) -bx}{m}$$\n",
    "\n"
   ]
  },
  {
   "cell_type": "markdown",
   "metadata": {},
   "source": [
    "### Simplify and Analyze Stability"
   ]
  },
  {
   "cell_type": "markdown",
   "metadata": {},
   "source": [
    "# Diff Eq and Vector Spaces"
   ]
  },
  {
   "cell_type": "markdown",
   "metadata": {},
   "source": [
    "Find the integrating factor\n",
    "$$IF = e^{\\int p(x)}$$\n"
   ]
  },
  {
   "cell_type": "code",
   "execution_count": null,
   "metadata": {},
   "outputs": [],
   "source": []
  }
 ],
 "metadata": {
  "kernelspec": {
   "display_name": "Python 3",
   "language": "python",
   "name": "python3"
  },
  "language_info": {
   "codemirror_mode": {
    "name": "ipython",
    "version": 3
   },
   "file_extension": ".py",
   "mimetype": "text/x-python",
   "name": "python",
   "nbconvert_exporter": "python",
   "pygments_lexer": "ipython3",
   "version": "3.7.4"
  }
 },
 "nbformat": 4,
 "nbformat_minor": 2
}
