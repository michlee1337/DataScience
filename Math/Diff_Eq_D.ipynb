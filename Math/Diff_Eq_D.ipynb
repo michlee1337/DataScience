{
 "cells": [
  {
   "cell_type": "markdown",
   "metadata": {},
   "source": [
    "# Seasonal Population"
   ]
  },
  {
   "cell_type": "markdown",
   "metadata": {},
   "source": [
    "### Rewrite"
   ]
  },
  {
   "cell_type": "markdown",
   "metadata": {},
   "source": [
    "| Season       | Days from December  | Carrying Capacity |\n",
    "|:-------------|:-------------------:|:-----------------:|\n",
    "| Winter       | 0                   | 1/3               |\n",
    "| Spring       | 90                  | 2/3               |\n",
    "| Summer       | 180                 | 1                 |\n",
    "| Fall         | 270                 | 5/6               |\n"
   ]
  },
  {
   "cell_type": "markdown",
   "metadata": {},
   "source": [
    "### Cubic Spline"
   ]
  },
  {
   "cell_type": "markdown",
   "metadata": {},
   "source": [
    "Using Langrange for the Cubic Spline\n",
    "\n",
    "Since we have 4 points\n",
    "$$\\bar N(t) = L_0(t)N(t_0) +  L_1(t)N(t_1) +  L_2(t)N(t_2) +  L_3(t)N(t_3)$$\n",
    "\n",
    "The Lagragians are\n",
    "$$L_i = \\displaystyle\\prod_{j=0; j \\neq i}^3 \\frac{t-t_j}{t_i-t_j}$$\n",
    "\n",
    "Thus,\n",
    "$$\\bar N(t) = \\frac{t-t_1}{t_0-t_1}\\frac{t-t_2}{t_0-t_2}\\frac{t-t_3}{t_0-t_3}N(t_0) +  \\frac{t-t_0}{t_1-t_0}\\frac{t-t_2}{t_1-t_2}\\frac{t-t_3}{t_1-t_3}N(t_1) +  \\frac{t-t_0}{t_2-t_0}\\frac{t-t_1}{t_2-t_1}\\frac{t-t_3}{t_2-t_3}N(t_2) +  \\frac{t-t_0}{t_3-t_0}\\frac{t-t_1}{t_3-t_1}\\frac{t-t_2}{t_3-t_2}(t_3)$$\n"
   ]
  },
  {
   "cell_type": "code",
   "execution_count": null,
   "metadata": {},
   "outputs": [],
   "source": []
  },
  {
   "cell_type": "code",
   "execution_count": null,
   "metadata": {},
   "outputs": [],
   "source": []
  }
 ],
 "metadata": {
  "kernelspec": {
   "display_name": "Python 3",
   "language": "python",
   "name": "python3"
  },
  "language_info": {
   "codemirror_mode": {
    "name": "ipython",
    "version": 3
   },
   "file_extension": ".py",
   "mimetype": "text/x-python",
   "name": "python",
   "nbconvert_exporter": "python",
   "pygments_lexer": "ipython3",
   "version": "3.7.4"
  }
 },
 "nbformat": 4,
 "nbformat_minor": 2
}
