{
 "cells": [
  {
   "cell_type": "markdown",
   "metadata": {},
   "source": [
    "# Assignment 1\n",
    "CS154 Fall 2019\n",
    "\n",
    "Michelle S Lee"
   ]
  },
  {
   "cell_type": "code",
   "execution_count": 2,
   "metadata": {},
   "outputs": [],
   "source": [
    "import numpy as np"
   ]
  },
  {
   "cell_type": "markdown",
   "metadata": {},
   "source": [
    "# Q1: Dimensional Analysis and Linear Algebra"
   ]
  },
  {
   "cell_type": "markdown",
   "metadata": {},
   "source": [
    "## Appropriate Combinations"
   ]
  },
  {
   "cell_type": "markdown",
   "metadata": {},
   "source": [
    "### Systems of Linear Equations"
   ]
  },
  {
   "cell_type": "markdown",
   "metadata": {},
   "source": [
    "_______\n",
    "**Finding $[M]$**\n",
    "\n",
    "We know that $[M]$ must be some combination of $$(x1)^\\alpha(x2)^\\beta(x3)^\\gamma$$\n",
    "\n",
    "We can sub in the dimensions for each physical variable and rewrite the left of the equation to contain the same values as the right.\n",
    "\n",
    "$$[M]^1[L]^0[T]^0 = ([M]^{a_1}[L]^{b_1}[T]^{c_1})^\\alpha([M]^{a_2}[L]^{b_2}[T]^{c_2})^\\beta([M]^{a_3}[L]^{b_3}[T]^{c_3})^\\gamma$$\n",
    "\n",
    "This results in the following system of linear equations\n",
    "\n",
    "$$1 = a_1\\alpha+a_2\\beta+a_3\\gamma$$\n",
    "$$0 = b_1\\alpha+b_2\\beta+b_3\\gamma$$\n",
    "$$0 = c_1\\alpha+c_2\\beta+c_3\\gamma$$\n",
    "\n",
    "Rewritten in matrix form, this looks like\n",
    "$$\\left(\\begin{array}{cc} \n",
    "a_1 & a_2 & a_3\\\\\n",
    "b_1 & b_2 & b_3\\\\\n",
    "c_1 & c_2 & c_3\n",
    "\\end{array}\\right)\n",
    "\\left(\\begin{array}{cc} \n",
    "\\alpha\\\\\n",
    "\\beta\\\\\n",
    "\\gamma\n",
    "\\end{array}\\right) = \\left(\\begin{array}{cc} \n",
    "1\\\\\n",
    "0\\\\\n",
    "0\n",
    "\\end{array}\\right)$$\n",
    "\n",
    "_______\n",
    "\n",
    "The same proccess can be replicated to find $[L]$ and $[T]$, with the only difference being the resulting combination of fundamental variables that we're looking for.\n",
    "_______\n",
    "**Finding $[L]$**\n",
    "\n",
    "$$[M]^0[L]^1[T]^0 = ([M]^{a_1}[L]^{b_1}[T]^{c_1})^\\alpha([M]^{a_2}[L]^{b_2}[T]^{c_2})^\\beta([M]^{a_3}[L]^{b_3}[T]^{c_3})^\\gamma$$\n",
    "\n",
    "$$\\left(\\begin{array}{cc} \n",
    "a_1 & a_2 & a_3\\\\\n",
    "b_1 & b_2 & b_3\\\\\n",
    "c_1 & c_2 & c_3\n",
    "\\end{array}\\right)\n",
    "\\left(\\begin{array}{cc} \n",
    "\\alpha\\\\\n",
    "\\beta\\\\\n",
    "\\gamma\n",
    "\\end{array}\\right) = \\left(\\begin{array}{cc} \n",
    "0\\\\\n",
    "1\\\\\n",
    "0\n",
    "\\end{array}\\right)$$\n",
    "\n",
    "_______\n",
    "**Finding $[T]$**\n",
    "\n",
    "$$[M]^0[L]^0[T]^1 = ([M]^{a_1}[L]^{b_1}[T]^{c_1})^\\alpha([M]^{a_2}[L]^{b_2}[T]^{c_2})^\\beta([M]^{a_3}[L]^{b_3}[T]^{c_3})^\\gamma$$\n",
    "\n",
    "$$\\left(\\begin{array}{cc} \n",
    "a_1 & a_2 & a_3\\\\\n",
    "b_1 & b_2 & b_3\\\\\n",
    "c_1 & c_2 & c_3\n",
    "\\end{array}\\right)\n",
    "\\left(\\begin{array}{cc} \n",
    "\\alpha\\\\\n",
    "\\beta\\\\\n",
    "\\gamma\n",
    "\\end{array}\\right) = \\left(\\begin{array}{cc} \n",
    "0\\\\\n",
    "0\\\\\n",
    "1\n",
    "\\end{array}\\right)$$"
   ]
  },
  {
   "cell_type": "markdown",
   "metadata": {},
   "source": [
    "We could solve all three of these systems of linear equations by multiplying both sides of the equations by the inverse of the coefficient matrix*. \n",
    "\n",
    "The only risk to this approach would be if the coefficient matrix was singular (not invertible). However, a coefficient matrix is only singular if it contains either a row or column of zeroes. \n",
    "\n",
    "If the coefficient matrix contains a row of zeros, then the physical variable that the row corresponds to is already dimensionless**. Thus, that variable should not be considered when trying to derive the fundamental variables. \n",
    "\n",
    "If a column contains a row of zeros, then none of the physical variables contains that fundamental unit*** and thus we do not need to derive that fundamental variable as it is not relevant to our variables.\n",
    "\n",
    "Another risk would be if the matrix was not square. However, if the coefficient matrix was not square that would mean that we are either considering more fundamental variables than physical variables, or more physical variables than fundamental variables. If we have more fundamental variables than physical variables to consider, then non-dimensionalisation is not possible. If we have more physical variables than fundamental variables, then we have some redundant physical variables (can be expressed as a linear combindation of the others) that can be left out from the equation.\n",
    "______\n",
    "\\* The coefficient matrix is $$\\left(\\begin{array}{cc} \n",
    "a_1 & a_2 & a_3\\\\\n",
    "b_1 & b_2 & b_3\\\\\n",
    "c_1 & c_2 & c_3\n",
    "\\end{array}\\right)$$\n",
    "______\n",
    "\\** For example, if the first row was all zeroes, that would mean\n",
    "$$ x_1 = [M]^{0}[L]^{0}[T]^{0}$$\n",
    "Which would mean that $x_1$ is dimensionless. This can be generalized to any of the physical variables.\n",
    "______\n",
    "\\*** For example, if the first column was all zeroes, that would mean\n",
    "$$ x_1 = [M]^{0}[L]^{b_1}[T]^{c_1}$$\n",
    "$$ x_2 = [M]^{0}[L]^{b_2}[T]^{c_2}$$\n",
    "$$ x_3 = [M]^{0}[L]^{b_3}[T]^{c_3}$$\n",
    "Which would mean that\n",
    "$$ x_1 = [L]^{b_1}[T]^{c_1}$$\n",
    "$$ x_2 = [L]^{b_2}[T]^{c_2}$$\n",
    "$$ x_3 = [L]^{b_3}[T]^{c_3}$$\n"
   ]
  },
  {
   "cell_type": "markdown",
   "metadata": {},
   "source": [
    "### Comparing the Systems"
   ]
  },
  {
   "cell_type": "markdown",
   "metadata": {},
   "source": [
    "The coefficient matrices are exactly the same. \n",
    "\n",
    "The rows represent the powers of each of the fundamental variables in a physical variable. \n",
    "\n",
    "The columns represent the powers of a fundamental variable involved in each of the physical variables.\n",
    "\n",
    "The set of the right hand side vectors of all the systems form a basis of dimension $R^n$ where $n$ is the number of fundamental variables we are trying to derive. "
   ]
  },
  {
   "cell_type": "markdown",
   "metadata": {},
   "source": [
    "## Using the Framework"
   ]
  },
  {
   "cell_type": "markdown",
   "metadata": {},
   "source": [
    "Writing the physical quantities in terms of fundamental variables      \n",
    "$$w = M^1L^1T^{-2}$$     \n",
    "$$h = M^0L^1T^0$$     \n",
    "$$q = M^0L^3T^{-1}$$    \n",
    "\n",
    "_______\n",
    "Finding $M$\n",
    "$$\\left(\\begin{array}{cc} \n",
    "1 & 1 & -2\\\\\n",
    "0 & 1 & 0\\\\\n",
    "0 & 3 & -1\n",
    "\\end{array}\\right)\n",
    "\\left(\\begin{array}{cc} \n",
    "\\alpha\\\\\n",
    "\\beta\\\\\n",
    "\\gamma\n",
    "\\end{array}\\right) = \\left(\\begin{array}{cc} \n",
    "1\\\\\n",
    "0\\\\\n",
    "0\n",
    "\\end{array}\\right)$$\n"
   ]
  },
  {
   "cell_type": "code",
   "execution_count": 10,
   "metadata": {},
   "outputs": [
    {
     "name": "stdout",
     "output_type": "stream",
     "text": [
      "solution:  [ 1.  5. -2.]\n"
     ]
    }
   ],
   "source": [
    "A = np.array([[1,0,0],[1,1,3],[-2,0,-1]])\n",
    "bM = np.array([1,0,0])\n",
    "xM = np.linalg.solve(A,bM)\n",
    "\n",
    "if (A@xM == bM).all:\n",
    "    print(\"solution: \", xM)"
   ]
  },
  {
   "cell_type": "markdown",
   "metadata": {},
   "source": [
    "$$\\left(\\begin{array}{cc} \n",
    "1 & 1 & -2\\\\\n",
    "0 & 1 & 0\\\\\n",
    "0 & 3 & -1\n",
    "\\end{array}\\right)\n",
    "\\left(\\begin{array}{cc} \n",
    "1\\\\\n",
    "5\\\\\n",
    "-2\n",
    "\\end{array}\\right) = \\left(\\begin{array}{cc} \n",
    "1\\\\\n",
    "0\\\\\n",
    "0\n",
    "\\end{array}\\right)$$\n",
    "\n",
    "$$M = wh^5q^{-2}$$"
   ]
  },
  {
   "cell_type": "markdown",
   "metadata": {},
   "source": [
    "_______\n",
    "Finding $L$\n",
    "$$\\left(\\begin{array}{cc} \n",
    "1 & 1 & -2\\\\\n",
    "0 & 1 & 0\\\\\n",
    "0 & 3 & -1\n",
    "\\end{array}\\right)\n",
    "\\left(\\begin{array}{cc} \n",
    "\\alpha\\\\\n",
    "\\beta\\\\\n",
    "\\gamma\n",
    "\\end{array}\\right) = \\left(\\begin{array}{cc} \n",
    "0\\\\\n",
    "1\\\\\n",
    "0\n",
    "\\end{array}\\right)$$"
   ]
  },
  {
   "cell_type": "code",
   "execution_count": 11,
   "metadata": {},
   "outputs": [
    {
     "name": "stdout",
     "output_type": "stream",
     "text": [
      "solution:  [-0.  1. -0.]\n"
     ]
    }
   ],
   "source": [
    "bL = np.array([0,1,0])\n",
    "xL = np.linalg.solve(A,bL)\n",
    "\n",
    "if (A@xL == bL).all:\n",
    "    print(\"solution: \", xL)"
   ]
  },
  {
   "cell_type": "markdown",
   "metadata": {},
   "source": [
    "$$\\left(\\begin{array}{cc} \n",
    "1 & 1 & -2\\\\\n",
    "0 & 1 & 0\\\\\n",
    "0 & 3 & -1\n",
    "\\end{array}\\right)\n",
    "\\left(\\begin{array}{cc} \n",
    "0\\\\\n",
    "1\\\\\n",
    "0\n",
    "\\end{array}\\right) = \\left(\\begin{array}{cc} \n",
    "0\\\\\n",
    "1\\\\\n",
    "0\n",
    "\\end{array}\\right)$$\n",
    "\n",
    "$$L = h$$"
   ]
  },
  {
   "cell_type": "markdown",
   "metadata": {},
   "source": [
    "_______\n",
    "Finding $T$\n",
    "$$\\left(\\begin{array}{cc} \n",
    "1 & 1 & -2\\\\\n",
    "0 & 1 & 0\\\\\n",
    "0 & 3 & -1\n",
    "\\end{array}\\right)\n",
    "\\left(\\begin{array}{cc} \n",
    "\\alpha\\\\\n",
    "\\beta\\\\\n",
    "\\gamma\n",
    "\\end{array}\\right) = \\left(\\begin{array}{cc} \n",
    "0\\\\\n",
    "0\\\\\n",
    "1\n",
    "\\end{array}\\right)$$"
   ]
  },
  {
   "cell_type": "code",
   "execution_count": 12,
   "metadata": {},
   "outputs": [
    {
     "name": "stdout",
     "output_type": "stream",
     "text": [
      "solution:  [-0.  3. -1.]\n"
     ]
    }
   ],
   "source": [
    "bT = np.array([0,0,1])\n",
    "xT = np.linalg.solve(A,bT)\n",
    "\n",
    "if (A@xT == bT).all:\n",
    "    print(\"solution: \", xT)"
   ]
  },
  {
   "cell_type": "markdown",
   "metadata": {},
   "source": [
    "$$\\left(\\begin{array}{cc} \n",
    "1 & 1 & -2\\\\\n",
    "0 & 1 & 0\\\\\n",
    "0 & 3 & -1\n",
    "\\end{array}\\right)\n",
    "\\left(\\begin{array}{cc} \n",
    "0\\\\\n",
    "3\\\\\n",
    "-1\n",
    "\\end{array}\\right) = \\left(\\begin{array}{cc} \n",
    "0\\\\\n",
    "0\\\\\n",
    "1\n",
    "\\end{array}\\right)$$\n",
    "\n",
    "$$T = h^3q^{-1}$$"
   ]
  },
  {
   "cell_type": "markdown",
   "metadata": {},
   "source": [
    "## Combination with Units"
   ]
  },
  {
   "cell_type": "markdown",
   "metadata": {},
   "source": [
    "### Using Linear Equations"
   ]
  },
  {
   "cell_type": "markdown",
   "metadata": {},
   "source": [
    "We have already found the vectors that allowed us to express the fundamental units in terms of the physical quantities. Putting these vectors together allows us to create a change of basis matrix from the fundamental units to the physical quanties.\n",
    "\n",
    "Algebraicly, all we are doing is replacing the fundamental units with their equivalents expressed in physical quantities which we found in the last question\n",
    "\n",
    "Finding $x_4 = M^{a_4}L^{b_4}T^{c_4}$\n",
    "\n",
    "$$M^{a_4}L^{b_4}T^{c_4}= (wh^5q^{-2})^{a_4}(h)^{b_4}(h^3q^{-1})^{c_4}$$\n",
    "\n",
    "\n",
    "$$\\left(\\begin{array}{cc} \n",
    "1 & 0 & 0\\\\\n",
    "5 & 1 & 3\\\\\n",
    "-2 & 0 & -1\n",
    "\\end{array}\\right)\n",
    "\\left(\\begin{array}{cc} \n",
    "a_4\\\\\n",
    "b_4\\\\\n",
    "c_4\n",
    "\\end{array}\\right) = \\left(\\begin{array}{cc} \n",
    "\\alpha\\\\\n",
    "\\beta\\\\\n",
    "\\gamma\n",
    "\\end{array}\\right)$$\n",
    "\n",
    "\n",
    "Using this change of basis matrix, we can change the way we express the variable $x_4$ from fundamental units to physical quantities by solving this equation. To solve this equation, we just left multiply the vector of fundamental units (coordinates in the old basis) by the change of basis matrix.\n"
   ]
  },
  {
   "cell_type": "markdown",
   "metadata": {},
   "source": [
    "### Explaining with Basis and Linear Combinations"
   ]
  },
  {
   "cell_type": "markdown",
   "metadata": {},
   "source": [
    "Essentially through this process, we are just changing the basis. In section (a), we were finding the change of basis matrix from the physical variables to the fundamental units. In section (c), we use that change of basis matrix to change the way we express a variable from physical variables to fundamental units. The reason we can do part(a) is that all fundamental units can be expressed as a linear combination of the physical variables (assuming enough non-conflicting independent linear equations). We can do part(c) because vice versa is also True by linearity.\n",
    "\n",
    "As discused in part a)i), this method would fail if the coefficient matrix was not invertible. In that section, I also discussed how that would only be possible if we were trying to undimensionalise non-dimensional variables, if we were trying to express a fundamental unit that was not used in any of our physical variables, if we were using redundant physical units that were unecessary, or if we simply have insuffient information/ equations/ variables to fully non-dimensionalize."
   ]
  },
  {
   "cell_type": "markdown",
   "metadata": {},
   "source": [
    "## Expressing Power"
   ]
  },
  {
   "cell_type": "markdown",
   "metadata": {},
   "source": [
    "$$P = ML^2T^{-3}$$\n",
    "$$P= (wh^5q^{-2})^1(h)^2(h^3q^{-1})^{-3}$$\n",
    "\n",
    "\n",
    "$$\\left(\\begin{array}{cc} \n",
    "1 & 0 & 0\\\\\n",
    "5 & 1 & 3\\\\\n",
    "-2 & 0 & -1\n",
    "\\end{array}\\right)\n",
    "\\left(\\begin{array}{cc} \n",
    "1\\\\\n",
    "2\\\\\n",
    "-3\n",
    "\\end{array}\\right) = \\left(\\begin{array}{cc} \n",
    "\\alpha\\\\\n",
    "\\beta\\\\\n",
    "\\gamma\n",
    "\\end{array}\\right)$$\n",
    "\n",
    "\n",
    "Using this change of basis matrix, we can change the way we express the variable $x_4$ from fundamental units to physical quantities by solving this equation. To solve this equation, we simply complete the left multiplication by the change of basis matrix.\n"
   ]
  },
  {
   "cell_type": "code",
   "execution_count": 67,
   "metadata": {},
   "outputs": [
    {
     "name": "stdout",
     "output_type": "stream",
     "text": [
      "[[ 1.]\n",
      " [-2.]\n",
      " [ 1.]]\n"
     ]
    }
   ],
   "source": [
    "AN = np.linalg.solve(A,np.array([[1,0,0],[0,1,0],[0,0,1]]))\n",
    "xN = np.array([[1],[2],[-3]])\n",
    "bN = AN.dot(xN)\n",
    "if (AN@xN == bN).all():\n",
    "    print(bN)"
   ]
  },
  {
   "cell_type": "markdown",
   "metadata": {},
   "source": [
    "$$P =  wh^{-2}q$$"
   ]
  },
  {
   "cell_type": "markdown",
   "metadata": {},
   "source": [
    "## Optional: Automate"
   ]
  },
  {
   "cell_type": "markdown",
   "metadata": {},
   "source": [
    "a"
   ]
  },
  {
   "cell_type": "markdown",
   "metadata": {},
   "source": [
    "# Q2: Data Interpolation"
   ]
  },
  {
   "cell_type": "markdown",
   "metadata": {},
   "source": [
    "## Lagrange Cubic Spline"
   ]
  },
  {
   "cell_type": "markdown",
   "metadata": {},
   "source": [
    "We know that:\n",
    "\n",
    "$$f_i''(x_i)=k_i$$\n",
    "$$f_i''(x_{i+1})=k_{i+1}$$\n",
    "$$x_{i+1}=x_i+h$$\n",
    "\n",
    "And that the second derivative of the global polynomial is linear and can be written as: \n",
    "$$f_i''(x)=y_i+\\frac{y_{i+1}-y_i}{x_{i+1}-x_i}(x-x_i)$$\n",
    "$$f_i''(x)=y_i\\frac{x-x_{i+1}}{x_i-x_{i+1}}+y_{i+1}\\frac{x-x_i}{x_{i+1}-x_i}$$\n",
    "$$f_i''(x)=y_il_i(x)+y_{i+1}l_{i+1}(x)$$\n",
    "\n",
    "where\n",
    "$$l_i = \\frac{x-x_{i+1}}{x_i-x_{i+1}}$$\n",
    "$$l_{i+1} = \\frac{x-x_i}{x_{i+1}-x_i}$$\n",
    "\n",
    "Subbing in the values that we know:\n",
    "$$f_i''(x)=k_i\\frac{x-(x_i+h)}{x_i-(x_i+h)}+k_{i+1}\\frac{x-x_i}{(x_i+h)-x_i}$$\n",
    "$$f_i''(x)=k_i\\frac{x-x_i-h}{-h}+k_{i+1}\\frac{x-x_i}{h}$$\n",
    "$$f_i''(x)=\\frac{(k_{i+1}-k_i)x+(k_i-k_{i+1})x_i+hk_i}{h}$$\n",
    "$$f_i''(x)= \\frac{k_{i+1}-k_i}{h} x + \\frac{(k_i-k_{i+1})x_i}{h}$$\n"
   ]
  },
  {
   "cell_type": "markdown",
   "metadata": {},
   "source": [
    "## Integrate"
   ]
  },
  {
   "cell_type": "markdown",
   "metadata": {},
   "source": [
    "First Integration:      \n",
    "$$f_i''(x)= \\frac{k_{i+1}-k_i}{h}x + \\frac{(k_i-k_{i+1})x_i}{h}$$\n",
    "$$f_i'(x)= \\int \\Bigg( \\frac{k_{i+1}-k_i}{h} x + \\frac{(k_i-k_{i+1})x_i}{h}\\Bigg) dx$$\n",
    "\n",
    "$$f_i'(x)= \\frac{k_{i+1}-k_i}{h} \\int x dx + \\frac{(k_i-k_{i+1})x_i}{h}  \\int 1 dx$$\n",
    "\n",
    "$$f_i'(x)= \\frac{k_{i+1}-k_i}{h} \\frac{x^2}{2} + \\frac{(k_i-k_{i+1})x_i}{h} x + A_i$$\n",
    "\n",
    "$$f_i'(x)= \\frac{k_{i+1}-k_i}{2h} x^2 + \\frac{(k_i-k_{i+1})x_i}{h} x + A_i$$\n",
    "\n",
    "Second Integration:      \n",
    "$$f_i'(x)= \\frac{k_{i+1}-k_i}{2h} x^2 + \\frac{(k_i-k_{i+1})x_i}{h} x + A_i$$\n",
    "$$f_i(x)= \\int \\Bigg( \\frac{k_{i+1}-k_i}{2h} x^2 + \\frac{(k_i-k_{i+1})x_i}{h} x + A_i \\Bigg) dx$$\n",
    "\n",
    "$$f_i(x) = \\frac{k_{i+1}-k_i}{2h} \\int  x^2 dx + \\frac{(k_i-k_{i+1})x_i}{h} \\int x dx + A_i \\int 1 dx$$\n",
    "$$f_i(x) = \\frac{k_{i+1}-k_i}{2h}\\frac{x^3}{3}+ \\frac{(k_i-k_{i+1})x_i}{h} \\frac{x^2}{2} + A_ix + B_i$$\n",
    "$$f_i(x) = \\frac{k_{i+1}-k_i}{6h}x^3+ \\frac{(k_i-k_{i+1})x_i}{2h} x^2 + A_ix + B_i$$\n"
   ]
  },
  {
   "cell_type": "markdown",
   "metadata": {},
   "source": [
    "## Expressing the Constants"
   ]
  },
  {
   "cell_type": "markdown",
   "metadata": {},
   "source": []
  },
  {
   "cell_type": "markdown",
   "metadata": {},
   "source": [
    "## Shifting Indices"
   ]
  },
  {
   "cell_type": "markdown",
   "metadata": {},
   "source": [
    "a"
   ]
  },
  {
   "cell_type": "markdown",
   "metadata": {},
   "source": [
    "## $k$ in terms of $y$"
   ]
  },
  {
   "cell_type": "markdown",
   "metadata": {},
   "source": [
    "a"
   ]
  },
  {
   "cell_type": "markdown",
   "metadata": {},
   "source": [
    "## Full system of Equations"
   ]
  },
  {
   "cell_type": "markdown",
   "metadata": {},
   "source": [
    "a"
   ]
  },
  {
   "cell_type": "markdown",
   "metadata": {},
   "source": [
    "## Implementation and Comparison"
   ]
  },
  {
   "cell_type": "markdown",
   "metadata": {},
   "source": [
    "a"
   ]
  },
  {
   "cell_type": "markdown",
   "metadata": {},
   "source": [
    "# Q3: Non-linear systems"
   ]
  },
  {
   "cell_type": "markdown",
   "metadata": {},
   "source": [
    "## Dimensions of Lift and Drag"
   ]
  },
  {
   "cell_type": "markdown",
   "metadata": {},
   "source": [
    "$$mgsin(\\theta)+\\frac{1}{2}\\rho v^2C_DA=0$$\n",
    "$$\\frac{1}{2}\\rho v^2C_DA=-mgsin(\\theta)$$\n",
    "\n",
    "$$\\frac{M}{L^3} (\\frac{L}{T})^2C_DL^2=-M*\\frac{L}{T^2}$$\n",
    "$$\\frac{ML}{T^2}C_D=-\\frac{ML}{T^2}$$\n",
    "\n",
    "Thus, $C_D$ must be dimensionless to make the dimesnions on both sides of the equation equal.\n",
    "\n",
    "The same process can be repeated to find $C_L$:\n",
    "$$mgcos(\\theta)-\\frac{1}{2}\\rho v^2C_LA=0$$\n",
    "$$\\frac{1}{2}\\rho v^2C_LA=mgcos(\\theta)$$\n",
    "\n",
    "$$\\frac{M}{L^3} (\\frac{L}{T})^2C_LL^2=M*\\frac{L}{T^2}$$\n",
    "$$\\frac{ML}{T^2}C_L=\\frac{ML}{T^2}$$\n",
    "\n",
    "Thus, $C_L$ must be dimensionless to make the dimesnions on both sides of the equation equal.\n",
    "\n"
   ]
  },
  {
   "cell_type": "markdown",
   "metadata": {},
   "source": [
    "## Expressions of Fundamental Units"
   ]
  },
  {
   "cell_type": "markdown",
   "metadata": {},
   "source": [
    "$$m = M$$\n",
    "$$g = LT^{-2}$$\n",
    "$$A = L^2$$\n",
    "\n",
    "$$\\left(\\begin{array}{cc} \n",
    "1 & 0 & 0\\\\\n",
    "0 & 1 & -2\\\\\n",
    "0 & 2 & 0\n",
    "\\end{array}\\right)\n",
    "\\left(\\begin{array}{cc} \n",
    "\\alpha\\\\\n",
    "\\beta\\\\\n",
    "\\gamma\n",
    "\\end{array}\\right) = \\left(\\begin{array}{cc} \n",
    "M\\\\\n",
    "L\\\\\n",
    "T\n",
    "\\end{array}\\right)$$\n",
    "\n",
    "$$\\left(\\begin{array}{cc} \n",
    "1 & 0 & 0\\\\\n",
    "0 & 1 & -2\\\\\n",
    "0 & 2 & 0\n",
    "\\end{array}\\right)\n",
    "\\left(\\begin{array}{cc} \n",
    "\\alpha\\\\\n",
    "\\beta\\\\\n",
    "\\gamma\n",
    "\\end{array}\\right) = \\left(\\begin{array}{cc} \n",
    "1 & 0 & 0\\\\\n",
    "0 & 1 & 0\\\\\n",
    "0 & 0 & 1\n",
    "\\end{array}\\right)$$"
   ]
  },
  {
   "cell_type": "code",
   "execution_count": 4,
   "metadata": {},
   "outputs": [
    {
     "data": {
      "text/plain": [
       "array([[ 1.  ,  0.  ,  0.  ],\n",
       "       [-0.  , -0.  , -0.5 ],\n",
       "       [ 0.  ,  0.5 ,  0.25]])"
      ]
     },
     "execution_count": 4,
     "metadata": {},
     "output_type": "execute_result"
    }
   ],
   "source": [
    "np.linalg.solve(np.array([[1,0,0],[0,1,2],[0,-2,0]]),np.array([[1,0,0],[0,1,0],[0,0,1]]))"
   ]
  },
  {
   "cell_type": "markdown",
   "metadata": {},
   "source": [
    "$$\\left(\\begin{array}{cc} \n",
    "1 & 0 & 0\\\\\n",
    "0 & 1 & -2\\\\\n",
    "0 & 2 & 0\n",
    "\\end{array}\\right)\n",
    "\\left(\\begin{array}{cc} \n",
    "1 & 0 & 0\\\\\n",
    "0 & 0 & 0.5\\\\\n",
    "0 & -0.5 & 0.25\n",
    "\\end{array}\\right) = \\left(\\begin{array}{cc} \n",
    "1 & 0 & 0\\\\\n",
    "0 & 1 & 0\\\\\n",
    "0 & 0 & 1\n",
    "\\end{array}\\right)$$\n",
    "\n",
    "\n",
    "$$M = m$$\n",
    "$$L = A^{0.5}$$\n",
    "$$T = g^{-0.5}A^{0.25}$$"
   ]
  },
  {
   "cell_type": "markdown",
   "metadata": {},
   "source": [
    "##  Non-dimensionalize the System"
   ]
  },
  {
   "cell_type": "markdown",
   "metadata": {},
   "source": [
    "$$v = LT^{-1}$$\n",
    "$$v = A^{0.5}(g^{-0.5}A^{0.25})^{-1}$$\n",
    "$$v = g^{0.5}A^{0.25}$$\n",
    "$$\\bar v = v/(g^{0.5}A^{0.25})$$\n",
    "\n",
    "\n",
    "$$\\rho = ML^{-3}$$\n",
    "$$\\rho = m(A^{0.5})^{-3}$$\n",
    "$$\\rho = mA^{-1.5}$$\n",
    "$$\\bar \\rho = \\rho mA^{-1.5}$$"
   ]
  },
  {
   "cell_type": "code",
   "execution_count": 8,
   "metadata": {},
   "outputs": [
    {
     "data": {
      "text/plain": [
       "array([0.  , 0.5 , 0.25])"
      ]
     },
     "execution_count": 8,
     "metadata": {},
     "output_type": "execute_result"
    }
   ],
   "source": [
    "np.linalg.solve(np.array([[1,0,0],[0,1,2],[0,-2,0]]),np.array([[1,0,0],[0,1,0],[0,0,1]])).dot(np.array([0,1,-1]))"
   ]
  },
  {
   "cell_type": "code",
   "execution_count": 9,
   "metadata": {
    "scrolled": true
   },
   "outputs": [
    {
     "data": {
      "text/plain": [
       "array([ 1. ,  0. , -1.5])"
      ]
     },
     "execution_count": 9,
     "metadata": {},
     "output_type": "execute_result"
    }
   ],
   "source": [
    "np.linalg.solve(np.array([[1,0,0],[0,1,2],[0,-2,0]]),np.array([[1,0,0],[0,1,0],[0,0,1]])).dot(np.array([1,-3,0]))"
   ]
  },
  {
   "cell_type": "markdown",
   "metadata": {},
   "source": [
    "$$mgsin(\\theta)+\\frac{1}{2}\\rho v^2C_DA=0$$\n",
    "\n",
    "$$mgsin(\\theta)+\\frac{1}{2}(mA^{-1.5})(g^{0.5}A^{0.25})^2C_DA=0$$\n"
   ]
  },
  {
   "cell_type": "markdown",
   "metadata": {},
   "source": [
    "$$mgsin(\\theta)+\\frac{1}{2}(mA^{-1.5})(g^{0.5}A^{0.25})^2C_DA=0$$\n"
   ]
  },
  {
   "cell_type": "markdown",
   "metadata": {},
   "source": [
    "## Power Units"
   ]
  },
  {
   "cell_type": "markdown",
   "metadata": {},
   "source": [
    "a"
   ]
  },
  {
   "cell_type": "markdown",
   "metadata": {},
   "source": [
    "____BVLAHNAUDIOX___\n",
    "\n",
    "________\n",
    "\n",
    "\n",
    "\n",
    "_________\n",
    "$$f_i''(x)=y_i+\\frac{y_{i+1}-y_i}{x_{i+1}-x_i}(x-x_i)$$\n",
    "$$f_i''(x)=y_i\\frac{x-x_{i+1}}{x_i-x_{i+1}}+y_{i+1}\\frac{x-x_i}{x_{i+1}-x_i}$$\n",
    "\n",
    "Subbing in the values that we know:\n",
    "$$f_i''(x)=k_i\\frac{x-(x_i+h)}{x_i-(x_i+h)}+k_{i+1}\\frac{x-x_i}{(x_i+h)-x_i}$$\n",
    "$$f_i''(x)=k_i\\frac{x-x_i-h}{-h}+k_{i+1}\\frac{x-x_i}{h}$$\n",
    "\n"
   ]
  },
  {
   "cell_type": "code",
   "execution_count": null,
   "metadata": {},
   "outputs": [],
   "source": []
  }
 ],
 "metadata": {
  "kernelspec": {
   "display_name": "Python 3",
   "language": "python",
   "name": "python3"
  },
  "language_info": {
   "codemirror_mode": {
    "name": "ipython",
    "version": 3
   },
   "file_extension": ".py",
   "mimetype": "text/x-python",
   "name": "python",
   "nbconvert_exporter": "python",
   "pygments_lexer": "ipython3",
   "version": "3.7.4"
  }
 },
 "nbformat": 4,
 "nbformat_minor": 2
}
