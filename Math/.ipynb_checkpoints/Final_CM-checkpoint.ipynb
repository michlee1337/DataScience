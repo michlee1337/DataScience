{
 "cells": [
  {
   "cell_type": "markdown",
   "metadata": {},
   "source": [
    "# Q1: Newton Fractals"
   ]
  },
  {
   "cell_type": "markdown",
   "metadata": {},
   "source": [
    "## a) Newton''s Method"
   ]
  },
  {
   "cell_type": "markdown",
   "metadata": {},
   "source": [
    "Newton's Method to find roots uses the following iterative step:\n",
    "\n",
    "$$x_1 = x_0 - \\frac{f(x_0)}{f'(x_0)}$$"
   ]
  },
  {
   "cell_type": "code",
   "execution_count": 2,
   "metadata": {},
   "outputs": [],
   "source": [
    "def newton(x0, f, gf):\n",
    "    x = x0\n",
    "    maxiter = 1000\n",
    "    for i in range(maxiter):\n",
    "        #print(\"x{}: {}\".format(i, x))\n",
    "        if abs(f(x)-0) <= 1e-5:\n",
    "            return(x)\n",
    "        else:\n",
    "            x -= f(x)/gf(x)\n",
    "    return(float(\"inf\")) # root not found"
   ]
  },
  {
   "cell_type": "markdown",
   "metadata": {},
   "source": [
    "Roots are $i$ and $-i$"
   ]
  },
  {
   "cell_type": "code",
   "execution_count": 5,
   "metadata": {},
   "outputs": [],
   "source": [
    "def f(x):\n",
    "    return(x**2+1)\n",
    "\n",
    "def gf(x):\n",
    "    return(2*x)"
   ]
  },
  {
   "cell_type": "markdown",
   "metadata": {},
   "source": [
    "## b) Range of Convergence"
   ]
  },
  {
   "cell_type": "code",
   "execution_count": 6,
   "metadata": {},
   "outputs": [
    {
     "data": {
      "text/plain": [
       "-1j"
      ]
     },
     "execution_count": 6,
     "metadata": {},
     "output_type": "execute_result"
    }
   ],
   "source": [
    "newton(1j**-1,f,gf)"
   ]
  },
  {
   "cell_type": "code",
   "execution_count": 7,
   "metadata": {},
   "outputs": [
    {
     "data": {
      "text/plain": [
       "1.000004513540622j"
      ]
     },
     "execution_count": 7,
     "metadata": {},
     "output_type": "execute_result"
    }
   ],
   "source": [
    "newton(0.997j,f,gf)"
   ]
  },
  {
   "cell_type": "code",
   "execution_count": 8,
   "metadata": {},
   "outputs": [
    {
     "data": {
      "text/plain": [
       "1.000004977072451j"
      ]
     },
     "execution_count": 8,
     "metadata": {},
     "output_type": "execute_result"
    }
   ],
   "source": [
    "newton(1.00316j,f,gf)"
   ]
  },
  {
   "cell_type": "code",
   "execution_count": 9,
   "metadata": {},
   "outputs": [
    {
     "data": {
      "text/plain": [
       "inf"
      ]
     },
     "execution_count": 9,
     "metadata": {},
     "output_type": "execute_result"
    }
   ],
   "source": [
    "newton(0.81,f,gf)"
   ]
  },
  {
   "cell_type": "markdown",
   "metadata": {},
   "source": [
    "Fails:      \n",
    "- any real number initial point\n",
    "- hits division by 0 (hits 1)\n",
    "\n",
    "x1:\n",
    "- 1.00316j, 0.997j\n",
    "- -1.00316j, -0.997j\n",
    "\n",
    "x2:\n",
    "- slightly outside x1"
   ]
  },
  {
   "cell_type": "markdown",
   "metadata": {},
   "source": [
    "## c) Complex Roots\n",
    "$$x^3-1$$"
   ]
  },
  {
   "cell_type": "markdown",
   "metadata": {},
   "source": [
    "**Analytical Method**     \n",
    "\n",
    "$$x^3-1 = 0$$\n",
    "$$(x-1)(x^2+x+1)$$\n",
    "\n",
    "Therefore the roots are at\n",
    "\n",
    "$$x = 1$$\n",
    "$$or$$\n",
    "$$x = \\frac{-1\\pm \\sqrt{1-4}}{2}$$\n",
    "\n",
    "$$x = 1$$\n",
    "$$or$$\n",
    "$$x = -\\frac{1+i\\sqrt{3}}{2}$$\n",
    "$$or$$\n",
    "$$x = -\\frac{1-i\\sqrt{3}}{2}$$"
   ]
  },
  {
   "cell_type": "markdown",
   "metadata": {},
   "source": [
    "**Numerical Method**    "
   ]
  },
  {
   "cell_type": "code",
   "execution_count": 13,
   "metadata": {},
   "outputs": [],
   "source": [
    "def f2(x):\n",
    "    return(x**3-1)\n",
    "\n",
    "def gf2(x):\n",
    "    return(3*x**2)"
   ]
  },
  {
   "cell_type": "code",
   "execution_count": 14,
   "metadata": {},
   "outputs": [
    {
     "data": {
      "text/plain": [
       "(1.0000000000035045-7.067308796863926e-11j)"
      ]
     },
     "execution_count": 14,
     "metadata": {},
     "output_type": "execute_result"
    }
   ],
   "source": [
    "newton(0.1j,f2,gf2)"
   ]
  },
  {
   "cell_type": "code",
   "execution_count": 11,
   "metadata": {},
   "outputs": [
    {
     "data": {
      "text/plain": [
       "(-0.49999999628902975+0.8660253983385868j)"
      ]
     },
     "execution_count": 11,
     "metadata": {},
     "output_type": "execute_result"
    }
   ],
   "source": [
    "newton(1j,f2,gf2)"
   ]
  },
  {
   "cell_type": "code",
   "execution_count": 12,
   "metadata": {},
   "outputs": [
    {
     "data": {
      "text/plain": [
       "(-0.49999999628902975-0.8660253983385868j)"
      ]
     },
     "execution_count": 12,
     "metadata": {},
     "output_type": "execute_result"
    }
   ],
   "source": [
    "newton(-1j,f2,gf2)"
   ]
  },
  {
   "cell_type": "markdown",
   "metadata": {},
   "source": [
    "## d) Range of Convergence"
   ]
  },
  {
   "cell_type": "code",
   "execution_count": 28,
   "metadata": {},
   "outputs": [],
   "source": [
    "import numpy as np\n",
    "import math\n",
    "import matplotlib.pyplot as plt\n",
    "\n",
    "sols = [[0]*100 for _ in range(100)]\n",
    "\n",
    "x = np.linspace(-1,1,100)\n",
    "for aind, a in enumerate(x):\n",
    "    for bind, b in enumerate(x):\n",
    "        sols[aind][bind] = newton(a+b*1j, f2,gf2)"
   ]
  },
  {
   "cell_type": "code",
   "execution_count": 56,
   "metadata": {},
   "outputs": [],
   "source": [
    "x1 = 1\n",
    "x2 = -(1+1j*math.sqrt(3))/2\n",
    "x3 = -(1-1j*math.sqrt(3))/2\n",
    "\n",
    "R = np.zeros([100,100])\n",
    "G = np.zeros([100,100])\n",
    "B = np.zeros([100,100])\n",
    "\n",
    "for rind, r in enumerate(sols):\n",
    "    for cind, v in enumerate(r):\n",
    "        if abs(v-x1) < 1e-5:\n",
    "            R[rind][cind] = 1\n",
    "        elif abs(v-x2) < 1e-5:\n",
    "            G[rind][cind] = 1\n",
    "        elif abs(v-x3) < 1e-5:\n",
    "            B[rind][cind] = 1"
   ]
  },
  {
   "cell_type": "markdown",
   "metadata": {},
   "source": [
    "## e) Visualize"
   ]
  },
  {
   "cell_type": "code",
   "execution_count": 57,
   "metadata": {},
   "outputs": [],
   "source": [
    "A = np.zeros([100,100,3])\n",
    "\n",
    "A[:,:,0] = R\n",
    "A[:,:,1] = G\n",
    "A[:,:,2] = B"
   ]
  },
  {
   "cell_type": "code",
   "execution_count": 58,
   "metadata": {},
   "outputs": [
    {
     "data": {
      "text/plain": [
       "<matplotlib.image.AxesImage at 0x116e12a50>"
      ]
     },
     "execution_count": 58,
     "metadata": {},
     "output_type": "execute_result"
    },
    {
     "data": {
      "image/png": "[encoded data removed]",
      "text/plain": [
       "<Figure size 432x288 with 1 Axes>"
      ]
     },
     "metadata": {
      "needs_background": "light"
     },
     "output_type": "display_data"
    }
   ],
   "source": [
    "plt.imshow(A)"
   ]
  },
  {
   "cell_type": "markdown",
   "metadata": {},
   "source": [
    "## f) Optional: More Roots"
   ]
  },
  {
   "cell_type": "markdown",
   "metadata": {},
   "source": [
    "# Q4: Laplace Transform\n",
    "$$L{f}(s) = \\int_0^\\infty e^{-st}f(t) dt$$"
   ]
  },
  {
   "cell_type": "markdown",
   "metadata": {},
   "source": [
    "## a) Linear Operator"
   ]
  },
  {
   "cell_type": "markdown",
   "metadata": {},
   "source": [
    "An operator is linear if it meets the following conditions:\n",
    "\n",
    "1) $L(a*x) = a*L(x)$             \n",
    "2) $L(x + x') = L(x) + L(x')$             \n",
    "\n",
    "**Proving (1)**       \n",
    "$$L(a*x) = \\int_0^\\infty e^{-sf}a*f(t) dt$$  \n",
    "Because $a$ is a scalar that is not dependent on variable $t$\n",
    "$$L(a*x) = a\\int_0^\\infty e^{-sf}f(t) dt$$  \n",
    "Thus,\n",
    "$$L(a*x) = a*L(x)$$\n",
    "\n",
    "**Proving (2)**       \n",
    "$$L(x + x') = \\int_0^\\infty e^{-sf}(f(x)+f(x)) dt$$  \n",
    "$$L(x + x') = \\int_0^\\infty e^{-sf}f(x) + e^{-sf}f(x') dt$$  \n",
    "$$L(x + x') = \\int_0^\\infty e^{-sf}f(x)dt + \\int_0^\\infty e^{-sf}f(x')dt$$  \n",
    "Thus,\n",
    "$$L(x + x') = L(x) + L(x')$$\n",
    "\n",
    "Thus, Laplace Transform is a linear operator."
   ]
  },
  {
   "cell_type": "markdown",
   "metadata": {},
   "source": [
    "\n",
    "## b) Always Exist?"
   ]
  },
  {
   "cell_type": "markdown",
   "metadata": {},
   "source": [
    "The function $f(t)$ must always be integratable for the Laplace transform to exist.\n",
    "\n",
    "Thus, the function must be continuous in the positive domain (from $0$ to $\\infty$).\n",
    "\n",
    "Additionally, $\\int_0^\\infty e^{-st}f(t) dt < \\infty$.\n",
    "\n",
    "Thus, any function that has infinity on a positive real number cannot have a Laplace transform. For example($tan(x)$ or ($\\frac{1}{x}$))\n",
    "\n",
    "Additionally, a function that has an order of growth too large for the damping factor $e^{-st}$ (ex: $e^{e^t}$) will not have a convergent integral (integral results in $/infty$). Thus, the function must have an order of growth less than or equal to exponential.\n",
    "\n",
    "In summary, for a function $f(t)$ to have a Laplace transform, it must be expressible in the form $Ce^{kt}$ where $C$ and $k$ are scalar values."
   ]
  },
  {
   "cell_type": "markdown",
   "metadata": {},
   "source": [
    "## c) Step Function"
   ]
  },
  {
   "cell_type": "markdown",
   "metadata": {},
   "source": [
    "$$u(t) = \\left\\{\n",
    "\\begin{array}{ll}\n",
    "      1 & t \\geq 0 \\\\\n",
    "      0 & otherwise\n",
    "\\end{array} \n",
    "\\right.$$\n",
    "\n",
    "$$L{u}(t) = \\int_0^\\infty e^{-st}(1) dt$$\n",
    "$$L{u}(t) = \\frac{e^{-st}}{-s} \\bigg\\rvert_0^\\infty$$\n",
    "$$L{u}(t) = \\frac{e^{-s(\\infty)}}{-s} - \\frac{e^{-s(0)}}{-s}$$"
   ]
  },
  {
   "cell_type": "markdown",
   "metadata": {},
   "source": [
    "For this function to converge, the term including infinity needs to go to $0$. Thus $$s > 0$$.\n",
    "\n",
    "Given this constraint,\n",
    "\n",
    "$$L{u}(t) = - \\frac{1}{-s}$$\n",
    "$$L{u}(t) = \\frac{1}{s}$$"
   ]
  },
  {
   "cell_type": "markdown",
   "metadata": {},
   "source": [
    "## d) LT of Derivative"
   ]
  },
  {
   "cell_type": "markdown",
   "metadata": {},
   "source": [
    "$$Y(s) = \\int_0^\\infty e^{-st}y'(t) dt$$\n",
    "\n",
    "$$L(y'(t)) = \\int_0^\\infty e^{-st}y(t) dt$$\n",
    "Using integration by parts, we can rewrite this as:         \n",
    "$$= y(t)e^{-st}\\bigg\\rvert_0^\\infty + s\\int_0^\\infty y(t)e^{-st} dt$$\n",
    "$$= y(\\infty)e^{-s(\\infty)}- y(0)e^{-s(0)}+ s\\int_0^\\infty y(t)e^{-st} dt$$\n",
    "\n",
    "Assuming that the Laplace transform exists for function $y(t)$, we know that $y(\\infty)e^{-s(\\infty)} = 0$. Thus,\n",
    "$$=  -y(0)+ s\\int_0^\\infty y(t)e^{-st} dt$$\n",
    "\n",
    "\n",
    "Simplified, this becomes\n",
    "$$L(y'(t)) =  -y(0)+ sY(s)$$\n"
   ]
  },
  {
   "cell_type": "markdown",
   "metadata": {},
   "source": [
    "## e) IVP"
   ]
  },
  {
   "cell_type": "markdown",
   "metadata": {},
   "source": [
    "$$y'+ y=u(t)$$\n",
    "$$y(0) = 1$$\n",
    "\n",
    "Taking the Laplace transform of both sides of equation 1\n",
    "$$-y(0)+sY(s) + Y(s) = \\frac{e^{-s}}{s}$$\n",
    "\n",
    "Subbing in the value for $y(0)$ and rearranging:\n",
    "$$Y(s) = (\\frac{e^{-s}}{s} + 1)/(s+1)$$\n"
   ]
  },
  {
   "cell_type": "markdown",
   "metadata": {},
   "source": [
    "## f) (Optional) Inv LT"
   ]
  },
  {
   "cell_type": "markdown",
   "metadata": {},
   "source": [
    "## g) Advatage of LT for ODE?"
   ]
  },
  {
   "cell_type": "markdown",
   "metadata": {},
   "source": [
    "It transforms calculus problems (involving differentials and integration) into algebra problems (additions and coefficients). This makes ODEs much easier to solve when they are expressed in the transformed versions of themselves."
   ]
  },
  {
   "cell_type": "markdown",
   "metadata": {},
   "source": [
    "# Reflection"
   ]
  },
  {
   "cell_type": "markdown",
   "metadata": {},
   "source": [
    "Math models everywhere.\n",
    "\n",
    "There are dialects of math that are translatable between each other (polar, imaginary sinusodal, transforms). This is important because some things are easier to express in specific dialects, and are more easily to manipulate/ reason about/ solve in those dialects.\n",
    "\n"
   ]
  }
 ],
 "metadata": {
  "kernelspec": {
   "display_name": "Python 3",
   "language": "python",
   "name": "python3"
  },
  "language_info": {
   "codemirror_mode": {
    "name": "ipython",
    "version": 3
   },
   "file_extension": ".py",
   "mimetype": "text/x-python",
   "name": "python",
   "nbconvert_exporter": "python",
   "pygments_lexer": "ipython3",
   "version": "3.7.4"
  }
 },
 "nbformat": 4,
 "nbformat_minor": 2
}
